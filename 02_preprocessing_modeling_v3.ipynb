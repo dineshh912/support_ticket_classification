{
  "nbformat": 4,
  "nbformat_minor": 0,
  "metadata": {
    "colab": {
      "name": "02-preprocessing-modeling-v3.ipynb",
      "provenance": [],
      "toc_visible": true
    },
    "kernelspec": {
      "name": "python3",
      "display_name": "Python 3"
    }
  },
  "cells": [
    {
      "cell_type": "markdown",
      "metadata": {
        "id": "O7EZdE0chEeZ"
      },
      "source": [
        "# import packages"
      ]
    },
    {
      "cell_type": "code",
      "metadata": {
        "colab": {
          "base_uri": "https://localhost:8080/"
        },
        "id": "Nm9uEZighw7J",
        "outputId": "49fe6649-0b27-4020-d2d9-38a97dfd4b31"
      },
      "source": [
        "# Mount Google drive \r\n",
        "from google.colab import drive\r\n",
        "drive.mount('/content/drive/')"
      ],
      "execution_count": 2,
      "outputs": [
        {
          "output_type": "stream",
          "text": [
            "Mounted at /content/drive/\n"
          ],
          "name": "stdout"
        }
      ]
    },
    {
      "cell_type": "code",
      "metadata": {
        "id": "OTYIi0KYhxi5"
      },
      "source": [
        "import numpy as np\r\n",
        "import pandas as pd\r\n",
        "\r\n",
        "# Visualization\r\n",
        "import matplotlib.pyplot as plt\r\n",
        "import seaborn as sns\r\n",
        "\r\n",
        "# Preprocessing\r\n",
        "from sklearn.pipeline import Pipeline\r\n",
        "from sklearn.model_selection import train_test_split, cross_val_score, GridSearchCV\r\n",
        "# Text representation\r\n",
        "from sklearn.feature_extraction.text import CountVectorizer, TfidfVectorizer\r\n",
        "\r\n",
        "# ML Algo\r\n",
        "from sklearn.naive_bayes import MultinomialNB\r\n",
        "from sklearn.linear_model import LogisticRegression\r\n",
        "from sklearn.svm import LinearSVC\r\n",
        "\r\n",
        "# Evaluvation\r\n",
        "from sklearn.metrics import accuracy_score, confusion_matrix, roc_auc_score, classification_report\r\n",
        "\r\n",
        "from time import time"
      ],
      "execution_count": 3,
      "outputs": []
    },
    {
      "cell_type": "code",
      "metadata": {
        "id": "im6SzxQAhxQQ"
      },
      "source": [
        "import string\r\n",
        "import re\r\n",
        "from nltk import word_tokenize\r\n",
        "from nltk.corpus import stopwords\r\n",
        "from nltk import WordNetLemmatizer"
      ],
      "execution_count": 4,
      "outputs": []
    },
    {
      "cell_type": "code",
      "metadata": {
        "id": "NjYWdOCOhxHo"
      },
      "source": [
        "def plotConfusionMatrixHeatmap(input_df: pd.core.frame.DataFrame, model_name: str, figsize=(20, 18)):\r\n",
        "    \"\"\"\r\n",
        "    Return the results of a multiclass classification algorithms as a heatmap\r\n",
        "    based on a confusion matrix.        \r\n",
        "    \"\"\"\r\n",
        "    # Heatmap of the results\r\n",
        "    plt.figure(figsize=figsize)\r\n",
        "    sns.heatmap(input_df, annot=True, fmt='d', cmap='Reds')\r\n",
        "    plt.ylabel('True', fontweight='bold')\r\n",
        "    plt.xlabel('Predicted', fontweight='bold')\r\n",
        "    plt.title(f'Confusion Matrix - {model_name}', size=14, fontweight='bold')\r\n",
        "    plt.show()"
      ],
      "execution_count": 5,
      "outputs": []
    },
    {
      "cell_type": "code",
      "metadata": {
        "colab": {
          "base_uri": "https://localhost:8080/"
        },
        "id": "Eec-Q9HiiTE6",
        "outputId": "b7a87eab-ac38-489c-b741-02b86df24605"
      },
      "source": [
        "import nltk\r\n",
        "nltk.download('stopwords')\r\n",
        "nltk.download('punkt')\r\n",
        "nltk.download('wordnet')"
      ],
      "execution_count": 6,
      "outputs": [
        {
          "output_type": "stream",
          "text": [
            "[nltk_data] Downloading package stopwords to /root/nltk_data...\n",
            "[nltk_data]   Unzipping corpora/stopwords.zip.\n",
            "[nltk_data] Downloading package punkt to /root/nltk_data...\n",
            "[nltk_data]   Unzipping tokenizers/punkt.zip.\n",
            "[nltk_data] Downloading package wordnet to /root/nltk_data...\n",
            "[nltk_data]   Unzipping corpora/wordnet.zip.\n"
          ],
          "name": "stdout"
        },
        {
          "output_type": "execute_result",
          "data": {
            "text/plain": [
              "True"
            ]
          },
          "metadata": {
            "tags": []
          },
          "execution_count": 6
        }
      ]
    },
    {
      "cell_type": "markdown",
      "metadata": {
        "id": "KWLhhU76hILI"
      },
      "source": [
        "# Load Training file"
      ]
    },
    {
      "cell_type": "code",
      "metadata": {
        "id": "QSFnUijbiXIY"
      },
      "source": [
        "data_path = '/content/drive/MyDrive/Springboard/data/train.csv'"
      ],
      "execution_count": 7,
      "outputs": []
    },
    {
      "cell_type": "code",
      "metadata": {
        "id": "98VVkf9MiW_4"
      },
      "source": [
        "full_df = pd.read_csv(data_path)"
      ],
      "execution_count": 8,
      "outputs": []
    },
    {
      "cell_type": "code",
      "metadata": {
        "colab": {
          "base_uri": "https://localhost:8080/"
        },
        "id": "cujbPEk9iW8H",
        "outputId": "a053d159-b1d0-4a4c-c82c-bf3ef5a0ad2c"
      },
      "source": [
        "full_df.shape"
      ],
      "execution_count": 9,
      "outputs": [
        {
          "output_type": "execute_result",
          "data": {
            "text/plain": [
              "(405735, 4)"
            ]
          },
          "metadata": {
            "tags": []
          },
          "execution_count": 9
        }
      ]
    },
    {
      "cell_type": "code",
      "metadata": {
        "colab": {
          "base_uri": "https://localhost:8080/"
        },
        "id": "XRqH9sJ9iWzY",
        "outputId": "46508b79-44e7-47a8-cf23-4c871145a1c8"
      },
      "source": [
        "full_df.columns"
      ],
      "execution_count": 10,
      "outputs": [
        {
          "output_type": "execute_result",
          "data": {
            "text/plain": [
              "Index(['Unnamed: 0', 'index', 'full_text', 'label'], dtype='object')"
            ]
          },
          "metadata": {
            "tags": []
          },
          "execution_count": 10
        }
      ]
    },
    {
      "cell_type": "code",
      "metadata": {
        "colab": {
          "base_uri": "https://localhost:8080/",
          "height": 195
        },
        "id": "hvYudSiBiWpZ",
        "outputId": "4eea497b-9b2c-4443-e2c2-19f502c98540"
      },
      "source": [
        "full_df.head()"
      ],
      "execution_count": 11,
      "outputs": [
        {
          "output_type": "execute_result",
          "data": {
            "text/html": [
              "<div>\n",
              "<style scoped>\n",
              "    .dataframe tbody tr th:only-of-type {\n",
              "        vertical-align: middle;\n",
              "    }\n",
              "\n",
              "    .dataframe tbody tr th {\n",
              "        vertical-align: top;\n",
              "    }\n",
              "\n",
              "    .dataframe thead th {\n",
              "        text-align: right;\n",
              "    }\n",
              "</style>\n",
              "<table border=\"1\" class=\"dataframe\">\n",
              "  <thead>\n",
              "    <tr style=\"text-align: right;\">\n",
              "      <th></th>\n",
              "      <th>Unnamed: 0</th>\n",
              "      <th>index</th>\n",
              "      <th>full_text</th>\n",
              "      <th>label</th>\n",
              "    </tr>\n",
              "  </thead>\n",
              "  <tbody>\n",
              "    <tr>\n",
              "      <th>0</th>\n",
              "      <td>0</td>\n",
              "      <td>1</td>\n",
              "      <td>Incorrect information on your report-Informati...</td>\n",
              "      <td>Credit reporting</td>\n",
              "    </tr>\n",
              "    <tr>\n",
              "      <th>1</th>\n",
              "      <td>1</td>\n",
              "      <td>2</td>\n",
              "      <td>Over the past 2 weeks, I have been receiving e...</td>\n",
              "      <td>Debt collection</td>\n",
              "    </tr>\n",
              "    <tr>\n",
              "      <th>2</th>\n",
              "      <td>2</td>\n",
              "      <td>3</td>\n",
              "      <td>Pioneer has committed several federal violatio...</td>\n",
              "      <td>Debt collection</td>\n",
              "    </tr>\n",
              "    <tr>\n",
              "      <th>3</th>\n",
              "      <td>3</td>\n",
              "      <td>8</td>\n",
              "      <td>Previously, on XX/XX/XXXX, XX/XX/XXXX, and XX/...</td>\n",
              "      <td>Credit reporting</td>\n",
              "    </tr>\n",
              "    <tr>\n",
              "      <th>4</th>\n",
              "      <td>4</td>\n",
              "      <td>11</td>\n",
              "      <td>Closing your account-Company closed your account</td>\n",
              "      <td>Credit card or prepaid card</td>\n",
              "    </tr>\n",
              "  </tbody>\n",
              "</table>\n",
              "</div>"
            ],
            "text/plain": [
              "   Unnamed: 0  ...                        label\n",
              "0           0  ...             Credit reporting\n",
              "1           1  ...              Debt collection\n",
              "2           2  ...              Debt collection\n",
              "3           3  ...             Credit reporting\n",
              "4           4  ...  Credit card or prepaid card\n",
              "\n",
              "[5 rows x 4 columns]"
            ]
          },
          "metadata": {
            "tags": []
          },
          "execution_count": 11
        }
      ]
    },
    {
      "cell_type": "code",
      "metadata": {
        "id": "CgnbjOXDijfQ"
      },
      "source": [
        "full_df.drop(columns=['Unnamed: 0', 'index'], inplace=True)"
      ],
      "execution_count": 12,
      "outputs": []
    },
    {
      "cell_type": "code",
      "metadata": {
        "colab": {
          "base_uri": "https://localhost:8080/"
        },
        "id": "x463O5uOijyH",
        "outputId": "a80d51c2-2ddd-4cb5-e01c-338b72eb2b43"
      },
      "source": [
        "full_df.columns"
      ],
      "execution_count": 13,
      "outputs": [
        {
          "output_type": "execute_result",
          "data": {
            "text/plain": [
              "Index(['full_text', 'label'], dtype='object')"
            ]
          },
          "metadata": {
            "tags": []
          },
          "execution_count": 13
        }
      ]
    },
    {
      "cell_type": "code",
      "metadata": {
        "colab": {
          "base_uri": "https://localhost:8080/",
          "height": 195
        },
        "id": "lPknpkhpikJY",
        "outputId": "868e36f6-3925-4c7e-d4f1-aa6eb2bc0ec0"
      },
      "source": [
        "full_df.head()"
      ],
      "execution_count": 14,
      "outputs": [
        {
          "output_type": "execute_result",
          "data": {
            "text/html": [
              "<div>\n",
              "<style scoped>\n",
              "    .dataframe tbody tr th:only-of-type {\n",
              "        vertical-align: middle;\n",
              "    }\n",
              "\n",
              "    .dataframe tbody tr th {\n",
              "        vertical-align: top;\n",
              "    }\n",
              "\n",
              "    .dataframe thead th {\n",
              "        text-align: right;\n",
              "    }\n",
              "</style>\n",
              "<table border=\"1\" class=\"dataframe\">\n",
              "  <thead>\n",
              "    <tr style=\"text-align: right;\">\n",
              "      <th></th>\n",
              "      <th>full_text</th>\n",
              "      <th>label</th>\n",
              "    </tr>\n",
              "  </thead>\n",
              "  <tbody>\n",
              "    <tr>\n",
              "      <th>0</th>\n",
              "      <td>Incorrect information on your report-Informati...</td>\n",
              "      <td>Credit reporting</td>\n",
              "    </tr>\n",
              "    <tr>\n",
              "      <th>1</th>\n",
              "      <td>Over the past 2 weeks, I have been receiving e...</td>\n",
              "      <td>Debt collection</td>\n",
              "    </tr>\n",
              "    <tr>\n",
              "      <th>2</th>\n",
              "      <td>Pioneer has committed several federal violatio...</td>\n",
              "      <td>Debt collection</td>\n",
              "    </tr>\n",
              "    <tr>\n",
              "      <th>3</th>\n",
              "      <td>Previously, on XX/XX/XXXX, XX/XX/XXXX, and XX/...</td>\n",
              "      <td>Credit reporting</td>\n",
              "    </tr>\n",
              "    <tr>\n",
              "      <th>4</th>\n",
              "      <td>Closing your account-Company closed your account</td>\n",
              "      <td>Credit card or prepaid card</td>\n",
              "    </tr>\n",
              "  </tbody>\n",
              "</table>\n",
              "</div>"
            ],
            "text/plain": [
              "                                           full_text                        label\n",
              "0  Incorrect information on your report-Informati...             Credit reporting\n",
              "1  Over the past 2 weeks, I have been receiving e...              Debt collection\n",
              "2  Pioneer has committed several federal violatio...              Debt collection\n",
              "3  Previously, on XX/XX/XXXX, XX/XX/XXXX, and XX/...             Credit reporting\n",
              "4   Closing your account-Company closed your account  Credit card or prepaid card"
            ]
          },
          "metadata": {
            "tags": []
          },
          "execution_count": 14
        }
      ]
    },
    {
      "cell_type": "code",
      "metadata": {
        "colab": {
          "base_uri": "https://localhost:8080/"
        },
        "id": "oI8EnN1zjSXg",
        "outputId": "56189d15-48cd-4235-99e5-1dbda1b9d110"
      },
      "source": [
        "full_df['label'].value_counts()"
      ],
      "execution_count": 15,
      "outputs": [
        {
          "output_type": "execute_result",
          "data": {
            "text/plain": [
              "Credit reporting                 144663\n",
              "Debt collection                   86653\n",
              "Mortgage                          49406\n",
              "Credit card or prepaid card       45740\n",
              "Loans                             40921\n",
              "Account service                   29044\n",
              "Money transfer, VC and Others      9308\n",
              "Name: label, dtype: int64"
            ]
          },
          "metadata": {
            "tags": []
          },
          "execution_count": 15
        }
      ]
    },
    {
      "cell_type": "code",
      "metadata": {
        "colab": {
          "base_uri": "https://localhost:8080/"
        },
        "id": "CgjP2vAUjSPb",
        "outputId": "157db4fc-306a-4cf6-cce9-31c0f65b91e0"
      },
      "source": [
        "# Class distribution\r\n",
        "full_df['label'].value_counts()/full_df.shape[0] * 100"
      ],
      "execution_count": 16,
      "outputs": [
        {
          "output_type": "execute_result",
          "data": {
            "text/plain": [
              "Credit reporting                 35.654553\n",
              "Debt collection                  21.357043\n",
              "Mortgage                         12.176914\n",
              "Credit card or prepaid card      11.273368\n",
              "Loans                            10.085647\n",
              "Account service                   7.158367\n",
              "Money transfer, VC and Others     2.294108\n",
              "Name: label, dtype: float64"
            ]
          },
          "metadata": {
            "tags": []
          },
          "execution_count": 16
        }
      ]
    },
    {
      "cell_type": "code",
      "metadata": {
        "id": "f4ICH9ALP9f4"
      },
      "source": [
        "df = full_df.sample(frac=0.25)"
      ],
      "execution_count": 17,
      "outputs": []
    },
    {
      "cell_type": "code",
      "metadata": {
        "colab": {
          "base_uri": "https://localhost:8080/"
        },
        "id": "9Sdc5G-nP9Ox",
        "outputId": "541ac015-87f3-47b4-b99a-64f9b9775781"
      },
      "source": [
        "df.shape"
      ],
      "execution_count": 18,
      "outputs": [
        {
          "output_type": "execute_result",
          "data": {
            "text/plain": [
              "(101434, 2)"
            ]
          },
          "metadata": {
            "tags": []
          },
          "execution_count": 18
        }
      ]
    },
    {
      "cell_type": "code",
      "metadata": {
        "id": "LCB1LkUeQPuK"
      },
      "source": [
        "df.reset_index(inplace=True)"
      ],
      "execution_count": 19,
      "outputs": []
    },
    {
      "cell_type": "code",
      "metadata": {
        "colab": {
          "base_uri": "https://localhost:8080/",
          "height": 195
        },
        "id": "QWn9N5X0QTP5",
        "outputId": "b93794cd-6c8a-450d-b13c-ab580538846b"
      },
      "source": [
        "df.head()"
      ],
      "execution_count": 20,
      "outputs": [
        {
          "output_type": "execute_result",
          "data": {
            "text/html": [
              "<div>\n",
              "<style scoped>\n",
              "    .dataframe tbody tr th:only-of-type {\n",
              "        vertical-align: middle;\n",
              "    }\n",
              "\n",
              "    .dataframe tbody tr th {\n",
              "        vertical-align: top;\n",
              "    }\n",
              "\n",
              "    .dataframe thead th {\n",
              "        text-align: right;\n",
              "    }\n",
              "</style>\n",
              "<table border=\"1\" class=\"dataframe\">\n",
              "  <thead>\n",
              "    <tr style=\"text-align: right;\">\n",
              "      <th></th>\n",
              "      <th>index</th>\n",
              "      <th>full_text</th>\n",
              "      <th>label</th>\n",
              "    </tr>\n",
              "  </thead>\n",
              "  <tbody>\n",
              "    <tr>\n",
              "      <th>0</th>\n",
              "      <td>19040</td>\n",
              "      <td>Good time of the day! \\nIn the beginning in XX...</td>\n",
              "      <td>Account service</td>\n",
              "    </tr>\n",
              "    <tr>\n",
              "      <th>1</th>\n",
              "      <td>405413</td>\n",
              "      <td>This is an attempt to correct my XXXX, EXPERIA...</td>\n",
              "      <td>Credit reporting</td>\n",
              "    </tr>\n",
              "    <tr>\n",
              "      <th>2</th>\n",
              "      <td>154519</td>\n",
              "      <td>i have about  XXXX  credit hard inquiries that...</td>\n",
              "      <td>Credit reporting</td>\n",
              "    </tr>\n",
              "    <tr>\n",
              "      <th>3</th>\n",
              "      <td>168569</td>\n",
              "      <td>Harassment at my workplace ' telling my employ...</td>\n",
              "      <td>Debt collection</td>\n",
              "    </tr>\n",
              "    <tr>\n",
              "      <th>4</th>\n",
              "      <td>131099</td>\n",
              "      <td>On XX/XX/2020 someone without my authorization...</td>\n",
              "      <td>Loans</td>\n",
              "    </tr>\n",
              "  </tbody>\n",
              "</table>\n",
              "</div>"
            ],
            "text/plain": [
              "    index                                          full_text             label\n",
              "0   19040  Good time of the day! \\nIn the beginning in XX...   Account service\n",
              "1  405413  This is an attempt to correct my XXXX, EXPERIA...  Credit reporting\n",
              "2  154519  i have about  XXXX  credit hard inquiries that...  Credit reporting\n",
              "3  168569  Harassment at my workplace ' telling my employ...   Debt collection\n",
              "4  131099  On XX/XX/2020 someone without my authorization...             Loans"
            ]
          },
          "metadata": {
            "tags": []
          },
          "execution_count": 20
        }
      ]
    },
    {
      "cell_type": "code",
      "metadata": {
        "id": "LAt-NGRvQZ2Y"
      },
      "source": [
        "df.drop(columns='index', inplace=True)"
      ],
      "execution_count": 21,
      "outputs": []
    },
    {
      "cell_type": "code",
      "metadata": {
        "colab": {
          "base_uri": "https://localhost:8080/"
        },
        "id": "qcXi3lcyQV8y",
        "outputId": "efd29cb3-6048-48ed-d25d-2f9cb6871aa8"
      },
      "source": [
        "df['label'].value_counts()"
      ],
      "execution_count": 22,
      "outputs": [
        {
          "output_type": "execute_result",
          "data": {
            "text/plain": [
              "Credit reporting                 36331\n",
              "Debt collection                  21469\n",
              "Mortgage                         12230\n",
              "Credit card or prepaid card      11445\n",
              "Loans                            10205\n",
              "Account service                   7371\n",
              "Money transfer, VC and Others     2383\n",
              "Name: label, dtype: int64"
            ]
          },
          "metadata": {
            "tags": []
          },
          "execution_count": 22
        }
      ]
    },
    {
      "cell_type": "code",
      "metadata": {
        "colab": {
          "base_uri": "https://localhost:8080/"
        },
        "id": "or6uT5TeQYeZ",
        "outputId": "98ef6ad2-663b-4f6b-893c-19b49e93653f"
      },
      "source": [
        "# Class distribution\r\n",
        "df['label'].value_counts()/df.shape[0] * 100"
      ],
      "execution_count": 23,
      "outputs": [
        {
          "output_type": "execute_result",
          "data": {
            "text/plain": [
              "Credit reporting                 35.817379\n",
              "Debt collection                  21.165487\n",
              "Mortgage                         12.057101\n",
              "Credit card or prepaid card      11.283199\n",
              "Loans                            10.060729\n",
              "Account service                   7.266794\n",
              "Money transfer, VC and Others     2.349311\n",
              "Name: label, dtype: float64"
            ]
          },
          "metadata": {
            "tags": []
          },
          "execution_count": 23
        }
      ]
    },
    {
      "cell_type": "markdown",
      "metadata": {
        "id": "NO7cEveihIt_"
      },
      "source": [
        "# Pre Processing"
      ]
    },
    {
      "cell_type": "code",
      "metadata": {
        "id": "H5pYrFYcjilw"
      },
      "source": [
        "def clean_text(doc):\r\n",
        "    \"\"\"\r\n",
        "      1. Converting all text into lower case\r\n",
        "      2. Removing classified words like xxx\r\n",
        "      3. Remove stop words\r\n",
        "      4. remove punctuation\r\n",
        "      5. remove digits\r\n",
        "      6. Wordnet lemmatizer\r\n",
        "      7. Custom regex for further cleaning\r\n",
        "      \"\"\"\r\n",
        "    # Set stop word as english\r\n",
        "    stop_word = set(stopwords.words('english'))\r\n",
        "    \r\n",
        "    # Tokenize the sentence and make all character lower case\r\n",
        "    doc = [x.lower() for x in word_tokenize(doc)]\r\n",
        "    \r\n",
        "    # Remove classified texts\r\n",
        "    doc = [x for x in doc if x.lower() != 'xxxx' and x.lower() != 'xx' \r\n",
        "           and x.lower() != 'xx/xx/xxxx' and x.lower() != 'xxxx/xxxx/xxxx']\r\n",
        "    \r\n",
        "    # Remove stop words\r\n",
        "    doc = [x for x in doc if x not in stop_word]\r\n",
        "    \r\n",
        "    # Remove Punctuation\r\n",
        "    doc = [x for x in doc if x not in string.punctuation]\r\n",
        "    \r\n",
        "    # Remove Digits\r\n",
        "    doc = [x for x in doc if not x.isdigit()]\r\n",
        "    \r\n",
        "    # Set NLTK Wordnet lemmatizer and lemmatize the sentence\r\n",
        "    lemmatizer = WordNetLemmatizer()\r\n",
        "    doc = \" \".join([lemmatizer.lemmatize(word) for word in doc])\r\n",
        "\r\n",
        "    # Regular expression to remove unwanted chars\r\n",
        "    pattern_1 = re.compile(r\"(\\W)|(\\d)\")\r\n",
        "    pattern_2 = re.compile(r\"\\s\\s+\")\r\n",
        "\r\n",
        "    doc = pattern_1.sub(\" \", doc)\r\n",
        "    doc = pattern_2.sub(\"\", doc)\r\n",
        "    \r\n",
        "    return doc"
      ],
      "execution_count": 24,
      "outputs": []
    },
    {
      "cell_type": "code",
      "metadata": {
        "id": "prtwBbQlji63"
      },
      "source": [
        "df['text_processed'] = df.apply(lambda row : clean_text(row['full_text']), axis = 1)"
      ],
      "execution_count": 25,
      "outputs": []
    },
    {
      "cell_type": "code",
      "metadata": {
        "colab": {
          "base_uri": "https://localhost:8080/",
          "height": 195
        },
        "id": "u4ZZ6SXbjjKn",
        "outputId": "b771decc-0d92-4dd6-f319-0575dacd15a0"
      },
      "source": [
        "df.head()"
      ],
      "execution_count": 26,
      "outputs": [
        {
          "output_type": "execute_result",
          "data": {
            "text/html": [
              "<div>\n",
              "<style scoped>\n",
              "    .dataframe tbody tr th:only-of-type {\n",
              "        vertical-align: middle;\n",
              "    }\n",
              "\n",
              "    .dataframe tbody tr th {\n",
              "        vertical-align: top;\n",
              "    }\n",
              "\n",
              "    .dataframe thead th {\n",
              "        text-align: right;\n",
              "    }\n",
              "</style>\n",
              "<table border=\"1\" class=\"dataframe\">\n",
              "  <thead>\n",
              "    <tr style=\"text-align: right;\">\n",
              "      <th></th>\n",
              "      <th>full_text</th>\n",
              "      <th>label</th>\n",
              "      <th>text_processed</th>\n",
              "    </tr>\n",
              "  </thead>\n",
              "  <tbody>\n",
              "    <tr>\n",
              "      <th>0</th>\n",
              "      <td>Good time of the day! \\nIn the beginning in XX...</td>\n",
              "      <td>Account service</td>\n",
              "      <td>good time day beginning mail received offer ci...</td>\n",
              "    </tr>\n",
              "    <tr>\n",
              "      <th>1</th>\n",
              "      <td>This is an attempt to correct my XXXX, EXPERIA...</td>\n",
              "      <td>Credit reporting</td>\n",
              "      <td>attempt correct experian credit report identif...</td>\n",
              "    </tr>\n",
              "    <tr>\n",
              "      <th>2</th>\n",
              "      <td>i have about  XXXX  credit hard inquiries that...</td>\n",
              "      <td>Credit reporting</td>\n",
              "      <td>credit hard inquiry randomly account within we...</td>\n",
              "    </tr>\n",
              "    <tr>\n",
              "      <th>3</th>\n",
              "      <td>Harassment at my workplace ' telling my employ...</td>\n",
              "      <td>Debt collection</td>\n",
              "      <td>harassment workplace telling employers urgent ...</td>\n",
              "    </tr>\n",
              "    <tr>\n",
              "      <th>4</th>\n",
              "      <td>On XX/XX/2020 someone without my authorization...</td>\n",
              "      <td>Loans</td>\n",
              "      <td>xx xxsomeone without authorization ran credit ...</td>\n",
              "    </tr>\n",
              "  </tbody>\n",
              "</table>\n",
              "</div>"
            ],
            "text/plain": [
              "                                           full_text  ...                                     text_processed\n",
              "0  Good time of the day! \\nIn the beginning in XX...  ...  good time day beginning mail received offer ci...\n",
              "1  This is an attempt to correct my XXXX, EXPERIA...  ...  attempt correct experian credit report identif...\n",
              "2  i have about  XXXX  credit hard inquiries that...  ...  credit hard inquiry randomly account within we...\n",
              "3  Harassment at my workplace ' telling my employ...  ...  harassment workplace telling employers urgent ...\n",
              "4  On XX/XX/2020 someone without my authorization...  ...  xx xxsomeone without authorization ran credit ...\n",
              "\n",
              "[5 rows x 3 columns]"
            ]
          },
          "metadata": {
            "tags": []
          },
          "execution_count": 26
        }
      ]
    },
    {
      "cell_type": "markdown",
      "metadata": {
        "id": "5439rOcZhJCA"
      },
      "source": [
        "# Encoding and Modeling"
      ]
    },
    {
      "cell_type": "code",
      "metadata": {
        "id": "u7j4Wy41j_gD"
      },
      "source": [
        "from sklearn.preprocessing import LabelEncoder\r\n",
        "label_encoder = LabelEncoder()"
      ],
      "execution_count": 27,
      "outputs": []
    },
    {
      "cell_type": "code",
      "metadata": {
        "id": "ojL226gfj_cY"
      },
      "source": [
        "df['label_id'] = label_encoder.fit_transform(df['label'])"
      ],
      "execution_count": 28,
      "outputs": []
    },
    {
      "cell_type": "code",
      "metadata": {
        "colab": {
          "base_uri": "https://localhost:8080/"
        },
        "id": "SOI3ZDsYj_WG",
        "outputId": "2441294a-c69e-4c41-98d8-a20efb5eab0a"
      },
      "source": [
        "# Put the label category into dict for future use\r\n",
        "label_map = df.set_index('label_id').to_dict()['label']\r\n",
        "label_map"
      ],
      "execution_count": 29,
      "outputs": [
        {
          "output_type": "execute_result",
          "data": {
            "text/plain": [
              "{0: 'Account service',\n",
              " 1: 'Credit card or prepaid card',\n",
              " 2: 'Credit reporting',\n",
              " 3: 'Debt collection',\n",
              " 4: 'Loans',\n",
              " 5: 'Money transfer, VC and Others',\n",
              " 6: 'Mortgage'}"
            ]
          },
          "metadata": {
            "tags": []
          },
          "execution_count": 29
        }
      ]
    },
    {
      "cell_type": "code",
      "metadata": {
        "id": "hlUGhNnak0wN"
      },
      "source": [
        "key_to_label_name = [x[1] for x in sorted(label_map.items())]"
      ],
      "execution_count": 30,
      "outputs": []
    },
    {
      "cell_type": "code",
      "metadata": {
        "colab": {
          "base_uri": "https://localhost:8080/",
          "height": 195
        },
        "id": "tfHv3QThj_Hw",
        "outputId": "5e4103d0-e3c8-454a-c14d-939d7b71090f"
      },
      "source": [
        "df.head()"
      ],
      "execution_count": 31,
      "outputs": [
        {
          "output_type": "execute_result",
          "data": {
            "text/html": [
              "<div>\n",
              "<style scoped>\n",
              "    .dataframe tbody tr th:only-of-type {\n",
              "        vertical-align: middle;\n",
              "    }\n",
              "\n",
              "    .dataframe tbody tr th {\n",
              "        vertical-align: top;\n",
              "    }\n",
              "\n",
              "    .dataframe thead th {\n",
              "        text-align: right;\n",
              "    }\n",
              "</style>\n",
              "<table border=\"1\" class=\"dataframe\">\n",
              "  <thead>\n",
              "    <tr style=\"text-align: right;\">\n",
              "      <th></th>\n",
              "      <th>full_text</th>\n",
              "      <th>label</th>\n",
              "      <th>text_processed</th>\n",
              "      <th>label_id</th>\n",
              "    </tr>\n",
              "  </thead>\n",
              "  <tbody>\n",
              "    <tr>\n",
              "      <th>0</th>\n",
              "      <td>Good time of the day! \\nIn the beginning in XX...</td>\n",
              "      <td>Account service</td>\n",
              "      <td>good time day beginning mail received offer ci...</td>\n",
              "      <td>0</td>\n",
              "    </tr>\n",
              "    <tr>\n",
              "      <th>1</th>\n",
              "      <td>This is an attempt to correct my XXXX, EXPERIA...</td>\n",
              "      <td>Credit reporting</td>\n",
              "      <td>attempt correct experian credit report identif...</td>\n",
              "      <td>2</td>\n",
              "    </tr>\n",
              "    <tr>\n",
              "      <th>2</th>\n",
              "      <td>i have about  XXXX  credit hard inquiries that...</td>\n",
              "      <td>Credit reporting</td>\n",
              "      <td>credit hard inquiry randomly account within we...</td>\n",
              "      <td>2</td>\n",
              "    </tr>\n",
              "    <tr>\n",
              "      <th>3</th>\n",
              "      <td>Harassment at my workplace ' telling my employ...</td>\n",
              "      <td>Debt collection</td>\n",
              "      <td>harassment workplace telling employers urgent ...</td>\n",
              "      <td>3</td>\n",
              "    </tr>\n",
              "    <tr>\n",
              "      <th>4</th>\n",
              "      <td>On XX/XX/2020 someone without my authorization...</td>\n",
              "      <td>Loans</td>\n",
              "      <td>xx xxsomeone without authorization ran credit ...</td>\n",
              "      <td>4</td>\n",
              "    </tr>\n",
              "  </tbody>\n",
              "</table>\n",
              "</div>"
            ],
            "text/plain": [
              "                                           full_text  ... label_id\n",
              "0  Good time of the day! \\nIn the beginning in XX...  ...        0\n",
              "1  This is an attempt to correct my XXXX, EXPERIA...  ...        2\n",
              "2  i have about  XXXX  credit hard inquiries that...  ...        2\n",
              "3  Harassment at my workplace ' telling my employ...  ...        3\n",
              "4  On XX/XX/2020 someone without my authorization...  ...        4\n",
              "\n",
              "[5 rows x 4 columns]"
            ]
          },
          "metadata": {
            "tags": []
          },
          "execution_count": 31
        }
      ]
    },
    {
      "cell_type": "code",
      "metadata": {
        "id": "jvz7wU1dkOtw"
      },
      "source": [
        "X = df.text_processed\r\n",
        "y = df.label_id"
      ],
      "execution_count": 32,
      "outputs": []
    },
    {
      "cell_type": "code",
      "metadata": {
        "colab": {
          "base_uri": "https://localhost:8080/"
        },
        "id": "wn1qqAEckPDw",
        "outputId": "a2adb4e1-ab33-4970-f853-e95a46cb8ace"
      },
      "source": [
        "print(X.shape, y.shape)"
      ],
      "execution_count": 33,
      "outputs": [
        {
          "output_type": "stream",
          "text": [
            "(101434,) (101434,)\n"
          ],
          "name": "stdout"
        }
      ]
    },
    {
      "cell_type": "code",
      "metadata": {
        "id": "T0v9C7sokPY3"
      },
      "source": [
        "X_train, X_test, y_train, y_test = train_test_split(X, y, random_state=1)"
      ],
      "execution_count": 33,
      "outputs": []
    },
    {
      "cell_type": "code",
      "metadata": {
        "colab": {
          "base_uri": "https://localhost:8080/"
        },
        "id": "ohYjNtBBkVI6",
        "outputId": "bbdd788d-5278-46f0-96e4-59393ddab780"
      },
      "source": [
        "print(X_train.shape, y_train.shape)\r\n",
        "print(X_test.shape, y_test.shape)"
      ],
      "execution_count": 34,
      "outputs": [
        {
          "output_type": "stream",
          "text": [
            "(76075,) (76075,)\n",
            "(25359,) (25359,)\n"
          ],
          "name": "stdout"
        }
      ]
    },
    {
      "cell_type": "markdown",
      "metadata": {
        "id": "sDtYNcQVhWpQ"
      },
      "source": [
        "# Multinimial Naive bayes"
      ]
    },
    {
      "cell_type": "code",
      "metadata": {
        "id": "xTYUpv7ckYE6"
      },
      "source": [
        "# Parameter values to test\r\n",
        "param_grid = {\r\n",
        "    'TfIdf__max_features' : [10000, 20000, 30000],\r\n",
        "    'TfIdf__ngram_range' : [(1,1),(1,2),(2,2)],\r\n",
        "    'TfIdf__use_idf' : [True],\r\n",
        "    'MultinomialNB__alpha' : [0.01, 0.02, 0.05]\r\n",
        "    }"
      ],
      "execution_count": null,
      "outputs": []
    },
    {
      "cell_type": "code",
      "metadata": {
        "id": "MRYm0wc6kXoI"
      },
      "source": [
        "# Creating pipeline for Naive Bayes Model\r\n",
        "pipeline_mnb = Pipeline(steps = [('TfIdf', TfidfVectorizer()),\r\n",
        "                              ('MultinomialNB', MultinomialNB())])"
      ],
      "execution_count": null,
      "outputs": []
    },
    {
      "cell_type": "code",
      "metadata": {
        "id": "T07PCssckh7P"
      },
      "source": [
        "# Apply pipeline into the Gridserach\r\n",
        "grid_search_mnb = GridSearchCV(pipeline_mnb, param_grid, cv=5, verbose=1, n_jobs=10)"
      ],
      "execution_count": null,
      "outputs": []
    },
    {
      "cell_type": "code",
      "metadata": {
        "colab": {
          "base_uri": "https://localhost:8080/"
        },
        "id": "0fiJcnTrkiLI",
        "outputId": "48d48411-302b-4318-f1e4-266627c9373f"
      },
      "source": [
        "grid_search_mnb.fit(X_train, y_train)"
      ],
      "execution_count": null,
      "outputs": [
        {
          "output_type": "stream",
          "text": [
            "Fitting 5 folds for each of 27 candidates, totalling 135 fits\n"
          ],
          "name": "stdout"
        },
        {
          "output_type": "stream",
          "text": [
            "[Parallel(n_jobs=10)]: Using backend LokyBackend with 10 concurrent workers.\n",
            "/usr/local/lib/python3.6/dist-packages/joblib/externals/loky/process_executor.py:691: UserWarning: A worker stopped while some jobs were given to the executor. This can be caused by a too short worker timeout or by a memory leak.\n",
            "  \"timeout or by a memory leak.\", UserWarning\n",
            "[Parallel(n_jobs=10)]: Done  30 tasks      | elapsed:  6.6min\n",
            "[Parallel(n_jobs=10)]: Done 135 out of 135 | elapsed: 29.5min finished\n"
          ],
          "name": "stderr"
        },
        {
          "output_type": "execute_result",
          "data": {
            "text/plain": [
              "GridSearchCV(cv=5, error_score=nan,\n",
              "             estimator=Pipeline(memory=None,\n",
              "                                steps=[('TfIdf',\n",
              "                                        TfidfVectorizer(analyzer='word',\n",
              "                                                        binary=False,\n",
              "                                                        decode_error='strict',\n",
              "                                                        dtype=<class 'numpy.float64'>,\n",
              "                                                        encoding='utf-8',\n",
              "                                                        input='content',\n",
              "                                                        lowercase=True,\n",
              "                                                        max_df=1.0,\n",
              "                                                        max_features=None,\n",
              "                                                        min_df=1,\n",
              "                                                        ngram_range=(1, 1),\n",
              "                                                        norm='l2',\n",
              "                                                        preprocessor=None,\n",
              "                                                        smooth_idf=True,\n",
              "                                                        stop_words=None,\n",
              "                                                        strip_acc...\n",
              "                                       ('MultinomialNB',\n",
              "                                        MultinomialNB(alpha=1.0,\n",
              "                                                      class_prior=None,\n",
              "                                                      fit_prior=True))],\n",
              "                                verbose=False),\n",
              "             iid='deprecated', n_jobs=10,\n",
              "             param_grid={'MultinomialNB__alpha': [0.01, 0.02, 0.05],\n",
              "                         'TfIdf__max_features': [10000, 20000, 30000],\n",
              "                         'TfIdf__ngram_range': [(1, 1), (1, 2), (2, 2)],\n",
              "                         'TfIdf__use_idf': [True]},\n",
              "             pre_dispatch='2*n_jobs', refit=True, return_train_score=False,\n",
              "             scoring=None, verbose=1)"
            ]
          },
          "metadata": {
            "tags": []
          },
          "execution_count": 46
        }
      ]
    },
    {
      "cell_type": "code",
      "metadata": {
        "id": "8fI-B5m9knAR",
        "colab": {
          "base_uri": "https://localhost:8080/"
        },
        "outputId": "65ac561b-f07f-423b-92b0-983f78ead257"
      },
      "source": [
        "print(grid_search_mnb.best_params_)"
      ],
      "execution_count": null,
      "outputs": [
        {
          "output_type": "stream",
          "text": [
            "{'MultinomialNB__alpha': 0.05, 'TfIdf__max_features': 30000, 'TfIdf__ngram_range': (1, 2), 'TfIdf__use_idf': True}\n"
          ],
          "name": "stdout"
        }
      ]
    },
    {
      "cell_type": "code",
      "metadata": {
        "id": "jJTT3y3oknVn",
        "colab": {
          "base_uri": "https://localhost:8080/"
        },
        "outputId": "cf99af12-1d28-438b-cd01-9309ad9b9efe"
      },
      "source": [
        "print(grid_search_mnb.best_estimator_)"
      ],
      "execution_count": null,
      "outputs": [
        {
          "output_type": "stream",
          "text": [
            "Pipeline(memory=None,\n",
            "         steps=[('TfIdf',\n",
            "                 TfidfVectorizer(analyzer='word', binary=False,\n",
            "                                 decode_error='strict',\n",
            "                                 dtype=<class 'numpy.float64'>,\n",
            "                                 encoding='utf-8', input='content',\n",
            "                                 lowercase=True, max_df=1.0, max_features=30000,\n",
            "                                 min_df=1, ngram_range=(1, 2), norm='l2',\n",
            "                                 preprocessor=None, smooth_idf=True,\n",
            "                                 stop_words=None, strip_accents=None,\n",
            "                                 sublinear_tf=False,\n",
            "                                 token_pattern='(?u)\\\\b\\\\w\\\\w+\\\\b',\n",
            "                                 tokenizer=None, use_idf=True,\n",
            "                                 vocabulary=None)),\n",
            "                ('MultinomialNB',\n",
            "                 MultinomialNB(alpha=0.05, class_prior=None, fit_prior=True))],\n",
            "         verbose=False)\n"
          ],
          "name": "stdout"
        }
      ]
    },
    {
      "cell_type": "code",
      "metadata": {
        "id": "_lUx4tZ5knnn",
        "colab": {
          "base_uri": "https://localhost:8080/"
        },
        "outputId": "bd9fe17f-aa77-412b-b785-e4927e4dd6a8"
      },
      "source": [
        "grid_search_mnb.score(X_test, y_test)"
      ],
      "execution_count": null,
      "outputs": [
        {
          "output_type": "execute_result",
          "data": {
            "text/plain": [
              "0.8203793524981269"
            ]
          },
          "metadata": {
            "tags": []
          },
          "execution_count": 49
        }
      ]
    },
    {
      "cell_type": "code",
      "metadata": {
        "id": "yc1zGvqTkra3"
      },
      "source": [
        "y_predicted = grid_search_mnb.predict(X_test)"
      ],
      "execution_count": null,
      "outputs": []
    },
    {
      "cell_type": "code",
      "metadata": {
        "id": "5Xz6url4krs_",
        "colab": {
          "base_uri": "https://localhost:8080/"
        },
        "outputId": "9f69876a-66d6-4e35-e11a-5bc0d1c227c9"
      },
      "source": [
        "classification_report_mnb = classification_report(y_test, y_predicted)\r\n",
        "print(classification_report_mnb)"
      ],
      "execution_count": null,
      "outputs": [
        {
          "output_type": "stream",
          "text": [
            "              precision    recall  f1-score   support\n",
            "\n",
            "           0       0.76      0.81      0.78      1799\n",
            "           1       0.75      0.80      0.77      2902\n",
            "           2       0.86      0.85      0.85      9023\n",
            "           3       0.82      0.77      0.80      5302\n",
            "           4       0.75      0.77      0.76      2640\n",
            "           5       0.82      0.61      0.70       568\n",
            "           6       0.87      0.93      0.90      3125\n",
            "\n",
            "    accuracy                           0.82     25359\n",
            "   macro avg       0.81      0.79      0.80     25359\n",
            "weighted avg       0.82      0.82      0.82     25359\n",
            "\n"
          ],
          "name": "stdout"
        }
      ]
    },
    {
      "cell_type": "code",
      "metadata": {
        "id": "uWQjo4ZwkyTA",
        "colab": {
          "base_uri": "https://localhost:8080/",
          "height": 767
        },
        "outputId": "4e41d481-e490-40e6-b464-eea118ee3067"
      },
      "source": [
        "conf_matrix_df = pd.DataFrame(data=confusion_matrix(y_test, y_predicted),\r\n",
        "                              index=key_to_label_name, columns=key_to_label_name)\r\n",
        "\r\n",
        "plotConfusionMatrixHeatmap(conf_matrix_df, model_name='Multinomial Naive bayes', figsize=(12, 10))"
      ],
      "execution_count": null,
      "outputs": [
        {
          "output_type": "display_data",
          "data": {
            "image/png": "[encoded data removed]",
            "text/plain": [
              "<Figure size 864x720 with 2 Axes>"
            ]
          },
          "metadata": {
            "tags": [],
            "needs_background": "light"
          }
        }
      ]
    },
    {
      "cell_type": "markdown",
      "metadata": {
        "id": "WWZVw0Otk6to"
      },
      "source": [
        "## Save the model"
      ]
    },
    {
      "cell_type": "code",
      "metadata": {
        "id": "Sq7SJQkfk5aI"
      },
      "source": [
        "import joblib"
      ],
      "execution_count": null,
      "outputs": []
    },
    {
      "cell_type": "code",
      "metadata": {
        "id": "3jyJOTB1k52A",
        "colab": {
          "base_uri": "https://localhost:8080/"
        },
        "outputId": "9e1b6ac5-3bd4-4f10-9c15-cba4e42a93d2"
      },
      "source": [
        "joblib.dump(grid_search_mnb.best_estimator_, 'drive/MyDrive/Springboard/data/models/multinomial_naive_bayes_v3.pkl', compress = 1)"
      ],
      "execution_count": null,
      "outputs": [
        {
          "output_type": "execute_result",
          "data": {
            "text/plain": [
              "['drive/MyDrive/Springboard/data/models/multinomial_naive_bayes_v3.pkl']"
            ]
          },
          "metadata": {
            "tags": []
          },
          "execution_count": 54
        }
      ]
    },
    {
      "cell_type": "markdown",
      "metadata": {
        "id": "JvtaKWkvhbgg"
      },
      "source": [
        "# Logistic Regression"
      ]
    },
    {
      "cell_type": "code",
      "metadata": {
        "id": "sIXMVdVwk4dR"
      },
      "source": [
        "param_grid_lr = {\r\n",
        "    'TfIdf__max_features' : [10000, 20000, 30000],\r\n",
        "    'TfIdf__ngram_range' : [(1,1),(1,2),(2,2)],\r\n",
        "    'TfIdf__use_idf' : [True]\r\n",
        "    }"
      ],
      "execution_count": null,
      "outputs": []
    },
    {
      "cell_type": "code",
      "metadata": {
        "id": "79QVS0LWk4WK"
      },
      "source": [
        "# Creating pipeline for Logistice Regression model\r\n",
        "pipeline_lr = Pipeline(steps = [('TfIdf', TfidfVectorizer()),\r\n",
        "                              ('LogisticRegression', LogisticRegression(class_weight=\"balanced\"))])"
      ],
      "execution_count": null,
      "outputs": []
    },
    {
      "cell_type": "code",
      "metadata": {
        "id": "CEVb6u5Tk4PI"
      },
      "source": [
        "grid_search_lr = GridSearchCV(pipeline_lr, param_grid_lr, cv=5, verbose=1, n_jobs=10)"
      ],
      "execution_count": null,
      "outputs": []
    },
    {
      "cell_type": "code",
      "metadata": {
        "id": "4f9nxMcmk4Eo",
        "colab": {
          "base_uri": "https://localhost:8080/"
        },
        "outputId": "bfd56b79-806d-456e-fcb7-55bdd6da51dc"
      },
      "source": [
        "grid_search_lr.fit(X_train, y_train)"
      ],
      "execution_count": null,
      "outputs": [
        {
          "output_type": "stream",
          "text": [
            "Fitting 5 folds for each of 9 candidates, totalling 45 fits\n"
          ],
          "name": "stdout"
        },
        {
          "output_type": "stream",
          "text": [
            "[Parallel(n_jobs=10)]: Using backend LokyBackend with 10 concurrent workers.\n",
            "/usr/local/lib/python3.6/dist-packages/joblib/externals/loky/process_executor.py:691: UserWarning: A worker stopped while some jobs were given to the executor. This can be caused by a too short worker timeout or by a memory leak.\n",
            "  \"timeout or by a memory leak.\", UserWarning\n",
            "[Parallel(n_jobs=10)]: Done  45 out of  45 | elapsed: 19.2min finished\n",
            "/usr/local/lib/python3.6/dist-packages/sklearn/linear_model/_logistic.py:940: ConvergenceWarning: lbfgs failed to converge (status=1):\n",
            "STOP: TOTAL NO. of ITERATIONS REACHED LIMIT.\n",
            "\n",
            "Increase the number of iterations (max_iter) or scale the data as shown in:\n",
            "    https://scikit-learn.org/stable/modules/preprocessing.html\n",
            "Please also refer to the documentation for alternative solver options:\n",
            "    https://scikit-learn.org/stable/modules/linear_model.html#logistic-regression\n",
            "  extra_warning_msg=_LOGISTIC_SOLVER_CONVERGENCE_MSG)\n"
          ],
          "name": "stderr"
        },
        {
          "output_type": "execute_result",
          "data": {
            "text/plain": [
              "GridSearchCV(cv=5, error_score=nan,\n",
              "             estimator=Pipeline(memory=None,\n",
              "                                steps=[('TfIdf',\n",
              "                                        TfidfVectorizer(analyzer='word',\n",
              "                                                        binary=False,\n",
              "                                                        decode_error='strict',\n",
              "                                                        dtype=<class 'numpy.float64'>,\n",
              "                                                        encoding='utf-8',\n",
              "                                                        input='content',\n",
              "                                                        lowercase=True,\n",
              "                                                        max_df=1.0,\n",
              "                                                        max_features=None,\n",
              "                                                        min_df=1,\n",
              "                                                        ngram_range=(1, 1),\n",
              "                                                        norm='l2',\n",
              "                                                        preprocessor=None,\n",
              "                                                        smooth_idf=True,\n",
              "                                                        stop_words=None,\n",
              "                                                        strip_acc...\n",
              "                                                           multi_class='auto',\n",
              "                                                           n_jobs=None,\n",
              "                                                           penalty='l2',\n",
              "                                                           random_state=None,\n",
              "                                                           solver='lbfgs',\n",
              "                                                           tol=0.0001,\n",
              "                                                           verbose=0,\n",
              "                                                           warm_start=False))],\n",
              "                                verbose=False),\n",
              "             iid='deprecated', n_jobs=10,\n",
              "             param_grid={'TfIdf__max_features': [10000, 20000, 30000],\n",
              "                         'TfIdf__ngram_range': [(1, 1), (1, 2), (2, 2)],\n",
              "                         'TfIdf__use_idf': [True]},\n",
              "             pre_dispatch='2*n_jobs', refit=True, return_train_score=False,\n",
              "             scoring=None, verbose=1)"
            ]
          },
          "metadata": {
            "tags": []
          },
          "execution_count": 58
        }
      ]
    },
    {
      "cell_type": "code",
      "metadata": {
        "id": "jVY-Jp8flPGa",
        "colab": {
          "base_uri": "https://localhost:8080/"
        },
        "outputId": "29b302ef-cfba-442a-c577-cf927556b626"
      },
      "source": [
        "print(grid_search_lr.best_params_)"
      ],
      "execution_count": null,
      "outputs": [
        {
          "output_type": "stream",
          "text": [
            "{'TfIdf__max_features': 30000, 'TfIdf__ngram_range': (1, 2), 'TfIdf__use_idf': True}\n"
          ],
          "name": "stdout"
        }
      ]
    },
    {
      "cell_type": "code",
      "metadata": {
        "id": "w0KSdmj3lPBc",
        "colab": {
          "base_uri": "https://localhost:8080/"
        },
        "outputId": "3586b143-a3d1-4f41-9fbe-ac4579dce1c8"
      },
      "source": [
        "print(grid_search_lr.best_estimator_)"
      ],
      "execution_count": null,
      "outputs": [
        {
          "output_type": "stream",
          "text": [
            "Pipeline(memory=None,\n",
            "         steps=[('TfIdf',\n",
            "                 TfidfVectorizer(analyzer='word', binary=False,\n",
            "                                 decode_error='strict',\n",
            "                                 dtype=<class 'numpy.float64'>,\n",
            "                                 encoding='utf-8', input='content',\n",
            "                                 lowercase=True, max_df=1.0, max_features=30000,\n",
            "                                 min_df=1, ngram_range=(1, 2), norm='l2',\n",
            "                                 preprocessor=None, smooth_idf=True,\n",
            "                                 stop_words=None, strip_accents=None,\n",
            "                                 sublinear_tf=False,\n",
            "                                 token_pattern='(?u)\\\\b\\\\w\\\\w+\\\\b',\n",
            "                                 tokenizer=None, use_idf=True,\n",
            "                                 vocabulary=None)),\n",
            "                ('LogisticRegression',\n",
            "                 LogisticRegression(C=1.0, class_weight='balanced', dual=False,\n",
            "                                    fit_intercept=True, intercept_scaling=1,\n",
            "                                    l1_ratio=None, max_iter=100,\n",
            "                                    multi_class='auto', n_jobs=None,\n",
            "                                    penalty='l2', random_state=None,\n",
            "                                    solver='lbfgs', tol=0.0001, verbose=0,\n",
            "                                    warm_start=False))],\n",
            "         verbose=False)\n"
          ],
          "name": "stdout"
        }
      ]
    },
    {
      "cell_type": "code",
      "metadata": {
        "id": "ukyG-VcelO5_",
        "colab": {
          "base_uri": "https://localhost:8080/"
        },
        "outputId": "a99667f5-986d-43ad-9802-c30d31c04209"
      },
      "source": [
        "grid_search_lr.score(X_test, y_test)"
      ],
      "execution_count": null,
      "outputs": [
        {
          "output_type": "execute_result",
          "data": {
            "text/plain": [
              "0.8280294964312472"
            ]
          },
          "metadata": {
            "tags": []
          },
          "execution_count": 61
        }
      ]
    },
    {
      "cell_type": "code",
      "metadata": {
        "id": "7Gg30rqLlOvg"
      },
      "source": [
        "y_predicted = grid_search_lr.predict(X_test)"
      ],
      "execution_count": null,
      "outputs": []
    },
    {
      "cell_type": "code",
      "metadata": {
        "id": "ti-MIZn7lOkI",
        "colab": {
          "base_uri": "https://localhost:8080/"
        },
        "outputId": "303baa63-95e5-4a41-90eb-4b345bafb322"
      },
      "source": [
        "classification_report_lr = classification_report(y_test, y_predicted)\r\n",
        "print(classification_report_lr)"
      ],
      "execution_count": null,
      "outputs": [
        {
          "output_type": "stream",
          "text": [
            "              precision    recall  f1-score   support\n",
            "\n",
            "           0       0.76      0.82      0.79      1799\n",
            "           1       0.77      0.82      0.79      2902\n",
            "           2       0.90      0.81      0.85      9023\n",
            "           3       0.81      0.82      0.82      5302\n",
            "           4       0.73      0.83      0.78      2640\n",
            "           5       0.64      0.77      0.70       568\n",
            "           6       0.90      0.92      0.91      3125\n",
            "\n",
            "    accuracy                           0.83     25359\n",
            "   macro avg       0.79      0.83      0.80     25359\n",
            "weighted avg       0.83      0.83      0.83     25359\n",
            "\n"
          ],
          "name": "stdout"
        }
      ]
    },
    {
      "cell_type": "code",
      "metadata": {
        "id": "NHD8Qi-klSip",
        "colab": {
          "base_uri": "https://localhost:8080/",
          "height": 767
        },
        "outputId": "3c6f983e-4df9-4ede-805f-83a860acd63e"
      },
      "source": [
        "conf_matrix_df = pd.DataFrame(data=confusion_matrix(y_test, y_predicted),\r\n",
        "                              index=key_to_label_name, columns=key_to_label_name)\r\n",
        "\r\n",
        "plotConfusionMatrixHeatmap(conf_matrix_df, model_name='Logistic Regression', figsize=(12, 10))"
      ],
      "execution_count": null,
      "outputs": [
        {
          "output_type": "display_data",
          "data": {
            "image/png": "[encoded data removed]",
            "text/plain": [
              "<Figure size 864x720 with 2 Axes>"
            ]
          },
          "metadata": {
            "tags": [],
            "needs_background": "light"
          }
        }
      ]
    },
    {
      "cell_type": "code",
      "metadata": {
        "id": "RuxGZ60LlSTj",
        "colab": {
          "base_uri": "https://localhost:8080/"
        },
        "outputId": "7964fd0f-cefa-41e3-a11b-c8ff92a14f74"
      },
      "source": [
        "joblib.dump(grid_search_lr.best_estimator_, 'drive/MyDrive/Springboard/data/models/logistic_regression_v3.pkl', compress = 1)"
      ],
      "execution_count": null,
      "outputs": [
        {
          "output_type": "execute_result",
          "data": {
            "text/plain": [
              "['drive/MyDrive/Springboard/data/models/logistic_regression_v3.pkl']"
            ]
          },
          "metadata": {
            "tags": []
          },
          "execution_count": 65
        }
      ]
    },
    {
      "cell_type": "markdown",
      "metadata": {
        "id": "pWpImdlthhg3"
      },
      "source": [
        "# Random Forest Classifier"
      ]
    },
    {
      "cell_type": "code",
      "metadata": {
        "id": "T1MKrVfglZ1h"
      },
      "source": [
        "from sklearn.ensemble import RandomForestClassifier\r\n",
        "from sklearn.feature_extraction.text import CountVectorizer"
      ],
      "execution_count": null,
      "outputs": []
    },
    {
      "cell_type": "code",
      "metadata": {
        "id": "L-lSayldlZxB"
      },
      "source": [
        "vectorizer = TfidfVectorizer(min_df=3, stop_words=\"english\", sublinear_tf=True, norm='l2', ngram_range=(1, 2))"
      ],
      "execution_count": null,
      "outputs": []
    },
    {
      "cell_type": "code",
      "metadata": {
        "id": "fcHkqpWclZsw"
      },
      "source": [
        "pipeline_rf = Pipeline(steps = [('countvectorizer', vectorizer),\r\n",
        "                              ('clf', RandomForestClassifier())])"
      ],
      "execution_count": null,
      "outputs": []
    },
    {
      "cell_type": "code",
      "metadata": {
        "id": "iDet8E1clZol"
      },
      "source": [
        "model = pipeline_rf.fit(X_train, y_train)"
      ],
      "execution_count": null,
      "outputs": []
    },
    {
      "cell_type": "code",
      "metadata": {
        "id": "o6gbh1rolZi5"
      },
      "source": [
        "y_pred = model.predict(X_test)"
      ],
      "execution_count": null,
      "outputs": []
    },
    {
      "cell_type": "code",
      "metadata": {
        "id": "PBCMq96glZbo"
      },
      "source": [
        "y_pred_prob = model.predict_proba(X_test)"
      ],
      "execution_count": null,
      "outputs": []
    },
    {
      "cell_type": "code",
      "metadata": {
        "id": "IOus6VJHljtL"
      },
      "source": [
        "lr_probs = y_pred_prob[:,1]"
      ],
      "execution_count": null,
      "outputs": []
    },
    {
      "cell_type": "code",
      "metadata": {
        "id": "sgelmfXwlkAv",
        "colab": {
          "base_uri": "https://localhost:8080/"
        },
        "outputId": "fa58695d-8751-4ffe-cd5e-0d3c79d50987"
      },
      "source": [
        "accuracy_score(y_test, y_pred)"
      ],
      "execution_count": null,
      "outputs": [
        {
          "output_type": "execute_result",
          "data": {
            "text/plain": [
              "0.7976655230884498"
            ]
          },
          "metadata": {
            "tags": []
          },
          "execution_count": 74
        }
      ]
    },
    {
      "cell_type": "code",
      "metadata": {
        "id": "HpIRjznLllhg"
      },
      "source": [
        "conf_matrix_df = pd.DataFrame(data=confusion_matrix(y_test, y_pred),index=key_to_label_name,\r\n",
        "                              columns=key_to_label_name)"
      ],
      "execution_count": null,
      "outputs": []
    },
    {
      "cell_type": "code",
      "metadata": {
        "id": "suSHIaFfllZH",
        "colab": {
          "base_uri": "https://localhost:8080/"
        },
        "outputId": "1263ecd2-fd68-4078-d533-ed563ac6425b"
      },
      "source": [
        "classification_rep = classification_report(y_test, y_pred,target_names=key_to_label_name)\r\n",
        "print(classification_rep)"
      ],
      "execution_count": null,
      "outputs": [
        {
          "output_type": "stream",
          "text": [
            "                               precision    recall  f1-score   support\n",
            "\n",
            "              Account service       0.77      0.76      0.76      1799\n",
            "  Credit card or prepaid card       0.79      0.71      0.75      2902\n",
            "             Credit reporting       0.77      0.92      0.84      9023\n",
            "              Debt collection       0.79      0.76      0.78      5302\n",
            "                        Loans       0.86      0.60      0.70      2640\n",
            "Money transfer, VC and Others       0.90      0.26      0.40       568\n",
            "                     Mortgage       0.89      0.86      0.88      3125\n",
            "\n",
            "                     accuracy                           0.80     25359\n",
            "                    macro avg       0.82      0.70      0.73     25359\n",
            "                 weighted avg       0.80      0.80      0.79     25359\n",
            "\n"
          ],
          "name": "stdout"
        }
      ]
    },
    {
      "cell_type": "code",
      "metadata": {
        "id": "yM8dTM-jllOY",
        "colab": {
          "base_uri": "https://localhost:8080/",
          "height": 767
        },
        "outputId": "378d38fa-9a79-4668-ccd8-e20fc088ae04"
      },
      "source": [
        "plotConfusionMatrixHeatmap(conf_matrix_df, model_name='Random forest', figsize=(12, 10))"
      ],
      "execution_count": null,
      "outputs": [
        {
          "output_type": "display_data",
          "data": {
            "image/png": "[encoded data removed]",
            "text/plain": [
              "<Figure size 864x720 with 2 Axes>"
            ]
          },
          "metadata": {
            "tags": [],
            "needs_background": "light"
          }
        }
      ]
    },
    {
      "cell_type": "code",
      "metadata": {
        "id": "igU9q-wNlqm4",
        "colab": {
          "base_uri": "https://localhost:8080/"
        },
        "outputId": "a38b4f49-b453-4a06-dbe4-11816f2e29b4"
      },
      "source": [
        "joblib.dump(model, 'drive/MyDrive/Springboard/data/models/random_forest_v3.pkl', compress = 1)"
      ],
      "execution_count": null,
      "outputs": [
        {
          "output_type": "execute_result",
          "data": {
            "text/plain": [
              "['drive/MyDrive/Springboard/data/models/random_forest_v3.pkl']"
            ]
          },
          "metadata": {
            "tags": []
          },
          "execution_count": 78
        }
      ]
    },
    {
      "cell_type": "markdown",
      "metadata": {
        "id": "crj3iZz9hkUv"
      },
      "source": [
        "# Doc2Vec with Logistic Regression"
      ]
    },
    {
      "cell_type": "code",
      "metadata": {
        "id": "USasiIShlup5"
      },
      "source": [
        "from gensim.models.doc2vec import Doc2Vec, TaggedDocument"
      ],
      "execution_count": null,
      "outputs": []
    },
    {
      "cell_type": "code",
      "metadata": {
        "id": "0PHT7cwqlubD"
      },
      "source": [
        "#prepare training data in doc2vec format:\r\n",
        "train_doc2vec = [TaggedDocument((d), tags=[str(i)]) for i, d in enumerate(X_train)]"
      ],
      "execution_count": null,
      "outputs": []
    },
    {
      "cell_type": "code",
      "metadata": {
        "id": "0FvTCcL7luFb",
        "colab": {
          "base_uri": "https://localhost:8080/"
        },
        "outputId": "6167a220-9309-4fd5-e8f9-53a6c32d05c1"
      },
      "source": [
        "#Train a doc2vec model to learn\r\n",
        "model = Doc2Vec(vector_size=50, alpha=0.025, min_count=5, dm =1, epochs=100)\r\n",
        "model.build_vocab(train_doc2vec)\r\n",
        "model.train(train_doc2vec, total_examples=model.corpus_count, epochs=model.epochs)\r\n",
        "model.save(\"drive/MyDrive/Springboard/data/models/d2v-v3.model\")\r\n",
        "print(\"Model Saved\")"
      ],
      "execution_count": null,
      "outputs": [
        {
          "output_type": "stream",
          "text": [
            "Model Saved\n"
          ],
          "name": "stdout"
        }
      ]
    },
    {
      "cell_type": "code",
      "metadata": {
        "id": "EomraTzxl1NP"
      },
      "source": [
        "#Infer the feature representation for training and test data using the trained model\r\n",
        "model= Doc2Vec.load(\"drive/MyDrive/Springboard/data/models/d2v-v3.model\")"
      ],
      "execution_count": null,
      "outputs": []
    },
    {
      "cell_type": "code",
      "metadata": {
        "id": "ocGHHBzfl1nK"
      },
      "source": [
        "#infer in multiple steps to get a stable representation. \r\n",
        "train_vectors =  [model.infer_vector(list_of_tokens, steps=50) for list_of_tokens in X_train]\r\n",
        "test_vectors = [model.infer_vector(list_of_tokens, steps=50) for list_of_tokens in X_test]"
      ],
      "execution_count": null,
      "outputs": []
    },
    {
      "cell_type": "code",
      "metadata": {
        "id": "Go-gzkMSl7SR",
        "colab": {
          "base_uri": "https://localhost:8080/"
        },
        "outputId": "d05f5f6e-6c78-46c6-db47-3c113909abfd"
      },
      "source": [
        "clf = LogisticRegression(class_weight=\"balanced\")\r\n",
        "clf.fit(train_vectors, y_train)"
      ],
      "execution_count": null,
      "outputs": [
        {
          "output_type": "stream",
          "text": [
            "/usr/local/lib/python3.6/dist-packages/sklearn/linear_model/_logistic.py:940: ConvergenceWarning: lbfgs failed to converge (status=1):\n",
            "STOP: TOTAL NO. of ITERATIONS REACHED LIMIT.\n",
            "\n",
            "Increase the number of iterations (max_iter) or scale the data as shown in:\n",
            "    https://scikit-learn.org/stable/modules/preprocessing.html\n",
            "Please also refer to the documentation for alternative solver options:\n",
            "    https://scikit-learn.org/stable/modules/linear_model.html#logistic-regression\n",
            "  extra_warning_msg=_LOGISTIC_SOLVER_CONVERGENCE_MSG)\n"
          ],
          "name": "stderr"
        },
        {
          "output_type": "execute_result",
          "data": {
            "text/plain": [
              "LogisticRegression(C=1.0, class_weight='balanced', dual=False,\n",
              "                   fit_intercept=True, intercept_scaling=1, l1_ratio=None,\n",
              "                   max_iter=100, multi_class='auto', n_jobs=None, penalty='l2',\n",
              "                   random_state=None, solver='lbfgs', tol=0.0001, verbose=0,\n",
              "                   warm_start=False)"
            ]
          },
          "metadata": {
            "tags": []
          },
          "execution_count": 84
        }
      ]
    },
    {
      "cell_type": "code",
      "metadata": {
        "id": "4y4ulWlhl7Ga"
      },
      "source": [
        "preds = clf.predict(test_vectors)"
      ],
      "execution_count": null,
      "outputs": []
    },
    {
      "cell_type": "code",
      "metadata": {
        "id": "LEi9YV8Yl-AY",
        "colab": {
          "base_uri": "https://localhost:8080/"
        },
        "outputId": "5cbf9933-5020-445f-a16d-2bca562457fc"
      },
      "source": [
        "print(classification_report(y_test, preds))"
      ],
      "execution_count": null,
      "outputs": [
        {
          "output_type": "stream",
          "text": [
            "              precision    recall  f1-score   support\n",
            "\n",
            "           0       0.40      0.50      0.44      1799\n",
            "           1       0.39      0.40      0.40      2902\n",
            "           2       0.75      0.58      0.66      9023\n",
            "           3       0.54      0.48      0.51      5302\n",
            "           4       0.37      0.41      0.39      2640\n",
            "           5       0.11      0.40      0.17       568\n",
            "           6       0.48      0.53      0.51      3125\n",
            "\n",
            "    accuracy                           0.51     25359\n",
            "   macro avg       0.44      0.47      0.44     25359\n",
            "weighted avg       0.55      0.51      0.52     25359\n",
            "\n"
          ],
          "name": "stdout"
        }
      ]
    },
    {
      "cell_type": "code",
      "metadata": {
        "id": "Qv2waXyPmBcS",
        "colab": {
          "base_uri": "https://localhost:8080/",
          "height": 767
        },
        "outputId": "a51f6175-5eba-4fea-fb58-dd1fd44a12fb"
      },
      "source": [
        "conf_matrix_df = pd.DataFrame(data=confusion_matrix(y_test, preds),\r\n",
        "                              index=key_to_label_name, columns=key_to_label_name)\r\n",
        "\r\n",
        "plotConfusionMatrixHeatmap(conf_matrix_df, model_name='Doc2vec', figsize=(12, 10))"
      ],
      "execution_count": null,
      "outputs": [
        {
          "output_type": "display_data",
          "data": {
            "image/png": "[encoded data removed]",
            "text/plain": [
              "<Figure size 864x720 with 2 Axes>"
            ]
          },
          "metadata": {
            "tags": [],
            "needs_background": "light"
          }
        }
      ]
    },
    {
      "cell_type": "code",
      "metadata": {
        "id": "2vnwTWbamAzQ",
        "colab": {
          "base_uri": "https://localhost:8080/"
        },
        "outputId": "772a5969-ae65-4b08-b7eb-5229ab066fd1"
      },
      "source": [
        "joblib.dump(clf, 'drive/MyDrive/Springboard/data/models/logistic_doc2vec_v3.pkl', compress = 1)"
      ],
      "execution_count": null,
      "outputs": [
        {
          "output_type": "execute_result",
          "data": {
            "text/plain": [
              "['drive/MyDrive/Springboard/data/models/logistic_doc2vec_v3.pkl']"
            ]
          },
          "metadata": {
            "tags": []
          },
          "execution_count": 88
        }
      ]
    },
    {
      "cell_type": "markdown",
      "metadata": {
        "id": "Q4Syn843hpr3"
      },
      "source": [
        "# Deep Learning"
      ]
    },
    {
      "cell_type": "code",
      "metadata": {
        "id": "IG2yrGgiujwb"
      },
      "source": [
        "# Necessary Imports\r\n",
        "import os\r\n",
        "import sys\r\n",
        "import numpy as np\r\n",
        "from keras.preprocessing.text import Tokenizer\r\n",
        "from keras.preprocessing.sequence import pad_sequences\r\n",
        "from keras.utils import to_categorical\r\n",
        "from keras.layers import Dense, Input, GlobalMaxPooling1D, Dropout\r\n",
        "from keras.layers import Conv1D, MaxPooling1D, Embedding, LSTM\r\n",
        "from keras.models import Model, Sequential\r\n",
        "from keras.initializers import Constant"
      ],
      "execution_count": 34,
      "outputs": []
    },
    {
      "cell_type": "code",
      "metadata": {
        "id": "o6xm_-l2ujop",
        "colab": {
          "base_uri": "https://localhost:8080/"
        },
        "outputId": "eeea08e9-1c46-434d-edbf-9cebd843f585"
      },
      "source": [
        "# Download GloVe word embedding\r\n",
        "!wget http://nlp.stanford.edu/data/glove.6B.zip"
      ],
      "execution_count": 35,
      "outputs": [
        {
          "output_type": "stream",
          "text": [
            "--2021-01-24 12:58:14--  http://nlp.stanford.edu/data/glove.6B.zip\n",
            "Resolving nlp.stanford.edu (nlp.stanford.edu)... 171.64.67.140\n",
            "Connecting to nlp.stanford.edu (nlp.stanford.edu)|171.64.67.140|:80... connected.\n",
            "HTTP request sent, awaiting response... 302 Found\n",
            "Location: https://nlp.stanford.edu/data/glove.6B.zip [following]\n",
            "--2021-01-24 12:58:15--  https://nlp.stanford.edu/data/glove.6B.zip\n",
            "Connecting to nlp.stanford.edu (nlp.stanford.edu)|171.64.67.140|:443... connected.\n",
            "HTTP request sent, awaiting response... 301 Moved Permanently\n",
            "Location: http://downloads.cs.stanford.edu/nlp/data/glove.6B.zip [following]\n",
            "--2021-01-24 12:58:15--  http://downloads.cs.stanford.edu/nlp/data/glove.6B.zip\n",
            "Resolving downloads.cs.stanford.edu (downloads.cs.stanford.edu)... 171.64.64.22\n",
            "Connecting to downloads.cs.stanford.edu (downloads.cs.stanford.edu)|171.64.64.22|:80... connected.\n",
            "HTTP request sent, awaiting response... 200 OK\n",
            "Length: 862182613 (822M) [application/zip]\n",
            "Saving to: ‘glove.6B.zip’\n",
            "\n",
            "glove.6B.zip        100%[===================>] 822.24M  2.00MB/s    in 6m 28s  \n",
            "\n",
            "2021-01-24 13:04:43 (2.12 MB/s) - ‘glove.6B.zip’ saved [862182613/862182613]\n",
            "\n"
          ],
          "name": "stdout"
        }
      ]
    },
    {
      "cell_type": "code",
      "metadata": {
        "id": "jYWQkPf9ujhn",
        "colab": {
          "base_uri": "https://localhost:8080/"
        },
        "outputId": "988570fa-ff54-4589-a5ff-61335b2769c3"
      },
      "source": [
        "# Unzip it\r\n",
        "!unzip glove*.zip"
      ],
      "execution_count": 36,
      "outputs": [
        {
          "output_type": "stream",
          "text": [
            "Archive:  glove.6B.zip\n",
            "  inflating: glove.6B.50d.txt        \n",
            "  inflating: glove.6B.100d.txt       \n",
            "  inflating: glove.6B.200d.txt       \n",
            "  inflating: glove.6B.300d.txt       \n"
          ],
          "name": "stdout"
        }
      ]
    },
    {
      "cell_type": "code",
      "metadata": {
        "id": "kdkYEO-fujWw",
        "colab": {
          "base_uri": "https://localhost:8080/"
        },
        "outputId": "6662386c-4aea-43cf-a957-5293ffcd94f0"
      },
      "source": [
        "!pwd"
      ],
      "execution_count": 37,
      "outputs": [
        {
          "output_type": "stream",
          "text": [
            "/content\n"
          ],
          "name": "stdout"
        }
      ]
    },
    {
      "cell_type": "code",
      "metadata": {
        "id": "Xp62YZRaujHZ"
      },
      "source": [
        "glove_dir = 'glove'"
      ],
      "execution_count": 38,
      "outputs": []
    },
    {
      "cell_type": "code",
      "metadata": {
        "id": "yiinAyjFuoy3"
      },
      "source": [
        "max_sequence_length = 1000\r\n",
        "max_num_words = 20000\r\n",
        "embedding_dim = 200\r\n",
        "validation_split = 0.2"
      ],
      "execution_count": 39,
      "outputs": []
    },
    {
      "cell_type": "code",
      "metadata": {
        "id": "l_WRhe84z18g"
      },
      "source": [
        "# Vectorize the text sample into 2D integer tensor using keras Tokenizer\r\n",
        "# Tokenizer will fir only on training data and transform both train and test data\r\n",
        "\r\n",
        "tokenizer = Tokenizer(num_words=max_num_words)\r\n",
        "\r\n",
        "tokenizer.fit_on_texts(X.to_list())\r\n",
        "\r\n",
        "train_sequence = tokenizer.texts_to_sequences(X.to_list())\r\n",
        "\r\n",
        "word_index = tokenizer.word_index"
      ],
      "execution_count": 41,
      "outputs": []
    },
    {
      "cell_type": "code",
      "metadata": {
        "id": "UOHW4qkbuobn",
        "colab": {
          "base_uri": "https://localhost:8080/"
        },
        "outputId": "a0b17317-1ff4-4ed5-fd6c-551562cde268"
      },
      "source": [
        "print(len(train_sequence[0]))"
      ],
      "execution_count": 42,
      "outputs": [
        {
          "output_type": "stream",
          "text": [
            "114\n"
          ],
          "name": "stdout"
        }
      ]
    },
    {
      "cell_type": "code",
      "metadata": {
        "id": "603apnoMuoHx"
      },
      "source": [
        "# Converting this to sequences to be fed into neural network. Max seq. len is 1000 as set earlier\r\n",
        "# initial padding of 0s, until vector is of size MAX_SEQUENCE_LENGTH\r\n",
        "\r\n",
        "# Pad_squences is ot make all the samples in same length.\r\n",
        "# Sequences that are shorter than num_timesteps are padded with value until they are num_timesteps long. \r\n",
        "# Sequences longer than num_timesteps are truncated so that they fit the desired length.\r\n",
        "\r\n",
        "train_valid_data = pad_sequences(train_sequence, maxlen=max_sequence_length)\r\n",
        "train_valid_labels = to_categorical(np.asarray(y.to_list()))"
      ],
      "execution_count": 43,
      "outputs": []
    },
    {
      "cell_type": "code",
      "metadata": {
        "id": "X9XZMxFFu6uL",
        "colab": {
          "base_uri": "https://localhost:8080/"
        },
        "outputId": "2837e6f9-1567-4490-ae4c-25a7344df233"
      },
      "source": [
        "print(train_valid_data.shape)"
      ],
      "execution_count": 44,
      "outputs": [
        {
          "output_type": "stream",
          "text": [
            "(101434, 1000)\n"
          ],
          "name": "stdout"
        }
      ]
    },
    {
      "cell_type": "code",
      "metadata": {
        "id": "S_9EGk0hu7HA"
      },
      "source": [
        "# spliting trainig set and validation set\r\n",
        "indices = np.arange(train_valid_data.shape[0]) # Return evenly spaced values within a given interval.\r\n",
        "np.random.shuffle(indices) # Modify a sequence in-place by shuffling its contents.\r\n",
        "\r\n",
        "train_valid_data = train_valid_data[indices]\r\n",
        "train_valid_labels = train_valid_labels[indices]"
      ],
      "execution_count": 45,
      "outputs": []
    },
    {
      "cell_type": "code",
      "metadata": {
        "colab": {
          "base_uri": "https://localhost:8080/"
        },
        "id": "E2C6XFfd2RE4",
        "outputId": "9d2f6bbb-062c-4fc5-fd81-ef0485e36c29"
      },
      "source": [
        "num_validation_samples = int(validation_split * train_valid_data.shape[0])\r\n",
        "\r\n",
        "print(num_validation_samples)"
      ],
      "execution_count": 46,
      "outputs": [
        {
          "output_type": "stream",
          "text": [
            "20286\n"
          ],
          "name": "stdout"
        }
      ]
    },
    {
      "cell_type": "code",
      "metadata": {
        "id": "yMo6Fj7b2Qub"
      },
      "source": [
        "X_train = train_valid_data[:-num_validation_samples]\r\n",
        "y_train = train_valid_labels[:-num_validation_samples]\r\n",
        "X_val = train_valid_data[-num_validation_samples:]\r\n",
        "y_val = train_valid_labels[-num_validation_samples:]"
      ],
      "execution_count": 47,
      "outputs": []
    },
    {
      "cell_type": "code",
      "metadata": {
        "colab": {
          "base_uri": "https://localhost:8080/"
        },
        "id": "mMUU-pqD2T_N",
        "outputId": "f88257b9-63ac-42a0-bd20-c3dff55f990f"
      },
      "source": [
        "# build index mapping words in the embeddings set to their embedding vector\r\n",
        "embeddings_index = {}\r\n",
        "\r\n",
        "with open('glove.6B.200d.txt') as f:\r\n",
        "  for line in f:\r\n",
        "    values = line.split()\r\n",
        "    word = values[0]\r\n",
        "    coefs = np.asarray(values[1:], dtype='float32')\r\n",
        "    embeddings_index[word] = coefs\r\n",
        "\r\n",
        "\r\n",
        "print('Found %s word vectors in Glove embeddings.' % len(embeddings_index))"
      ],
      "execution_count": 48,
      "outputs": [
        {
          "output_type": "stream",
          "text": [
            "Found 400000 word vectors in Glove embeddings.\n"
          ],
          "name": "stdout"
        }
      ]
    },
    {
      "cell_type": "code",
      "metadata": {
        "colab": {
          "base_uri": "https://localhost:8080/"
        },
        "id": "wtVgRcqZ2Vxo",
        "outputId": "cd4a1761-5b5d-4754-e35b-5cfd16aa0496"
      },
      "source": [
        "print(embeddings_index[\"cube\"])"
      ],
      "execution_count": 49,
      "outputs": [
        {
          "output_type": "stream",
          "text": [
            "[ 0.095789  -0.46755   -0.4109     0.23223    0.52719    0.2036\n",
            "  0.17575   -0.16305   -0.59678   -0.57058   -0.40217    0.2804\n",
            "  0.40405    0.2731    -0.36563    0.071209  -0.37869   -0.116\n",
            "  0.17491    0.27384   -0.74331    0.22654    0.10123   -0.61351\n",
            "  0.041468   0.29191    0.43205   -0.8113    -0.5454     0.38612\n",
            " -0.091256  -0.13519   -0.34071   -0.13824   -0.15446    0.12083\n",
            " -0.33084   -1.0632     0.062599   0.11213   -0.53525    0.099355\n",
            "  0.71156    0.45348   -0.11641    0.68769   -0.45519   -0.25393\n",
            "  0.0074914  0.28983   -0.009376   0.42163   -0.63396   -0.035484\n",
            "  0.60248    0.26093   -0.092479   0.15043    0.072953  -0.48143\n",
            " -0.57987    0.24628   -0.9747    -0.1702     0.34789   -0.22117\n",
            " -0.51841    0.23377    0.51891    0.42052    0.23693    0.26471\n",
            "  0.18427    0.03566   -0.17597    0.19796    0.69339   -0.37217\n",
            " -0.531      0.024534  -0.096397  -0.4331    -0.30723   -1.0936\n",
            "  0.47536   -0.32422    0.31672    0.70839    0.1111    -0.76518\n",
            "  0.04056    0.23401   -0.0061566  0.23706   -0.1391    -0.5257\n",
            "  0.056353  -0.75752   -0.21083   -0.32035   -0.40907    0.17086\n",
            " -0.34117    0.1997    -0.2434     0.045116   0.12173   -0.29524\n",
            " -0.82014    0.48243   -0.29433   -0.59999    0.080734  -0.37044\n",
            " -0.41208   -0.20666    0.58587    0.23055   -0.37566    0.95809\n",
            "  0.10273    0.59566   -0.74814    0.10855   -0.56266   -0.77462\n",
            "  0.44196    0.34853   -0.18778   -0.0020694 -0.11277   -0.36021\n",
            " -0.30012    0.23833   -0.82789   -0.099239   0.16304   -0.082802\n",
            "  0.12264   -0.1073     0.10858    0.42665    1.0428     0.25411\n",
            " -0.18803    0.11203    0.020056   0.19455    0.0035849 -0.13097\n",
            " -0.43369    0.50751   -0.22693    0.33277   -0.016347   0.11535\n",
            " -1.0596    -0.44657   -0.13969   -0.078491  -0.0065741  0.20377\n",
            "  0.19087   -0.33172   -0.22603   -0.0818    -0.18952    0.63846\n",
            " -1.0077    -0.21302   -0.15517   -0.35372    0.94636   -0.40949\n",
            " -0.18681    0.26465   -0.058645   0.0050466 -0.2235     0.96159\n",
            "  0.52383   -0.44262    0.36506   -0.41644    0.33987   -1.3354\n",
            " -0.63492   -0.044156   0.087174  -0.14542   -0.23651   -0.16055\n",
            "  0.12121    0.16317   -0.13413   -0.11056   -0.72226    0.3816\n",
            "  0.29239   -0.59913  ]\n"
          ],
          "name": "stdout"
        }
      ]
    },
    {
      "cell_type": "code",
      "metadata": {
        "id": "1usGkHb32Vqg"
      },
      "source": [
        "# prepare embedding matrix - rows are the words from word_index, columns are the embeddings of that word from glove.\r\n",
        "\r\n",
        "num_words = min(max_num_words, len(word_index)) + 1\r\n",
        "\r\n",
        "embedding_matrix = np.zeros((num_words, embedding_dim)) # Return a new array of given shape and type, filled with zeros.\r\n",
        "\r\n",
        "for word, i in word_index.items():\r\n",
        "  if i > max_num_words:\r\n",
        "    continue\r\n",
        "  embedding_vector = embeddings_index.get(word)\r\n",
        "  if embedding_vector is not None:\r\n",
        "    # words not found in embedding index will be all zeros\r\n",
        "    embedding_matrix[i] = embedding_vector"
      ],
      "execution_count": 50,
      "outputs": []
    },
    {
      "cell_type": "code",
      "metadata": {
        "id": "ot7MHQQr2T8n"
      },
      "source": [
        "# Loading pre-trained word embedding into an embedding layer\r\n",
        "\r\n",
        "embedding_layer = Embedding(num_words, embedding_dim,\r\n",
        "                            embeddings_initializer=Constant(embedding_matrix),\r\n",
        "                            input_length=max_sequence_length,\r\n",
        "                            trainable=False)"
      ],
      "execution_count": 51,
      "outputs": []
    },
    {
      "cell_type": "code",
      "metadata": {
        "id": "AW1NmUT72T3w"
      },
      "source": [
        "label_index = {'Account service' : 0,\r\n",
        "               'Credit card or prepaid card' : 1,\r\n",
        "               'Credit reporting' : 2,\r\n",
        "               'Debt collection':3,\r\n",
        "               'Loans':4,\r\n",
        "               'Money transfer, VC and Others':5,\r\n",
        "               'Mortgage':6}"
      ],
      "execution_count": 52,
      "outputs": []
    },
    {
      "cell_type": "markdown",
      "metadata": {
        "id": "yAGarc072big"
      },
      "source": [
        "## CNN Model with pre-trained embedding"
      ]
    },
    {
      "cell_type": "code",
      "metadata": {
        "id": "_RJFaBZu2Tt4"
      },
      "source": [
        "cnn = Sequential()\r\n",
        "cnn.add(embedding_layer)\r\n",
        "cnn.add(Conv1D(128, 5, activation='relu'))\r\n",
        "cnn.add(MaxPooling1D(5))\r\n",
        "cnn.add(Conv1D(128, 5, activation='relu'))\r\n",
        "cnn.add(MaxPooling1D(5))\r\n",
        "cnn.add(Conv1D(128, 5, activation='relu'))\r\n",
        "cnn.add(GlobalMaxPooling1D())\r\n",
        "cnn.add(Dense(128, activation='relu'))\r\n",
        "cnn.add(Dense(len(label_index), activation='softmax'))\r\n",
        "\r\n",
        "cnn.compile(loss='categorical_crossentropy', optimizer='rmsprop', metrics=['acc'])"
      ],
      "execution_count": 56,
      "outputs": []
    },
    {
      "cell_type": "code",
      "metadata": {
        "colab": {
          "base_uri": "https://localhost:8080/"
        },
        "id": "inY2PxJ62huI",
        "outputId": "46483b2d-4d28-4728-f1fb-47470e213f36"
      },
      "source": [
        "cnn.summary()"
      ],
      "execution_count": 57,
      "outputs": [
        {
          "output_type": "stream",
          "text": [
            "Model: \"sequential\"\n",
            "_________________________________________________________________\n",
            "Layer (type)                 Output Shape              Param #   \n",
            "=================================================================\n",
            "embedding (Embedding)        (None, 1000, 200)         4000200   \n",
            "_________________________________________________________________\n",
            "conv1d (Conv1D)              (None, 996, 128)          128128    \n",
            "_________________________________________________________________\n",
            "max_pooling1d (MaxPooling1D) (None, 199, 128)          0         \n",
            "_________________________________________________________________\n",
            "conv1d_1 (Conv1D)            (None, 195, 128)          82048     \n",
            "_________________________________________________________________\n",
            "max_pooling1d_1 (MaxPooling1 (None, 39, 128)           0         \n",
            "_________________________________________________________________\n",
            "conv1d_2 (Conv1D)            (None, 35, 128)           82048     \n",
            "_________________________________________________________________\n",
            "global_max_pooling1d (Global (None, 128)               0         \n",
            "_________________________________________________________________\n",
            "dense (Dense)                (None, 128)               16512     \n",
            "_________________________________________________________________\n",
            "dense_1 (Dense)              (None, 7)                 903       \n",
            "=================================================================\n",
            "Total params: 4,309,839\n",
            "Trainable params: 309,639\n",
            "Non-trainable params: 4,000,200\n",
            "_________________________________________________________________\n"
          ],
          "name": "stdout"
        }
      ]
    },
    {
      "cell_type": "code",
      "metadata": {
        "colab": {
          "base_uri": "https://localhost:8080/"
        },
        "id": "vZA1cWD82ha5",
        "outputId": "e299a8dd-4162-4fd8-ab5a-d9862af1c120"
      },
      "source": [
        "#Train the model. Tune to validation set. \r\n",
        "cnn.fit(X_train, y_train, batch_size=128, epochs=5, validation_data=(X_val, y_val))"
      ],
      "execution_count": 58,
      "outputs": [
        {
          "output_type": "stream",
          "text": [
            "Epoch 1/5\n",
            "634/634 [==============================] - 855s 1s/step - loss: 0.9675 - acc: 0.6578 - val_loss: 0.5734 - val_acc: 0.8070\n",
            "Epoch 2/5\n",
            "634/634 [==============================] - 856s 1s/step - loss: 0.5465 - acc: 0.8182 - val_loss: 0.5590 - val_acc: 0.8115\n",
            "Epoch 3/5\n",
            "634/634 [==============================] - 857s 1s/step - loss: 0.4640 - acc: 0.8412 - val_loss: 0.5655 - val_acc: 0.8058\n",
            "Epoch 4/5\n",
            "634/634 [==============================] - 856s 1s/step - loss: 0.3990 - acc: 0.8619 - val_loss: 0.5658 - val_acc: 0.8112\n",
            "Epoch 5/5\n",
            "634/634 [==============================] - 856s 1s/step - loss: 0.3391 - acc: 0.8799 - val_loss: 0.6062 - val_acc: 0.8080\n"
          ],
          "name": "stdout"
        },
        {
          "output_type": "execute_result",
          "data": {
            "text/plain": [
              "<tensorflow.python.keras.callbacks.History at 0x7f0fb7a506a0>"
            ]
          },
          "metadata": {
            "tags": []
          },
          "execution_count": 58
        }
      ]
    },
    {
      "cell_type": "code",
      "metadata": {
        "id": "WLupoT_x2mOB"
      },
      "source": [
        "cnn.save(\"drive/MyDrive/Springboard/data/models/CNN_model_with_pre_trained_embedding_v3.h5\")"
      ],
      "execution_count": 59,
      "outputs": []
    },
    {
      "cell_type": "markdown",
      "metadata": {
        "id": "_NwKojgU2q_L"
      },
      "source": [
        "## CNN model with training own embedding"
      ]
    },
    {
      "cell_type": "code",
      "metadata": {
        "colab": {
          "base_uri": "https://localhost:8080/"
        },
        "id": "jMQYBUGj2rYg",
        "outputId": "255c6b38-5bde-41b3-dd5e-28acb7782ea1"
      },
      "source": [
        "print(\"Defining and training a CNN model, training embedding layer on the fly instead of using pre-trained embeddings\")\r\n",
        "cnnmodel = Sequential()\r\n",
        "cnnmodel.add(Embedding(max_num_words, 128))\r\n",
        "cnnmodel.add(Conv1D(128, 5, activation='relu'))\r\n",
        "cnnmodel.add(MaxPooling1D(5))\r\n",
        "cnnmodel.add(Conv1D(128, 5, activation='relu'))\r\n",
        "cnnmodel.add(MaxPooling1D(5))\r\n",
        "cnnmodel.add(Conv1D(128, 5, activation='relu'))\r\n",
        "cnnmodel.add(GlobalMaxPooling1D())\r\n",
        "cnnmodel.add(Dense(128, activation='relu'))\r\n",
        "cnnmodel.add(Dense(len(label_index), activation='softmax'))\r\n",
        "\r\n",
        "cnnmodel.compile(loss='categorical_crossentropy',\r\n",
        "              optimizer='rmsprop',\r\n",
        "              metrics=['acc'])"
      ],
      "execution_count": 60,
      "outputs": [
        {
          "output_type": "stream",
          "text": [
            "Defining and training a CNN model, training embedding layer on the fly instead of using pre-trained embeddings\n"
          ],
          "name": "stdout"
        }
      ]
    },
    {
      "cell_type": "code",
      "metadata": {
        "colab": {
          "base_uri": "https://localhost:8080/"
        },
        "id": "-PXuvzUE2rtB",
        "outputId": "8ca9b656-43cb-412d-8d5e-ac16f1406753"
      },
      "source": [
        "cnnmodel.summary()"
      ],
      "execution_count": 61,
      "outputs": [
        {
          "output_type": "stream",
          "text": [
            "Model: \"sequential_1\"\n",
            "_________________________________________________________________\n",
            "Layer (type)                 Output Shape              Param #   \n",
            "=================================================================\n",
            "embedding_1 (Embedding)      (None, None, 128)         2560000   \n",
            "_________________________________________________________________\n",
            "conv1d_3 (Conv1D)            (None, None, 128)         82048     \n",
            "_________________________________________________________________\n",
            "max_pooling1d_2 (MaxPooling1 (None, None, 128)         0         \n",
            "_________________________________________________________________\n",
            "conv1d_4 (Conv1D)            (None, None, 128)         82048     \n",
            "_________________________________________________________________\n",
            "max_pooling1d_3 (MaxPooling1 (None, None, 128)         0         \n",
            "_________________________________________________________________\n",
            "conv1d_5 (Conv1D)            (None, None, 128)         82048     \n",
            "_________________________________________________________________\n",
            "global_max_pooling1d_1 (Glob (None, 128)               0         \n",
            "_________________________________________________________________\n",
            "dense_2 (Dense)              (None, 128)               16512     \n",
            "_________________________________________________________________\n",
            "dense_3 (Dense)              (None, 7)                 903       \n",
            "=================================================================\n",
            "Total params: 2,823,559\n",
            "Trainable params: 2,823,559\n",
            "Non-trainable params: 0\n",
            "_________________________________________________________________\n"
          ],
          "name": "stdout"
        }
      ]
    },
    {
      "cell_type": "code",
      "metadata": {
        "colab": {
          "base_uri": "https://localhost:8080/"
        },
        "id": "G8d5xfdO2sFf",
        "outputId": "de7242b5-816a-42cf-ed4f-192384c7f7b7"
      },
      "source": [
        "#Train the model. Tune to validation set. \r\n",
        "cnnmodel.fit(X_train, y_train,\r\n",
        "          batch_size=128,\r\n",
        "          epochs=5, validation_data=(X_val, y_val))"
      ],
      "execution_count": 62,
      "outputs": [
        {
          "output_type": "stream",
          "text": [
            "Epoch 1/5\n",
            "634/634 [==============================] - 799s 1s/step - loss: 1.0815 - acc: 0.6019 - val_loss: 0.5286 - val_acc: 0.8223\n",
            "Epoch 2/5\n",
            "634/634 [==============================] - 799s 1s/step - loss: 0.4953 - acc: 0.8361 - val_loss: 0.5027 - val_acc: 0.8297\n",
            "Epoch 3/5\n",
            "634/634 [==============================] - 797s 1s/step - loss: 0.4260 - acc: 0.8566 - val_loss: 0.4993 - val_acc: 0.8323\n",
            "Epoch 4/5\n",
            "634/634 [==============================] - 796s 1s/step - loss: 0.3594 - acc: 0.8768 - val_loss: 0.5080 - val_acc: 0.8308\n",
            "Epoch 5/5\n",
            "634/634 [==============================] - 795s 1s/step - loss: 0.2934 - acc: 0.9008 - val_loss: 0.5823 - val_acc: 0.8044\n"
          ],
          "name": "stdout"
        },
        {
          "output_type": "execute_result",
          "data": {
            "text/plain": [
              "<tensorflow.python.keras.callbacks.History at 0x7f0fb51a45c0>"
            ]
          },
          "metadata": {
            "tags": []
          },
          "execution_count": 62
        }
      ]
    },
    {
      "cell_type": "code",
      "metadata": {
        "id": "XwV7X95r2sWr"
      },
      "source": [
        "cnnmodel.save(\"drive/MyDrive/Springboard/data/models/1D_CNN_model_with_training_own_embedding.h5\")"
      ],
      "execution_count": 63,
      "outputs": []
    },
    {
      "cell_type": "code",
      "metadata": {
        "id": "JYhO6Zr3hd8Q"
      },
      "source": [
        "Random Forest Classifier"
      ],
      "execution_count": null,
      "outputs": []
    },
    {
      "cell_type": "code",
      "metadata": {
        "id": "TEFpo1XVhUoo"
      },
      "source": [
        ""
      ],
      "execution_count": null,
      "outputs": []
    },
    {
      "cell_type": "code",
      "metadata": {
        "id": "U59VDKO_g8lD"
      },
      "source": [
        ""
      ],
      "execution_count": null,
      "outputs": []
    },
    {
      "cell_type": "code",
      "metadata": {
        "id": "PqC_zOTMd_k7"
      },
      "source": [
        ""
      ],
      "execution_count": null,
      "outputs": []
    },
    {
      "cell_type": "markdown",
      "metadata": {
        "id": "8BP6Oae0eAtF"
      },
      "source": [
        "## CNN Model with pre-trained embedding - Dropout added"
      ]
    },
    {
      "cell_type": "code",
      "metadata": {
        "id": "44lY8UxkeAtL"
      },
      "source": [
        "cnn2 = Sequential()\r\n",
        "cnn2.add(embedding_layer)\r\n",
        "cnn2.add(Conv1D(128, 5, activation='relu'))\r\n",
        "cnn2.add(MaxPooling1D(5))\r\n",
        "cnn2.add(Conv1D(128, 5, activation='relu'))\r\n",
        "cnn2.add(MaxPooling1D(5))\r\n",
        "cnn2.add(Conv1D(128, 5, activation='relu'))\r\n",
        "cnn2.add(GlobalMaxPooling1D())\r\n",
        "cnn2.add(Dropout(0.25))\r\n",
        "cnn2.add(Dense(128, activation='relu'))\r\n",
        "cnn2.add(Dense(len(label_index), activation='softmax'))\r\n",
        "\r\n",
        "cnn2.compile(loss='categorical_crossentropy', optimizer='rmsprop', metrics=['acc'])"
      ],
      "execution_count": 53,
      "outputs": []
    },
    {
      "cell_type": "code",
      "metadata": {
        "colab": {
          "base_uri": "https://localhost:8080/"
        },
        "id": "_LYN6lz1eAtL",
        "outputId": "759ca82d-131a-42da-fe95-19759fcd5ab1"
      },
      "source": [
        "cnn2.summary()"
      ],
      "execution_count": 54,
      "outputs": [
        {
          "output_type": "stream",
          "text": [
            "Model: \"sequential\"\n",
            "_________________________________________________________________\n",
            "Layer (type)                 Output Shape              Param #   \n",
            "=================================================================\n",
            "embedding (Embedding)        (None, 1000, 200)         4000200   \n",
            "_________________________________________________________________\n",
            "conv1d (Conv1D)              (None, 996, 128)          128128    \n",
            "_________________________________________________________________\n",
            "max_pooling1d (MaxPooling1D) (None, 199, 128)          0         \n",
            "_________________________________________________________________\n",
            "conv1d_1 (Conv1D)            (None, 195, 128)          82048     \n",
            "_________________________________________________________________\n",
            "max_pooling1d_1 (MaxPooling1 (None, 39, 128)           0         \n",
            "_________________________________________________________________\n",
            "conv1d_2 (Conv1D)            (None, 35, 128)           82048     \n",
            "_________________________________________________________________\n",
            "global_max_pooling1d (Global (None, 128)               0         \n",
            "_________________________________________________________________\n",
            "dropout (Dropout)            (None, 128)               0         \n",
            "_________________________________________________________________\n",
            "dense (Dense)                (None, 128)               16512     \n",
            "_________________________________________________________________\n",
            "dense_1 (Dense)              (None, 7)                 903       \n",
            "=================================================================\n",
            "Total params: 4,309,839\n",
            "Trainable params: 309,639\n",
            "Non-trainable params: 4,000,200\n",
            "_________________________________________________________________\n"
          ],
          "name": "stdout"
        }
      ]
    },
    {
      "cell_type": "code",
      "metadata": {
        "colab": {
          "base_uri": "https://localhost:8080/"
        },
        "id": "8T7ypUHkeAtM",
        "outputId": "ffd82e52-5c94-45f0-e116-da5b00a63636"
      },
      "source": [
        "#Train the model. Tune to validation set. \r\n",
        "history = cnn2.fit(X_train, y_train, batch_size=128, epochs=3, validation_data=(X_val, y_val))"
      ],
      "execution_count": 55,
      "outputs": [
        {
          "output_type": "stream",
          "text": [
            "Epoch 1/3\n",
            "634/634 [==============================] - 1208s 2s/step - loss: 1.0275 - acc: 0.6340 - val_loss: 0.6031 - val_acc: 0.7939\n",
            "Epoch 2/3\n",
            "634/634 [==============================] - 1206s 2s/step - loss: 0.5719 - acc: 0.8117 - val_loss: 0.5471 - val_acc: 0.8160\n",
            "Epoch 3/3\n",
            "634/634 [==============================] - 1207s 2s/step - loss: 0.4897 - acc: 0.8367 - val_loss: 0.5582 - val_acc: 0.8127\n"
          ],
          "name": "stdout"
        }
      ]
    },
    {
      "cell_type": "code",
      "metadata": {
        "id": "Bz8K_Rf0eAtM"
      },
      "source": [
        "cnn2.save(\"drive/MyDrive/Springboard/data/models/CNN_model_with_pre_trained_embedding_dropout_v1.h5\")"
      ],
      "execution_count": 56,
      "outputs": []
    },
    {
      "cell_type": "code",
      "metadata": {
        "id": "DhZG1sqJfQVj"
      },
      "source": [
        ""
      ],
      "execution_count": null,
      "outputs": []
    },
    {
      "cell_type": "markdown",
      "metadata": {
        "id": "DdF0wm-sfcsX"
      },
      "source": [
        "## CNN model with training own embedding"
      ]
    },
    {
      "cell_type": "code",
      "metadata": {
        "colab": {
          "base_uri": "https://localhost:8080/"
        },
        "id": "btLH-eJ7fcse",
        "outputId": "b1104540-ecc7-4de2-ebd6-abf68db3ad40"
      },
      "source": [
        "print(\"Defining and training a CNN model, training embedding layer on the fly instead of using pre-trained embeddings\")\r\n",
        "cnnmodel2 = Sequential()\r\n",
        "cnnmodel2.add(Embedding(max_num_words, 128))\r\n",
        "cnnmodel2.add(Conv1D(128, 5, activation='relu'))\r\n",
        "cnnmodel2.add(MaxPooling1D(5))\r\n",
        "cnnmodel2.add(Conv1D(128, 5, activation='relu'))\r\n",
        "cnnmodel2.add(MaxPooling1D(5))\r\n",
        "cnnmodel2.add(Conv1D(128, 5, activation='relu'))\r\n",
        "cnnmodel2.add(GlobalMaxPooling1D())\r\n",
        "cnnmodel2.add(Dense(128, activation='relu'))\r\n",
        "cnnmodel2.add(Dense(len(label_index), activation='softmax'))\r\n",
        "\r\n",
        "cnnmodel2.compile(loss='categorical_crossentropy',\r\n",
        "              optimizer='rmsprop',\r\n",
        "              metrics=['acc'])"
      ],
      "execution_count": 58,
      "outputs": [
        {
          "output_type": "stream",
          "text": [
            "Defining and training a CNN model, training embedding layer on the fly instead of using pre-trained embeddings\n"
          ],
          "name": "stdout"
        }
      ]
    },
    {
      "cell_type": "code",
      "metadata": {
        "colab": {
          "base_uri": "https://localhost:8080/"
        },
        "id": "hKB5R_Tzfcsf",
        "outputId": "5a624b73-79b7-4fd9-d67f-2625eba58b97"
      },
      "source": [
        "cnnmodel2.summary()"
      ],
      "execution_count": 59,
      "outputs": [
        {
          "output_type": "stream",
          "text": [
            "Model: \"sequential_2\"\n",
            "_________________________________________________________________\n",
            "Layer (type)                 Output Shape              Param #   \n",
            "=================================================================\n",
            "embedding_2 (Embedding)      (None, None, 128)         2560000   \n",
            "_________________________________________________________________\n",
            "conv1d_6 (Conv1D)            (None, None, 128)         82048     \n",
            "_________________________________________________________________\n",
            "max_pooling1d_4 (MaxPooling1 (None, None, 128)         0         \n",
            "_________________________________________________________________\n",
            "conv1d_7 (Conv1D)            (None, None, 128)         82048     \n",
            "_________________________________________________________________\n",
            "max_pooling1d_5 (MaxPooling1 (None, None, 128)         0         \n",
            "_________________________________________________________________\n",
            "conv1d_8 (Conv1D)            (None, None, 128)         82048     \n",
            "_________________________________________________________________\n",
            "global_max_pooling1d_2 (Glob (None, 128)               0         \n",
            "_________________________________________________________________\n",
            "dense_2 (Dense)              (None, 128)               16512     \n",
            "_________________________________________________________________\n",
            "dense_3 (Dense)              (None, 7)                 903       \n",
            "=================================================================\n",
            "Total params: 2,823,559\n",
            "Trainable params: 2,823,559\n",
            "Non-trainable params: 0\n",
            "_________________________________________________________________\n"
          ],
          "name": "stdout"
        }
      ]
    },
    {
      "cell_type": "code",
      "metadata": {
        "colab": {
          "base_uri": "https://localhost:8080/"
        },
        "id": "hnPMA1gkfcsf",
        "outputId": "a42921a7-c9c1-4166-fb43-ade208c9f164"
      },
      "source": [
        "#Train the model. Tune to validation set. \r\n",
        "cnnmodel2.fit(X_train, y_train,\r\n",
        "          batch_size=128,\r\n",
        "          epochs=3, validation_data=(X_val, y_val))"
      ],
      "execution_count": 60,
      "outputs": [
        {
          "output_type": "stream",
          "text": [
            "Epoch 1/3\n",
            "634/634 [==============================] - 1154s 2s/step - loss: 1.0250 - acc: 0.6202 - val_loss: 0.5673 - val_acc: 0.8086\n",
            "Epoch 2/3\n",
            "634/634 [==============================] - 1154s 2s/step - loss: 0.5044 - acc: 0.8348 - val_loss: 0.5199 - val_acc: 0.8269\n",
            "Epoch 3/3\n",
            "634/634 [==============================] - 1148s 2s/step - loss: 0.4222 - acc: 0.8611 - val_loss: 0.5019 - val_acc: 0.8333\n"
          ],
          "name": "stdout"
        },
        {
          "output_type": "execute_result",
          "data": {
            "text/plain": [
              "<tensorflow.python.keras.callbacks.History at 0x7f44f8c2f0b8>"
            ]
          },
          "metadata": {
            "tags": []
          },
          "execution_count": 60
        }
      ]
    },
    {
      "cell_type": "code",
      "metadata": {
        "id": "SCEf1Qe6fcsg"
      },
      "source": [
        "cnnmodel2.save(\"drive/MyDrive/Springboard/data/models/CNN_model_with_training_own_embedding_dropout_v1.h5\")"
      ],
      "execution_count": 61,
      "outputs": []
    },
    {
      "cell_type": "markdown",
      "metadata": {
        "id": "EsZO2R8FhtYg"
      },
      "source": [
        "# Test Data"
      ]
    },
    {
      "cell_type": "code",
      "metadata": {
        "id": "fVMLqXe-5jbN"
      },
      "source": [
        "test_data_path = 'drive/MyDrive/Springboard/data/test.csv'"
      ],
      "execution_count": 62,
      "outputs": []
    },
    {
      "cell_type": "code",
      "metadata": {
        "id": "Udqs_w7S5qlP"
      },
      "source": [
        "test_data = pd.read_csv(test_data_path)"
      ],
      "execution_count": 63,
      "outputs": []
    },
    {
      "cell_type": "code",
      "metadata": {
        "id": "UpurLoiO5q9s"
      },
      "source": [
        "test_data.drop(columns=['Unnamed: 0', 'index'], inplace=True)"
      ],
      "execution_count": null,
      "outputs": []
    },
    {
      "cell_type": "code",
      "metadata": {
        "colab": {
          "base_uri": "https://localhost:8080/",
          "height": 195
        },
        "id": "uuT_5rbt5rOG",
        "outputId": "3e7d6812-92f7-4cb4-c3cb-9da8c7a61a8f"
      },
      "source": [
        "test_data.head()"
      ],
      "execution_count": 66,
      "outputs": [
        {
          "output_type": "execute_result",
          "data": {
            "text/html": [
              "<div>\n",
              "<style scoped>\n",
              "    .dataframe tbody tr th:only-of-type {\n",
              "        vertical-align: middle;\n",
              "    }\n",
              "\n",
              "    .dataframe tbody tr th {\n",
              "        vertical-align: top;\n",
              "    }\n",
              "\n",
              "    .dataframe thead th {\n",
              "        text-align: right;\n",
              "    }\n",
              "</style>\n",
              "<table border=\"1\" class=\"dataframe\">\n",
              "  <thead>\n",
              "    <tr style=\"text-align: right;\">\n",
              "      <th></th>\n",
              "      <th>full_text</th>\n",
              "      <th>label</th>\n",
              "      <th>text_processed</th>\n",
              "    </tr>\n",
              "  </thead>\n",
              "  <tbody>\n",
              "    <tr>\n",
              "      <th>0</th>\n",
              "      <td>On a Bank of America credit card ending in XXX...</td>\n",
              "      <td>Credit reporting</td>\n",
              "      <td>bank america credit card ending paid amount du...</td>\n",
              "    </tr>\n",
              "    <tr>\n",
              "      <th>1</th>\n",
              "      <td>Equifax mishandled my personal information inc...</td>\n",
              "      <td>Credit reporting</td>\n",
              "      <td>equifax mishandled personal information includ...</td>\n",
              "    </tr>\n",
              "    <tr>\n",
              "      <th>2</th>\n",
              "      <td>I already know what SCS is saying. The check i...</td>\n",
              "      <td>Loans</td>\n",
              "      <td>already know sc saying check question bill pay...</td>\n",
              "    </tr>\n",
              "    <tr>\n",
              "      <th>3</th>\n",
              "      <td>Under the new law that was effective XXXX XXXX...</td>\n",
              "      <td>Credit reporting</td>\n",
              "      <td>new law effective public record data must incl...</td>\n",
              "    </tr>\n",
              "    <tr>\n",
              "      <th>4</th>\n",
              "      <td>Hi i am writing to you today because i had a d...</td>\n",
              "      <td>Loans</td>\n",
              "      <td>hi writing today dispute seems like guy conduc...</td>\n",
              "    </tr>\n",
              "  </tbody>\n",
              "</table>\n",
              "</div>"
            ],
            "text/plain": [
              "                                           full_text  ...                                     text_processed\n",
              "0  On a Bank of America credit card ending in XXX...  ...  bank america credit card ending paid amount du...\n",
              "1  Equifax mishandled my personal information inc...  ...  equifax mishandled personal information includ...\n",
              "2  I already know what SCS is saying. The check i...  ...  already know sc saying check question bill pay...\n",
              "3  Under the new law that was effective XXXX XXXX...  ...  new law effective public record data must incl...\n",
              "4  Hi i am writing to you today because i had a d...  ...  hi writing today dispute seems like guy conduc...\n",
              "\n",
              "[5 rows x 3 columns]"
            ]
          },
          "metadata": {
            "tags": []
          },
          "execution_count": 66
        }
      ]
    },
    {
      "cell_type": "code",
      "metadata": {
        "id": "WFeNeGww5r0c"
      },
      "source": [
        " # Process Text\r\n",
        "test_data['text_processed'] = test_data.apply(lambda row : clean_text(row['full_text']), axis = 1)"
      ],
      "execution_count": 64,
      "outputs": []
    },
    {
      "cell_type": "code",
      "metadata": {
        "id": "bvchT7gF6EVt"
      },
      "source": [
        "test_data['label_id'] = label_encoder.fit_transform(test_data['label'])"
      ],
      "execution_count": 68,
      "outputs": []
    },
    {
      "cell_type": "code",
      "metadata": {
        "id": "pRTI36sU6Es4"
      },
      "source": [
        "X_test = test_data['text_processed']\r\n",
        "y_test = test_data['label_id']"
      ],
      "execution_count": 69,
      "outputs": []
    },
    {
      "cell_type": "markdown",
      "metadata": {
        "id": "v1EB7OlF6M9T"
      },
      "source": [
        "### Multinomial Naive bayes"
      ]
    },
    {
      "cell_type": "code",
      "metadata": {
        "id": "1boZ4Sxu-DNv"
      },
      "source": [
        "import joblib"
      ],
      "execution_count": 74,
      "outputs": []
    },
    {
      "cell_type": "code",
      "metadata": {
        "id": "u-3HsjW_6E8b"
      },
      "source": [
        "# Loading model to compare the results\r\n",
        "model_mnb = joblib.load('drive/MyDrive/Springboard/data/models/multinomial_naive_bayes_v3.pkl')"
      ],
      "execution_count": 75,
      "outputs": []
    },
    {
      "cell_type": "code",
      "metadata": {
        "colab": {
          "base_uri": "https://localhost:8080/"
        },
        "id": "41SvcENr6i7a",
        "outputId": "774ffc96-55a9-476a-ff17-cc268c51c554"
      },
      "source": [
        "model_mnb.score(X_test, y_test)"
      ],
      "execution_count": 76,
      "outputs": [
        {
          "output_type": "execute_result",
          "data": {
            "text/plain": [
              "0.8163854479371542"
            ]
          },
          "metadata": {
            "tags": []
          },
          "execution_count": 76
        }
      ]
    },
    {
      "cell_type": "code",
      "metadata": {
        "id": "gmWYEY766p3A"
      },
      "source": [
        "y_predicted = model_mnb.predict(X_test)"
      ],
      "execution_count": 77,
      "outputs": []
    },
    {
      "cell_type": "code",
      "metadata": {
        "colab": {
          "base_uri": "https://localhost:8080/"
        },
        "id": "lWrJGBtT6qIf",
        "outputId": "a275a8e4-3e62-4850-c114-618a74f55cc2"
      },
      "source": [
        "classification_report_mnb = classification_report(y_test, y_predicted)\r\n",
        "print(classification_report_mnb)"
      ],
      "execution_count": 78,
      "outputs": [
        {
          "output_type": "stream",
          "text": [
            "              precision    recall  f1-score   support\n",
            "\n",
            "           0       0.77      0.81      0.79     12542\n",
            "           1       0.74      0.80      0.77     19643\n",
            "           2       0.85      0.84      0.85     62135\n",
            "           3       0.82      0.77      0.80     36908\n",
            "           4       0.74      0.77      0.75     17223\n",
            "           5       0.82      0.60      0.70      4000\n",
            "           6       0.87      0.93      0.90     21435\n",
            "\n",
            "    accuracy                           0.82    173886\n",
            "   macro avg       0.80      0.79      0.79    173886\n",
            "weighted avg       0.82      0.82      0.82    173886\n",
            "\n"
          ],
          "name": "stdout"
        }
      ]
    },
    {
      "cell_type": "code",
      "metadata": {
        "colab": {
          "base_uri": "https://localhost:8080/",
          "height": 767
        },
        "id": "3jA45SIK6qYz",
        "outputId": "e4263118-c2b1-4d80-91c5-cc11603deb7a"
      },
      "source": [
        "conf_matrix_df = pd.DataFrame(data=confusion_matrix(y_test, y_predicted),\r\n",
        "                              index=key_to_label_name, columns=key_to_label_name)\r\n",
        "\r\n",
        "plotConfusionMatrixHeatmap(conf_matrix_df, model_name='Multinomial Naive bayes', figsize=(12, 10))"
      ],
      "execution_count": 79,
      "outputs": [
        {
          "output_type": "display_data",
          "data": {
            "image/png": "[encoded data removed]",
            "text/plain": [
              "<Figure size 864x720 with 2 Axes>"
            ]
          },
          "metadata": {
            "tags": [],
            "needs_background": "light"
          }
        }
      ]
    },
    {
      "cell_type": "markdown",
      "metadata": {
        "id": "EhWM0eFY6zqa"
      },
      "source": [
        "### Logistic Regression"
      ]
    },
    {
      "cell_type": "code",
      "metadata": {
        "id": "ztYAxxnn6zqg"
      },
      "source": [
        "# Loading model to compare the results\r\n",
        "model_lr = joblib.load('drive/MyDrive/Springboard/data/models/logistic_regression_v3.pkl')"
      ],
      "execution_count": 80,
      "outputs": []
    },
    {
      "cell_type": "code",
      "metadata": {
        "colab": {
          "base_uri": "https://localhost:8080/"
        },
        "id": "WPWPXFWM6zqg",
        "outputId": "7a0766eb-3ba9-45c0-f0d8-76cc36e715ea"
      },
      "source": [
        "model_lr.score(X_test, y_test)"
      ],
      "execution_count": 81,
      "outputs": [
        {
          "output_type": "execute_result",
          "data": {
            "text/plain": [
              "0.8248450133995836"
            ]
          },
          "metadata": {
            "tags": []
          },
          "execution_count": 81
        }
      ]
    },
    {
      "cell_type": "code",
      "metadata": {
        "id": "s5buvKzo6zqg"
      },
      "source": [
        "y_predicted = model_lr.predict(X_test)"
      ],
      "execution_count": 82,
      "outputs": []
    },
    {
      "cell_type": "code",
      "metadata": {
        "colab": {
          "base_uri": "https://localhost:8080/"
        },
        "id": "ELq0DWXb6zqg",
        "outputId": "4e9f2f5c-21fa-4a16-e20f-884a4aee7b1e"
      },
      "source": [
        "classification_report_mnb = classification_report(y_test, y_predicted)\r\n",
        "print(classification_report_mnb)"
      ],
      "execution_count": 83,
      "outputs": [
        {
          "output_type": "stream",
          "text": [
            "              precision    recall  f1-score   support\n",
            "\n",
            "           0       0.76      0.81      0.78     12542\n",
            "           1       0.76      0.82      0.79     19643\n",
            "           2       0.90      0.80      0.85     62135\n",
            "           3       0.81      0.82      0.81     36908\n",
            "           4       0.72      0.83      0.77     17223\n",
            "           5       0.64      0.77      0.70      4000\n",
            "           6       0.89      0.92      0.91     21435\n",
            "\n",
            "    accuracy                           0.82    173886\n",
            "   macro avg       0.78      0.82      0.80    173886\n",
            "weighted avg       0.83      0.82      0.83    173886\n",
            "\n"
          ],
          "name": "stdout"
        }
      ]
    },
    {
      "cell_type": "code",
      "metadata": {
        "colab": {
          "base_uri": "https://localhost:8080/",
          "height": 767
        },
        "id": "QBsqe8Mi6zqg",
        "outputId": "fde7be3b-539f-4b18-ae21-d09db0981f66"
      },
      "source": [
        "conf_matrix_df = pd.DataFrame(data=confusion_matrix(y_test, y_predicted),\r\n",
        "                              index=key_to_label_name, columns=key_to_label_name)\r\n",
        "\r\n",
        "plotConfusionMatrixHeatmap(conf_matrix_df, model_name='Logistic Regression', figsize=(12, 10))"
      ],
      "execution_count": 84,
      "outputs": [
        {
          "output_type": "display_data",
          "data": {
            "image/png": "[encoded data removed]",
            "text/plain": [
              "<Figure size 864x720 with 2 Axes>"
            ]
          },
          "metadata": {
            "tags": [],
            "needs_background": "light"
          }
        }
      ]
    },
    {
      "cell_type": "markdown",
      "metadata": {
        "id": "L_fuXDIV7Af8"
      },
      "source": [
        "### Random Forest Classifier"
      ]
    },
    {
      "cell_type": "code",
      "metadata": {
        "id": "xULsYR_V7Af9"
      },
      "source": [
        "# Loading model to compare the results\r\n",
        "model_rf = joblib.load('drive/MyDrive/Springboard/data/models/random_forest_v3.pkl')"
      ],
      "execution_count": 86,
      "outputs": []
    },
    {
      "cell_type": "code",
      "metadata": {
        "colab": {
          "base_uri": "https://localhost:8080/"
        },
        "id": "_3y-HJLl7Af9",
        "outputId": "fdec477a-699a-41f4-94b6-5a48b81bba76"
      },
      "source": [
        "model_rf.score(X_test, y_test)"
      ],
      "execution_count": 87,
      "outputs": [
        {
          "output_type": "execute_result",
          "data": {
            "text/plain": [
              "0.79714870662388"
            ]
          },
          "metadata": {
            "tags": []
          },
          "execution_count": 87
        }
      ]
    },
    {
      "cell_type": "code",
      "metadata": {
        "id": "_tOzPjP47Af9"
      },
      "source": [
        "y_predicted = model_rf.predict(X_test)"
      ],
      "execution_count": 88,
      "outputs": []
    },
    {
      "cell_type": "code",
      "metadata": {
        "colab": {
          "base_uri": "https://localhost:8080/"
        },
        "id": "_dEIU63A7Af-",
        "outputId": "4f328b9c-b12e-451b-ad4f-d7e41db896bd"
      },
      "source": [
        "classification_report_mnb = classification_report(y_test, y_predicted)\r\n",
        "print(classification_report_mnb)"
      ],
      "execution_count": 89,
      "outputs": [
        {
          "output_type": "stream",
          "text": [
            "              precision    recall  f1-score   support\n",
            "\n",
            "           0       0.77      0.74      0.75     12542\n",
            "           1       0.79      0.70      0.74     19643\n",
            "           2       0.77      0.92      0.84     62135\n",
            "           3       0.79      0.76      0.78     36908\n",
            "           4       0.85      0.60      0.71     17223\n",
            "           5       0.89      0.27      0.42      4000\n",
            "           6       0.90      0.87      0.88     21435\n",
            "\n",
            "    accuracy                           0.80    173886\n",
            "   macro avg       0.82      0.70      0.73    173886\n",
            "weighted avg       0.80      0.80      0.79    173886\n",
            "\n"
          ],
          "name": "stdout"
        }
      ]
    },
    {
      "cell_type": "code",
      "metadata": {
        "colab": {
          "base_uri": "https://localhost:8080/",
          "height": 767
        },
        "id": "kownQVy27Af-",
        "outputId": "616807ed-1ea6-4431-fd25-ea32bb66ec7c"
      },
      "source": [
        "conf_matrix_df = pd.DataFrame(data=confusion_matrix(y_test, y_predicted),\r\n",
        "                              index=key_to_label_name, columns=key_to_label_name)\r\n",
        "\r\n",
        "plotConfusionMatrixHeatmap(conf_matrix_df, model_name='Random Forest', figsize=(12, 10))"
      ],
      "execution_count": 90,
      "outputs": [
        {
          "output_type": "display_data",
          "data": {
            "image/png": "[encoded data removed]",
            "text/plain": [
              "<Figure size 864x720 with 2 Axes>"
            ]
          },
          "metadata": {
            "tags": [],
            "needs_background": "light"
          }
        }
      ]
    },
    {
      "cell_type": "code",
      "metadata": {
        "id": "-X189kO3-xwa"
      },
      "source": [
        ""
      ],
      "execution_count": null,
      "outputs": []
    }
  ]
}