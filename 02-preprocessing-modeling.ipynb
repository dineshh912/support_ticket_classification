{
 "cells": [
  {
   "cell_type": "code",
   "execution_count": 1,
   "metadata": {},
   "outputs": [],
   "source": [
    "import pandas as pd\n",
    "import numpy as np\n",
    "\n",
    "# NLP\n",
    "import string \n",
    "from nltk import word_tokenize\n",
    "from nltk.corpus import stopwords\n",
    "from nltk import WordNetLemmatizer\n",
    "from sklearn.feature_extraction.text import CountVectorizer, TfidfVectorizer\n",
    "\n",
    "# Preprocessing & Model Preparation\n",
    "from sklearn.pipeline import Pipeline\n",
    "from sklearn.model_selection import train_test_split, cross_val_score, GridSearchCV\n",
    "\n",
    "# Performance Evaluation\n",
    "from sklearn.metrics import confusion_matrix, classification_report"
   ]
  },
  {
   "cell_type": "code",
   "execution_count": 2,
   "metadata": {},
   "outputs": [],
   "source": [
    "# Loading data into pandas dataframe.\n",
    "file_location = '../../data/support_ticket.csv'\n",
    "\n",
    "df = pd.read_csv(file_location)"
   ]
  },
  {
   "cell_type": "code",
   "execution_count": 3,
   "metadata": {},
   "outputs": [
    {
     "data": {
      "text/plain": [
       "(579621, 12)"
      ]
     },
     "execution_count": 3,
     "metadata": {},
     "output_type": "execute_result"
    }
   ],
   "source": [
    "# shape of the dataframe\n",
    "df.shape"
   ]
  },
  {
   "cell_type": "code",
   "execution_count": 4,
   "metadata": {},
   "outputs": [
    {
     "data": {
      "text/plain": [
       "Index(['Unnamed: 0', 'full_text', 'submitted_via', 'sub_label', 'label',\n",
       "       'word_count', 'unique_word_count', 'stop_word_count', 'url_count',\n",
       "       'mean_word_length', 'char_count', 'punctuation_count'],\n",
       "      dtype='object')"
      ]
     },
     "execution_count": 4,
     "metadata": {},
     "output_type": "execute_result"
    }
   ],
   "source": [
    "# Columns in the dataframe\n",
    "df.columns"
   ]
  },
  {
   "cell_type": "code",
   "execution_count": 17,
   "metadata": {},
   "outputs": [],
   "source": [
    "# load english stop word list\n",
    "stop_word = set(stopwords.words('english')) "
   ]
  },
  {
   "cell_type": "code",
   "execution_count": 78,
   "metadata": {},
   "outputs": [
    {
     "name": "stdout",
     "output_type": "stream",
     "text": [
      "{'will', \"won't\", 'yours', \"aren't\", \"that'll\", 'doing', 'has', 'there', 'mustn', 'how', 'after', \"doesn't\", 'those', 'this', 'been', 'it', 'against', \"you're\", 'then', 'only', 'd', \"wouldn't\", 'over', 'an', 'and', 'each', 's', \"you'd\", 'y', 'does', 'yourself', \"weren't\", 'now', 'did', 'same', \"wasn't\", 'here', 'by', 'hasn', 'on', \"shan't\", 'itself', 'if', 'all', 'any', \"should've\", \"mustn't\", 'so', 'had', 'not', 'as', 'are', 'why', 'its', 'her', 'were', 'myself', 'once', 'm', 'theirs', 'nor', \"couldn't\", 'your', 'my', 'from', 'was', 'than', 'needn', 'hadn', \"mightn't\", 'aren', 'below', \"she's\", 'should', 'to', 'between', 'with', 'or', 'just', 'in', \"haven't\", \"it's\", 'themselves', 'such', 'shouldn', 'until', \"didn't\", 'up', 'is', 'don', 'we', 'own', 'their', 'isn', 'being', 'under', 'll', 'having', 'that', 'who', 'few', 'am', 'can', 'doesn', 'during', 't', 'but', 'wasn', 'them', 'have', 'at', 'what', 'ours', 'him', 'other', 'be', 'whom', 'because', 'through', 'he', 'out', 'yourselves', \"needn't\", 'they', 'a', 'won', 'about', 'our', 'some', 'mightn', 'hers', 'of', 'for', 'me', \"shouldn't\", \"don't\", 'again', 'too', 'no', \"hasn't\", 'down', 'couldn', 'when', 'most', 'while', 'do', 're', 'haven', 've', 'ain', 'more', 'the', 'didn', 'herself', 'into', 'she', 'both', 'you', 'i', 'where', \"hadn't\", 'ourselves', 'wouldn', 'further', 'ma', \"you've\", 'off', 'before', 'his', 'himself', 'very', 'which', \"isn't\", 'shan', 'weren', 'above', \"you'll\", 'these', 'o'}\n"
     ]
    }
   ],
   "source": [
    "print(stop_word)"
   ]
  },
  {
   "cell_type": "code",
   "execution_count": 18,
   "metadata": {},
   "outputs": [],
   "source": [
    "# https://www.geeksforgeeks.org/nlp-how-tokenizing-text-sentence-words-works/\n",
    "''' Tokenize a sentence into separate words, \n",
    "    and filter out words that are stopwords, punctuation, \n",
    "    numbers or have the form 'XXX' which indicates classified data.'''\n",
    "\n",
    "def tokenize_sentence(sentence: str, stop_words=True, punctuation=True, numbers=True, classified=True)->list:\n",
    "    \"\"\"\n",
    "    Tokenize a given string, and return the words as a list.\n",
    "    The function offers functionality to exclude the words that are either\n",
    "    1) a stopword 2) punctuation symbol 3) a number or 4) has the format 'XX'\n",
    "    or 'XXXX' indicates the words that classififed\n",
    "    \"\"\"\n",
    "    \n",
    "    tokenized = [x.lower() for x in word_tokenize(sentence)]\n",
    "    \n",
    "    if classified:\n",
    "        tokenized = [x for x in tokenized if x.lower() != 'xxxx' and\n",
    "                    x.lower() != 'xx' and x.lower() != 'xx/xx/xxxx']\n",
    "    \n",
    "    if stop_words:\n",
    "        tokenized = [x for x in tokenized if x not in stop_word]\n",
    "     \n",
    "    if punctuation:\n",
    "        tokenized = [x for x in tokenized if x not in string.punctuation]\n",
    "    \n",
    "    if numbers:\n",
    "        tokenized = [x for x in tokenized if not x.isdigit()]\n",
    "        \n",
    "    return tokenized"
   ]
  },
  {
   "cell_type": "code",
   "execution_count": 19,
   "metadata": {},
   "outputs": [],
   "source": [
    "df['full_text_tokenized'] = df.apply(lambda row : tokenize_sentence(row['full_text']), axis = 1)"
   ]
  },
  {
   "cell_type": "code",
   "execution_count": 20,
   "metadata": {},
   "outputs": [],
   "source": [
    "# https://nlp.stanford.edu/IR-book/html/htmledition/stemming-and-lemmatization-1.html\n",
    "# https://programmerbackpack.com/lemmatization-and-stemming-in-nlp-the-complete-practical-guide/\n",
    "def lemmatize_sentence(sentence, return_form = 'string'):\n",
    "    \"\"\"\n",
    "    Lemmatize a given string . \n",
    "    \n",
    "    Input:\n",
    "    ------\n",
    "        sentence: \n",
    "            Sentence that we want to lemmatize each word. The input can be\n",
    "            of the form of tokens (list) or the complete sentence (string).\n",
    "        return_form: \n",
    "            Format of the return function. Can be either a string\n",
    "            with the concatenated lemmatized words or a list of the \n",
    "            lemmatized words.\n",
    "    Returns:\n",
    "    -------\n",
    "        If join_string = True then the function returns the\n",
    "        lemmatized words as a sentence. Else it returns the words as a list.\n",
    "    \"\"\"\n",
    "    # Handle the case where the input is the string without being tokenized\n",
    "    if type(sentence) != list:\n",
    "        sentence = re.findall(r\"[\\w']+|[.,!?;]\", sentence)\n",
    "\n",
    "    lemmatizer = WordNetLemmatizer()\n",
    "    if return_form == 'string':\n",
    "        return ' '.join([lemmatizer.lemmatize(word) for word in sentence])\n",
    "    else:\n",
    "        return [lemmatizer.lemmatize(word) for word in sentence]"
   ]
  },
  {
   "cell_type": "code",
   "execution_count": 22,
   "metadata": {},
   "outputs": [],
   "source": [
    "df['full_text_lemmatized'] = df.apply(lambda row : lemmatize_sentence(row['full_text_tokenized']), axis = 1)"
   ]
  },
  {
   "cell_type": "code",
   "execution_count": 6,
   "metadata": {},
   "outputs": [],
   "source": [
    "import os"
   ]
  },
  {
   "cell_type": "code",
   "execution_count": 7,
   "metadata": {},
   "outputs": [],
   "source": [
    "# Pickle the file so we do not need to reprocess each time\n",
    "pickle_df_filename = 'data_processed.pkl'\n",
    "pickled_file_loc = os.path.join('../../data/', pickle_df_filename)"
   ]
  },
  {
   "cell_type": "code",
   "execution_count": 27,
   "metadata": {},
   "outputs": [],
   "source": [
    "# df to pickle\n",
    "df.to_pickle(pickled_file_loc)"
   ]
  },
  {
   "cell_type": "code",
   "execution_count": 8,
   "metadata": {},
   "outputs": [],
   "source": [
    "# pickled file to df\n",
    "df_processed = pd.read_pickle(pickled_file_loc)"
   ]
  },
  {
   "cell_type": "code",
   "execution_count": 29,
   "metadata": {},
   "outputs": [],
   "source": [
    "# Encodeing label into numerical category\n",
    "# https://scikit-learn.org/stable/modules/generated/sklearn.preprocessing.LabelEncoder.html\n",
    "# https://towardsdatascience.com/categorical-encoding-using-label-encoding-and-one-hot-encoder-911ef77fb5bd\n",
    "from sklearn.preprocessing import LabelEncoder\n",
    "\n",
    "label_encoder = LabelEncoder()\n",
    "\n",
    "df_processed['label_id'] = label_encoder.fit_transform(df_processed['label'])"
   ]
  },
  {
   "cell_type": "code",
   "execution_count": 30,
   "metadata": {},
   "outputs": [
    {
     "data": {
      "text/plain": [
       "{7: 'Debt collection',\n",
       " 6: 'Credit reporting, credit repair services, or other personal consumer reports',\n",
       " 4: 'Credit card or prepaid card',\n",
       " 1: 'Checking or savings account',\n",
       " 8: 'Money transfer, virtual currency, or money service',\n",
       " 16: 'Vehicle loan or lease',\n",
       " 10: 'Mortgage',\n",
       " 15: 'Student loan',\n",
       " 3: 'Credit card',\n",
       " 13: 'Payday loan, title loan, or personal loan',\n",
       " 2: 'Consumer Loan',\n",
       " 12: 'Payday loan',\n",
       " 5: 'Credit reporting',\n",
       " 11: 'Other financial service',\n",
       " 0: 'Bank account or service',\n",
       " 9: 'Money transfers',\n",
       " 14: 'Prepaid card',\n",
       " 17: 'Virtual currency'}"
      ]
     },
     "execution_count": 30,
     "metadata": {},
     "output_type": "execute_result"
    }
   ],
   "source": [
    "# Put the label category into dict for future use\n",
    "label_map = df_processed.set_index('label_id').to_dict()['label']\n",
    "label_map"
   ]
  },
  {
   "cell_type": "code",
   "execution_count": 9,
   "metadata": {},
   "outputs": [
    {
     "data": {
      "text/html": [
       "<div>\n",
       "<style scoped>\n",
       "    .dataframe tbody tr th:only-of-type {\n",
       "        vertical-align: middle;\n",
       "    }\n",
       "\n",
       "    .dataframe tbody tr th {\n",
       "        vertical-align: top;\n",
       "    }\n",
       "\n",
       "    .dataframe thead th {\n",
       "        text-align: right;\n",
       "    }\n",
       "</style>\n",
       "<table border=\"1\" class=\"dataframe\">\n",
       "  <thead>\n",
       "    <tr style=\"text-align: right;\">\n",
       "      <th></th>\n",
       "      <th>Unnamed: 0</th>\n",
       "      <th>full_text</th>\n",
       "      <th>submitted_via</th>\n",
       "      <th>sub_label</th>\n",
       "      <th>label</th>\n",
       "      <th>word_count</th>\n",
       "      <th>unique_word_count</th>\n",
       "      <th>stop_word_count</th>\n",
       "      <th>url_count</th>\n",
       "      <th>mean_word_length</th>\n",
       "      <th>char_count</th>\n",
       "      <th>punctuation_count</th>\n",
       "      <th>full_text_tokenized</th>\n",
       "      <th>full_text_lemmatized</th>\n",
       "    </tr>\n",
       "  </thead>\n",
       "  <tbody>\n",
       "    <tr>\n",
       "      <th>0</th>\n",
       "      <td>0</td>\n",
       "      <td>transworld systems inc. \\nis trying to collect...</td>\n",
       "      <td>Web</td>\n",
       "      <td>I do not know</td>\n",
       "      <td>Debt collection</td>\n",
       "      <td>18</td>\n",
       "      <td>15</td>\n",
       "      <td>9</td>\n",
       "      <td>0</td>\n",
       "      <td>4.444444</td>\n",
       "      <td>98</td>\n",
       "      <td>3</td>\n",
       "      <td>[transworld, systems, inc., trying, collect, d...</td>\n",
       "      <td>transworld system inc. trying collect debt min...</td>\n",
       "    </tr>\n",
       "    <tr>\n",
       "      <th>1</th>\n",
       "      <td>1</td>\n",
       "      <td>Incorrect information on your report-Informati...</td>\n",
       "      <td>Web</td>\n",
       "      <td>Credit reporting</td>\n",
       "      <td>Credit reporting, credit repair services, or o...</td>\n",
       "      <td>9</td>\n",
       "      <td>9</td>\n",
       "      <td>4</td>\n",
       "      <td>0</td>\n",
       "      <td>7.111111</td>\n",
       "      <td>72</td>\n",
       "      <td>1</td>\n",
       "      <td>[incorrect, information, report-information, b...</td>\n",
       "      <td>incorrect information report-information belon...</td>\n",
       "    </tr>\n",
       "    <tr>\n",
       "      <th>2</th>\n",
       "      <td>2</td>\n",
       "      <td>Over the past 2 weeks, I have been receiving e...</td>\n",
       "      <td>Web</td>\n",
       "      <td>I do not know</td>\n",
       "      <td>Debt collection</td>\n",
       "      <td>78</td>\n",
       "      <td>54</td>\n",
       "      <td>43</td>\n",
       "      <td>0</td>\n",
       "      <td>4.076923</td>\n",
       "      <td>395</td>\n",
       "      <td>5</td>\n",
       "      <td>[past, weeks, receiving, excessive, amounts, t...</td>\n",
       "      <td>past week receiving excessive amount telephone...</td>\n",
       "    </tr>\n",
       "    <tr>\n",
       "      <th>3</th>\n",
       "      <td>3</td>\n",
       "      <td>Pioneer has committed several federal violatio...</td>\n",
       "      <td>Web</td>\n",
       "      <td>Other debt</td>\n",
       "      <td>Debt collection</td>\n",
       "      <td>152</td>\n",
       "      <td>96</td>\n",
       "      <td>41</td>\n",
       "      <td>0</td>\n",
       "      <td>4.611842</td>\n",
       "      <td>852</td>\n",
       "      <td>40</td>\n",
       "      <td>[pioneer, committed, several, federal, violati...</td>\n",
       "      <td>pioneer committed several federal violation pr...</td>\n",
       "    </tr>\n",
       "    <tr>\n",
       "      <th>4</th>\n",
       "      <td>5</td>\n",
       "      <td>Problem with a credit reporting company's inve...</td>\n",
       "      <td>Web</td>\n",
       "      <td>Credit reporting</td>\n",
       "      <td>Credit reporting, credit repair services, or o...</td>\n",
       "      <td>20</td>\n",
       "      <td>18</td>\n",
       "      <td>9</td>\n",
       "      <td>0</td>\n",
       "      <td>5.850000</td>\n",
       "      <td>136</td>\n",
       "      <td>2</td>\n",
       "      <td>[problem, credit, reporting, company, 's, inve...</td>\n",
       "      <td>problem credit reporting company 's investigat...</td>\n",
       "    </tr>\n",
       "  </tbody>\n",
       "</table>\n",
       "</div>"
      ],
      "text/plain": [
       "   Unnamed: 0                                          full_text  \\\n",
       "0           0  transworld systems inc. \\nis trying to collect...   \n",
       "1           1  Incorrect information on your report-Informati...   \n",
       "2           2  Over the past 2 weeks, I have been receiving e...   \n",
       "3           3  Pioneer has committed several federal violatio...   \n",
       "4           5  Problem with a credit reporting company's inve...   \n",
       "\n",
       "  submitted_via         sub_label  \\\n",
       "0           Web     I do not know   \n",
       "1           Web  Credit reporting   \n",
       "2           Web     I do not know   \n",
       "3           Web        Other debt   \n",
       "4           Web  Credit reporting   \n",
       "\n",
       "                                               label  word_count  \\\n",
       "0                                    Debt collection          18   \n",
       "1  Credit reporting, credit repair services, or o...           9   \n",
       "2                                    Debt collection          78   \n",
       "3                                    Debt collection         152   \n",
       "4  Credit reporting, credit repair services, or o...          20   \n",
       "\n",
       "   unique_word_count  stop_word_count  url_count  mean_word_length  \\\n",
       "0                 15                9          0          4.444444   \n",
       "1                  9                4          0          7.111111   \n",
       "2                 54               43          0          4.076923   \n",
       "3                 96               41          0          4.611842   \n",
       "4                 18                9          0          5.850000   \n",
       "\n",
       "   char_count  punctuation_count  \\\n",
       "0          98                  3   \n",
       "1          72                  1   \n",
       "2         395                  5   \n",
       "3         852                 40   \n",
       "4         136                  2   \n",
       "\n",
       "                                 full_text_tokenized  \\\n",
       "0  [transworld, systems, inc., trying, collect, d...   \n",
       "1  [incorrect, information, report-information, b...   \n",
       "2  [past, weeks, receiving, excessive, amounts, t...   \n",
       "3  [pioneer, committed, several, federal, violati...   \n",
       "4  [problem, credit, reporting, company, 's, inve...   \n",
       "\n",
       "                                full_text_lemmatized  \n",
       "0  transworld system inc. trying collect debt min...  \n",
       "1  incorrect information report-information belon...  \n",
       "2  past week receiving excessive amount telephone...  \n",
       "3  pioneer committed several federal violation pr...  \n",
       "4  problem credit reporting company 's investigat...  "
      ]
     },
     "execution_count": 9,
     "metadata": {},
     "output_type": "execute_result"
    }
   ],
   "source": [
    "# examine first few rows\n",
    "df_processed.head()"
   ]
  },
  {
   "cell_type": "code",
   "execution_count": 35,
   "metadata": {},
   "outputs": [],
   "source": [
    "# Select X & y data from dataframe\n",
    "X = df_processed['full_text_lemmatized']\n",
    "y = df_processed['label_id']"
   ]
  },
  {
   "cell_type": "code",
   "execution_count": 37,
   "metadata": {},
   "outputs": [],
   "source": [
    "# Split train test data with 80:20 ratio\n",
    "X_train, X_test, y_train, y_test = train_test_split(X, y, test_size=0.2, random_state=42, stratify=y)"
   ]
  },
  {
   "cell_type": "code",
   "execution_count": 38,
   "metadata": {},
   "outputs": [
    {
     "data": {
      "text/plain": [
       "label_id\n",
       "0      11897\n",
       "1      21372\n",
       "2       7555\n",
       "3      15005\n",
       "4      36142\n",
       "5      23949\n",
       "6     141489\n",
       "7      98849\n",
       "8       9206\n",
       "9       1197\n",
       "10     56673\n",
       "11       233\n",
       "12      1392\n",
       "13      6721\n",
       "14      1158\n",
       "15     21904\n",
       "16      8943\n",
       "17        11\n",
       "Name: label_id, dtype: int64"
      ]
     },
     "execution_count": 38,
     "metadata": {},
     "output_type": "execute_result"
    }
   ],
   "source": [
    "# Check how many observation on each categories\n",
    "y_train.groupby(y_train).count()"
   ]
  },
  {
   "cell_type": "code",
   "execution_count": 42,
   "metadata": {},
   "outputs": [],
   "source": [
    "import matplotlib.pyplot as plt\n",
    "import seaborn as sns"
   ]
  },
  {
   "cell_type": "code",
   "execution_count": 44,
   "metadata": {},
   "outputs": [
    {
     "data": {
      "image/png": "[encoded data removed]",
      "text/plain": [
       "<Figure size 720x576 with 2 Axes>"
      ]
     },
     "metadata": {
      "needs_background": "light"
     },
     "output_type": "display_data"
    }
   ],
   "source": [
    "# Plot the observation to visualize\n",
    "fig, (ax1, ax2) = plt.subplots(1, 2, figsize=(10, 8))\n",
    "sns.barplot(x=sorted(y_train.unique()), y=y_train.groupby(y_train).count(), ax=ax1).set_title('Number of Data - Training Set')\n",
    "sns.barplot(x=sorted(y_test.unique()), y=y_test.groupby(y_test).count(), ax=ax2).set_title('Number of data - Test Set')\n",
    "fig.tight_layout()\n",
    "plt.show()"
   ]
  },
  {
   "cell_type": "code",
   "execution_count": 44,
   "metadata": {},
   "outputs": [],
   "source": [
    "# Classifiers\n",
    "from sklearn.linear_model import SGDClassifier\n",
    "from sklearn.naive_bayes import MultinomialNB"
   ]
  },
  {
   "cell_type": "code",
   "execution_count": null,
   "metadata": {},
   "outputs": [],
   "source": [
    "# https://towardsdatascience.com/multinomial-naive-bayes-classifier-for-text-analysis-python-8dd6825ece67\n",
    "# https://www.freecodecamp.org/news/how-to-extract-keywords-from-text-with-tf-idf-and-pythons-scikit-learn-b2a0f3d7e667/\n",
    "# https://towardsdatascience.com/natural-language-processing-feature-engineering-using-tf-idf-e8b9d00e7e76"
   ]
  },
  {
   "cell_type": "code",
   "execution_count": 47,
   "metadata": {},
   "outputs": [],
   "source": [
    "# Multinomial Naive Bayes model\n",
    "pipeline_mnb = Pipeline(steps = [('TfIdf', TfidfVectorizer()),\n",
    "                              ('MultinomialNB', MultinomialNB())])"
   ]
  },
  {
   "cell_type": "code",
   "execution_count": 48,
   "metadata": {},
   "outputs": [],
   "source": [
    "# Parameter values to test\n",
    "param_grid = {\n",
    " 'TfIdf__max_features' : [5000, 6000, 7000],\n",
    " 'TfIdf__ngram_range' : [(1,1)],\n",
    " 'TfIdf__use_idf' : [True],\n",
    " 'MultinomialNB__alpha' : [0.01, 0.02, 0.05, 0.10]\n",
    "}"
   ]
  },
  {
   "cell_type": "code",
   "execution_count": 49,
   "metadata": {},
   "outputs": [],
   "source": [
    "grid_search_mnb = GridSearchCV(pipeline_mnb, param_grid, cv=5, verbose=1, n_jobs=6)"
   ]
  },
  {
   "cell_type": "code",
   "execution_count": 50,
   "metadata": {},
   "outputs": [
    {
     "name": "stdout",
     "output_type": "stream",
     "text": [
      "Fitting 5 folds for each of 12 candidates, totalling 60 fits\n"
     ]
    },
    {
     "name": "stderr",
     "output_type": "stream",
     "text": [
      "[Parallel(n_jobs=6)]: Using backend LokyBackend with 6 concurrent workers.\n",
      "[Parallel(n_jobs=6)]: Done  38 tasks      | elapsed: 13.0min\n",
      "[Parallel(n_jobs=6)]: Done  60 out of  60 | elapsed: 19.5min finished\n"
     ]
    },
    {
     "data": {
      "text/plain": [
       "GridSearchCV(cv=5,\n",
       "             estimator=Pipeline(steps=[('TfIdf', TfidfVectorizer()),\n",
       "                                       ('MultinomialNB', MultinomialNB())]),\n",
       "             n_jobs=6,\n",
       "             param_grid={'MultinomialNB__alpha': [0.01, 0.02, 0.05, 0.1],\n",
       "                         'TfIdf__max_features': [5000, 6000, 7000],\n",
       "                         'TfIdf__ngram_range': [(1, 1)],\n",
       "                         'TfIdf__use_idf': [True]},\n",
       "             verbose=1)"
      ]
     },
     "execution_count": 50,
     "metadata": {},
     "output_type": "execute_result"
    }
   ],
   "source": [
    "grid_search_mnb.fit(X_train, y_train)"
   ]
  },
  {
   "cell_type": "code",
   "execution_count": 51,
   "metadata": {},
   "outputs": [
    {
     "data": {
      "text/plain": [
       "{'MultinomialNB__alpha': 0.05,\n",
       " 'TfIdf__max_features': 7000,\n",
       " 'TfIdf__ngram_range': (1, 1),\n",
       " 'TfIdf__use_idf': True}"
      ]
     },
     "execution_count": 51,
     "metadata": {},
     "output_type": "execute_result"
    }
   ],
   "source": [
    "grid_search_mnb.best_params_"
   ]
  },
  {
   "cell_type": "code",
   "execution_count": 52,
   "metadata": {},
   "outputs": [
    {
     "data": {
      "text/plain": [
       "Pipeline(steps=[('TfIdf', TfidfVectorizer(max_features=7000)),\n",
       "                ('MultinomialNB', MultinomialNB(alpha=0.05))])"
      ]
     },
     "execution_count": 52,
     "metadata": {},
     "output_type": "execute_result"
    }
   ],
   "source": [
    "grid_search_mnb.best_estimator_"
   ]
  },
  {
   "cell_type": "code",
   "execution_count": 53,
   "metadata": {},
   "outputs": [
    {
     "data": {
      "text/plain": [
       "0.7106922579253828"
      ]
     },
     "execution_count": 53,
     "metadata": {},
     "output_type": "execute_result"
    }
   ],
   "source": [
    "grid_search_mnb.score(X_test, y_test)"
   ]
  },
  {
   "cell_type": "code",
   "execution_count": 54,
   "metadata": {},
   "outputs": [],
   "source": [
    "predicted = grid_search_mnb.predict(X)\n",
    "df_processed['Predicted_Category_MNB'] = predicted"
   ]
  },
  {
   "cell_type": "code",
   "execution_count": 55,
   "metadata": {},
   "outputs": [],
   "source": [
    "y_predicted = grid_search_mnb.predict(X_test)"
   ]
  },
  {
   "cell_type": "code",
   "execution_count": 57,
   "metadata": {},
   "outputs": [],
   "source": [
    "key_to_label_name = [x[1] for x in sorted(label_map.items())]"
   ]
  },
  {
   "cell_type": "code",
   "execution_count": 58,
   "metadata": {},
   "outputs": [
    {
     "name": "stderr",
     "output_type": "stream",
     "text": [
      "e:\\springboard\\works\\support_ticket_label_classification\\venv\\lib\\site-packages\\sklearn\\metrics\\_classification.py:1221: UndefinedMetricWarning: Precision and F-score are ill-defined and being set to 0.0 in labels with no predicted samples. Use `zero_division` parameter to control this behavior.\n",
      "  _warn_prf(average, modifier, msg_start, len(result))\n"
     ]
    },
    {
     "name": "stdout",
     "output_type": "stream",
     "text": [
      "                                                                              precision    recall  f1-score   support\n",
      "\n",
      "                                                     Bank account or service       0.68      0.16      0.26      2974\n",
      "                                                 Checking or savings account       0.58      0.71      0.64      5343\n",
      "                                                               Consumer Loan       0.49      0.09      0.15      1889\n",
      "                                                                 Credit card       0.74      0.07      0.12      3752\n",
      "                                                 Credit card or prepaid card       0.55      0.75      0.64      9036\n",
      "                                                            Credit reporting       0.76      0.03      0.06      5987\n",
      "Credit reporting, credit repair services, or other personal consumer reports       0.69      0.86      0.77     35373\n",
      "                                                             Debt collection       0.78      0.79      0.78     24712\n",
      "                          Money transfer, virtual currency, or money service       0.72      0.63      0.67      2301\n",
      "                                                             Money transfers       0.62      0.06      0.11       299\n",
      "                                                                    Mortgage       0.82      0.94      0.88     14168\n",
      "                                                     Other financial service       0.00      0.00      0.00        58\n",
      "                                                                 Payday loan       0.65      0.04      0.07       348\n",
      "                                   Payday loan, title loan, or personal loan       0.58      0.21      0.31      1680\n",
      "                                                                Prepaid card       0.78      0.25      0.38       290\n",
      "                                                                Student loan       0.83      0.81      0.82      5476\n",
      "                                                       Vehicle loan or lease       0.52      0.48      0.50      2236\n",
      "                                                            Virtual currency       0.00      0.00      0.00         3\n",
      "\n",
      "                                                                    accuracy                           0.71    115925\n",
      "                                                                   macro avg       0.60      0.38      0.40    115925\n",
      "                                                                weighted avg       0.71      0.71      0.67    115925\n",
      "\n"
     ]
    }
   ],
   "source": [
    "classification_report_mnb = classification_report(y_test, y_predicted, target_names=key_to_label_name)\n",
    "print(classification_report_mnb)"
   ]
  },
  {
   "cell_type": "code",
   "execution_count": 59,
   "metadata": {},
   "outputs": [],
   "source": [
    "def plotConfusionMatrixHeatmap(input_df: pd.core.frame.DataFrame, model_name: str, figsize=(20, 18)):\n",
    "    \"\"\"\n",
    "    Return the results of a multiclass classification algorithms as a heatmap\n",
    "    based on a confusion matrix.        \n",
    "    \"\"\"\n",
    "    # Heatmap of the results\n",
    "    plt.figure(figsize=figsize)\n",
    "    sns.heatmap(input_df, annot=True, fmt='d', cmap='Reds')\n",
    "    plt.ylabel('True', fontweight='bold')\n",
    "    plt.xlabel('Predicted', fontweight='bold')\n",
    "    plt.title(f'Confusion Matrix - {model_name}', size=14, fontweight='bold')\n",
    "    plt.show()"
   ]
  },
  {
   "cell_type": "code",
   "execution_count": 61,
   "metadata": {},
   "outputs": [
    {
     "data": {
      "image/png": "[encoded data removed]",
      "text/plain": [
       "<Figure size 864x720 with 2 Axes>"
      ]
     },
     "metadata": {
      "needs_background": "light"
     },
     "output_type": "display_data"
    }
   ],
   "source": [
    "conf_matrix_df = pd.DataFrame(data=confusion_matrix(y_test, y_predicted),\n",
    "                              index=key_to_label_name, columns=key_to_label_name)\n",
    "\n",
    "plotConfusionMatrixHeatmap(conf_matrix_df, model_name='Multinomial Naive Bayes', figsize=(12, 10))"
   ]
  },
  {
   "cell_type": "code",
   "execution_count": 62,
   "metadata": {},
   "outputs": [],
   "source": [
    "# https://michael-fuchs-python.netlify.app/2019/11/11/introduction-to-sgd-classifier/\n",
    "pipeline_lsvm = Pipeline(steps= [('TfIdf', TfidfVectorizer()),\n",
    "                                 ('SGDC', SGDClassifier(verbose=1, random_state=42))])"
   ]
  },
  {
   "cell_type": "code",
   "execution_count": 63,
   "metadata": {},
   "outputs": [],
   "source": [
    "# Parameter values to test\n",
    "param_grid = {\n",
    " 'TfIdf__max_features' : [None, 200, 300, 400],\n",
    " 'TfIdf__ngram_range' : [(1,1)],\n",
    " 'TfIdf__use_idf' : [True],\n",
    " 'SGDC__loss' : ['hinge'],\n",
    " 'SGDC__alpha' : [0.001, 0.01, 0.05, 0.1]\n",
    "}"
   ]
  },
  {
   "cell_type": "code",
   "execution_count": 64,
   "metadata": {},
   "outputs": [],
   "source": [
    "grid_search_svc = GridSearchCV(pipeline_lsvm, param_grid, cv=10, verbose=1, n_jobs=6)"
   ]
  },
  {
   "cell_type": "code",
   "execution_count": 65,
   "metadata": {},
   "outputs": [
    {
     "name": "stdout",
     "output_type": "stream",
     "text": [
      "Fitting 10 folds for each of 16 candidates, totalling 160 fits\n"
     ]
    },
    {
     "name": "stderr",
     "output_type": "stream",
     "text": [
      "[Parallel(n_jobs=6)]: Using backend LokyBackend with 6 concurrent workers.\n",
      "[Parallel(n_jobs=6)]: Done  38 tasks      | elapsed: 17.9min\n",
      "[Parallel(n_jobs=6)]: Done 160 out of 160 | elapsed: 70.2min finished\n",
      "[Parallel(n_jobs=1)]: Using backend SequentialBackend with 1 concurrent workers.\n"
     ]
    },
    {
     "name": "stdout",
     "output_type": "stream",
     "text": [
      "-- Epoch 1\n",
      "Norm: 0.33, NNZs: 27541, Bias: -1.004592, T: 463696, Avg. loss: 0.051451\n",
      "Total training time: 0.39 seconds.\n",
      "-- Epoch 2\n",
      "Norm: 0.30, NNZs: 30414, Bias: -1.003056, T: 927392, Avg. loss: 0.051268\n",
      "Total training time: 0.67 seconds.\n",
      "-- Epoch 3\n",
      "Norm: 0.29, NNZs: 31767, Bias: -1.002476, T: 1391088, Avg. loss: 0.051259\n",
      "Total training time: 1.00 seconds.\n",
      "-- Epoch 4\n",
      "Norm: 0.28, NNZs: 32584, Bias: -1.002089, T: 1854784, Avg. loss: 0.051254\n",
      "Total training time: 1.27 seconds.\n",
      "-- Epoch 5\n",
      "Norm: 0.28, NNZs: 33116, Bias: -1.001856, T: 2318480, Avg. loss: 0.051252\n",
      "Total training time: 1.55 seconds.\n",
      "-- Epoch 6\n",
      "Norm: 0.28, NNZs: 33510, Bias: -1.001705, T: 2782176, Avg. loss: 0.051251\n",
      "Total training time: 1.83 seconds.\n",
      "Convergence after 6 epochs took 1.84 seconds\n",
      "-- Epoch 1\n",
      "Norm: 1.17, NNZs: 35649, Bias: -1.047169, T: 463696, Avg. loss: 0.091179\n",
      "Total training time: 0.28 seconds.\n",
      "-- Epoch 2\n",
      "Norm: 1.13, NNZs: 36844, Bias: -1.043991, T: 927392, Avg. loss: 0.091014\n",
      "Total training time: 0.63 seconds.\n",
      "-- Epoch 3\n",
      "Norm: 1.12, NNZs: 37020, Bias: -1.042470, T: 1391088, Avg. loss: 0.091020\n",
      "Total training time: 0.92 seconds.\n",
      "-- Epoch 4\n",
      "Norm: 1.11, NNZs: 37146, Bias: -1.042051, T: 1854784, Avg. loss: 0.091020\n",
      "Total training time: 1.23 seconds.\n",
      "-- Epoch 5\n",
      "Norm: 1.10, NNZs: 37184, Bias: -1.041078, T: 2318480, Avg. loss: 0.091023\n",
      "Total training time: 1.54 seconds.\n",
      "-- Epoch 6\n",
      "Norm: 1.10, NNZs: 37212, Bias: -1.040884, T: 2782176, Avg. loss: 0.091021\n",
      "Total training time: 1.82 seconds.\n",
      "Convergence after 6 epochs took 1.82 seconds\n",
      "-- Epoch 1\n",
      "Norm: 0.14, NNZs: 21914, Bias: -1.002977, T: 463696, Avg. loss: 0.032741\n",
      "Total training time: 0.30 seconds.\n",
      "-- Epoch 2\n",
      "Norm: 0.11, NNZs: 24930, Bias: -1.001798, T: 927392, Avg. loss: 0.032601\n",
      "Total training time: 0.57 seconds.\n",
      "-- Epoch 3\n",
      "Norm: 0.10, NNZs: 26730, Bias: -1.001274, T: 1391088, Avg. loss: 0.032593\n",
      "Total training time: 0.85 seconds.\n",
      "-- Epoch 4\n",
      "Norm: 0.09, NNZs: 27883, Bias: -1.001110, T: 1854784, Avg. loss: 0.032590\n",
      "Total training time: 1.12 seconds.\n",
      "-- Epoch 5\n",
      "Norm: 0.08, NNZs: 28895, Bias: -1.000958, T: 2318480, Avg. loss: 0.032588\n",
      "Total training time: 1.41 seconds.\n",
      "-- Epoch 6\n",
      "Norm: 0.08, NNZs: 29626, Bias: -1.000817, T: 2782176, Avg. loss: 0.032587\n",
      "Total training time: 1.70 seconds.\n",
      "Convergence after 6 epochs took 1.70 seconds\n",
      "-- Epoch 1\n",
      "Norm: 0.25, NNZs: 28356, Bias: -1.003891, T: 463696, Avg. loss: 0.064999\n",
      "Total training time: 0.30 seconds.\n",
      "-- Epoch 2\n",
      "Norm: 0.20, NNZs: 31528, Bias: -1.002424, T: 927392, Avg. loss: 0.064733\n",
      "Total training time: 0.57 seconds.\n",
      "-- Epoch 3\n",
      "Norm: 0.19, NNZs: 33533, Bias: -1.001726, T: 1391088, Avg. loss: 0.064718\n",
      "Total training time: 0.90 seconds.\n",
      "-- Epoch 4\n",
      "Norm: 0.18, NNZs: 34636, Bias: -1.001406, T: 1854784, Avg. loss: 0.064712\n",
      "Total training time: 1.18 seconds.\n",
      "-- Epoch 5\n",
      "Norm: 0.17, NNZs: 35421, Bias: -1.001241, T: 2318480, Avg. loss: 0.064709\n",
      "Total training time: 1.47 seconds.\n",
      "-- Epoch 6\n",
      "Norm: 0.17, NNZs: 36011, Bias: -1.001101, T: 2782176, Avg. loss: 0.064707\n",
      "Total training time: 1.75 seconds.\n",
      "Convergence after 6 epochs took 1.75 seconds\n",
      "-- Epoch 1\n",
      "Norm: 1.65, NNZs: 44927, Bias: -1.048179, T: 463696, Avg. loss: 0.153566\n",
      "Total training time: 0.28 seconds.\n",
      "-- Epoch 2\n",
      "Norm: 1.60, NNZs: 46059, Bias: -1.044262, T: 927392, Avg. loss: 0.153492\n",
      "Total training time: 0.57 seconds.\n",
      "-- Epoch 3\n",
      "Norm: 1.58, NNZs: 46354, Bias: -1.042105, T: 1391088, Avg. loss: 0.153519\n",
      "Total training time: 0.86 seconds.\n",
      "-- Epoch 4\n",
      "Norm: 1.57, NNZs: 46444, Bias: -1.041088, T: 1854784, Avg. loss: 0.153523\n",
      "Total training time: 1.16 seconds.\n",
      "-- Epoch 5\n",
      "Norm: 1.56, NNZs: 46522, Bias: -1.040650, T: 2318480, Avg. loss: 0.153528\n",
      "Total training time: 1.45 seconds.\n",
      "-- Epoch 6\n",
      "Norm: 1.56, NNZs: 46555, Bias: -1.040031, T: 2782176, Avg. loss: 0.153532\n",
      "Total training time: 1.74 seconds.\n",
      "Convergence after 6 epochs took 1.74 seconds\n",
      "-- Epoch 1\n",
      "Norm: 0.26, NNZs: 27157, Bias: -1.002783, T: 463696, Avg. loss: 0.103797\n",
      "Total training time: 0.27 seconds.\n",
      "-- Epoch 2\n",
      "Norm: 0.20, NNZs: 30837, Bias: -1.001462, T: 927392, Avg. loss: 0.103340\n",
      "Total training time: 0.55 seconds.\n",
      "-- Epoch 3\n",
      "Norm: 0.18, NNZs: 32789, Bias: -1.001164, T: 1391088, Avg. loss: 0.103316\n",
      "Total training time: 0.82 seconds.\n",
      "-- Epoch 4\n",
      "Norm: 0.17, NNZs: 34263, Bias: -1.001010, T: 1854784, Avg. loss: 0.103306\n",
      "Total training time: 1.10 seconds.\n",
      "-- Epoch 5\n",
      "Norm: 0.16, NNZs: 35349, Bias: -1.000869, T: 2318480, Avg. loss: 0.103301\n",
      "Total training time: 1.37 seconds.\n",
      "-- Epoch 6\n",
      "Norm: 0.15, NNZs: 36055, Bias: -1.000686, T: 2782176, Avg. loss: 0.103297\n",
      "Total training time: 1.65 seconds.\n",
      "Convergence after 6 epochs took 1.65 seconds\n",
      "-- Epoch 1\n",
      "Norm: 10.32, NNZs: 71315, Bias: -0.874870, T: 463696, Avg. loss: 0.379645\n",
      "Total training time: 0.32 seconds.\n",
      "-- Epoch 2\n",
      "Norm: 10.32, NNZs: 72228, Bias: -0.877310, T: 927392, Avg. loss: 0.378576\n",
      "Total training time: 0.65 seconds.\n",
      "-- Epoch 3\n",
      "Norm: 10.33, NNZs: 72367, Bias: -0.876724, T: 1391088, Avg. loss: 0.378543\n",
      "Total training time: 0.97 seconds.\n",
      "-- Epoch 4\n",
      "Norm: 10.32, NNZs: 72426, Bias: -0.877537, T: 1854784, Avg. loss: 0.378400\n",
      "Total training time: 1.28 seconds.\n",
      "-- Epoch 5\n",
      "Norm: 10.32, NNZs: 72453, Bias: -0.877813, T: 2318480, Avg. loss: 0.378386\n",
      "Total training time: 1.62 seconds.\n",
      "-- Epoch 6\n",
      "Norm: 10.32, NNZs: 72464, Bias: -0.877766, T: 2782176, Avg. loss: 0.378461\n",
      "Total training time: 1.93 seconds.\n",
      "-- Epoch 7\n",
      "Norm: 10.33, NNZs: 72469, Bias: -0.877919, T: 3245872, Avg. loss: 0.378438\n",
      "Total training time: 2.25 seconds.\n",
      "Convergence after 7 epochs took 2.25 seconds\n",
      "-- Epoch 1\n",
      "Norm: 9.68, NNZs: 70180, Bias: -0.818545, T: 463696, Avg. loss: 0.267250\n",
      "Total training time: 0.32 seconds.\n",
      "-- Epoch 2\n",
      "Norm: 9.65, NNZs: 70981, Bias: -0.819316, T: 927392, Avg. loss: 0.266595\n",
      "Total training time: 0.63 seconds.\n",
      "-- Epoch 3\n",
      "Norm: 9.65, NNZs: 71096, Bias: -0.818384, T: 1391088, Avg. loss: 0.266610\n",
      "Total training time: 0.93 seconds.\n",
      "-- Epoch 4\n",
      "Norm: 9.65, NNZs: 71146, Bias: -0.819826, T: 1854784, Avg. loss: 0.266561\n",
      "Total training time: 1.24 seconds.\n",
      "-- Epoch 5\n",
      "Norm: 9.66, NNZs: 71176, Bias: -0.820951, T: 2318480, Avg. loss: 0.266556\n",
      "Total training time: 1.55 seconds.\n",
      "-- Epoch 6\n",
      "Norm: 9.65, NNZs: 71183, Bias: -0.819804, T: 2782176, Avg. loss: 0.266550\n",
      "Total training time: 1.86 seconds.\n",
      "Convergence after 6 epochs took 1.86 seconds\n",
      "-- Epoch 1\n",
      "Norm: 1.41, NNZs: 23371, Bias: -1.015737, T: 463696, Avg. loss: 0.037882\n",
      "Total training time: 0.26 seconds.\n",
      "-- Epoch 2\n",
      "Norm: 1.40, NNZs: 24507, Bias: -1.013672, T: 927392, Avg. loss: 0.037795\n",
      "Total training time: 0.53 seconds.\n",
      "-- Epoch 3\n",
      "Norm: 1.40, NNZs: 24719, Bias: -1.013185, T: 1391088, Avg. loss: 0.037783\n",
      "Total training time: 0.80 seconds.\n",
      "-- Epoch 4\n",
      "Norm: 1.39, NNZs: 24828, Bias: -1.012643, T: 1854784, Avg. loss: 0.037784\n",
      "Total training time: 1.07 seconds.\n",
      "-- Epoch 5\n",
      "Norm: 1.39, NNZs: 24869, Bias: -1.012177, T: 2318480, Avg. loss: 0.037790\n",
      "Total training time: 1.34 seconds.\n",
      "-- Epoch 6\n",
      "Norm: 1.39, NNZs: 24917, Bias: -1.012009, T: 2782176, Avg. loss: 0.037789\n",
      "Total training time: 1.61 seconds.\n",
      "Convergence after 6 epochs took 1.61 seconds\n",
      "-- Epoch 1\n",
      "Norm: 0.07, NNZs: 9694, Bias: -1.004246, T: 463696, Avg. loss: 0.005192\n",
      "Total training time: 0.26 seconds.\n",
      "-- Epoch 2\n",
      "Norm: 0.06, NNZs: 11117, Bias: -1.002795, T: 927392, Avg. loss: 0.005164\n",
      "Total training time: 0.54 seconds.\n",
      "-- Epoch 3\n",
      "Norm: 0.05, NNZs: 11949, Bias: -1.002083, T: 1391088, Avg. loss: 0.005163\n",
      "Total training time: 0.80 seconds.\n",
      "-- Epoch 4\n",
      "Norm: 0.05, NNZs: 12550, Bias: -1.001832, T: 1854784, Avg. loss: 0.005163\n",
      "Total training time: 1.07 seconds.\n",
      "-- Epoch 5\n",
      "Norm: 0.05, NNZs: 13010, Bias: -1.001636, T: 2318480, Avg. loss: 0.005162\n",
      "Total training time: 1.33 seconds.\n",
      "-- Epoch 6\n",
      "Norm: 0.05, NNZs: 13253, Bias: -1.001459, T: 2782176, Avg. loss: 0.005162\n",
      "Total training time: 1.59 seconds.\n",
      "Convergence after 6 epochs took 1.59 seconds\n",
      "-- Epoch 1\n",
      "Norm: 9.16, NNZs: 65667, Bias: -1.014496, T: 463696, Avg. loss: 0.127135\n",
      "Total training time: 0.30 seconds.\n",
      "-- Epoch 2\n",
      "Norm: 9.16, NNZs: 66526, Bias: -1.013909, T: 927392, Avg. loss: 0.127015\n",
      "Total training time: 0.60 seconds.\n",
      "-- Epoch 3\n",
      "Norm: 9.16, NNZs: 66691, Bias: -1.013866, T: 1391088, Avg. loss: 0.126926\n",
      "Total training time: 0.90 seconds.\n",
      "-- Epoch 4\n",
      "Norm: 9.16, NNZs: 66754, Bias: -1.013954, T: 1854784, Avg. loss: 0.126859\n",
      "Total training time: 1.19 seconds.\n",
      "-- Epoch 5\n",
      "Norm: 9.16, NNZs: 66790, Bias: -1.014414, T: 2318480, Avg. loss: 0.126812\n",
      "Total training time: 1.50 seconds.\n",
      "-- Epoch 6\n",
      "Norm: 9.16, NNZs: 66795, Bias: -1.013618, T: 2782176, Avg. loss: 0.126888\n",
      "Total training time: 1.80 seconds.\n",
      "Convergence after 6 epochs took 1.80 seconds\n",
      "-- Epoch 1\n",
      "Norm: 0.04, NNZs: 4548, Bias: -1.002666, T: 463696, Avg. loss: 0.001023\n",
      "Total training time: 0.26 seconds.\n",
      "-- Epoch 2\n",
      "Norm: 0.03, NNZs: 5452, Bias: -1.002000, T: 927392, Avg. loss: 0.001005\n",
      "Total training time: 0.52 seconds.\n",
      "-- Epoch 3\n",
      "Norm: 0.02, NNZs: 6091, Bias: -1.001581, T: 1391088, Avg. loss: 0.001005\n",
      "Total training time: 0.78 seconds.\n",
      "-- Epoch 4\n",
      "Norm: 0.02, NNZs: 6618, Bias: -1.001408, T: 1854784, Avg. loss: 0.001005\n",
      "Total training time: 1.05 seconds.\n",
      "-- Epoch 5\n",
      "Norm: 0.02, NNZs: 7182, Bias: -1.001282, T: 2318480, Avg. loss: 0.001005\n",
      "Total training time: 1.31 seconds.\n",
      "-- Epoch 6\n",
      "Norm: 0.02, NNZs: 7572, Bias: -1.001164, T: 2782176, Avg. loss: 0.001005\n",
      "Total training time: 1.57 seconds.\n",
      "Convergence after 6 epochs took 1.57 seconds\n",
      "-- Epoch 1\n",
      "Norm: 0.08, NNZs: 7876, Bias: -1.004661, T: 463696, Avg. loss: 0.006040\n",
      "Total training time: 0.26 seconds.\n",
      "-- Epoch 2\n",
      "Norm: 0.06, NNZs: 9149, Bias: -1.002753, T: 927392, Avg. loss: 0.006006\n",
      "Total training time: 0.53 seconds.\n",
      "-- Epoch 3\n",
      "Norm: 0.05, NNZs: 9834, Bias: -1.002006, T: 1391088, Avg. loss: 0.006005\n",
      "Total training time: 0.79 seconds.\n",
      "-- Epoch 4\n",
      "Norm: 0.05, NNZs: 10299, Bias: -1.001610, T: 1854784, Avg. loss: 0.006004\n",
      "Total training time: 1.05 seconds.\n",
      "-- Epoch 5\n",
      "Norm: 0.05, NNZs: 10728, Bias: -1.001397, T: 2318480, Avg. loss: 0.006004\n",
      "Total training time: 1.31 seconds.\n",
      "-- Epoch 6\n",
      "Norm: 0.05, NNZs: 11042, Bias: -1.001261, T: 2782176, Avg. loss: 0.006003\n",
      "Total training time: 1.58 seconds.\n",
      "Convergence after 6 epochs took 1.58 seconds\n",
      "-- Epoch 1\n",
      "Norm: 0.17, NNZs: 19958, Bias: -1.004772, T: 463696, Avg. loss: 0.029112\n",
      "Total training time: 0.27 seconds.\n",
      "-- Epoch 2\n",
      "Norm: 0.13, NNZs: 22598, Bias: -1.002983, T: 927392, Avg. loss: 0.028998\n",
      "Total training time: 0.53 seconds.\n",
      "-- Epoch 3\n",
      "Norm: 0.12, NNZs: 24151, Bias: -1.002264, T: 1391088, Avg. loss: 0.028991\n",
      "Total training time: 0.80 seconds.\n",
      "-- Epoch 4\n",
      "Norm: 0.11, NNZs: 25159, Bias: -1.001916, T: 1854784, Avg. loss: 0.028989\n",
      "Total training time: 1.07 seconds.\n",
      "-- Epoch 5\n",
      "Norm: 0.10, NNZs: 25959, Bias: -1.001720, T: 2318480, Avg. loss: 0.028987\n",
      "Total training time: 1.33 seconds.\n",
      "-- Epoch 6\n",
      "Norm: 0.10, NNZs: 26485, Bias: -1.001557, T: 2782176, Avg. loss: 0.028987\n",
      "Total training time: 1.60 seconds.\n",
      "Convergence after 6 epochs took 1.60 seconds\n",
      "-- Epoch 1\n",
      "Norm: 0.15, NNZs: 8235, Bias: -1.006350, T: 463696, Avg. loss: 0.005009\n",
      "Total training time: 0.27 seconds.\n",
      "-- Epoch 2\n",
      "Norm: 0.14, NNZs: 9335, Bias: -1.004776, T: 927392, Avg. loss: 0.004979\n",
      "Total training time: 0.53 seconds.\n",
      "-- Epoch 3\n",
      "Norm: 0.14, NNZs: 9820, Bias: -1.003986, T: 1391088, Avg. loss: 0.004978\n",
      "Total training time: 0.79 seconds.\n",
      "-- Epoch 4\n",
      "Norm: 0.14, NNZs: 10041, Bias: -1.003472, T: 1854784, Avg. loss: 0.004978\n",
      "Total training time: 1.06 seconds.\n",
      "-- Epoch 5\n",
      "Norm: 0.14, NNZs: 10239, Bias: -1.003195, T: 2318480, Avg. loss: 0.004978\n",
      "Total training time: 1.32 seconds.\n",
      "-- Epoch 6\n",
      "Norm: 0.14, NNZs: 10405, Bias: -1.002991, T: 2782176, Avg. loss: 0.004977\n",
      "Total training time: 1.61 seconds.\n",
      "Convergence after 6 epochs took 1.61 seconds\n",
      "-- Epoch 1\n",
      "Norm: 4.59, NNZs: 33677, Bias: -1.063086, T: 463696, Avg. loss: 0.072042\n",
      "Total training time: 0.29 seconds.\n",
      "-- Epoch 2\n",
      "Norm: 4.60, NNZs: 34360, Bias: -1.061834, T: 927392, Avg. loss: 0.072232\n",
      "Total training time: 0.56 seconds.\n",
      "-- Epoch 3\n",
      "Norm: 4.60, NNZs: 34473, Bias: -1.060514, T: 1391088, Avg. loss: 0.072209\n",
      "Total training time: 0.85 seconds.\n",
      "-- Epoch 4\n",
      "Norm: 4.60, NNZs: 34537, Bias: -1.060918, T: 1854784, Avg. loss: 0.072189\n",
      "Total training time: 1.12 seconds.\n",
      "-- Epoch 5\n",
      "Norm: 4.60, NNZs: 34559, Bias: -1.060783, T: 2318480, Avg. loss: 0.072177\n",
      "Total training time: 1.40 seconds.\n",
      "-- Epoch 6\n",
      "Norm: 4.60, NNZs: 34581, Bias: -1.060669, T: 2782176, Avg. loss: 0.072167\n",
      "Total training time: 1.70 seconds.\n",
      "Convergence after 6 epochs took 1.70 seconds\n",
      "-- Epoch 1\n",
      "Norm: 0.25, NNZs: 24073, Bias: -1.011944, T: 463696, Avg. loss: 0.038706\n",
      "Total training time: 0.27 seconds.\n",
      "-- Epoch 2\n",
      "Norm: 0.20, NNZs: 25828, Bias: -1.007558, T: 927392, Avg. loss: 0.038570\n",
      "Total training time: 0.54 seconds.\n",
      "-- Epoch 3\n",
      "Norm: 0.19, NNZs: 26602, Bias: -1.006186, T: 1391088, Avg. loss: 0.038562\n",
      "Total training time: 0.80 seconds.\n",
      "-- Epoch 4\n",
      "Norm: 0.18, NNZs: 27118, Bias: -1.005323, T: 1854784, Avg. loss: 0.038560\n",
      "Total training time: 1.07 seconds.\n",
      "-- Epoch 5\n",
      "Norm: 0.17, NNZs: 27454, Bias: -1.004793, T: 2318480, Avg. loss: 0.038558\n",
      "Total training time: 1.34 seconds.\n",
      "-- Epoch 6\n",
      "Norm: 0.16, NNZs: 27642, Bias: -1.004584, T: 2782176, Avg. loss: 0.038557\n",
      "Total training time: 1.61 seconds.\n",
      "Convergence after 6 epochs took 1.61 seconds\n",
      "-- Epoch 1\n",
      "Norm: 0.02, NNZs: 1248, Bias: -1.000560, T: 463696, Avg. loss: 0.000060\n",
      "Total training time: 0.26 seconds.\n",
      "-- Epoch 2\n",
      "Norm: 0.01, NNZs: 1441, Bias: -1.000562, T: 927392, Avg. loss: 0.000047\n",
      "Total training time: 0.52 seconds.\n",
      "-- Epoch 3\n",
      "Norm: 0.01, NNZs: 1522, Bias: -1.000534, T: 1391088, Avg. loss: 0.000047\n",
      "Total training time: 0.78 seconds.\n",
      "-- Epoch 4\n",
      "Norm: 0.01, NNZs: 1708, Bias: -1.000526, T: 1854784, Avg. loss: 0.000047\n",
      "Total training time: 1.04 seconds.\n",
      "-- Epoch 5\n",
      "Norm: 0.01, NNZs: 1790, Bias: -1.000530, T: 2318480, Avg. loss: 0.000047\n",
      "Total training time: 1.31 seconds.\n",
      "-- Epoch 6\n",
      "Norm: 0.01, NNZs: 1881, Bias: -1.000523, T: 2782176, Avg. loss: 0.000047\n",
      "Total training time: 1.66 seconds.\n",
      "Convergence after 6 epochs took 1.66 seconds\n"
     ]
    },
    {
     "name": "stderr",
     "output_type": "stream",
     "text": [
      "[Parallel(n_jobs=1)]: Done  18 out of  18 | elapsed:   32.8s finished\n"
     ]
    },
    {
     "data": {
      "text/plain": [
       "GridSearchCV(cv=10,\n",
       "             estimator=Pipeline(steps=[('TfIdf', TfidfVectorizer()),\n",
       "                                       ('SGDC',\n",
       "                                        SGDClassifier(random_state=42,\n",
       "                                                      verbose=1))]),\n",
       "             n_jobs=6,\n",
       "             param_grid={'SGDC__alpha': [0.001, 0.01, 0.05, 0.1],\n",
       "                         'SGDC__loss': ['hinge'],\n",
       "                         'TfIdf__max_features': [None, 200, 300, 400],\n",
       "                         'TfIdf__ngram_range': [(1, 1)],\n",
       "                         'TfIdf__use_idf': [True]},\n",
       "             verbose=1)"
      ]
     },
     "execution_count": 65,
     "metadata": {},
     "output_type": "execute_result"
    }
   ],
   "source": [
    "grid_search_svc.fit(X_train, y_train)"
   ]
  },
  {
   "cell_type": "code",
   "execution_count": 66,
   "metadata": {},
   "outputs": [
    {
     "data": {
      "text/plain": [
       "{'SGDC__alpha': 0.001,\n",
       " 'SGDC__loss': 'hinge',\n",
       " 'TfIdf__max_features': None,\n",
       " 'TfIdf__ngram_range': (1, 1),\n",
       " 'TfIdf__use_idf': True}"
      ]
     },
     "execution_count": 66,
     "metadata": {},
     "output_type": "execute_result"
    }
   ],
   "source": [
    "grid_search_svc.best_params_"
   ]
  },
  {
   "cell_type": "code",
   "execution_count": 67,
   "metadata": {},
   "outputs": [
    {
     "data": {
      "text/plain": [
       "0.6815009704550355"
      ]
     },
     "execution_count": 67,
     "metadata": {},
     "output_type": "execute_result"
    }
   ],
   "source": [
    "# Check the score on the training and test sets\n",
    "grid_search_svc.score(X_test, y_test)"
   ]
  },
  {
   "cell_type": "code",
   "execution_count": 69,
   "metadata": {},
   "outputs": [],
   "source": [
    "predicted = grid_search_svc.predict(X)\n",
    "df_processed['Predicted_Category_LSVM'] = predicted"
   ]
  },
  {
   "cell_type": "code",
   "execution_count": 70,
   "metadata": {},
   "outputs": [],
   "source": [
    "y_predicted = grid_search_svc.predict(X_test)"
   ]
  },
  {
   "cell_type": "code",
   "execution_count": 72,
   "metadata": {},
   "outputs": [],
   "source": [
    "conf_matrix_df = pd.DataFrame(data=confusion_matrix(y_test, y_predicted),index=key_to_label_name,\n",
    "                              columns=key_to_label_name)"
   ]
  },
  {
   "cell_type": "code",
   "execution_count": 73,
   "metadata": {},
   "outputs": [
    {
     "name": "stdout",
     "output_type": "stream",
     "text": [
      "                                                                              precision    recall  f1-score   support\n",
      "\n",
      "                                                     Bank account or service       0.62      0.05      0.09      2974\n",
      "                                                 Checking or savings account       0.58      0.57      0.58      5343\n",
      "                                                               Consumer Loan       0.34      0.01      0.02      1889\n",
      "                                                                 Credit card       0.53      0.02      0.03      3752\n",
      "                                                 Credit card or prepaid card       0.61      0.54      0.58      9036\n",
      "                                                            Credit reporting       0.00      0.00      0.00      5987\n",
      "Credit reporting, credit repair services, or other personal consumer reports       0.66      0.88      0.75     35373\n",
      "                                                             Debt collection       0.71      0.82      0.76     24712\n",
      "                          Money transfer, virtual currency, or money service       0.70      0.53      0.60      2301\n",
      "                                                             Money transfers       0.00      0.00      0.00       299\n",
      "                                                                    Mortgage       0.75      0.95      0.84     14168\n",
      "                                                     Other financial service       0.03      0.02      0.02        58\n",
      "                                                                 Payday loan       0.31      0.01      0.02       348\n",
      "                                   Payday loan, title loan, or personal loan       0.49      0.03      0.06      1680\n",
      "                                                                Prepaid card       0.77      0.11      0.20       290\n",
      "                                                                Student loan       0.79      0.77      0.78      5476\n",
      "                                                       Vehicle loan or lease       0.57      0.14      0.23      2236\n",
      "                                                            Virtual currency       0.00      0.00      0.00         3\n",
      "\n",
      "                                                                    accuracy                           0.68    115925\n",
      "                                                                   macro avg       0.47      0.30      0.31    115925\n",
      "                                                                weighted avg       0.63      0.68      0.62    115925\n",
      "\n"
     ]
    }
   ],
   "source": [
    "classification_rep = classification_report(y_test, y_predicted,target_names=key_to_label_name)\n",
    "print(classification_rep)"
   ]
  },
  {
   "cell_type": "code",
   "execution_count": 74,
   "metadata": {},
   "outputs": [
    {
     "data": {
      "image/png": "[encoded data removed]",
      "text/plain": [
       "<Figure size 864x720 with 2 Axes>"
      ]
     },
     "metadata": {
      "needs_background": "light"
     },
     "output_type": "display_data"
    }
   ],
   "source": [
    "conf_matrix_df = pd.DataFrame(data=confusion_matrix(y_test, y_predicted),\n",
    "                              index=key_to_label_name, columns=key_to_label_name)\n",
    "\n",
    "plotConfusionMatrixHeatmap(conf_matrix_df, model_name='Linear SVM', figsize=(12, 10))"
   ]
  },
  {
   "cell_type": "markdown",
   "metadata": {},
   "source": [
    "#### 2"
   ]
  },
  {
   "cell_type": "code",
   "execution_count": 10,
   "metadata": {},
   "outputs": [
    {
     "data": {
      "text/html": [
       "<div>\n",
       "<style scoped>\n",
       "    .dataframe tbody tr th:only-of-type {\n",
       "        vertical-align: middle;\n",
       "    }\n",
       "\n",
       "    .dataframe tbody tr th {\n",
       "        vertical-align: top;\n",
       "    }\n",
       "\n",
       "    .dataframe thead th {\n",
       "        text-align: right;\n",
       "    }\n",
       "</style>\n",
       "<table border=\"1\" class=\"dataframe\">\n",
       "  <thead>\n",
       "    <tr style=\"text-align: right;\">\n",
       "      <th></th>\n",
       "      <th>Unnamed: 0</th>\n",
       "      <th>full_text</th>\n",
       "      <th>submitted_via</th>\n",
       "      <th>sub_label</th>\n",
       "      <th>label</th>\n",
       "      <th>word_count</th>\n",
       "      <th>unique_word_count</th>\n",
       "      <th>stop_word_count</th>\n",
       "      <th>url_count</th>\n",
       "      <th>mean_word_length</th>\n",
       "      <th>char_count</th>\n",
       "      <th>punctuation_count</th>\n",
       "      <th>full_text_tokenized</th>\n",
       "      <th>full_text_lemmatized</th>\n",
       "    </tr>\n",
       "  </thead>\n",
       "  <tbody>\n",
       "    <tr>\n",
       "      <th>36263</th>\n",
       "      <td>83176</td>\n",
       "      <td>I have been corresponding to XXXX/XXXX for sli...</td>\n",
       "      <td>Web</td>\n",
       "      <td>Other debt</td>\n",
       "      <td>Debt collection</td>\n",
       "      <td>974</td>\n",
       "      <td>402</td>\n",
       "      <td>441</td>\n",
       "      <td>0</td>\n",
       "      <td>4.752567</td>\n",
       "      <td>5623</td>\n",
       "      <td>217</td>\n",
       "      <td>[corresponding, xxxx/xxxx, slightly, year, dis...</td>\n",
       "      <td>corresponding xxxx/xxxx slightly year disputed...</td>\n",
       "    </tr>\n",
       "  </tbody>\n",
       "</table>\n",
       "</div>"
      ],
      "text/plain": [
       "       Unnamed: 0                                          full_text  \\\n",
       "36263       83176  I have been corresponding to XXXX/XXXX for sli...   \n",
       "\n",
       "      submitted_via   sub_label            label  word_count  \\\n",
       "36263           Web  Other debt  Debt collection         974   \n",
       "\n",
       "       unique_word_count  stop_word_count  url_count  mean_word_length  \\\n",
       "36263                402              441          0          4.752567   \n",
       "\n",
       "       char_count  punctuation_count  \\\n",
       "36263        5623                217   \n",
       "\n",
       "                                     full_text_tokenized  \\\n",
       "36263  [corresponding, xxxx/xxxx, slightly, year, dis...   \n",
       "\n",
       "                                    full_text_lemmatized  \n",
       "36263  corresponding xxxx/xxxx slightly year disputed...  "
      ]
     },
     "execution_count": 10,
     "metadata": {},
     "output_type": "execute_result"
    }
   ],
   "source": [
    "df_processed.sample()"
   ]
  },
  {
   "cell_type": "code",
   "execution_count": 12,
   "metadata": {},
   "outputs": [
    {
     "data": {
      "text/plain": [
       "Credit reporting, credit repair services, or other personal consumer reports    176862\n",
       "Debt collection                                                                 123561\n",
       "Mortgage                                                                         70841\n",
       "Credit card or prepaid card                                                      45178\n",
       "Credit reporting                                                                 29936\n",
       "Student loan                                                                     27380\n",
       "Checking or savings account                                                      26715\n",
       "Credit card                                                                      18757\n",
       "Bank account or service                                                          14871\n",
       "Money transfer, virtual currency, or money service                               11507\n",
       "Vehicle loan or lease                                                            11179\n",
       "Consumer Loan                                                                     9444\n",
       "Payday loan, title loan, or personal loan                                         8401\n",
       "Payday loan                                                                       1740\n",
       "Money transfers                                                                   1496\n",
       "Prepaid card                                                                      1448\n",
       "Other financial service                                                            291\n",
       "Virtual currency                                                                    14\n",
       "Name: label, dtype: int64"
      ]
     },
     "execution_count": 12,
     "metadata": {},
     "output_type": "execute_result"
    }
   ],
   "source": [
    "df_processed['label'].value_counts()"
   ]
  },
  {
   "cell_type": "code",
   "execution_count": 17,
   "metadata": {},
   "outputs": [],
   "source": [
    "label_category_map = {'Credit reporting, credit repair services, or other personal consumer reports': 'Credit reporting',\n",
    "                      'Credit card': 'Creditcard or prepaid card',\n",
    "                      'Payday loan': 'Payday loan, title loan, or personal loan',\n",
    "                      'Prepaid card': 'Credit card or prepaid card',\n",
    "                      'Money transfers': 'Money transfer, virtual currency, or money service',\n",
    "                      'Virtual currency': 'Money transfer, virtual currency, or money service'}"
   ]
  },
  {
   "cell_type": "code",
   "execution_count": 18,
   "metadata": {},
   "outputs": [],
   "source": [
    "df_processed['label'].replace(label_category_map, inplace=True)"
   ]
  },
  {
   "cell_type": "code",
   "execution_count": 19,
   "metadata": {},
   "outputs": [
    {
     "data": {
      "text/plain": [
       "Credit reporting                                      206798\n",
       "Debt collection                                       123561\n",
       "Mortgage                                               70841\n",
       "Credit card or prepaid card                            46626\n",
       "Student loan                                           27380\n",
       "Checking or savings account                            26715\n",
       "Creditcard or prepaid card                             18757\n",
       "Bank account or service                                14871\n",
       "Money transfer, virtual currency, or money service     13017\n",
       "Vehicle loan or lease                                  11179\n",
       "Payday loan, title loan, or personal loan              10141\n",
       "Consumer Loan                                           9444\n",
       "Other financial service                                  291\n",
       "Name: label, dtype: int64"
      ]
     },
     "execution_count": 19,
     "metadata": {},
     "output_type": "execute_result"
    }
   ],
   "source": [
    "df_processed['label'].value_counts()"
   ]
  },
  {
   "cell_type": "code",
   "execution_count": 20,
   "metadata": {},
   "outputs": [],
   "source": [
    "# Pickle the file so we do not need to reprocess each time\n",
    "pickle_df_filename = 'ticket_data_processed.pkl'\n",
    "pickled_file_loc = os.path.join('../../data/', pickle_df_filename)"
   ]
  },
  {
   "cell_type": "code",
   "execution_count": 21,
   "metadata": {},
   "outputs": [],
   "source": [
    "# df to pickle\n",
    "df_processed.to_pickle(pickled_file_loc)"
   ]
  },
  {
   "cell_type": "code",
   "execution_count": 35,
   "metadata": {},
   "outputs": [],
   "source": [
    "df_processed = pd.read_pickle(pickled_file_loc)"
   ]
  },
  {
   "cell_type": "code",
   "execution_count": 36,
   "metadata": {},
   "outputs": [
    {
     "data": {
      "text/html": [
       "<div>\n",
       "<style scoped>\n",
       "    .dataframe tbody tr th:only-of-type {\n",
       "        vertical-align: middle;\n",
       "    }\n",
       "\n",
       "    .dataframe tbody tr th {\n",
       "        vertical-align: top;\n",
       "    }\n",
       "\n",
       "    .dataframe thead th {\n",
       "        text-align: right;\n",
       "    }\n",
       "</style>\n",
       "<table border=\"1\" class=\"dataframe\">\n",
       "  <thead>\n",
       "    <tr style=\"text-align: right;\">\n",
       "      <th></th>\n",
       "      <th>Unnamed: 0</th>\n",
       "      <th>full_text</th>\n",
       "      <th>submitted_via</th>\n",
       "      <th>sub_label</th>\n",
       "      <th>label</th>\n",
       "      <th>word_count</th>\n",
       "      <th>unique_word_count</th>\n",
       "      <th>stop_word_count</th>\n",
       "      <th>url_count</th>\n",
       "      <th>mean_word_length</th>\n",
       "      <th>char_count</th>\n",
       "      <th>punctuation_count</th>\n",
       "      <th>full_text_tokenized</th>\n",
       "      <th>full_text_lemmatized</th>\n",
       "    </tr>\n",
       "  </thead>\n",
       "  <tbody>\n",
       "    <tr>\n",
       "      <th>375823</th>\n",
       "      <td>1464801</td>\n",
       "      <td>In XXXX of 2015 we received from Wells Fargo B...</td>\n",
       "      <td>Web</td>\n",
       "      <td>Conventional fixed mortgage</td>\n",
       "      <td>Mortgage</td>\n",
       "      <td>286</td>\n",
       "      <td>154</td>\n",
       "      <td>151</td>\n",
       "      <td>0</td>\n",
       "      <td>4.206294</td>\n",
       "      <td>1489</td>\n",
       "      <td>22</td>\n",
       "      <td>[received, wells, fargo, bank, advertisement, ...</td>\n",
       "      <td>received well fargo bank advertisement refinan...</td>\n",
       "    </tr>\n",
       "  </tbody>\n",
       "</table>\n",
       "</div>"
      ],
      "text/plain": [
       "        Unnamed: 0                                          full_text  \\\n",
       "375823     1464801  In XXXX of 2015 we received from Wells Fargo B...   \n",
       "\n",
       "       submitted_via                    sub_label     label  word_count  \\\n",
       "375823           Web  Conventional fixed mortgage  Mortgage         286   \n",
       "\n",
       "        unique_word_count  stop_word_count  url_count  mean_word_length  \\\n",
       "375823                154              151          0          4.206294   \n",
       "\n",
       "        char_count  punctuation_count  \\\n",
       "375823        1489                 22   \n",
       "\n",
       "                                      full_text_tokenized  \\\n",
       "375823  [received, wells, fargo, bank, advertisement, ...   \n",
       "\n",
       "                                     full_text_lemmatized  \n",
       "375823  received well fargo bank advertisement refinan...  "
      ]
     },
     "execution_count": 36,
     "metadata": {},
     "output_type": "execute_result"
    }
   ],
   "source": [
    "df_processed.sample()"
   ]
  },
  {
   "cell_type": "code",
   "execution_count": 37,
   "metadata": {},
   "outputs": [],
   "source": [
    "from sklearn.preprocessing import LabelEncoder\n",
    "\n",
    "label_encoder = LabelEncoder()\n",
    "\n",
    "df_processed['label_id'] = label_encoder.fit_transform(df_processed['label'])"
   ]
  },
  {
   "cell_type": "code",
   "execution_count": 38,
   "metadata": {},
   "outputs": [
    {
     "data": {
      "text/plain": [
       "{6: 'Debt collection',\n",
       " 4: 'Credit reporting',\n",
       " 3: 'Credit card or prepaid card',\n",
       " 1: 'Checking or savings account',\n",
       " 7: 'Money transfer, virtual currency, or money service',\n",
       " 12: 'Vehicle loan or lease',\n",
       " 8: 'Mortgage',\n",
       " 11: 'Student loan',\n",
       " 5: 'Creditcard or prepaid card',\n",
       " 10: 'Payday loan, title loan, or personal loan',\n",
       " 2: 'Consumer Loan',\n",
       " 9: 'Other financial service',\n",
       " 0: 'Bank account or service'}"
      ]
     },
     "execution_count": 38,
     "metadata": {},
     "output_type": "execute_result"
    }
   ],
   "source": [
    "# Put the label category into dict for future use\n",
    "label_map = df_processed.set_index('label_id').to_dict()['label']\n",
    "label_map"
   ]
  },
  {
   "cell_type": "code",
   "execution_count": 39,
   "metadata": {},
   "outputs": [],
   "source": [
    "validation_data = df_processed.sample(frac=0.20)"
   ]
  },
  {
   "cell_type": "code",
   "execution_count": 40,
   "metadata": {},
   "outputs": [],
   "source": [
    "df = df_processed.drop(validation_data.index)"
   ]
  },
  {
   "cell_type": "code",
   "execution_count": 41,
   "metadata": {},
   "outputs": [
    {
     "data": {
      "text/plain": [
       "(115924, 15)"
      ]
     },
     "execution_count": 41,
     "metadata": {},
     "output_type": "execute_result"
    }
   ],
   "source": [
    "validation_data.shape"
   ]
  },
  {
   "cell_type": "code",
   "execution_count": 42,
   "metadata": {},
   "outputs": [
    {
     "data": {
      "text/plain": [
       "(463697, 15)"
      ]
     },
     "execution_count": 42,
     "metadata": {},
     "output_type": "execute_result"
    }
   ],
   "source": [
    "df.shape"
   ]
  },
  {
   "cell_type": "code",
   "execution_count": 43,
   "metadata": {},
   "outputs": [],
   "source": [
    "# Select X & y data from dataframe\n",
    "X = df['full_text_lemmatized']\n",
    "y = df['label_id']"
   ]
  },
  {
   "cell_type": "code",
   "execution_count": 45,
   "metadata": {},
   "outputs": [],
   "source": [
    "# Split train test data with 80:20 ratio\n",
    "X_train, X_test, y_train, y_test = train_test_split(X, y, test_size=0.2, random_state=42, stratify=y)"
   ]
  },
  {
   "cell_type": "code",
   "execution_count": null,
   "metadata": {},
   "outputs": [],
   "source": [
    "# Multinomial Naive Bayes model\n",
    "pipeline_mnb = Pipeline(steps = [('TfIdf', TfidfVectorizer()),\n",
    "                              ('MultinomialNB', MultinomialNB())])"
   ]
  },
  {
   "cell_type": "code",
   "execution_count": null,
   "metadata": {},
   "outputs": [],
   "source": [
    "# Parameter values to test\n",
    "param_grid = {\n",
    " 'TfIdf__max_features' : [5000, 6000, 7000],\n",
    " 'TfIdf__ngram_range' : [(1,1)],\n",
    " 'TfIdf__use_idf' : [True],\n",
    " 'MultinomialNB__alpha' : [0.01, 0.02, 0.05, 0.10]\n",
    "}"
   ]
  },
  {
   "cell_type": "code",
   "execution_count": null,
   "metadata": {},
   "outputs": [],
   "source": [
    "grid_search_mnb = GridSearchCV(pipeline_mnb, param_grid, cv=5, verbose=1, n_jobs=6)"
   ]
  },
  {
   "cell_type": "code",
   "execution_count": null,
   "metadata": {},
   "outputs": [],
   "source": [
    "grid_search_mnb.fit(X_train, y_train)"
   ]
  },
  {
   "cell_type": "code",
   "execution_count": null,
   "metadata": {},
   "outputs": [],
   "source": [
    "grid_search_mnb.best_params_"
   ]
  },
  {
   "cell_type": "code",
   "execution_count": null,
   "metadata": {},
   "outputs": [],
   "source": [
    "grid_search_mnb.best_estimator_"
   ]
  },
  {
   "cell_type": "code",
   "execution_count": null,
   "metadata": {},
   "outputs": [],
   "source": []
  }
 ],
 "metadata": {
  "kernelspec": {
   "display_name": "Python 3",
   "language": "python",
   "name": "python3"
  },
  "language_info": {
   "codemirror_mode": {
    "name": "ipython",
    "version": 3
   },
   "file_extension": ".py",
   "mimetype": "text/x-python",
   "name": "python",
   "nbconvert_exporter": "python",
   "pygments_lexer": "ipython3",
   "version": "3.8.5"
  }
 },
 "nbformat": 4,
 "nbformat_minor": 4
}
