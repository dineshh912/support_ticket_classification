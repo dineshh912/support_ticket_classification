{
 "cells": [
  {
   "cell_type": "code",
   "execution_count": 1,
   "metadata": {},
   "outputs": [],
   "source": [
    "# importing all necessary modules\n",
    "import pandas as pd\n",
    "import numpy as np\n",
    "import tokenization\n",
    "from wordcloud import STOPWORDS\n",
    "import string\n",
    "# Visualization Library\n",
    "import seaborn as sns\n",
    "import matplotlib.pyplot as plt\n",
    "import missingno as msno"
   ]
  },
  {
   "cell_type": "code",
   "execution_count": 2,
   "metadata": {},
   "outputs": [],
   "source": [
    "# Loading data into pandas dataframe.\n",
    "file_location = '../../data/complaints.csv.zip'\n",
    "\n",
    "full_df = pd.read_csv(file_location)"
   ]
  },
  {
   "cell_type": "code",
   "execution_count": 3,
   "metadata": {},
   "outputs": [
    {
     "data": {
      "text/html": [
       "<div>\n",
       "<style scoped>\n",
       "    .dataframe tbody tr th:only-of-type {\n",
       "        vertical-align: middle;\n",
       "    }\n",
       "\n",
       "    .dataframe tbody tr th {\n",
       "        vertical-align: top;\n",
       "    }\n",
       "\n",
       "    .dataframe thead th {\n",
       "        text-align: right;\n",
       "    }\n",
       "</style>\n",
       "<table border=\"1\" class=\"dataframe\">\n",
       "  <thead>\n",
       "    <tr style=\"text-align: right;\">\n",
       "      <th></th>\n",
       "      <th>Date received</th>\n",
       "      <th>Product</th>\n",
       "      <th>Sub-product</th>\n",
       "      <th>Issue</th>\n",
       "      <th>Sub-issue</th>\n",
       "      <th>Consumer complaint narrative</th>\n",
       "      <th>Company public response</th>\n",
       "      <th>Company</th>\n",
       "      <th>State</th>\n",
       "      <th>ZIP code</th>\n",
       "      <th>Tags</th>\n",
       "      <th>Consumer consent provided?</th>\n",
       "      <th>Submitted via</th>\n",
       "      <th>Date sent to company</th>\n",
       "      <th>Company response to consumer</th>\n",
       "      <th>Timely response?</th>\n",
       "      <th>Consumer disputed?</th>\n",
       "      <th>Complaint ID</th>\n",
       "    </tr>\n",
       "  </thead>\n",
       "  <tbody>\n",
       "    <tr>\n",
       "      <th>0</th>\n",
       "      <td>2019-09-24</td>\n",
       "      <td>Debt collection</td>\n",
       "      <td>I do not know</td>\n",
       "      <td>Attempts to collect debt not owed</td>\n",
       "      <td>Debt is not yours</td>\n",
       "      <td>transworld systems inc. \\nis trying to collect...</td>\n",
       "      <td>NaN</td>\n",
       "      <td>TRANSWORLD SYSTEMS INC</td>\n",
       "      <td>FL</td>\n",
       "      <td>335XX</td>\n",
       "      <td>NaN</td>\n",
       "      <td>Consent provided</td>\n",
       "      <td>Web</td>\n",
       "      <td>2019-09-24</td>\n",
       "      <td>Closed with explanation</td>\n",
       "      <td>Yes</td>\n",
       "      <td>NaN</td>\n",
       "      <td>3384392</td>\n",
       "    </tr>\n",
       "    <tr>\n",
       "      <th>1</th>\n",
       "      <td>2019-09-19</td>\n",
       "      <td>Credit reporting, credit repair services, or o...</td>\n",
       "      <td>Credit reporting</td>\n",
       "      <td>Incorrect information on your report</td>\n",
       "      <td>Information belongs to someone else</td>\n",
       "      <td>NaN</td>\n",
       "      <td>Company has responded to the consumer and the ...</td>\n",
       "      <td>Experian Information Solutions Inc.</td>\n",
       "      <td>PA</td>\n",
       "      <td>15206</td>\n",
       "      <td>NaN</td>\n",
       "      <td>Consent not provided</td>\n",
       "      <td>Web</td>\n",
       "      <td>2019-09-20</td>\n",
       "      <td>Closed with non-monetary relief</td>\n",
       "      <td>Yes</td>\n",
       "      <td>NaN</td>\n",
       "      <td>3379500</td>\n",
       "    </tr>\n",
       "    <tr>\n",
       "      <th>2</th>\n",
       "      <td>2019-11-08</td>\n",
       "      <td>Debt collection</td>\n",
       "      <td>I do not know</td>\n",
       "      <td>Communication tactics</td>\n",
       "      <td>Frequent or repeated calls</td>\n",
       "      <td>Over the past 2 weeks, I have been receiving e...</td>\n",
       "      <td>NaN</td>\n",
       "      <td>Diversified Consultants, Inc.</td>\n",
       "      <td>NC</td>\n",
       "      <td>275XX</td>\n",
       "      <td>NaN</td>\n",
       "      <td>Consent provided</td>\n",
       "      <td>Web</td>\n",
       "      <td>2019-11-08</td>\n",
       "      <td>Closed with explanation</td>\n",
       "      <td>Yes</td>\n",
       "      <td>NaN</td>\n",
       "      <td>3433198</td>\n",
       "    </tr>\n",
       "    <tr>\n",
       "      <th>3</th>\n",
       "      <td>2019-09-15</td>\n",
       "      <td>Debt collection</td>\n",
       "      <td>Other debt</td>\n",
       "      <td>Attempts to collect debt not owed</td>\n",
       "      <td>Debt was result of identity theft</td>\n",
       "      <td>Pioneer has committed several federal violatio...</td>\n",
       "      <td>NaN</td>\n",
       "      <td>Pioneer Capital Solutions Inc</td>\n",
       "      <td>CA</td>\n",
       "      <td>925XX</td>\n",
       "      <td>NaN</td>\n",
       "      <td>Consent provided</td>\n",
       "      <td>Web</td>\n",
       "      <td>2019-09-15</td>\n",
       "      <td>Closed with explanation</td>\n",
       "      <td>Yes</td>\n",
       "      <td>NaN</td>\n",
       "      <td>3374555</td>\n",
       "    </tr>\n",
       "    <tr>\n",
       "      <th>4</th>\n",
       "      <td>2020-10-23</td>\n",
       "      <td>Credit reporting, credit repair services, or o...</td>\n",
       "      <td>Credit reporting</td>\n",
       "      <td>Incorrect information on your report</td>\n",
       "      <td>Information belongs to someone else</td>\n",
       "      <td>NaN</td>\n",
       "      <td>Company has responded to the consumer and the ...</td>\n",
       "      <td>Experian Information Solutions Inc.</td>\n",
       "      <td>FL</td>\n",
       "      <td>334XX</td>\n",
       "      <td>NaN</td>\n",
       "      <td>Other</td>\n",
       "      <td>Web</td>\n",
       "      <td>2020-10-23</td>\n",
       "      <td>Closed with explanation</td>\n",
       "      <td>Yes</td>\n",
       "      <td>NaN</td>\n",
       "      <td>3915909</td>\n",
       "    </tr>\n",
       "  </tbody>\n",
       "</table>\n",
       "</div>"
      ],
      "text/plain": [
       "  Date received                                            Product  \\\n",
       "0    2019-09-24                                    Debt collection   \n",
       "1    2019-09-19  Credit reporting, credit repair services, or o...   \n",
       "2    2019-11-08                                    Debt collection   \n",
       "3    2019-09-15                                    Debt collection   \n",
       "4    2020-10-23  Credit reporting, credit repair services, or o...   \n",
       "\n",
       "        Sub-product                                 Issue  \\\n",
       "0     I do not know     Attempts to collect debt not owed   \n",
       "1  Credit reporting  Incorrect information on your report   \n",
       "2     I do not know                 Communication tactics   \n",
       "3        Other debt     Attempts to collect debt not owed   \n",
       "4  Credit reporting  Incorrect information on your report   \n",
       "\n",
       "                             Sub-issue  \\\n",
       "0                    Debt is not yours   \n",
       "1  Information belongs to someone else   \n",
       "2           Frequent or repeated calls   \n",
       "3    Debt was result of identity theft   \n",
       "4  Information belongs to someone else   \n",
       "\n",
       "                        Consumer complaint narrative  \\\n",
       "0  transworld systems inc. \\nis trying to collect...   \n",
       "1                                                NaN   \n",
       "2  Over the past 2 weeks, I have been receiving e...   \n",
       "3  Pioneer has committed several federal violatio...   \n",
       "4                                                NaN   \n",
       "\n",
       "                             Company public response  \\\n",
       "0                                                NaN   \n",
       "1  Company has responded to the consumer and the ...   \n",
       "2                                                NaN   \n",
       "3                                                NaN   \n",
       "4  Company has responded to the consumer and the ...   \n",
       "\n",
       "                               Company State ZIP code Tags  \\\n",
       "0               TRANSWORLD SYSTEMS INC    FL    335XX  NaN   \n",
       "1  Experian Information Solutions Inc.    PA    15206  NaN   \n",
       "2        Diversified Consultants, Inc.    NC    275XX  NaN   \n",
       "3        Pioneer Capital Solutions Inc    CA    925XX  NaN   \n",
       "4  Experian Information Solutions Inc.    FL    334XX  NaN   \n",
       "\n",
       "  Consumer consent provided? Submitted via Date sent to company  \\\n",
       "0           Consent provided           Web           2019-09-24   \n",
       "1       Consent not provided           Web           2019-09-20   \n",
       "2           Consent provided           Web           2019-11-08   \n",
       "3           Consent provided           Web           2019-09-15   \n",
       "4                      Other           Web           2020-10-23   \n",
       "\n",
       "      Company response to consumer Timely response? Consumer disputed?  \\\n",
       "0          Closed with explanation              Yes                NaN   \n",
       "1  Closed with non-monetary relief              Yes                NaN   \n",
       "2          Closed with explanation              Yes                NaN   \n",
       "3          Closed with explanation              Yes                NaN   \n",
       "4          Closed with explanation              Yes                NaN   \n",
       "\n",
       "   Complaint ID  \n",
       "0       3384392  \n",
       "1       3379500  \n",
       "2       3433198  \n",
       "3       3374555  \n",
       "4       3915909  "
      ]
     },
     "execution_count": 3,
     "metadata": {},
     "output_type": "execute_result"
    }
   ],
   "source": [
    "# First few lines of dataframe\n",
    "full_df.head()"
   ]
  },
  {
   "cell_type": "code",
   "execution_count": 4,
   "metadata": {},
   "outputs": [
    {
     "data": {
      "text/plain": [
       "(1839405, 18)"
      ]
     },
     "execution_count": 4,
     "metadata": {},
     "output_type": "execute_result"
    }
   ],
   "source": [
    "# Shape of the data\n",
    "full_df.shape"
   ]
  },
  {
   "cell_type": "code",
   "execution_count": 5,
   "metadata": {},
   "outputs": [
    {
     "data": {
      "text/plain": [
       "Index(['Date received', 'Product', 'Sub-product', 'Issue', 'Sub-issue',\n",
       "       'Consumer complaint narrative', 'Company public response', 'Company',\n",
       "       'State', 'ZIP code', 'Tags', 'Consumer consent provided?',\n",
       "       'Submitted via', 'Date sent to company', 'Company response to consumer',\n",
       "       'Timely response?', 'Consumer disputed?', 'Complaint ID'],\n",
       "      dtype='object')"
      ]
     },
     "execution_count": 5,
     "metadata": {},
     "output_type": "execute_result"
    }
   ],
   "source": [
    "# Display All columns\n",
    "full_df.columns"
   ]
  },
  {
   "cell_type": "code",
   "execution_count": 6,
   "metadata": {},
   "outputs": [
    {
     "name": "stdout",
     "output_type": "stream",
     "text": [
      "<class 'pandas.core.frame.DataFrame'>\n",
      "RangeIndex: 1839405 entries, 0 to 1839404\n",
      "Data columns (total 18 columns):\n",
      " #   Column                        Dtype \n",
      "---  ------                        ----- \n",
      " 0   Date received                 object\n",
      " 1   Product                       object\n",
      " 2   Sub-product                   object\n",
      " 3   Issue                         object\n",
      " 4   Sub-issue                     object\n",
      " 5   Consumer complaint narrative  object\n",
      " 6   Company public response       object\n",
      " 7   Company                       object\n",
      " 8   State                         object\n",
      " 9   ZIP code                      object\n",
      " 10  Tags                          object\n",
      " 11  Consumer consent provided?    object\n",
      " 12  Submitted via                 object\n",
      " 13  Date sent to company          object\n",
      " 14  Company response to consumer  object\n",
      " 15  Timely response?              object\n",
      " 16  Consumer disputed?            object\n",
      " 17  Complaint ID                  int64 \n",
      "dtypes: int64(1), object(17)\n",
      "memory usage: 252.6+ MB\n"
     ]
    }
   ],
   "source": [
    "# Display information about the columns\n",
    "full_df.info()"
   ]
  },
  {
   "cell_type": "code",
   "execution_count": 7,
   "metadata": {},
   "outputs": [
    {
     "data": {
      "text/plain": [
       "Servicemember                    126278\n",
       "Older American                    94847\n",
       "Older American, Servicemember     19988\n",
       "Name: Tags, dtype: int64"
      ]
     },
     "execution_count": 7,
     "metadata": {},
     "output_type": "execute_result"
    }
   ],
   "source": [
    "full_df['Tags'].value_counts()"
   ]
  },
  {
   "cell_type": "code",
   "execution_count": 8,
   "metadata": {},
   "outputs": [
    {
     "data": {
      "text/plain": [
       "Yes    1800501\n",
       "No       38904\n",
       "Name: Timely response?, dtype: int64"
      ]
     },
     "execution_count": 8,
     "metadata": {},
     "output_type": "execute_result"
    }
   ],
   "source": [
    "full_df['Timely response?'].value_counts()"
   ]
  },
  {
   "cell_type": "code",
   "execution_count": 9,
   "metadata": {},
   "outputs": [],
   "source": [
    "# Select only necessary columns for further processing.\n",
    "necessary_columns = ['Product', 'Sub-product', 'Issue',\n",
    "                     'Sub-issue', 'Consumer complaint narrative', 'Submitted via']"
   ]
  },
  {
   "cell_type": "code",
   "execution_count": 10,
   "metadata": {},
   "outputs": [],
   "source": [
    "# create new dataframe with necessary columns\n",
    "df = full_df[necessary_columns]"
   ]
  },
  {
   "cell_type": "code",
   "execution_count": 11,
   "metadata": {},
   "outputs": [],
   "source": [
    "# Changing column Name\n",
    "df.columns = ['label', 'sub_label','issue',\n",
    "              'sub_issue', 'full_text', 'submitted_via']"
   ]
  },
  {
   "cell_type": "code",
   "execution_count": 12,
   "metadata": {},
   "outputs": [
    {
     "data": {
      "text/html": [
       "<div>\n",
       "<style scoped>\n",
       "    .dataframe tbody tr th:only-of-type {\n",
       "        vertical-align: middle;\n",
       "    }\n",
       "\n",
       "    .dataframe tbody tr th {\n",
       "        vertical-align: top;\n",
       "    }\n",
       "\n",
       "    .dataframe thead th {\n",
       "        text-align: right;\n",
       "    }\n",
       "</style>\n",
       "<table border=\"1\" class=\"dataframe\">\n",
       "  <thead>\n",
       "    <tr style=\"text-align: right;\">\n",
       "      <th></th>\n",
       "      <th>label</th>\n",
       "      <th>sub_label</th>\n",
       "      <th>issue</th>\n",
       "      <th>sub_issue</th>\n",
       "      <th>full_text</th>\n",
       "      <th>submitted_via</th>\n",
       "    </tr>\n",
       "  </thead>\n",
       "  <tbody>\n",
       "    <tr>\n",
       "      <th>0</th>\n",
       "      <td>Debt collection</td>\n",
       "      <td>I do not know</td>\n",
       "      <td>Attempts to collect debt not owed</td>\n",
       "      <td>Debt is not yours</td>\n",
       "      <td>transworld systems inc. \\nis trying to collect...</td>\n",
       "      <td>Web</td>\n",
       "    </tr>\n",
       "    <tr>\n",
       "      <th>1</th>\n",
       "      <td>Credit reporting, credit repair services, or o...</td>\n",
       "      <td>Credit reporting</td>\n",
       "      <td>Incorrect information on your report</td>\n",
       "      <td>Information belongs to someone else</td>\n",
       "      <td>NaN</td>\n",
       "      <td>Web</td>\n",
       "    </tr>\n",
       "    <tr>\n",
       "      <th>2</th>\n",
       "      <td>Debt collection</td>\n",
       "      <td>I do not know</td>\n",
       "      <td>Communication tactics</td>\n",
       "      <td>Frequent or repeated calls</td>\n",
       "      <td>Over the past 2 weeks, I have been receiving e...</td>\n",
       "      <td>Web</td>\n",
       "    </tr>\n",
       "    <tr>\n",
       "      <th>3</th>\n",
       "      <td>Debt collection</td>\n",
       "      <td>Other debt</td>\n",
       "      <td>Attempts to collect debt not owed</td>\n",
       "      <td>Debt was result of identity theft</td>\n",
       "      <td>Pioneer has committed several federal violatio...</td>\n",
       "      <td>Web</td>\n",
       "    </tr>\n",
       "    <tr>\n",
       "      <th>4</th>\n",
       "      <td>Credit reporting, credit repair services, or o...</td>\n",
       "      <td>Credit reporting</td>\n",
       "      <td>Incorrect information on your report</td>\n",
       "      <td>Information belongs to someone else</td>\n",
       "      <td>NaN</td>\n",
       "      <td>Web</td>\n",
       "    </tr>\n",
       "  </tbody>\n",
       "</table>\n",
       "</div>"
      ],
      "text/plain": [
       "                                               label         sub_label  \\\n",
       "0                                    Debt collection     I do not know   \n",
       "1  Credit reporting, credit repair services, or o...  Credit reporting   \n",
       "2                                    Debt collection     I do not know   \n",
       "3                                    Debt collection        Other debt   \n",
       "4  Credit reporting, credit repair services, or o...  Credit reporting   \n",
       "\n",
       "                                  issue                            sub_issue  \\\n",
       "0     Attempts to collect debt not owed                    Debt is not yours   \n",
       "1  Incorrect information on your report  Information belongs to someone else   \n",
       "2                 Communication tactics           Frequent or repeated calls   \n",
       "3     Attempts to collect debt not owed    Debt was result of identity theft   \n",
       "4  Incorrect information on your report  Information belongs to someone else   \n",
       "\n",
       "                                           full_text submitted_via  \n",
       "0  transworld systems inc. \\nis trying to collect...           Web  \n",
       "1                                                NaN           Web  \n",
       "2  Over the past 2 weeks, I have been receiving e...           Web  \n",
       "3  Pioneer has committed several federal violatio...           Web  \n",
       "4                                                NaN           Web  "
      ]
     },
     "execution_count": 12,
     "metadata": {},
     "output_type": "execute_result"
    }
   ],
   "source": [
    "df.head()"
   ]
  },
  {
   "cell_type": "code",
   "execution_count": 13,
   "metadata": {},
   "outputs": [
    {
     "data": {
      "text/plain": [
       "label                  0\n",
       "sub_label         235165\n",
       "issue                  0\n",
       "sub_issue         589910\n",
       "full_text        1214191\n",
       "submitted_via          0\n",
       "dtype: int64"
      ]
     },
     "execution_count": 13,
     "metadata": {},
     "output_type": "execute_result"
    }
   ],
   "source": [
    "# Checking Null values in the frame\n",
    "df.isnull().sum()"
   ]
  },
  {
   "cell_type": "code",
   "execution_count": 14,
   "metadata": {},
   "outputs": [
    {
     "data": {
      "text/html": [
       "<div>\n",
       "<style scoped>\n",
       "    .dataframe tbody tr th:only-of-type {\n",
       "        vertical-align: middle;\n",
       "    }\n",
       "\n",
       "    .dataframe tbody tr th {\n",
       "        vertical-align: top;\n",
       "    }\n",
       "\n",
       "    .dataframe thead th {\n",
       "        text-align: right;\n",
       "    }\n",
       "</style>\n",
       "<table border=\"1\" class=\"dataframe\">\n",
       "  <thead>\n",
       "    <tr style=\"text-align: right;\">\n",
       "      <th></th>\n",
       "      <th>label</th>\n",
       "    </tr>\n",
       "  </thead>\n",
       "  <tbody>\n",
       "    <tr>\n",
       "      <th>Credit reporting, credit repair services, or other personal consumer reports</th>\n",
       "      <td>553660</td>\n",
       "    </tr>\n",
       "    <tr>\n",
       "      <th>Debt collection</th>\n",
       "      <td>321220</td>\n",
       "    </tr>\n",
       "    <tr>\n",
       "      <th>Mortgage</th>\n",
       "      <td>314233</td>\n",
       "    </tr>\n",
       "    <tr>\n",
       "      <th>Credit reporting</th>\n",
       "      <td>140432</td>\n",
       "    </tr>\n",
       "    <tr>\n",
       "      <th>Credit card or prepaid card</th>\n",
       "      <td>94142</td>\n",
       "    </tr>\n",
       "    <tr>\n",
       "      <th>Credit card</th>\n",
       "      <td>89190</td>\n",
       "    </tr>\n",
       "    <tr>\n",
       "      <th>Bank account or service</th>\n",
       "      <td>86206</td>\n",
       "    </tr>\n",
       "    <tr>\n",
       "      <th>Checking or savings account</th>\n",
       "      <td>76192</td>\n",
       "    </tr>\n",
       "    <tr>\n",
       "      <th>Student loan</th>\n",
       "      <td>59729</td>\n",
       "    </tr>\n",
       "    <tr>\n",
       "      <th>Consumer Loan</th>\n",
       "      <td>31604</td>\n",
       "    </tr>\n",
       "    <tr>\n",
       "      <th>Vehicle loan or lease</th>\n",
       "      <td>20876</td>\n",
       "    </tr>\n",
       "    <tr>\n",
       "      <th>Money transfer, virtual currency, or money service</th>\n",
       "      <td>20786</td>\n",
       "    </tr>\n",
       "    <tr>\n",
       "      <th>Payday loan, title loan, or personal loan</th>\n",
       "      <td>15342</td>\n",
       "    </tr>\n",
       "    <tr>\n",
       "      <th>Payday loan</th>\n",
       "      <td>5543</td>\n",
       "    </tr>\n",
       "    <tr>\n",
       "      <th>Money transfers</th>\n",
       "      <td>5354</td>\n",
       "    </tr>\n",
       "    <tr>\n",
       "      <th>Prepaid card</th>\n",
       "      <td>3819</td>\n",
       "    </tr>\n",
       "    <tr>\n",
       "      <th>Other financial service</th>\n",
       "      <td>1059</td>\n",
       "    </tr>\n",
       "    <tr>\n",
       "      <th>Virtual currency</th>\n",
       "      <td>18</td>\n",
       "    </tr>\n",
       "  </tbody>\n",
       "</table>\n",
       "</div>"
      ],
      "text/plain": [
       "                                                     label\n",
       "Credit reporting, credit repair services, or ot...  553660\n",
       "Debt collection                                     321220\n",
       "Mortgage                                            314233\n",
       "Credit reporting                                    140432\n",
       "Credit card or prepaid card                          94142\n",
       "Credit card                                          89190\n",
       "Bank account or service                              86206\n",
       "Checking or savings account                          76192\n",
       "Student loan                                         59729\n",
       "Consumer Loan                                        31604\n",
       "Vehicle loan or lease                                20876\n",
       "Money transfer, virtual currency, or money service   20786\n",
       "Payday loan, title loan, or personal loan            15342\n",
       "Payday loan                                           5543\n",
       "Money transfers                                       5354\n",
       "Prepaid card                                          3819\n",
       "Other financial service                               1059\n",
       "Virtual currency                                        18"
      ]
     },
     "execution_count": 14,
     "metadata": {},
     "output_type": "execute_result"
    }
   ],
   "source": [
    "# Checking How many values in label column\n",
    "df['label'].value_counts().to_frame()"
   ]
  },
  {
   "cell_type": "code",
   "execution_count": 15,
   "metadata": {},
   "outputs": [],
   "source": [
    "# Set pandas option to show all column since notebook\n",
    "# Restriction on showing all columns\n",
    "pd.set_option('display.max_rows', None)\n",
    "# disable chained assignments\n",
    "pd.options.mode.chained_assignment = None "
   ]
  },
  {
   "cell_type": "code",
   "execution_count": 16,
   "metadata": {},
   "outputs": [
    {
     "data": {
      "text/html": [
       "<div>\n",
       "<style scoped>\n",
       "    .dataframe tbody tr th:only-of-type {\n",
       "        vertical-align: middle;\n",
       "    }\n",
       "\n",
       "    .dataframe tbody tr th {\n",
       "        vertical-align: top;\n",
       "    }\n",
       "\n",
       "    .dataframe thead th {\n",
       "        text-align: right;\n",
       "    }\n",
       "</style>\n",
       "<table border=\"1\" class=\"dataframe\">\n",
       "  <thead>\n",
       "    <tr style=\"text-align: right;\">\n",
       "      <th></th>\n",
       "      <th>sub_label</th>\n",
       "    </tr>\n",
       "  </thead>\n",
       "  <tbody>\n",
       "    <tr>\n",
       "      <th>Credit reporting</th>\n",
       "      <td>546054</td>\n",
       "    </tr>\n",
       "    <tr>\n",
       "      <th>Checking account</th>\n",
       "      <td>117190</td>\n",
       "    </tr>\n",
       "    <tr>\n",
       "      <th>Other mortgage</th>\n",
       "      <td>86635</td>\n",
       "    </tr>\n",
       "    <tr>\n",
       "      <th>General-purpose credit card or charge card</th>\n",
       "      <td>71028</td>\n",
       "    </tr>\n",
       "    <tr>\n",
       "      <th>Conventional fixed mortgage</th>\n",
       "      <td>70613</td>\n",
       "    </tr>\n",
       "    <tr>\n",
       "      <th>I do not know</th>\n",
       "      <td>67782</td>\n",
       "    </tr>\n",
       "    <tr>\n",
       "      <th>Conventional home mortgage</th>\n",
       "      <td>51861</td>\n",
       "    </tr>\n",
       "    <tr>\n",
       "      <th>Other debt</th>\n",
       "      <td>50883</td>\n",
       "    </tr>\n",
       "    <tr>\n",
       "      <th>Other (i.e. phone, health club, etc.)</th>\n",
       "      <td>44543</td>\n",
       "    </tr>\n",
       "    <tr>\n",
       "      <th>Credit card debt</th>\n",
       "      <td>38730</td>\n",
       "    </tr>\n",
       "    <tr>\n",
       "      <th>FHA mortgage</th>\n",
       "      <td>37041</td>\n",
       "    </tr>\n",
       "    <tr>\n",
       "      <th>Credit card</th>\n",
       "      <td>28698</td>\n",
       "    </tr>\n",
       "    <tr>\n",
       "      <th>Federal student loan servicing</th>\n",
       "      <td>27896</td>\n",
       "    </tr>\n",
       "    <tr>\n",
       "      <th>Medical debt</th>\n",
       "      <td>27858</td>\n",
       "    </tr>\n",
       "    <tr>\n",
       "      <th>Conventional adjustable mortgage (ARM)</th>\n",
       "      <td>25380</td>\n",
       "    </tr>\n",
       "    <tr>\n",
       "      <th>Non-federal student loan</th>\n",
       "      <td>25164</td>\n",
       "    </tr>\n",
       "    <tr>\n",
       "      <th>Medical</th>\n",
       "      <td>21186</td>\n",
       "    </tr>\n",
       "    <tr>\n",
       "      <th>Other bank product/service</th>\n",
       "      <td>17825</td>\n",
       "    </tr>\n",
       "    <tr>\n",
       "      <th>Vehicle loan</th>\n",
       "      <td>17782</td>\n",
       "    </tr>\n",
       "    <tr>\n",
       "      <th>Loan</th>\n",
       "      <td>17385</td>\n",
       "    </tr>\n",
       "    <tr>\n",
       "      <th>Installment loan</th>\n",
       "      <td>15052</td>\n",
       "    </tr>\n",
       "    <tr>\n",
       "      <th>Store credit card</th>\n",
       "      <td>14825</td>\n",
       "    </tr>\n",
       "    <tr>\n",
       "      <th>Payday loan</th>\n",
       "      <td>11964</td>\n",
       "    </tr>\n",
       "    <tr>\n",
       "      <th>Home equity loan or line of credit</th>\n",
       "      <td>11624</td>\n",
       "    </tr>\n",
       "    <tr>\n",
       "      <th>Other type of mortgage</th>\n",
       "      <td>11396</td>\n",
       "    </tr>\n",
       "    <tr>\n",
       "      <th>Other banking product or service</th>\n",
       "      <td>10623</td>\n",
       "    </tr>\n",
       "    <tr>\n",
       "      <th>Savings account</th>\n",
       "      <td>10504</td>\n",
       "    </tr>\n",
       "    <tr>\n",
       "      <th>VA mortgage</th>\n",
       "      <td>10064</td>\n",
       "    </tr>\n",
       "    <tr>\n",
       "      <th>Private student loan</th>\n",
       "      <td>9550</td>\n",
       "    </tr>\n",
       "    <tr>\n",
       "      <th>Domestic (US) money transfer</th>\n",
       "      <td>8609</td>\n",
       "    </tr>\n",
       "    <tr>\n",
       "      <th>International money transfer</th>\n",
       "      <td>6171</td>\n",
       "    </tr>\n",
       "    <tr>\n",
       "      <th>Other personal consumer report</th>\n",
       "      <td>6045</td>\n",
       "    </tr>\n",
       "    <tr>\n",
       "      <th>Mobile or digital wallet</th>\n",
       "      <td>6020</td>\n",
       "    </tr>\n",
       "    <tr>\n",
       "      <th>Auto debt</th>\n",
       "      <td>5810</td>\n",
       "    </tr>\n",
       "    <tr>\n",
       "      <th>Home equity loan or line of credit (HELOC)</th>\n",
       "      <td>5623</td>\n",
       "    </tr>\n",
       "    <tr>\n",
       "      <th>Payday loan debt</th>\n",
       "      <td>5325</td>\n",
       "    </tr>\n",
       "    <tr>\n",
       "      <th>Personal line of credit</th>\n",
       "      <td>5051</td>\n",
       "    </tr>\n",
       "    <tr>\n",
       "      <th>Mortgage</th>\n",
       "      <td>4809</td>\n",
       "    </tr>\n",
       "    <tr>\n",
       "      <th>Government benefit card</th>\n",
       "      <td>3847</td>\n",
       "    </tr>\n",
       "    <tr>\n",
       "      <th>Mortgage debt</th>\n",
       "      <td>3755</td>\n",
       "    </tr>\n",
       "    <tr>\n",
       "      <th>Auto</th>\n",
       "      <td>3755</td>\n",
       "    </tr>\n",
       "    <tr>\n",
       "      <th>General-purpose prepaid card</th>\n",
       "      <td>3706</td>\n",
       "    </tr>\n",
       "    <tr>\n",
       "      <th>Lease</th>\n",
       "      <td>3473</td>\n",
       "    </tr>\n",
       "    <tr>\n",
       "      <th>(CD) Certificate of deposit</th>\n",
       "      <td>3417</td>\n",
       "    </tr>\n",
       "    <tr>\n",
       "      <th>Reverse mortgage</th>\n",
       "      <td>3335</td>\n",
       "    </tr>\n",
       "    <tr>\n",
       "      <th>Virtual currency</th>\n",
       "      <td>3327</td>\n",
       "    </tr>\n",
       "    <tr>\n",
       "      <th>Federal student loan debt</th>\n",
       "      <td>2666</td>\n",
       "    </tr>\n",
       "    <tr>\n",
       "      <th>Vehicle lease</th>\n",
       "      <td>2658</td>\n",
       "    </tr>\n",
       "    <tr>\n",
       "      <th>Private student loan debt</th>\n",
       "      <td>2502</td>\n",
       "    </tr>\n",
       "    <tr>\n",
       "      <th>Federal student loan</th>\n",
       "      <td>2475</td>\n",
       "    </tr>\n",
       "    <tr>\n",
       "      <th>CD (Certificate of Deposit)</th>\n",
       "      <td>2166</td>\n",
       "    </tr>\n",
       "    <tr>\n",
       "      <th>Title loan</th>\n",
       "      <td>1934</td>\n",
       "    </tr>\n",
       "    <tr>\n",
       "      <th>General purpose card</th>\n",
       "      <td>1752</td>\n",
       "    </tr>\n",
       "    <tr>\n",
       "      <th>Credit repair services</th>\n",
       "      <td>1560</td>\n",
       "    </tr>\n",
       "    <tr>\n",
       "      <th>Debt settlement</th>\n",
       "      <td>828</td>\n",
       "    </tr>\n",
       "    <tr>\n",
       "      <th>Payroll card</th>\n",
       "      <td>802</td>\n",
       "    </tr>\n",
       "    <tr>\n",
       "      <th>Second mortgage</th>\n",
       "      <td>662</td>\n",
       "    </tr>\n",
       "    <tr>\n",
       "      <th>Cashing a check without an account</th>\n",
       "      <td>625</td>\n",
       "    </tr>\n",
       "    <tr>\n",
       "      <th>Money order</th>\n",
       "      <td>519</td>\n",
       "    </tr>\n",
       "    <tr>\n",
       "      <th>Mobile wallet</th>\n",
       "      <td>418</td>\n",
       "    </tr>\n",
       "    <tr>\n",
       "      <th>Gift or merchant card</th>\n",
       "      <td>402</td>\n",
       "    </tr>\n",
       "    <tr>\n",
       "      <th>Traveler's check or cashier's check</th>\n",
       "      <td>398</td>\n",
       "    </tr>\n",
       "    <tr>\n",
       "      <th>Government benefit payment card</th>\n",
       "      <td>389</td>\n",
       "    </tr>\n",
       "    <tr>\n",
       "      <th>Gift card</th>\n",
       "      <td>334</td>\n",
       "    </tr>\n",
       "    <tr>\n",
       "      <th>Check cashing service</th>\n",
       "      <td>333</td>\n",
       "    </tr>\n",
       "    <tr>\n",
       "      <th>Foreign currency exchange</th>\n",
       "      <td>290</td>\n",
       "    </tr>\n",
       "    <tr>\n",
       "      <th>Check cashing</th>\n",
       "      <td>266</td>\n",
       "    </tr>\n",
       "    <tr>\n",
       "      <th>Refund anticipation check</th>\n",
       "      <td>265</td>\n",
       "    </tr>\n",
       "    <tr>\n",
       "      <th>ID prepaid card</th>\n",
       "      <td>207</td>\n",
       "    </tr>\n",
       "    <tr>\n",
       "      <th>Other special purpose card</th>\n",
       "      <td>191</td>\n",
       "    </tr>\n",
       "    <tr>\n",
       "      <th>Pawn loan</th>\n",
       "      <td>133</td>\n",
       "    </tr>\n",
       "    <tr>\n",
       "      <th>Credit repair</th>\n",
       "      <td>103</td>\n",
       "    </tr>\n",
       "    <tr>\n",
       "      <th>Traveler’s/Cashier’s checks</th>\n",
       "      <td>88</td>\n",
       "    </tr>\n",
       "    <tr>\n",
       "      <th>Transit card</th>\n",
       "      <td>37</td>\n",
       "    </tr>\n",
       "    <tr>\n",
       "      <th>Electronic Benefit Transfer / EBT card</th>\n",
       "      <td>12</td>\n",
       "    </tr>\n",
       "    <tr>\n",
       "      <th>Student prepaid card</th>\n",
       "      <td>11</td>\n",
       "    </tr>\n",
       "  </tbody>\n",
       "</table>\n",
       "</div>"
      ],
      "text/plain": [
       "                                            sub_label\n",
       "Credit reporting                               546054\n",
       "Checking account                               117190\n",
       "Other mortgage                                  86635\n",
       "General-purpose credit card or charge card      71028\n",
       "Conventional fixed mortgage                     70613\n",
       "I do not know                                   67782\n",
       "Conventional home mortgage                      51861\n",
       "Other debt                                      50883\n",
       "Other (i.e. phone, health club, etc.)           44543\n",
       "Credit card debt                                38730\n",
       "FHA mortgage                                    37041\n",
       "Credit card                                     28698\n",
       "Federal student loan servicing                  27896\n",
       "Medical debt                                    27858\n",
       "Conventional adjustable mortgage (ARM)          25380\n",
       "Non-federal student loan                        25164\n",
       "Medical                                         21186\n",
       "Other bank product/service                      17825\n",
       "Vehicle loan                                    17782\n",
       "Loan                                            17385\n",
       "Installment loan                                15052\n",
       "Store credit card                               14825\n",
       "Payday loan                                     11964\n",
       "Home equity loan or line of credit              11624\n",
       "Other type of mortgage                          11396\n",
       "Other banking product or service                10623\n",
       "Savings account                                 10504\n",
       "VA mortgage                                     10064\n",
       "Private student loan                             9550\n",
       "Domestic (US) money transfer                     8609\n",
       "International money transfer                     6171\n",
       "Other personal consumer report                   6045\n",
       "Mobile or digital wallet                         6020\n",
       "Auto debt                                        5810\n",
       "Home equity loan or line of credit (HELOC)       5623\n",
       "Payday loan debt                                 5325\n",
       "Personal line of credit                          5051\n",
       "Mortgage                                         4809\n",
       "Government benefit card                          3847\n",
       "Mortgage debt                                    3755\n",
       "Auto                                             3755\n",
       "General-purpose prepaid card                     3706\n",
       "Lease                                            3473\n",
       "(CD) Certificate of deposit                      3417\n",
       "Reverse mortgage                                 3335\n",
       "Virtual currency                                 3327\n",
       "Federal student loan debt                        2666\n",
       "Vehicle lease                                    2658\n",
       "Private student loan debt                        2502\n",
       "Federal student loan                             2475\n",
       "CD (Certificate of Deposit)                      2166\n",
       "Title loan                                       1934\n",
       "General purpose card                             1752\n",
       "Credit repair services                           1560\n",
       "Debt settlement                                   828\n",
       "Payroll card                                      802\n",
       "Second mortgage                                   662\n",
       "Cashing a check without an account                625\n",
       "Money order                                       519\n",
       "Mobile wallet                                     418\n",
       "Gift or merchant card                             402\n",
       "Traveler's check or cashier's check               398\n",
       "Government benefit payment card                   389\n",
       "Gift card                                         334\n",
       "Check cashing service                             333\n",
       "Foreign currency exchange                         290\n",
       "Check cashing                                     266\n",
       "Refund anticipation check                         265\n",
       "ID prepaid card                                   207\n",
       "Other special purpose card                        191\n",
       "Pawn loan                                         133\n",
       "Credit repair                                     103\n",
       "Traveler’s/Cashier’s checks                        88\n",
       "Transit card                                       37\n",
       "Electronic Benefit Transfer / EBT card             12\n",
       "Student prepaid card                               11"
      ]
     },
     "execution_count": 16,
     "metadata": {},
     "output_type": "execute_result"
    }
   ],
   "source": [
    "# Checking How many values in sub-label column\n",
    "df['sub_label'].value_counts().to_frame()"
   ]
  },
  {
   "cell_type": "code",
   "execution_count": 17,
   "metadata": {},
   "outputs": [
    {
     "data": {
      "text/html": [
       "<div>\n",
       "<style scoped>\n",
       "    .dataframe tbody tr th:only-of-type {\n",
       "        vertical-align: middle;\n",
       "    }\n",
       "\n",
       "    .dataframe tbody tr th {\n",
       "        vertical-align: top;\n",
       "    }\n",
       "\n",
       "    .dataframe thead th {\n",
       "        text-align: right;\n",
       "    }\n",
       "</style>\n",
       "<table border=\"1\" class=\"dataframe\">\n",
       "  <thead>\n",
       "    <tr style=\"text-align: right;\">\n",
       "      <th></th>\n",
       "      <th>submitted_via</th>\n",
       "    </tr>\n",
       "  </thead>\n",
       "  <tbody>\n",
       "    <tr>\n",
       "      <th>Web</th>\n",
       "      <td>1429188</td>\n",
       "    </tr>\n",
       "    <tr>\n",
       "      <th>Referral</th>\n",
       "      <td>202707</td>\n",
       "    </tr>\n",
       "    <tr>\n",
       "      <th>Phone</th>\n",
       "      <td>105169</td>\n",
       "    </tr>\n",
       "    <tr>\n",
       "      <th>Postal mail</th>\n",
       "      <td>78639</td>\n",
       "    </tr>\n",
       "    <tr>\n",
       "      <th>Fax</th>\n",
       "      <td>23279</td>\n",
       "    </tr>\n",
       "    <tr>\n",
       "      <th>Email</th>\n",
       "      <td>423</td>\n",
       "    </tr>\n",
       "  </tbody>\n",
       "</table>\n",
       "</div>"
      ],
      "text/plain": [
       "             submitted_via\n",
       "Web                1429188\n",
       "Referral            202707\n",
       "Phone               105169\n",
       "Postal mail          78639\n",
       "Fax                  23279\n",
       "Email                  423"
      ]
     },
     "execution_count": 17,
     "metadata": {},
     "output_type": "execute_result"
    }
   ],
   "source": [
    "# check values in submitted column\n",
    "df['submitted_via'].value_counts().to_frame()"
   ]
  },
  {
   "cell_type": "code",
   "execution_count": 18,
   "metadata": {},
   "outputs": [],
   "source": [
    "# Combine both issue and sub-issue to generate new column\n",
    "df['combined_issue'] = df[\"issue\"] + '-' + df[\"sub_issue\"]"
   ]
  },
  {
   "cell_type": "code",
   "execution_count": 19,
   "metadata": {},
   "outputs": [
    {
     "data": {
      "text/plain": [
       "'Incorrect information on your report-Information belongs to someone else'"
      ]
     },
     "execution_count": 19,
     "metadata": {},
     "output_type": "execute_result"
    }
   ],
   "source": [
    "df['combined_issue'][1]"
   ]
  },
  {
   "cell_type": "code",
   "execution_count": 20,
   "metadata": {},
   "outputs": [],
   "source": [
    "df.drop(columns=['issue', 'sub_issue'], inplace=True)"
   ]
  },
  {
   "cell_type": "code",
   "execution_count": 21,
   "metadata": {},
   "outputs": [
    {
     "data": {
      "text/plain": [
       "Index(['label', 'sub_label', 'full_text', 'submitted_via', 'combined_issue'], dtype='object')"
      ]
     },
     "execution_count": 21,
     "metadata": {},
     "output_type": "execute_result"
    }
   ],
   "source": [
    "df.columns"
   ]
  },
  {
   "cell_type": "code",
   "execution_count": 22,
   "metadata": {},
   "outputs": [
    {
     "data": {
      "text/html": [
       "<div>\n",
       "<style scoped>\n",
       "    .dataframe tbody tr th:only-of-type {\n",
       "        vertical-align: middle;\n",
       "    }\n",
       "\n",
       "    .dataframe tbody tr th {\n",
       "        vertical-align: top;\n",
       "    }\n",
       "\n",
       "    .dataframe thead th {\n",
       "        text-align: right;\n",
       "    }\n",
       "</style>\n",
       "<table border=\"1\" class=\"dataframe\">\n",
       "  <thead>\n",
       "    <tr style=\"text-align: right;\">\n",
       "      <th></th>\n",
       "      <th>combined_issue</th>\n",
       "    </tr>\n",
       "  </thead>\n",
       "  <tbody>\n",
       "    <tr>\n",
       "      <th>Incorrect information on your report-Information belongs to someone else</th>\n",
       "      <td>217689</td>\n",
       "    </tr>\n",
       "    <tr>\n",
       "      <th>Problem with a credit reporting company's investigation into an existing problem-Their investigation did not fix an error on your report</th>\n",
       "      <td>80916</td>\n",
       "    </tr>\n",
       "    <tr>\n",
       "      <th>Incorrect information on your report-Account status incorrect</th>\n",
       "      <td>49195</td>\n",
       "    </tr>\n",
       "    <tr>\n",
       "      <th>Incorrect information on your report-Account information incorrect</th>\n",
       "      <td>45136</td>\n",
       "    </tr>\n",
       "    <tr>\n",
       "      <th>Attempts to collect debt not owed-Debt is not yours</th>\n",
       "      <td>41840</td>\n",
       "    </tr>\n",
       "    <tr>\n",
       "      <th>Incorrect information on credit report-Account status</th>\n",
       "      <td>37057</td>\n",
       "    </tr>\n",
       "    <tr>\n",
       "      <th>Cont'd attempts collect debt not owed-Debt is not mine</th>\n",
       "      <td>36727</td>\n",
       "    </tr>\n",
       "    <tr>\n",
       "      <th>Improper use of your report-Credit inquiries on your report that you don't recognize</th>\n",
       "      <td>35775</td>\n",
       "    </tr>\n",
       "    <tr>\n",
       "      <th>Incorrect information on credit report-Information is not mine</th>\n",
       "      <td>32384</td>\n",
       "    </tr>\n",
       "    <tr>\n",
       "      <th>Written notification about debt-Didn't receive enough information to verify debt</th>\n",
       "      <td>29016</td>\n",
       "    </tr>\n",
       "    <tr>\n",
       "      <th>Communication tactics-Frequent or repeated calls</th>\n",
       "      <td>24131</td>\n",
       "    </tr>\n",
       "    <tr>\n",
       "      <th>Disclosure verification of debt-Not given enough info to verify debt</th>\n",
       "      <td>21811</td>\n",
       "    </tr>\n",
       "    <tr>\n",
       "      <th>False statements or representation-Attempted to collect wrong amount</th>\n",
       "      <td>21263</td>\n",
       "    </tr>\n",
       "    <tr>\n",
       "      <th>Attempts to collect debt not owed-Debt was result of identity theft</th>\n",
       "      <td>20643</td>\n",
       "    </tr>\n",
       "    <tr>\n",
       "      <th>Incorrect information on your report-Personal information incorrect</th>\n",
       "      <td>17715</td>\n",
       "    </tr>\n",
       "    <tr>\n",
       "      <th>Improper use of your report-Reporting company used your report improperly</th>\n",
       "      <td>17293</td>\n",
       "    </tr>\n",
       "    <tr>\n",
       "      <th>Cont'd attempts collect debt not owed-Debt was paid</th>\n",
       "      <td>16627</td>\n",
       "    </tr>\n",
       "    <tr>\n",
       "      <th>Managing an account-Deposits and withdrawals</th>\n",
       "      <td>16480</td>\n",
       "    </tr>\n",
       "    <tr>\n",
       "      <th>Attempts to collect debt not owed-Debt was paid</th>\n",
       "      <td>16467</td>\n",
       "    </tr>\n",
       "    <tr>\n",
       "      <th>Problem with a credit reporting company's investigation into an existing problem-Investigation took more than 30 days</th>\n",
       "      <td>16334</td>\n",
       "    </tr>\n",
       "  </tbody>\n",
       "</table>\n",
       "</div>"
      ],
      "text/plain": [
       "                                                    combined_issue\n",
       "Incorrect information on your report-Informatio...          217689\n",
       "Problem with a credit reporting company's inves...           80916\n",
       "Incorrect information on your report-Account st...           49195\n",
       "Incorrect information on your report-Account in...           45136\n",
       "Attempts to collect debt not owed-Debt is not y...           41840\n",
       "Incorrect information on credit report-Account ...           37057\n",
       "Cont'd attempts collect debt not owed-Debt is n...           36727\n",
       "Improper use of your report-Credit inquiries on...           35775\n",
       "Incorrect information on credit report-Informat...           32384\n",
       "Written notification about debt-Didn't receive ...           29016\n",
       "Communication tactics-Frequent or repeated calls             24131\n",
       "Disclosure verification of debt-Not given enoug...           21811\n",
       "False statements or representation-Attempted to...           21263\n",
       "Attempts to collect debt not owed-Debt was resu...           20643\n",
       "Incorrect information on your report-Personal i...           17715\n",
       "Improper use of your report-Reporting company u...           17293\n",
       "Cont'd attempts collect debt not owed-Debt was ...           16627\n",
       "Managing an account-Deposits and withdrawals                 16480\n",
       "Attempts to collect debt not owed-Debt was paid              16467\n",
       "Problem with a credit reporting company's inves...           16334"
      ]
     },
     "execution_count": 22,
     "metadata": {},
     "output_type": "execute_result"
    }
   ],
   "source": [
    "df['combined_issue'].value_counts().to_frame()[:20]"
   ]
  },
  {
   "cell_type": "code",
   "execution_count": 23,
   "metadata": {},
   "outputs": [],
   "source": [
    "# Rearrange columns\n",
    "df=df.reindex(columns= ['full_text', 'combined_issue', 'submitted_via','sub_label', 'label'])"
   ]
  },
  {
   "cell_type": "code",
   "execution_count": 24,
   "metadata": {},
   "outputs": [
    {
     "data": {
      "text/plain": [
       "full_text         1214191\n",
       "combined_issue     589910\n",
       "submitted_via           0\n",
       "sub_label          235165\n",
       "label                   0\n",
       "dtype: int64"
      ]
     },
     "execution_count": 24,
     "metadata": {},
     "output_type": "execute_result"
    }
   ],
   "source": [
    "# Checking Null values in the frame\n",
    "df.isnull().sum()"
   ]
  },
  {
   "cell_type": "code",
   "execution_count": 25,
   "metadata": {},
   "outputs": [
    {
     "data": {
      "text/plain": [
       "full_text         66.01\n",
       "combined_issue    32.07\n",
       "submitted_via      0.00\n",
       "sub_label         12.78\n",
       "label              0.00\n",
       "dtype: float64"
      ]
     },
     "execution_count": 25,
     "metadata": {},
     "output_type": "execute_result"
    }
   ],
   "source": [
    "# Null values precentage\n",
    "df.isna().mean().round(4) * 100"
   ]
  },
  {
   "cell_type": "code",
   "execution_count": 26,
   "metadata": {},
   "outputs": [
    {
     "data": {
      "text/plain": [
       "<AxesSubplot:xlabel='count', ylabel='label'>"
      ]
     },
     "execution_count": 26,
     "metadata": {},
     "output_type": "execute_result"
    },
    {
     "data": {
      "image/png": "[encoded data removed]",
      "text/plain": [
       "<Figure size 720x576 with 1 Axes>"
      ]
     },
     "metadata": {
      "needs_background": "light"
     },
     "output_type": "display_data"
    }
   ],
   "source": [
    "# Plot label\n",
    "plt.figure(figsize=(10,8))\n",
    "sns.countplot(y='label', data=df)"
   ]
  },
  {
   "cell_type": "code",
   "execution_count": 27,
   "metadata": {},
   "outputs": [
    {
     "data": {
      "text/plain": [
       "<AxesSubplot:xlabel='count', ylabel='sub_label'>"
      ]
     },
     "execution_count": 27,
     "metadata": {},
     "output_type": "execute_result"
    },
    {
     "data": {
      "image/png": "[encoded data removed]",
      "text/plain": [
       "<Figure size 720x1080 with 1 Axes>"
      ]
     },
     "metadata": {
      "needs_background": "light"
     },
     "output_type": "display_data"
    }
   ],
   "source": [
    "# Plot sublabel\n",
    "plt.figure(figsize=(10,15))\n",
    "sns.countplot(y='sub_label', data=df)"
   ]
  },
  {
   "cell_type": "code",
   "execution_count": 27,
   "metadata": {},
   "outputs": [
    {
     "data": {
      "text/plain": [
       "<AxesSubplot:>"
      ]
     },
     "execution_count": 27,
     "metadata": {},
     "output_type": "execute_result"
    },
    {
     "data": {
      "image/png": "[encoded data removed]",
      "text/plain": [
       "<Figure size 1800x720 with 2 Axes>"
      ]
     },
     "metadata": {
      "needs_background": "light"
     },
     "output_type": "display_data"
    }
   ],
   "source": [
    "# Visualize missing values as a matrix \n",
    "msno.matrix(df)"
   ]
  },
  {
   "cell_type": "code",
   "execution_count": 28,
   "metadata": {},
   "outputs": [
    {
     "data": {
      "text/plain": [
       "<AxesSubplot:>"
      ]
     },
     "execution_count": 28,
     "metadata": {},
     "output_type": "execute_result"
    },
    {
     "data": {
      "image/png": "[encoded data removed]",
      "text/plain": [
       "<Figure size 1728x720 with 3 Axes>"
      ]
     },
     "metadata": {
      "needs_background": "light"
     },
     "output_type": "display_data"
    }
   ],
   "source": [
    "# Visualize the number of missing values as a bar chart \n",
    "msno.bar(df)"
   ]
  },
  {
   "cell_type": "code",
   "execution_count": 29,
   "metadata": {},
   "outputs": [],
   "source": [
    "# Replacing missing value with combined issue column value\n",
    "df['full_text'].fillna(df['combined_issue'], inplace=True)"
   ]
  },
  {
   "cell_type": "code",
   "execution_count": 30,
   "metadata": {},
   "outputs": [
    {
     "data": {
      "text/plain": [
       "<AxesSubplot:>"
      ]
     },
     "execution_count": 30,
     "metadata": {},
     "output_type": "execute_result"
    },
    {
     "data": {
      "image/png": "[encoded data removed]",
      "text/plain": [
       "<Figure size 1800x720 with 2 Axes>"
      ]
     },
     "metadata": {
      "needs_background": "light"
     },
     "output_type": "display_data"
    }
   ],
   "source": [
    "# Visualize missing values as a matrix \n",
    "msno.matrix(df)"
   ]
  },
  {
   "cell_type": "code",
   "execution_count": 31,
   "metadata": {},
   "outputs": [
    {
     "data": {
      "text/plain": [
       "<AxesSubplot:>"
      ]
     },
     "execution_count": 31,
     "metadata": {},
     "output_type": "execute_result"
    },
    {
     "data": {
      "image/png": "[encoded data removed]",
      "text/plain": [
       "<Figure size 1728x720 with 3 Axes>"
      ]
     },
     "metadata": {
      "needs_background": "light"
     },
     "output_type": "display_data"
    }
   ],
   "source": [
    "# Visualize the number of missing values as a bar chart \n",
    "msno.bar(df)"
   ]
  },
  {
   "cell_type": "code",
   "execution_count": 32,
   "metadata": {},
   "outputs": [
    {
     "data": {
      "text/plain": [
       "full_text         445558\n",
       "combined_issue    589910\n",
       "submitted_via          0\n",
       "sub_label         235165\n",
       "label                  0\n",
       "dtype: int64"
      ]
     },
     "execution_count": 32,
     "metadata": {},
     "output_type": "execute_result"
    }
   ],
   "source": [
    "# Checking Null values in the frame\n",
    "df.isnull().sum()"
   ]
  },
  {
   "cell_type": "code",
   "execution_count": 33,
   "metadata": {},
   "outputs": [
    {
     "data": {
      "text/plain": [
       "(1839405, 5)"
      ]
     },
     "execution_count": 33,
     "metadata": {},
     "output_type": "execute_result"
    }
   ],
   "source": [
    "# shape of the dataframe\n",
    "df.shape"
   ]
  },
  {
   "cell_type": "code",
   "execution_count": 34,
   "metadata": {},
   "outputs": [],
   "source": [
    "# Creating new dataframe contains only not null values\n",
    "df_cleaned = df[df['full_text'].notna()]"
   ]
  },
  {
   "cell_type": "code",
   "execution_count": 35,
   "metadata": {},
   "outputs": [
    {
     "data": {
      "text/plain": [
       "(1393847, 5)"
      ]
     },
     "execution_count": 35,
     "metadata": {},
     "output_type": "execute_result"
    }
   ],
   "source": [
    "# Cleaaned Dataframe shape\n",
    "df_cleaned.shape"
   ]
  },
  {
   "cell_type": "code",
   "execution_count": 36,
   "metadata": {},
   "outputs": [
    {
     "data": {
      "text/plain": [
       "full_text              0\n",
       "combined_issue    144352\n",
       "submitted_via          0\n",
       "sub_label         161016\n",
       "label                  0\n",
       "dtype: int64"
      ]
     },
     "execution_count": 36,
     "metadata": {},
     "output_type": "execute_result"
    }
   ],
   "source": [
    "# Checking Null values in the frame\n",
    "df_cleaned.isnull().sum()"
   ]
  },
  {
   "cell_type": "code",
   "execution_count": 37,
   "metadata": {},
   "outputs": [],
   "source": [
    "# Dropping the combined issue column since we already have full text column\n",
    "df_cleaned.drop(columns=['combined_issue'],inplace=True)"
   ]
  },
  {
   "cell_type": "code",
   "execution_count": 38,
   "metadata": {},
   "outputs": [],
   "source": [
    "# Since combined issue having more duplicate value, we are removing those rows.\n",
    "df_cleaned.drop_duplicates(inplace=True)"
   ]
  },
  {
   "cell_type": "code",
   "execution_count": 39,
   "metadata": {},
   "outputs": [
    {
     "data": {
      "text/plain": [
       "(579977, 4)"
      ]
     },
     "execution_count": 39,
     "metadata": {},
     "output_type": "execute_result"
    }
   ],
   "source": [
    "# Shape of the dataframe after removed duplicates\n",
    "df_cleaned.shape"
   ]
  },
  {
   "cell_type": "code",
   "execution_count": 40,
   "metadata": {},
   "outputs": [
    {
     "data": {
      "text/plain": [
       "Index(['full_text', 'submitted_via', 'sub_label', 'label'], dtype='object')"
      ]
     },
     "execution_count": 40,
     "metadata": {},
     "output_type": "execute_result"
    }
   ],
   "source": [
    "# List of column in the cleaned dataframe\n",
    "df_cleaned.columns"
   ]
  },
  {
   "cell_type": "code",
   "execution_count": 41,
   "metadata": {},
   "outputs": [
    {
     "name": "stdout",
     "output_type": "stream",
     "text": [
      "<class 'pandas.core.frame.DataFrame'>\n",
      "Int64Index: 579977 entries, 0 to 1839404\n",
      "Data columns (total 4 columns):\n",
      " #   Column         Non-Null Count   Dtype \n",
      "---  ------         --------------   ----- \n",
      " 0   full_text      579977 non-null  object\n",
      " 1   submitted_via  579977 non-null  object\n",
      " 2   sub_label      529544 non-null  object\n",
      " 3   label          579977 non-null  object\n",
      "dtypes: object(4)\n",
      "memory usage: 22.1+ MB\n"
     ]
    }
   ],
   "source": [
    "# Information about cleaned dataframe\n",
    "df_cleaned.info()"
   ]
  },
  {
   "cell_type": "code",
   "execution_count": 44,
   "metadata": {},
   "outputs": [],
   "source": [
    "df_cleaned.drop(columns=['submitted_via', 'sub_label'],inplace=True)"
   ]
  },
  {
   "cell_type": "code",
   "execution_count": 45,
   "metadata": {},
   "outputs": [
    {
     "data": {
      "text/plain": [
       "Index(['full_text', 'label'], dtype='object')"
      ]
     },
     "execution_count": 45,
     "metadata": {},
     "output_type": "execute_result"
    }
   ],
   "source": [
    "df_cleaned.columns"
   ]
  },
  {
   "cell_type": "code",
   "execution_count": 46,
   "metadata": {},
   "outputs": [],
   "source": [
    "df_cleaned.to_csv(\"../../data/cleaned_data.csv\")"
   ]
  },
  {
   "cell_type": "markdown",
   "metadata": {},
   "source": [
    "# Meta features"
   ]
  },
  {
   "cell_type": "code",
   "execution_count": 43,
   "metadata": {},
   "outputs": [],
   "source": [
    "# Word count - Number of words in the text\n",
    "df_cleaned['word_count'] = df_cleaned['full_text'].apply(lambda x: len(str(x).split()))"
   ]
  },
  {
   "cell_type": "code",
   "execution_count": 44,
   "metadata": {},
   "outputs": [],
   "source": [
    "# Unique word count - Number of unique words in the text\n",
    "df_cleaned['unique_word_count'] = df_cleaned['full_text'].apply(lambda x: len(set(str(x).split())))"
   ]
  },
  {
   "cell_type": "code",
   "execution_count": 45,
   "metadata": {},
   "outputs": [],
   "source": [
    "# Stop word count - Number of stop words in the text\n",
    "df_cleaned['stop_word_count'] = df_cleaned['full_text'].apply(lambda x: len([w for w in str(x).lower().split() if w in STOPWORDS]))"
   ]
  },
  {
   "cell_type": "code",
   "execution_count": 46,
   "metadata": {},
   "outputs": [],
   "source": [
    "# url_count - Number of url in the text\n",
    "df_cleaned['url_count'] = df_cleaned['full_text'].apply(lambda x: len([w for w in str(x).lower().split() if 'http' in w or 'https' in w]))"
   ]
  },
  {
   "cell_type": "code",
   "execution_count": 47,
   "metadata": {},
   "outputs": [],
   "source": [
    "# mean word length - Avarage character length\n",
    "df_cleaned['mean_word_length'] = df_cleaned['full_text'].apply(lambda x: np.mean([len(w) for w in str(x).split()]))"
   ]
  },
  {
   "cell_type": "code",
   "execution_count": 48,
   "metadata": {},
   "outputs": [],
   "source": [
    "# Char count - Number of character in the text\n",
    "df_cleaned['char_count'] = df_cleaned['full_text'].apply(lambda x: len(str(x)))"
   ]
  },
  {
   "cell_type": "code",
   "execution_count": 49,
   "metadata": {},
   "outputs": [],
   "source": [
    "# Punctuation count - Number of characters in text\n",
    "df_cleaned['punctuation_count'] = df_cleaned['full_text'].apply(lambda x: len([c for c in str(x) if c in string.punctuation]))"
   ]
  },
  {
   "cell_type": "code",
   "execution_count": 50,
   "metadata": {},
   "outputs": [
    {
     "data": {
      "text/html": [
       "<div>\n",
       "<style scoped>\n",
       "    .dataframe tbody tr th:only-of-type {\n",
       "        vertical-align: middle;\n",
       "    }\n",
       "\n",
       "    .dataframe tbody tr th {\n",
       "        vertical-align: top;\n",
       "    }\n",
       "\n",
       "    .dataframe thead th {\n",
       "        text-align: right;\n",
       "    }\n",
       "</style>\n",
       "<table border=\"1\" class=\"dataframe\">\n",
       "  <thead>\n",
       "    <tr style=\"text-align: right;\">\n",
       "      <th></th>\n",
       "      <th>full_text</th>\n",
       "      <th>submitted_via</th>\n",
       "      <th>sub_label</th>\n",
       "      <th>label</th>\n",
       "      <th>word_count</th>\n",
       "      <th>unique_word_count</th>\n",
       "      <th>stop_word_count</th>\n",
       "      <th>url_count</th>\n",
       "      <th>mean_word_length</th>\n",
       "      <th>char_count</th>\n",
       "      <th>punctuation_count</th>\n",
       "    </tr>\n",
       "  </thead>\n",
       "  <tbody>\n",
       "    <tr>\n",
       "      <th>0</th>\n",
       "      <td>transworld systems inc. \\nis trying to collect...</td>\n",
       "      <td>Web</td>\n",
       "      <td>I do not know</td>\n",
       "      <td>Debt collection</td>\n",
       "      <td>18</td>\n",
       "      <td>15</td>\n",
       "      <td>9</td>\n",
       "      <td>0</td>\n",
       "      <td>4.444444</td>\n",
       "      <td>98</td>\n",
       "      <td>3</td>\n",
       "    </tr>\n",
       "    <tr>\n",
       "      <th>1</th>\n",
       "      <td>Incorrect information on your report-Informati...</td>\n",
       "      <td>Web</td>\n",
       "      <td>Credit reporting</td>\n",
       "      <td>Credit reporting, credit repair services, or o...</td>\n",
       "      <td>9</td>\n",
       "      <td>9</td>\n",
       "      <td>4</td>\n",
       "      <td>0</td>\n",
       "      <td>7.111111</td>\n",
       "      <td>72</td>\n",
       "      <td>1</td>\n",
       "    </tr>\n",
       "    <tr>\n",
       "      <th>2</th>\n",
       "      <td>Over the past 2 weeks, I have been receiving e...</td>\n",
       "      <td>Web</td>\n",
       "      <td>I do not know</td>\n",
       "      <td>Debt collection</td>\n",
       "      <td>78</td>\n",
       "      <td>54</td>\n",
       "      <td>43</td>\n",
       "      <td>0</td>\n",
       "      <td>4.076923</td>\n",
       "      <td>395</td>\n",
       "      <td>5</td>\n",
       "    </tr>\n",
       "    <tr>\n",
       "      <th>3</th>\n",
       "      <td>Pioneer has committed several federal violatio...</td>\n",
       "      <td>Web</td>\n",
       "      <td>Other debt</td>\n",
       "      <td>Debt collection</td>\n",
       "      <td>152</td>\n",
       "      <td>96</td>\n",
       "      <td>41</td>\n",
       "      <td>0</td>\n",
       "      <td>4.611842</td>\n",
       "      <td>852</td>\n",
       "      <td>40</td>\n",
       "    </tr>\n",
       "    <tr>\n",
       "      <th>5</th>\n",
       "      <td>Problem with a credit reporting company's inve...</td>\n",
       "      <td>Web</td>\n",
       "      <td>Credit reporting</td>\n",
       "      <td>Credit reporting, credit repair services, or o...</td>\n",
       "      <td>20</td>\n",
       "      <td>18</td>\n",
       "      <td>9</td>\n",
       "      <td>0</td>\n",
       "      <td>5.850000</td>\n",
       "      <td>136</td>\n",
       "      <td>2</td>\n",
       "    </tr>\n",
       "  </tbody>\n",
       "</table>\n",
       "</div>"
      ],
      "text/plain": [
       "                                           full_text submitted_via  \\\n",
       "0  transworld systems inc. \\nis trying to collect...           Web   \n",
       "1  Incorrect information on your report-Informati...           Web   \n",
       "2  Over the past 2 weeks, I have been receiving e...           Web   \n",
       "3  Pioneer has committed several federal violatio...           Web   \n",
       "5  Problem with a credit reporting company's inve...           Web   \n",
       "\n",
       "          sub_label                                              label  \\\n",
       "0     I do not know                                    Debt collection   \n",
       "1  Credit reporting  Credit reporting, credit repair services, or o...   \n",
       "2     I do not know                                    Debt collection   \n",
       "3        Other debt                                    Debt collection   \n",
       "5  Credit reporting  Credit reporting, credit repair services, or o...   \n",
       "\n",
       "   word_count  unique_word_count  stop_word_count  url_count  \\\n",
       "0          18                 15                9          0   \n",
       "1           9                  9                4          0   \n",
       "2          78                 54               43          0   \n",
       "3         152                 96               41          0   \n",
       "5          20                 18                9          0   \n",
       "\n",
       "   mean_word_length  char_count  punctuation_count  \n",
       "0          4.444444          98                  3  \n",
       "1          7.111111          72                  1  \n",
       "2          4.076923         395                  5  \n",
       "3          4.611842         852                 40  \n",
       "5          5.850000         136                  2  "
      ]
     },
     "execution_count": 50,
     "metadata": {},
     "output_type": "execute_result"
    }
   ],
   "source": [
    "df_cleaned.head()"
   ]
  },
  {
   "cell_type": "markdown",
   "metadata": {},
   "source": [
    "### Handle Imbalanced data"
   ]
  },
  {
   "cell_type": "code",
   "execution_count": 51,
   "metadata": {},
   "outputs": [
    {
     "data": {
      "text/plain": [
       "<AxesSubplot:xlabel='count', ylabel='label'>"
      ]
     },
     "execution_count": 51,
     "metadata": {},
     "output_type": "execute_result"
    },
    {
     "data": {
      "image/png": "[encoded data removed]",
      "text/plain": [
       "<Figure size 720x576 with 1 Axes>"
      ]
     },
     "metadata": {
      "needs_background": "light"
     },
     "output_type": "display_data"
    }
   ],
   "source": [
    "# Plot label\n",
    "plt.figure(figsize=(10,8))\n",
    "sns.countplot(y='label', data=df_cleaned)"
   ]
  },
  {
   "cell_type": "code",
   "execution_count": 52,
   "metadata": {},
   "outputs": [
    {
     "name": "stdout",
     "output_type": "stream",
     "text": [
      "Requirement already satisfied: googletrans in e:\\springboard\\works\\support_ticket_label_classification\\venv\\lib\\site-packages (3.0.0)\n",
      "Requirement already satisfied: httpx==0.13.3 in e:\\springboard\\works\\support_ticket_label_classification\\venv\\lib\\site-packages (from googletrans) (0.13.3)\n",
      "Requirement already satisfied: sniffio in e:\\springboard\\works\\support_ticket_label_classification\\venv\\lib\\site-packages (from httpx==0.13.3->googletrans) (1.2.0)\n",
      "Requirement already satisfied: hstspreload in e:\\springboard\\works\\support_ticket_label_classification\\venv\\lib\\site-packages (from httpx==0.13.3->googletrans) (2020.11.21)\n",
      "Requirement already satisfied: idna==2.* in e:\\springboard\\works\\support_ticket_label_classification\\venv\\lib\\site-packages (from httpx==0.13.3->googletrans) (2.10)\n",
      "Requirement already satisfied: chardet==3.* in e:\\springboard\\works\\support_ticket_label_classification\\venv\\lib\\site-packages (from httpx==0.13.3->googletrans) (3.0.4)\n",
      "Requirement already satisfied: rfc3986<2,>=1.3 in e:\\springboard\\works\\support_ticket_label_classification\\venv\\lib\\site-packages (from httpx==0.13.3->googletrans) (1.4.0)\n",
      "Requirement already satisfied: certifi in e:\\springboard\\works\\support_ticket_label_classification\\venv\\lib\\site-packages (from httpx==0.13.3->googletrans) (2020.11.8)\n",
      "Requirement already satisfied: httpcore==0.9.* in e:\\springboard\\works\\support_ticket_label_classification\\venv\\lib\\site-packages (from httpx==0.13.3->googletrans) (0.9.1)\n",
      "Requirement already satisfied: h11<0.10,>=0.8 in e:\\springboard\\works\\support_ticket_label_classification\\venv\\lib\\site-packages (from httpcore==0.9.*->httpx==0.13.3->googletrans) (0.9.0)\n",
      "Requirement already satisfied: h2==3.* in e:\\springboard\\works\\support_ticket_label_classification\\venv\\lib\\site-packages (from httpcore==0.9.*->httpx==0.13.3->googletrans) (3.2.0)\n",
      "Requirement already satisfied: hpack<4,>=3.0 in e:\\springboard\\works\\support_ticket_label_classification\\venv\\lib\\site-packages (from h2==3.*->httpcore==0.9.*->httpx==0.13.3->googletrans) (3.0.0)\n",
      "Requirement already satisfied: hyperframe<6,>=5.2.0 in e:\\springboard\\works\\support_ticket_label_classification\\venv\\lib\\site-packages (from h2==3.*->httpcore==0.9.*->httpx==0.13.3->googletrans) (5.2.0)\n"
     ]
    },
    {
     "name": "stderr",
     "output_type": "stream",
     "text": [
      "WARNING: You are using pip version 20.1.1; however, version 20.3 is available.\n",
      "You should consider upgrading via the 'e:\\springboard\\works\\support_ticket_label_classification\\venv\\scripts\\python.exe -m pip install --upgrade pip' command.\n"
     ]
    }
   ],
   "source": [
    "!pip install googletrans"
   ]
  },
  {
   "cell_type": "code",
   "execution_count": 53,
   "metadata": {},
   "outputs": [],
   "source": [
    "virtual_currecy_data = df_cleaned.loc[df_cleaned['label'] == 'Virtual currency']"
   ]
  },
  {
   "cell_type": "code",
   "execution_count": 54,
   "metadata": {},
   "outputs": [],
   "source": [
    "pd.set_option('display.max_columns', None)\n",
    "pd.set_option('display.width', None)\n",
    "pd.set_option('display.max_colwidth', None)"
   ]
  },
  {
   "cell_type": "code",
   "execution_count": 86,
   "metadata": {},
   "outputs": [
    {
     "data": {
      "text/html": [
       "<div>\n",
       "<style scoped>\n",
       "    .dataframe tbody tr th:only-of-type {\n",
       "        vertical-align: middle;\n",
       "    }\n",
       "\n",
       "    .dataframe tbody tr th {\n",
       "        vertical-align: top;\n",
       "    }\n",
       "\n",
       "    .dataframe thead th {\n",
       "        text-align: right;\n",
       "    }\n",
       "</style>\n",
       "<table border=\"1\" class=\"dataframe\">\n",
       "  <thead>\n",
       "    <tr style=\"text-align: right;\">\n",
       "      <th></th>\n",
       "      <th>full_text</th>\n",
       "      <th>submitted_via</th>\n",
       "      <th>sub_label</th>\n",
       "      <th>label</th>\n",
       "      <th>word_count</th>\n",
       "      <th>unique_word_count</th>\n",
       "      <th>stop_word_count</th>\n",
       "      <th>url_count</th>\n",
       "      <th>mean_word_length</th>\n",
       "      <th>char_count</th>\n",
       "      <th>punctuation_count</th>\n",
       "    </tr>\n",
       "  </thead>\n",
       "  <tbody>\n",
       "    <tr>\n",
       "      <th>610371</th>\n",
       "      <td>Two weeks ago my accounts with Coinbase were locked for some unknown reason. Since then I have attempted to reset my password to access my account and have been unable to do so because Coinbase does not recognize my IP address and after contacting their customer support I have received no response except for an initial email telling me to reset my password, which I can not do as stated above. Coinbase now has blocked my accounts and stopped communicating with me. They are holding approximately $ 16K of my money in Bitcoins.</td>\n",
       "      <td>Web</td>\n",
       "      <td>Domestic (US) money transfer</td>\n",
       "      <td>Virtual currency</td>\n",
       "      <td>93</td>\n",
       "      <td>70</td>\n",
       "      <td>49</td>\n",
       "      <td>0</td>\n",
       "      <td>4.698925</td>\n",
       "      <td>529</td>\n",
       "      <td>6</td>\n",
       "    </tr>\n",
       "  </tbody>\n",
       "</table>\n",
       "</div>"
      ],
      "text/plain": [
       "                                                                                                                                                                                                                                                                                                                                                                                                                                                                                                                                                full_text  \\\n",
       "610371  Two weeks ago my accounts with Coinbase were locked for some unknown reason. Since then I have attempted to reset my password to access my account and have been unable to do so because Coinbase does not recognize my IP address and after contacting their customer support I have received no response except for an initial email telling me to reset my password, which I can not do as stated above. Coinbase now has blocked my accounts and stopped communicating with me. They are holding approximately $ 16K of my money in Bitcoins.   \n",
       "\n",
       "       submitted_via                     sub_label             label  \\\n",
       "610371           Web  Domestic (US) money transfer  Virtual currency   \n",
       "\n",
       "        word_count  unique_word_count  stop_word_count  url_count  \\\n",
       "610371          93                 70               49          0   \n",
       "\n",
       "        mean_word_length  char_count  punctuation_count  \n",
       "610371          4.698925         529                  6  "
      ]
     },
     "execution_count": 86,
     "metadata": {},
     "output_type": "execute_result"
    }
   ],
   "source": [
    "virtual_currecy_data[:1]"
   ]
  },
  {
   "cell_type": "code",
   "execution_count": 65,
   "metadata": {},
   "outputs": [
    {
     "data": {
      "text/plain": [
       "(14, 11)"
      ]
     },
     "execution_count": 65,
     "metadata": {},
     "output_type": "execute_result"
    }
   ],
   "source": [
    "virtual_currecy_data.shape"
   ]
  },
  {
   "cell_type": "code",
   "execution_count": 66,
   "metadata": {},
   "outputs": [],
   "source": [
    "from googletrans import Translator\n",
    "translator = Translator()"
   ]
  },
  {
   "cell_type": "code",
   "execution_count": 88,
   "metadata": {},
   "outputs": [],
   "source": [
    "def german_translation(x):\n",
    "    german_translation = translator.translate(x, dest='de')    \n",
    "    return german_translation.text\n",
    "\n",
    "def italian_translation(x):   \n",
    "    german_translation = translator.translate(x, dest='it')    \n",
    "    return german_translation.text\n",
    "\n",
    "def arabic_translation(x):\n",
    "    german_translation = translator.translate(x, dest='ar')    \n",
    "    return german_translation.text\n",
    "    \n",
    "\n",
    "def English_translation(x):  \n",
    "    english_translation = translator.translate(x, dest='en')    \n",
    "    return english_translation.text"
   ]
  },
  {
   "cell_type": "code",
   "execution_count": 89,
   "metadata": {},
   "outputs": [
    {
     "name": "stdout",
     "output_type": "stream",
     "text": [
      "Two weeks ago my accounts with Coinbase were suspended for an unknown reason.\n",
      "Since then, I've tried to reset my password to access my account\n",
      "This is not possible because Coinbase does not recognize my IP address and after contacting me\n",
      "I haven't received a reply, except for a first email\n",
      "I need to reset my password which I cannot do as stated above. Coinbase has now blocked my accounts\n",
      "and stopped communicating with me. They hold about $ 16K of my money in bitcoins.\n"
     ]
    }
   ],
   "source": [
    "x = german_translation('''Two weeks ago my accounts with Coinbase were locked for some unknown reason. \n",
    "Since then I have attempted to reset my password to access my account and have been\n",
    "unable to do so because Coinbase does not recognize my IP address and after contacting\n",
    "their customer support I have received no response except for an initial email telling\n",
    "me to reset my password, which I can not do as stated above. Coinbase now has blocked my accounts\n",
    "and stopped communicating with me. They are holding approximately $ 16K of my money in Bitcoins.''')\n",
    "print(English_translation(x))"
   ]
  },
  {
   "cell_type": "code",
   "execution_count": 90,
   "metadata": {},
   "outputs": [
    {
     "name": "stdout",
     "output_type": "stream",
     "text": [
      "Two weeks ago my accounts with Coinbase were blocked for some unknown reason.\n",
      "I have since attempted to reset my password to access my account and have done so\n",
      "unable to do this because Coinbase does not recognize my IP address and after contacting\n",
      "their customer support received no response except for an initial email message\n",
      "me to reset my password, which I cannot do as indicated above. Coinbase has now blocked my accounts\n",
      "and stopped communicating with me. They are holding about $ 16K of my money in Bitcoin.\n"
     ]
    }
   ],
   "source": [
    "x = italian_translation('''Two weeks ago my accounts with Coinbase were locked for some unknown reason. \n",
    "Since then I have attempted to reset my password to access my account and have been\n",
    "unable to do so because Coinbase does not recognize my IP address and after contacting\n",
    "their customer support I have received no response except for an initial email telling\n",
    "me to reset my password, which I can not do as stated above. Coinbase now has blocked my accounts\n",
    "and stopped communicating with me. They are holding approximately $ 16K of my money in Bitcoins.''')\n",
    "print(English_translation(x))"
   ]
  },
  {
   "cell_type": "code",
   "execution_count": 91,
   "metadata": {},
   "outputs": [
    {
     "name": "stdout",
     "output_type": "stream",
     "text": [
      "Two weeks ago, my Coinbase accounts were closed for an unknown reason.\n",
      "Since then I tried to reset the password to access my account and it did\n",
      "Unable to do this because Coinbase does not recognize my IP address and is connected\n",
      "Customer Support I have not received any response except for an initial email\n",
      "For me to reset my password, which I cannot do as mentioned above. Coinbase has now blocked my accounts\n",
      "And stop communicating with me. They hold around $ 16K of my Bitcoin funds.\n"
     ]
    }
   ],
   "source": [
    "x = arabic_translation('''Two weeks ago my accounts with Coinbase were locked for some unknown reason. \n",
    "Since then I have attempted to reset my password to access my account and have been\n",
    "unable to do so because Coinbase does not recognize my IP address and after contacting\n",
    "their customer support I have received no response except for an initial email telling\n",
    "me to reset my password, which I can not do as stated above. Coinbase now has blocked my accounts\n",
    "and stopped communicating with me. They are holding approximately $ 16K of my money in Bitcoins.''')\n",
    "print(English_translation(x))"
   ]
  },
  {
   "cell_type": "code",
   "execution_count": 55,
   "metadata": {},
   "outputs": [],
   "source": [
    "df_cleaned.to_csv(\"../../data/support_ticket.csv\")"
   ]
  },
  {
   "cell_type": "code",
   "execution_count": 47,
   "metadata": {},
   "outputs": [],
   "source": [
    "df_clean = pd.read_csv(\"../../data/cleaned_data.csv\")"
   ]
  },
  {
   "cell_type": "code",
   "execution_count": 48,
   "metadata": {},
   "outputs": [
    {
     "data": {
      "text/plain": [
       "(579977, 3)"
      ]
     },
     "execution_count": 48,
     "metadata": {},
     "output_type": "execute_result"
    }
   ],
   "source": [
    "df_clean.shape"
   ]
  },
  {
   "cell_type": "code",
   "execution_count": 49,
   "metadata": {},
   "outputs": [],
   "source": [
    "df_val = df_clean.sample(frac=0.3)"
   ]
  },
  {
   "cell_type": "code",
   "execution_count": 50,
   "metadata": {},
   "outputs": [
    {
     "data": {
      "text/plain": [
       "(173993, 3)"
      ]
     },
     "execution_count": 50,
     "metadata": {},
     "output_type": "execute_result"
    }
   ],
   "source": [
    "df_val.shape"
   ]
  },
  {
   "cell_type": "code",
   "execution_count": 51,
   "metadata": {},
   "outputs": [],
   "source": [
    "df_clean.drop(df_val.index, inplace=True)"
   ]
  },
  {
   "cell_type": "code",
   "execution_count": 52,
   "metadata": {},
   "outputs": [
    {
     "data": {
      "text/plain": [
       "(405984, 3)"
      ]
     },
     "execution_count": 52,
     "metadata": {},
     "output_type": "execute_result"
    }
   ],
   "source": [
    "df_clean.shape"
   ]
  },
  {
   "cell_type": "code",
   "execution_count": 53,
   "metadata": {},
   "outputs": [],
   "source": [
    "df_clean.reset_index(inplace=True)"
   ]
  },
  {
   "cell_type": "code",
   "execution_count": 54,
   "metadata": {},
   "outputs": [],
   "source": [
    "df_val.reset_index(inplace=True)"
   ]
  },
  {
   "cell_type": "code",
   "execution_count": 55,
   "metadata": {},
   "outputs": [],
   "source": [
    "df_clean.to_csv(\"../../data/training.csv\")"
   ]
  },
  {
   "cell_type": "code",
   "execution_count": 56,
   "metadata": {},
   "outputs": [],
   "source": [
    "df_val.to_csv(\"../../data/test.csv\")"
   ]
  }
 ],
 "metadata": {
  "kernelspec": {
   "display_name": "Python 3",
   "language": "python",
   "name": "python3"
  },
  "language_info": {
   "codemirror_mode": {
    "name": "ipython",
    "version": 3
   },
   "file_extension": ".py",
   "mimetype": "text/x-python",
   "name": "python",
   "nbconvert_exporter": "python",
   "pygments_lexer": "ipython3",
   "version": "3.7.8"
  }
 },
 "nbformat": 4,
 "nbformat_minor": 4
}
