{
 "cells": [
  {
   "cell_type": "markdown",
   "metadata": {
    "id": "O7EZdE0chEeZ"
   },
   "source": [
    "# import packages"
   ]
  },
  {
   "cell_type": "code",
   "execution_count": 2,
   "metadata": {
    "colab": {
     "base_uri": "https://localhost:8080/"
    },
    "id": "Nm9uEZighw7J",
    "outputId": "20d7b198-552f-4873-f687-1a89694f4e24"
   },
   "outputs": [
    {
     "name": "stdout",
     "output_type": "stream",
     "text": [
      "Mounted at /content/drive/\n"
     ]
    }
   ],
   "source": [
    "# Mount Google drive \r\n",
    "from google.colab import drive\r\n",
    "drive.mount('/content/drive/')"
   ]
  },
  {
   "cell_type": "code",
   "execution_count": 1,
   "metadata": {
    "id": "OTYIi0KYhxi5"
   },
   "outputs": [],
   "source": [
    "import numpy as np\r\n",
    "import pandas as pd\r\n",
    "\r\n",
    "# Visualization\r\n",
    "import matplotlib.pyplot as plt\r\n",
    "import seaborn as sns\r\n",
    "\r\n",
    "# Preprocessing\r\n",
    "from sklearn.pipeline import Pipeline\r\n",
    "from sklearn.model_selection import train_test_split, cross_val_score, GridSearchCV\r\n",
    "# Text representation\r\n",
    "from sklearn.feature_extraction.text import CountVectorizer, TfidfVectorizer\r\n",
    "\r\n",
    "# ML Algo\r\n",
    "from sklearn.naive_bayes import MultinomialNB\r\n",
    "from sklearn.linear_model import LogisticRegression\r\n",
    "from sklearn.svm import LinearSVC\r\n",
    "\r\n",
    "# Evaluvation\r\n",
    "from sklearn.metrics import accuracy_score, confusion_matrix, roc_auc_score, classification_report\r\n",
    "\r\n",
    "from time import time"
   ]
  },
  {
   "cell_type": "code",
   "execution_count": 2,
   "metadata": {
    "id": "im6SzxQAhxQQ"
   },
   "outputs": [],
   "source": [
    "import string\r\n",
    "import re\r\n",
    "from nltk import word_tokenize\r\n",
    "from nltk.corpus import stopwords\r\n",
    "from nltk import WordNetLemmatizer"
   ]
  },
  {
   "cell_type": "code",
   "execution_count": 3,
   "metadata": {
    "id": "NjYWdOCOhxHo"
   },
   "outputs": [],
   "source": [
    "def plotConfusionMatrixHeatmap(input_df: pd.core.frame.DataFrame, model_name: str, figsize=(20, 18)):\r\n",
    "    \"\"\"\r\n",
    "    Return the results of a multiclass classification algorithms as a heatmap\r\n",
    "    based on a confusion matrix.        \r\n",
    "    \"\"\"\r\n",
    "    # Heatmap of the results\r\n",
    "    plt.figure(figsize=figsize)\r\n",
    "    sns.heatmap(input_df, annot=True, fmt='d', cmap='Reds')\r\n",
    "    plt.ylabel('True', fontweight='bold')\r\n",
    "    plt.xlabel('Predicted', fontweight='bold')\r\n",
    "    plt.title(f'Confusion Matrix - {model_name}', size=14, fontweight='bold')\r\n",
    "    plt.show()"
   ]
  },
  {
   "cell_type": "code",
   "execution_count": 4,
   "metadata": {
    "colab": {
     "base_uri": "https://localhost:8080/"
    },
    "id": "Eec-Q9HiiTE6",
    "outputId": "8f366220-5f7c-49c1-c986-6934edbce06e"
   },
   "outputs": [
    {
     "name": "stderr",
     "output_type": "stream",
     "text": [
      "[nltk_data] Downloading package stopwords to\n",
      "[nltk_data]     C:\\Users\\dines\\AppData\\Roaming\\nltk_data...\n",
      "[nltk_data]   Package stopwords is already up-to-date!\n",
      "[nltk_data] Downloading package punkt to\n",
      "[nltk_data]     C:\\Users\\dines\\AppData\\Roaming\\nltk_data...\n",
      "[nltk_data]   Package punkt is already up-to-date!\n",
      "[nltk_data] Downloading package wordnet to\n",
      "[nltk_data]     C:\\Users\\dines\\AppData\\Roaming\\nltk_data...\n",
      "[nltk_data]   Package wordnet is already up-to-date!\n"
     ]
    },
    {
     "data": {
      "text/plain": [
       "True"
      ]
     },
     "execution_count": 4,
     "metadata": {},
     "output_type": "execute_result"
    }
   ],
   "source": [
    "import nltk\r\n",
    "nltk.download('stopwords')\r\n",
    "nltk.download('punkt')\r\n",
    "nltk.download('wordnet')"
   ]
  },
  {
   "cell_type": "markdown",
   "metadata": {
    "id": "KWLhhU76hILI"
   },
   "source": [
    "# Load Training file"
   ]
  },
  {
   "cell_type": "code",
   "execution_count": 5,
   "metadata": {
    "id": "QSFnUijbiXIY"
   },
   "outputs": [],
   "source": [
    "data_path = '../../data/train.csv'"
   ]
  },
  {
   "cell_type": "code",
   "execution_count": 6,
   "metadata": {
    "id": "98VVkf9MiW_4"
   },
   "outputs": [],
   "source": [
    "df = pd.read_csv(data_path)"
   ]
  },
  {
   "cell_type": "code",
   "execution_count": 7,
   "metadata": {
    "colab": {
     "base_uri": "https://localhost:8080/"
    },
    "id": "cujbPEk9iW8H",
    "outputId": "a832fbbf-34b9-4a49-bebb-187ed0615f00"
   },
   "outputs": [
    {
     "data": {
      "text/plain": [
       "(405735, 4)"
      ]
     },
     "execution_count": 7,
     "metadata": {},
     "output_type": "execute_result"
    }
   ],
   "source": [
    "df.shape"
   ]
  },
  {
   "cell_type": "code",
   "execution_count": 8,
   "metadata": {
    "colab": {
     "base_uri": "https://localhost:8080/"
    },
    "id": "XRqH9sJ9iWzY",
    "outputId": "1c975e2c-ca15-4c30-fe4f-03e4e2befcfa"
   },
   "outputs": [
    {
     "data": {
      "text/plain": [
       "Index(['Unnamed: 0', 'index', 'full_text', 'label'], dtype='object')"
      ]
     },
     "execution_count": 8,
     "metadata": {},
     "output_type": "execute_result"
    }
   ],
   "source": [
    "df.columns"
   ]
  },
  {
   "cell_type": "code",
   "execution_count": 9,
   "metadata": {
    "colab": {
     "base_uri": "https://localhost:8080/",
     "height": 195
    },
    "id": "hvYudSiBiWpZ",
    "outputId": "e6d7721c-7d2b-4860-fe12-abe15d531942"
   },
   "outputs": [
    {
     "data": {
      "text/html": [
       "<div>\n",
       "<style scoped>\n",
       "    .dataframe tbody tr th:only-of-type {\n",
       "        vertical-align: middle;\n",
       "    }\n",
       "\n",
       "    .dataframe tbody tr th {\n",
       "        vertical-align: top;\n",
       "    }\n",
       "\n",
       "    .dataframe thead th {\n",
       "        text-align: right;\n",
       "    }\n",
       "</style>\n",
       "<table border=\"1\" class=\"dataframe\">\n",
       "  <thead>\n",
       "    <tr style=\"text-align: right;\">\n",
       "      <th></th>\n",
       "      <th>Unnamed: 0</th>\n",
       "      <th>index</th>\n",
       "      <th>full_text</th>\n",
       "      <th>label</th>\n",
       "    </tr>\n",
       "  </thead>\n",
       "  <tbody>\n",
       "    <tr>\n",
       "      <th>0</th>\n",
       "      <td>0</td>\n",
       "      <td>1</td>\n",
       "      <td>Incorrect information on your report-Informati...</td>\n",
       "      <td>Credit reporting</td>\n",
       "    </tr>\n",
       "    <tr>\n",
       "      <th>1</th>\n",
       "      <td>1</td>\n",
       "      <td>2</td>\n",
       "      <td>Over the past 2 weeks, I have been receiving e...</td>\n",
       "      <td>Debt collection</td>\n",
       "    </tr>\n",
       "    <tr>\n",
       "      <th>2</th>\n",
       "      <td>2</td>\n",
       "      <td>3</td>\n",
       "      <td>Pioneer has committed several federal violatio...</td>\n",
       "      <td>Debt collection</td>\n",
       "    </tr>\n",
       "    <tr>\n",
       "      <th>3</th>\n",
       "      <td>3</td>\n",
       "      <td>8</td>\n",
       "      <td>Previously, on XX/XX/XXXX, XX/XX/XXXX, and XX/...</td>\n",
       "      <td>Credit reporting</td>\n",
       "    </tr>\n",
       "    <tr>\n",
       "      <th>4</th>\n",
       "      <td>4</td>\n",
       "      <td>11</td>\n",
       "      <td>Closing your account-Company closed your account</td>\n",
       "      <td>Credit card or prepaid card</td>\n",
       "    </tr>\n",
       "  </tbody>\n",
       "</table>\n",
       "</div>"
      ],
      "text/plain": [
       "   Unnamed: 0  index                                          full_text  \\\n",
       "0           0      1  Incorrect information on your report-Informati...   \n",
       "1           1      2  Over the past 2 weeks, I have been receiving e...   \n",
       "2           2      3  Pioneer has committed several federal violatio...   \n",
       "3           3      8  Previously, on XX/XX/XXXX, XX/XX/XXXX, and XX/...   \n",
       "4           4     11   Closing your account-Company closed your account   \n",
       "\n",
       "                         label  \n",
       "0             Credit reporting  \n",
       "1              Debt collection  \n",
       "2              Debt collection  \n",
       "3             Credit reporting  \n",
       "4  Credit card or prepaid card  "
      ]
     },
     "execution_count": 9,
     "metadata": {},
     "output_type": "execute_result"
    }
   ],
   "source": [
    "df.head()"
   ]
  },
  {
   "cell_type": "code",
   "execution_count": 10,
   "metadata": {
    "id": "CgnbjOXDijfQ"
   },
   "outputs": [],
   "source": [
    "df.drop(columns=['Unnamed: 0', 'index'], inplace=True)"
   ]
  },
  {
   "cell_type": "code",
   "execution_count": 11,
   "metadata": {
    "colab": {
     "base_uri": "https://localhost:8080/"
    },
    "id": "x463O5uOijyH",
    "outputId": "fb31c178-8353-4b84-ca3b-2e64ad44cc89"
   },
   "outputs": [
    {
     "data": {
      "text/plain": [
       "Index(['full_text', 'label'], dtype='object')"
      ]
     },
     "execution_count": 11,
     "metadata": {},
     "output_type": "execute_result"
    }
   ],
   "source": [
    "df.columns"
   ]
  },
  {
   "cell_type": "code",
   "execution_count": 12,
   "metadata": {
    "colab": {
     "base_uri": "https://localhost:8080/",
     "height": 195
    },
    "id": "lPknpkhpikJY",
    "outputId": "4e965a08-b801-4deb-de49-6d9b025df1d6"
   },
   "outputs": [
    {
     "data": {
      "text/html": [
       "<div>\n",
       "<style scoped>\n",
       "    .dataframe tbody tr th:only-of-type {\n",
       "        vertical-align: middle;\n",
       "    }\n",
       "\n",
       "    .dataframe tbody tr th {\n",
       "        vertical-align: top;\n",
       "    }\n",
       "\n",
       "    .dataframe thead th {\n",
       "        text-align: right;\n",
       "    }\n",
       "</style>\n",
       "<table border=\"1\" class=\"dataframe\">\n",
       "  <thead>\n",
       "    <tr style=\"text-align: right;\">\n",
       "      <th></th>\n",
       "      <th>full_text</th>\n",
       "      <th>label</th>\n",
       "    </tr>\n",
       "  </thead>\n",
       "  <tbody>\n",
       "    <tr>\n",
       "      <th>0</th>\n",
       "      <td>Incorrect information on your report-Informati...</td>\n",
       "      <td>Credit reporting</td>\n",
       "    </tr>\n",
       "    <tr>\n",
       "      <th>1</th>\n",
       "      <td>Over the past 2 weeks, I have been receiving e...</td>\n",
       "      <td>Debt collection</td>\n",
       "    </tr>\n",
       "    <tr>\n",
       "      <th>2</th>\n",
       "      <td>Pioneer has committed several federal violatio...</td>\n",
       "      <td>Debt collection</td>\n",
       "    </tr>\n",
       "    <tr>\n",
       "      <th>3</th>\n",
       "      <td>Previously, on XX/XX/XXXX, XX/XX/XXXX, and XX/...</td>\n",
       "      <td>Credit reporting</td>\n",
       "    </tr>\n",
       "    <tr>\n",
       "      <th>4</th>\n",
       "      <td>Closing your account-Company closed your account</td>\n",
       "      <td>Credit card or prepaid card</td>\n",
       "    </tr>\n",
       "  </tbody>\n",
       "</table>\n",
       "</div>"
      ],
      "text/plain": [
       "                                           full_text  \\\n",
       "0  Incorrect information on your report-Informati...   \n",
       "1  Over the past 2 weeks, I have been receiving e...   \n",
       "2  Pioneer has committed several federal violatio...   \n",
       "3  Previously, on XX/XX/XXXX, XX/XX/XXXX, and XX/...   \n",
       "4   Closing your account-Company closed your account   \n",
       "\n",
       "                         label  \n",
       "0             Credit reporting  \n",
       "1              Debt collection  \n",
       "2              Debt collection  \n",
       "3             Credit reporting  \n",
       "4  Credit card or prepaid card  "
      ]
     },
     "execution_count": 12,
     "metadata": {},
     "output_type": "execute_result"
    }
   ],
   "source": [
    "df.head()"
   ]
  },
  {
   "cell_type": "code",
   "execution_count": 13,
   "metadata": {
    "colab": {
     "base_uri": "https://localhost:8080/"
    },
    "id": "oI8EnN1zjSXg",
    "outputId": "bf332342-1242-4208-cf22-a475eb37a1eb"
   },
   "outputs": [
    {
     "data": {
      "text/plain": [
       "Credit reporting                 144663\n",
       "Debt collection                   86653\n",
       "Mortgage                          49406\n",
       "Credit card or prepaid card       45740\n",
       "Loans                             40921\n",
       "Account service                   29044\n",
       "Money transfer, VC and Others      9308\n",
       "Name: label, dtype: int64"
      ]
     },
     "execution_count": 13,
     "metadata": {},
     "output_type": "execute_result"
    }
   ],
   "source": [
    "df['label'].value_counts()"
   ]
  },
  {
   "cell_type": "code",
   "execution_count": 14,
   "metadata": {
    "colab": {
     "base_uri": "https://localhost:8080/"
    },
    "id": "CgjP2vAUjSPb",
    "outputId": "c95ed638-d29f-48dc-a27a-27fa8de9b166"
   },
   "outputs": [
    {
     "data": {
      "text/plain": [
       "Credit reporting                 35.654553\n",
       "Debt collection                  21.357043\n",
       "Mortgage                         12.176914\n",
       "Credit card or prepaid card      11.273368\n",
       "Loans                            10.085647\n",
       "Account service                   7.158367\n",
       "Money transfer, VC and Others     2.294108\n",
       "Name: label, dtype: float64"
      ]
     },
     "execution_count": 14,
     "metadata": {},
     "output_type": "execute_result"
    }
   ],
   "source": [
    "# Class distribution\r\n",
    "df['label'].value_counts()/df.shape[0] * 100"
   ]
  },
  {
   "cell_type": "markdown",
   "metadata": {
    "id": "NO7cEveihIt_"
   },
   "source": [
    "# Pre Processing"
   ]
  },
  {
   "cell_type": "code",
   "execution_count": 15,
   "metadata": {
    "id": "H5pYrFYcjilw"
   },
   "outputs": [],
   "source": [
    "def clean_text(doc):\r\n",
    "    \"\"\"\r\n",
    "      1. Converting all text into lower case\r\n",
    "      2. Removing classified words like xxx\r\n",
    "      3. Remove stop words\r\n",
    "      4. remove punctuation\r\n",
    "      5. remove digits\r\n",
    "      6. Wordnet lemmatizer\r\n",
    "      7. Custom regex for further cleaning\r\n",
    "      \"\"\"\r\n",
    "    # Set stop word as english\r\n",
    "    stop_word = set(stopwords.words('english'))\r\n",
    "    \r\n",
    "    # Tokenize the sentence and make all character lower case\r\n",
    "    doc = [x.lower() for x in word_tokenize(doc)]\r\n",
    "    \r\n",
    "    # Remove classified texts\r\n",
    "    doc = [x for x in doc if x.lower() != 'xxxx' and x.lower() != 'xx' \r\n",
    "           and x.lower() != 'xx/xx/xxxx' and x.lower() != 'xxxx/xxxx/xxxx']\r\n",
    "    \r\n",
    "    # Remove stop words\r\n",
    "    doc = [x for x in doc if x not in stop_word]\r\n",
    "    \r\n",
    "    # Remove Punctuation\r\n",
    "    doc = [x for x in doc if x not in string.punctuation]\r\n",
    "    \r\n",
    "    # Remove Digits\r\n",
    "    doc = [x for x in doc if not x.isdigit()]\r\n",
    "    \r\n",
    "    # Set NLTK Wordnet lemmatizer and lemmatize the sentence\r\n",
    "    lemmatizer = WordNetLemmatizer()\r\n",
    "    doc = \" \".join([lemmatizer.lemmatize(word) for word in doc])\r\n",
    "\r\n",
    "    # Regular expression to remove unwanted chars\r\n",
    "    pattern_1 = re.compile(r\"(\\W)|(\\d)\")\r\n",
    "    pattern_2 = re.compile(r\"\\s\\s+\")\r\n",
    "\r\n",
    "    doc = pattern_1.sub(\" \", doc)\r\n",
    "    doc = pattern_2.sub(\"\", doc)\r\n",
    "    \r\n",
    "    return doc"
   ]
  },
  {
   "cell_type": "code",
   "execution_count": 16,
   "metadata": {
    "id": "prtwBbQlji63"
   },
   "outputs": [],
   "source": [
    "df['text_processed'] = df.apply(lambda row : clean_text(row['full_text']), axis = 1)"
   ]
  },
  {
   "cell_type": "code",
   "execution_count": 17,
   "metadata": {
    "colab": {
     "base_uri": "https://localhost:8080/",
     "height": 195
    },
    "id": "u4ZZ6SXbjjKn",
    "outputId": "6a8245b6-8a60-4fc4-d4b7-e17b7cb24836"
   },
   "outputs": [
    {
     "data": {
      "text/html": [
       "<div>\n",
       "<style scoped>\n",
       "    .dataframe tbody tr th:only-of-type {\n",
       "        vertical-align: middle;\n",
       "    }\n",
       "\n",
       "    .dataframe tbody tr th {\n",
       "        vertical-align: top;\n",
       "    }\n",
       "\n",
       "    .dataframe thead th {\n",
       "        text-align: right;\n",
       "    }\n",
       "</style>\n",
       "<table border=\"1\" class=\"dataframe\">\n",
       "  <thead>\n",
       "    <tr style=\"text-align: right;\">\n",
       "      <th></th>\n",
       "      <th>full_text</th>\n",
       "      <th>label</th>\n",
       "      <th>text_processed</th>\n",
       "    </tr>\n",
       "  </thead>\n",
       "  <tbody>\n",
       "    <tr>\n",
       "      <th>0</th>\n",
       "      <td>Incorrect information on your report-Informati...</td>\n",
       "      <td>Credit reporting</td>\n",
       "      <td>incorrect information report information belon...</td>\n",
       "    </tr>\n",
       "    <tr>\n",
       "      <th>1</th>\n",
       "      <td>Over the past 2 weeks, I have been receiving e...</td>\n",
       "      <td>Debt collection</td>\n",
       "      <td>past week receiving excessive amount telephone...</td>\n",
       "    </tr>\n",
       "    <tr>\n",
       "      <th>2</th>\n",
       "      <td>Pioneer has committed several federal violatio...</td>\n",
       "      <td>Debt collection</td>\n",
       "      <td>pioneer committed several federal violation pr...</td>\n",
       "    </tr>\n",
       "    <tr>\n",
       "      <th>3</th>\n",
       "      <td>Previously, on XX/XX/XXXX, XX/XX/XXXX, and XX/...</td>\n",
       "      <td>Credit reporting</td>\n",
       "      <td>previously requested experian send copy verifi...</td>\n",
       "    </tr>\n",
       "    <tr>\n",
       "      <th>4</th>\n",
       "      <td>Closing your account-Company closed your account</td>\n",
       "      <td>Credit card or prepaid card</td>\n",
       "      <td>closing account company closed account</td>\n",
       "    </tr>\n",
       "  </tbody>\n",
       "</table>\n",
       "</div>"
      ],
      "text/plain": [
       "                                           full_text  \\\n",
       "0  Incorrect information on your report-Informati...   \n",
       "1  Over the past 2 weeks, I have been receiving e...   \n",
       "2  Pioneer has committed several federal violatio...   \n",
       "3  Previously, on XX/XX/XXXX, XX/XX/XXXX, and XX/...   \n",
       "4   Closing your account-Company closed your account   \n",
       "\n",
       "                         label  \\\n",
       "0             Credit reporting   \n",
       "1              Debt collection   \n",
       "2              Debt collection   \n",
       "3             Credit reporting   \n",
       "4  Credit card or prepaid card   \n",
       "\n",
       "                                      text_processed  \n",
       "0  incorrect information report information belon...  \n",
       "1  past week receiving excessive amount telephone...  \n",
       "2  pioneer committed several federal violation pr...  \n",
       "3  previously requested experian send copy verifi...  \n",
       "4             closing account company closed account  "
      ]
     },
     "execution_count": 17,
     "metadata": {},
     "output_type": "execute_result"
    }
   ],
   "source": [
    "df.head()"
   ]
  },
  {
   "cell_type": "markdown",
   "metadata": {
    "id": "5439rOcZhJCA"
   },
   "source": [
    "# Encoding and Modeling"
   ]
  },
  {
   "cell_type": "code",
   "execution_count": 18,
   "metadata": {
    "id": "u7j4Wy41j_gD"
   },
   "outputs": [],
   "source": [
    "from sklearn.preprocessing import LabelEncoder\r\n",
    "label_encoder = LabelEncoder()"
   ]
  },
  {
   "cell_type": "code",
   "execution_count": 19,
   "metadata": {
    "id": "ojL226gfj_cY"
   },
   "outputs": [],
   "source": [
    "df['label_id'] = label_encoder.fit_transform(df['label'])"
   ]
  },
  {
   "cell_type": "code",
   "execution_count": 20,
   "metadata": {
    "colab": {
     "base_uri": "https://localhost:8080/"
    },
    "id": "SOI3ZDsYj_WG",
    "outputId": "f11f6b17-9bc2-4367-c663-f0510842ed46"
   },
   "outputs": [
    {
     "data": {
      "text/plain": [
       "{2: 'Credit reporting',\n",
       " 3: 'Debt collection',\n",
       " 1: 'Credit card or prepaid card',\n",
       " 0: 'Account service',\n",
       " 6: 'Mortgage',\n",
       " 4: 'Loans',\n",
       " 5: 'Money transfer, VC and Others'}"
      ]
     },
     "execution_count": 20,
     "metadata": {},
     "output_type": "execute_result"
    }
   ],
   "source": [
    "# Put the label category into dict for future use\r\n",
    "label_map = df.set_index('label_id').to_dict()['label']\r\n",
    "label_map"
   ]
  },
  {
   "cell_type": "code",
   "execution_count": 21,
   "metadata": {
    "id": "hlUGhNnak0wN"
   },
   "outputs": [],
   "source": [
    "key_to_label_name = [x[1] for x in sorted(label_map.items())]"
   ]
  },
  {
   "cell_type": "code",
   "execution_count": 22,
   "metadata": {
    "colab": {
     "base_uri": "https://localhost:8080/",
     "height": 195
    },
    "id": "tfHv3QThj_Hw",
    "outputId": "3be5ab56-4074-456a-9924-2856035cf58f"
   },
   "outputs": [
    {
     "data": {
      "text/html": [
       "<div>\n",
       "<style scoped>\n",
       "    .dataframe tbody tr th:only-of-type {\n",
       "        vertical-align: middle;\n",
       "    }\n",
       "\n",
       "    .dataframe tbody tr th {\n",
       "        vertical-align: top;\n",
       "    }\n",
       "\n",
       "    .dataframe thead th {\n",
       "        text-align: right;\n",
       "    }\n",
       "</style>\n",
       "<table border=\"1\" class=\"dataframe\">\n",
       "  <thead>\n",
       "    <tr style=\"text-align: right;\">\n",
       "      <th></th>\n",
       "      <th>full_text</th>\n",
       "      <th>label</th>\n",
       "      <th>text_processed</th>\n",
       "      <th>label_id</th>\n",
       "    </tr>\n",
       "  </thead>\n",
       "  <tbody>\n",
       "    <tr>\n",
       "      <th>0</th>\n",
       "      <td>Incorrect information on your report-Informati...</td>\n",
       "      <td>Credit reporting</td>\n",
       "      <td>incorrect information report information belon...</td>\n",
       "      <td>2</td>\n",
       "    </tr>\n",
       "    <tr>\n",
       "      <th>1</th>\n",
       "      <td>Over the past 2 weeks, I have been receiving e...</td>\n",
       "      <td>Debt collection</td>\n",
       "      <td>past week receiving excessive amount telephone...</td>\n",
       "      <td>3</td>\n",
       "    </tr>\n",
       "    <tr>\n",
       "      <th>2</th>\n",
       "      <td>Pioneer has committed several federal violatio...</td>\n",
       "      <td>Debt collection</td>\n",
       "      <td>pioneer committed several federal violation pr...</td>\n",
       "      <td>3</td>\n",
       "    </tr>\n",
       "    <tr>\n",
       "      <th>3</th>\n",
       "      <td>Previously, on XX/XX/XXXX, XX/XX/XXXX, and XX/...</td>\n",
       "      <td>Credit reporting</td>\n",
       "      <td>previously requested experian send copy verifi...</td>\n",
       "      <td>2</td>\n",
       "    </tr>\n",
       "    <tr>\n",
       "      <th>4</th>\n",
       "      <td>Closing your account-Company closed your account</td>\n",
       "      <td>Credit card or prepaid card</td>\n",
       "      <td>closing account company closed account</td>\n",
       "      <td>1</td>\n",
       "    </tr>\n",
       "  </tbody>\n",
       "</table>\n",
       "</div>"
      ],
      "text/plain": [
       "                                           full_text  \\\n",
       "0  Incorrect information on your report-Informati...   \n",
       "1  Over the past 2 weeks, I have been receiving e...   \n",
       "2  Pioneer has committed several federal violatio...   \n",
       "3  Previously, on XX/XX/XXXX, XX/XX/XXXX, and XX/...   \n",
       "4   Closing your account-Company closed your account   \n",
       "\n",
       "                         label  \\\n",
       "0             Credit reporting   \n",
       "1              Debt collection   \n",
       "2              Debt collection   \n",
       "3             Credit reporting   \n",
       "4  Credit card or prepaid card   \n",
       "\n",
       "                                      text_processed  label_id  \n",
       "0  incorrect information report information belon...         2  \n",
       "1  past week receiving excessive amount telephone...         3  \n",
       "2  pioneer committed several federal violation pr...         3  \n",
       "3  previously requested experian send copy verifi...         2  \n",
       "4             closing account company closed account         1  "
      ]
     },
     "execution_count": 22,
     "metadata": {},
     "output_type": "execute_result"
    }
   ],
   "source": [
    "df.head()"
   ]
  },
  {
   "cell_type": "code",
   "execution_count": 23,
   "metadata": {
    "id": "jvz7wU1dkOtw"
   },
   "outputs": [],
   "source": [
    "X = df.text_processed\r\n",
    "y = df.label_id"
   ]
  },
  {
   "cell_type": "code",
   "execution_count": 24,
   "metadata": {
    "colab": {
     "base_uri": "https://localhost:8080/"
    },
    "id": "wn1qqAEckPDw",
    "outputId": "742dd83e-358e-4807-eded-f8322db6714d"
   },
   "outputs": [
    {
     "name": "stdout",
     "output_type": "stream",
     "text": [
      "(405735,) (405735,)\n"
     ]
    }
   ],
   "source": [
    "print(X.shape, y.shape)"
   ]
  },
  {
   "cell_type": "code",
   "execution_count": 25,
   "metadata": {
    "id": "T0v9C7sokPY3"
   },
   "outputs": [],
   "source": [
    "X_train, X_test, y_train, y_test = train_test_split(X, y, random_state=1)"
   ]
  },
  {
   "cell_type": "code",
   "execution_count": 26,
   "metadata": {
    "colab": {
     "base_uri": "https://localhost:8080/"
    },
    "id": "ohYjNtBBkVI6",
    "outputId": "eb17918d-0384-4700-f8e8-210717f3718d"
   },
   "outputs": [
    {
     "name": "stdout",
     "output_type": "stream",
     "text": [
      "(304301,) (304301,)\n",
      "(101434,) (101434,)\n"
     ]
    }
   ],
   "source": [
    "print(X_train.shape, y_train.shape)\r\n",
    "print(X_test.shape, y_test.shape)"
   ]
  },
  {
   "cell_type": "markdown",
   "metadata": {
    "id": "sDtYNcQVhWpQ"
   },
   "source": [
    "# Multinimial Naive bayes"
   ]
  },
  {
   "cell_type": "code",
   "execution_count": 27,
   "metadata": {
    "id": "xTYUpv7ckYE6"
   },
   "outputs": [],
   "source": [
    "# Parameter values to test\r\n",
    "param_grid = {\r\n",
    "    'TfIdf__max_features' : [10000, 20000, 30000],\r\n",
    "    'TfIdf__ngram_range' : [(1,1),(1,2),(2,2)],\r\n",
    "    'TfIdf__use_idf' : [True],\r\n",
    "    'MultinomialNB__alpha' : [0.01, 0.02, 0.05]\r\n",
    "    }"
   ]
  },
  {
   "cell_type": "code",
   "execution_count": 28,
   "metadata": {
    "id": "MRYm0wc6kXoI"
   },
   "outputs": [],
   "source": [
    "# Creating pipeline for Naive Bayes Model\r\n",
    "pipeline_mnb = Pipeline(steps = [('TfIdf', TfidfVectorizer()),\r\n",
    "                              ('MultinomialNB', MultinomialNB())])"
   ]
  },
  {
   "cell_type": "code",
   "execution_count": 29,
   "metadata": {
    "id": "T07PCssckh7P"
   },
   "outputs": [],
   "source": [
    "# Apply pipeline into the Gridserach\r\n",
    "grid_search_mnb = GridSearchCV(pipeline_mnb, param_grid, cv=5, verbose=1, n_jobs=10)"
   ]
  },
  {
   "cell_type": "code",
   "execution_count": null,
   "metadata": {
    "colab": {
     "base_uri": "https://localhost:8080/",
     "height": 760
    },
    "id": "0fiJcnTrkiLI",
    "outputId": "26989ee9-586a-4be2-b21e-462f6a853b1f"
   },
   "outputs": [
    {
     "name": "stdout",
     "output_type": "stream",
     "text": [
      "Fitting 5 folds for each of 27 candidates, totalling 135 fits\n"
     ]
    },
    {
     "name": "stderr",
     "output_type": "stream",
     "text": [
      "[Parallel(n_jobs=10)]: Using backend LokyBackend with 10 concurrent workers.\n",
      "[Parallel(n_jobs=10)]: Done  30 tasks      | elapsed: 24.1min\n"
     ]
    }
   ],
   "source": [
    "grid_search_mnb.fit(X_train, y_train)"
   ]
  },
  {
   "cell_type": "code",
   "execution_count": null,
   "metadata": {
    "id": "8fI-B5m9knAR"
   },
   "outputs": [],
   "source": [
    "print(grid_search_mnb.best_params_)"
   ]
  },
  {
   "cell_type": "code",
   "execution_count": null,
   "metadata": {
    "id": "jJTT3y3oknVn"
   },
   "outputs": [],
   "source": [
    "print(grid_search_mnb.best_estimator_)"
   ]
  },
  {
   "cell_type": "code",
   "execution_count": null,
   "metadata": {
    "id": "_lUx4tZ5knnn"
   },
   "outputs": [],
   "source": [
    "grid_search_mnb.score(X_test, y_test)"
   ]
  },
  {
   "cell_type": "code",
   "execution_count": null,
   "metadata": {
    "id": "yc1zGvqTkra3"
   },
   "outputs": [],
   "source": [
    "y_predicted = grid_search_mnb.predict(X_test)"
   ]
  },
  {
   "cell_type": "code",
   "execution_count": null,
   "metadata": {
    "id": "5Xz6url4krs_"
   },
   "outputs": [],
   "source": [
    "classification_report_mnb = classification_report(y_test, y_predicted)\r\n",
    "print(classification_report_mnb)"
   ]
  },
  {
   "cell_type": "code",
   "execution_count": null,
   "metadata": {
    "id": "uWQjo4ZwkyTA"
   },
   "outputs": [],
   "source": [
    "conf_matrix_df = pd.DataFrame(data=confusion_matrix(y_test, y_predicted),\r\n",
    "                              index=key_to_label_name, columns=key_to_label_name)\r\n",
    "\r\n",
    "plotConfusionMatrixHeatmap(conf_matrix_df, model_name='Multinomial Naive bayes', figsize=(12, 10))"
   ]
  },
  {
   "cell_type": "markdown",
   "metadata": {
    "id": "WWZVw0Otk6to"
   },
   "source": [
    "## Save the model"
   ]
  },
  {
   "cell_type": "code",
   "execution_count": null,
   "metadata": {
    "id": "Sq7SJQkfk5aI"
   },
   "outputs": [],
   "source": [
    "import joblib"
   ]
  },
  {
   "cell_type": "code",
   "execution_count": null,
   "metadata": {
    "id": "3jyJOTB1k52A"
   },
   "outputs": [],
   "source": [
    "joblib.dump(grid_search_mnb.best_estimator_, 'drive/MyDrive/Springboard/data/models/multinomial_naive_bayes_v3.pkl', compress = 1)"
   ]
  },
  {
   "cell_type": "markdown",
   "metadata": {
    "id": "JvtaKWkvhbgg"
   },
   "source": [
    "# Logistic Regression"
   ]
  },
  {
   "cell_type": "code",
   "execution_count": null,
   "metadata": {
    "id": "sIXMVdVwk4dR"
   },
   "outputs": [],
   "source": [
    "param_grid_lr = {\r\n",
    "    'TfIdf__max_features' : [10000, 20000, 30000],\r\n",
    "    'TfIdf__ngram_range' : [(1,1),(1,2),(2,2)],\r\n",
    "    'TfIdf__use_idf' : [True]\r\n",
    "    }"
   ]
  },
  {
   "cell_type": "code",
   "execution_count": null,
   "metadata": {
    "id": "79QVS0LWk4WK"
   },
   "outputs": [],
   "source": [
    "# Creating pipeline for Logistice Regression model\r\n",
    "pipeline_lr = Pipeline(steps = [('TfIdf', TfidfVectorizer()),\r\n",
    "                              ('LogisticRegression', LogisticRegression(class_weight=\"balanced\"))])"
   ]
  },
  {
   "cell_type": "code",
   "execution_count": null,
   "metadata": {
    "id": "CEVb6u5Tk4PI"
   },
   "outputs": [],
   "source": [
    "grid_search_lr = GridSearchCV(pipeline_lr, param_grid_lr, cv=5, verbose=1, n_jobs=10)"
   ]
  },
  {
   "cell_type": "code",
   "execution_count": null,
   "metadata": {
    "id": "4f9nxMcmk4Eo"
   },
   "outputs": [],
   "source": [
    "grid_search_lr.fit(X_train, y_train)"
   ]
  },
  {
   "cell_type": "code",
   "execution_count": null,
   "metadata": {
    "id": "jVY-Jp8flPGa"
   },
   "outputs": [],
   "source": [
    "print(grid_search_lr.best_params_)"
   ]
  },
  {
   "cell_type": "code",
   "execution_count": null,
   "metadata": {
    "id": "w0KSdmj3lPBc"
   },
   "outputs": [],
   "source": [
    "print(grid_search_lr.best_estimator_)"
   ]
  },
  {
   "cell_type": "code",
   "execution_count": null,
   "metadata": {
    "id": "ukyG-VcelO5_"
   },
   "outputs": [],
   "source": [
    "grid_search_lr.score(X_test, y_test)"
   ]
  },
  {
   "cell_type": "code",
   "execution_count": null,
   "metadata": {
    "id": "7Gg30rqLlOvg"
   },
   "outputs": [],
   "source": [
    "y_predicted = grid_search_lr.predict(X_test)"
   ]
  },
  {
   "cell_type": "code",
   "execution_count": null,
   "metadata": {
    "id": "ti-MIZn7lOkI"
   },
   "outputs": [],
   "source": [
    "classification_report_lr = classification_report(y_test, y_predicted)\r\n",
    "print(classification_report_lr)"
   ]
  },
  {
   "cell_type": "code",
   "execution_count": null,
   "metadata": {
    "id": "NHD8Qi-klSip"
   },
   "outputs": [],
   "source": [
    "conf_matrix_df = pd.DataFrame(data=confusion_matrix(y_test, y_predicted),\r\n",
    "                              index=key_to_label_name, columns=key_to_label_name)\r\n",
    "\r\n",
    "plotConfusionMatrixHeatmap(conf_matrix_df, model_name='Logistic Regression', figsize=(12, 10))"
   ]
  },
  {
   "cell_type": "code",
   "execution_count": null,
   "metadata": {
    "id": "RuxGZ60LlSTj"
   },
   "outputs": [],
   "source": [
    "joblib.dump(grid_search_lr.best_estimator_, 'drive/MyDrive/Springboard/data/models/logistic_regression_v3.pkl', compress = 1)"
   ]
  },
  {
   "cell_type": "markdown",
   "metadata": {
    "id": "pWpImdlthhg3"
   },
   "source": [
    "# Random Forest Classifier"
   ]
  },
  {
   "cell_type": "code",
   "execution_count": null,
   "metadata": {
    "id": "T1MKrVfglZ1h"
   },
   "outputs": [],
   "source": [
    "from sklearn.ensemble import RandomForestClassifier\r\n",
    "from sklearn.feature_extraction.text import CountVectorizer"
   ]
  },
  {
   "cell_type": "code",
   "execution_count": null,
   "metadata": {
    "id": "L-lSayldlZxB"
   },
   "outputs": [],
   "source": [
    "vectorizer = TfidfVectorizer(min_df=3, stop_words=\"english\", sublinear_tf=True, norm='l2', ngram_range=(1, 2))"
   ]
  },
  {
   "cell_type": "code",
   "execution_count": null,
   "metadata": {
    "id": "fcHkqpWclZsw"
   },
   "outputs": [],
   "source": [
    "pipeline_rf = Pipeline(steps = [('countvectorizer', vectorizer),\r\n",
    "                              ('clf', RandomForestClassifier())])"
   ]
  },
  {
   "cell_type": "code",
   "execution_count": null,
   "metadata": {
    "id": "iDet8E1clZol"
   },
   "outputs": [],
   "source": [
    "model = pipeline_rf.fit(X_train, y_train)"
   ]
  },
  {
   "cell_type": "code",
   "execution_count": null,
   "metadata": {
    "id": "o6gbh1rolZi5"
   },
   "outputs": [],
   "source": [
    "y_pred = model.predict(X_test)"
   ]
  },
  {
   "cell_type": "code",
   "execution_count": null,
   "metadata": {
    "id": "PBCMq96glZbo"
   },
   "outputs": [],
   "source": [
    "y_pred_prob = model.predict_proba(X_test)"
   ]
  },
  {
   "cell_type": "code",
   "execution_count": null,
   "metadata": {
    "id": "IOus6VJHljtL"
   },
   "outputs": [],
   "source": [
    "lr_probs = y_pred_prob[:,1]"
   ]
  },
  {
   "cell_type": "code",
   "execution_count": null,
   "metadata": {
    "id": "sgelmfXwlkAv"
   },
   "outputs": [],
   "source": [
    "accuracy_score(y_test, y_pred)"
   ]
  },
  {
   "cell_type": "code",
   "execution_count": null,
   "metadata": {
    "id": "HpIRjznLllhg"
   },
   "outputs": [],
   "source": [
    "conf_matrix_df = pd.DataFrame(data=confusion_matrix(y_test, y_pred),index=key_to_label_name,\r\n",
    "                              columns=key_to_label_name)"
   ]
  },
  {
   "cell_type": "code",
   "execution_count": null,
   "metadata": {
    "id": "suSHIaFfllZH"
   },
   "outputs": [],
   "source": [
    "classification_rep = classification_report(y_test, y_pred,target_names=key_to_label_name)\r\n",
    "print(classification_rep)"
   ]
  },
  {
   "cell_type": "code",
   "execution_count": null,
   "metadata": {
    "id": "yM8dTM-jllOY"
   },
   "outputs": [],
   "source": [
    "plotConfusionMatrixHeatmap(conf_matrix_df, model_name='Random forest', figsize=(12, 10))"
   ]
  },
  {
   "cell_type": "code",
   "execution_count": null,
   "metadata": {
    "id": "igU9q-wNlqm4"
   },
   "outputs": [],
   "source": [
    "joblib.dump(model, 'drive/MyDrive/Springboard/data/models/random_forest_v3.pkl', compress = 1)"
   ]
  },
  {
   "cell_type": "markdown",
   "metadata": {
    "id": "crj3iZz9hkUv"
   },
   "source": [
    "# Doc2Vec with Logistic Regression"
   ]
  },
  {
   "cell_type": "code",
   "execution_count": null,
   "metadata": {
    "id": "USasiIShlup5"
   },
   "outputs": [],
   "source": [
    "from gensim.models.doc2vec import Doc2Vec, TaggedDocument"
   ]
  },
  {
   "cell_type": "code",
   "execution_count": null,
   "metadata": {
    "id": "0PHT7cwqlubD"
   },
   "outputs": [],
   "source": [
    "#prepare training data in doc2vec format:\r\n",
    "train_doc2vec = [TaggedDocument((d), tags=[str(i)]) for i, d in enumerate(X_train)]"
   ]
  },
  {
   "cell_type": "code",
   "execution_count": null,
   "metadata": {
    "id": "0FvTCcL7luFb"
   },
   "outputs": [],
   "source": [
    "#Train a doc2vec model to learn\r\n",
    "model = Doc2Vec(vector_size=50, alpha=0.025, min_count=5, dm =1, epochs=100)\r\n",
    "model.build_vocab(train_doc2vec)\r\n",
    "model.train(train_doc2vec, total_examples=model.corpus_count, epochs=model.epochs)\r\n",
    "model.save(\"drive/MyDrive/Springboard/data/models/d2v-v3.model\")\r\n",
    "print(\"Model Saved\")"
   ]
  },
  {
   "cell_type": "code",
   "execution_count": null,
   "metadata": {
    "id": "EomraTzxl1NP"
   },
   "outputs": [],
   "source": [
    "#Infer the feature representation for training and test data using the trained model\r\n",
    "model= Doc2Vec.load(\"drive/MyDrive/Springboard/data/models/d2v-v3.model\")"
   ]
  },
  {
   "cell_type": "code",
   "execution_count": null,
   "metadata": {
    "id": "ocGHHBzfl1nK"
   },
   "outputs": [],
   "source": [
    "#infer in multiple steps to get a stable representation. \r\n",
    "train_vectors =  [model.infer_vector(list_of_tokens, steps=50) for list_of_tokens in X_train]\r\n",
    "test_vectors = [model.infer_vector(list_of_tokens, steps=50) for list_of_tokens in X_test]"
   ]
  },
  {
   "cell_type": "code",
   "execution_count": null,
   "metadata": {
    "id": "Go-gzkMSl7SR"
   },
   "outputs": [],
   "source": [
    "clf = LogisticRegression(class_weight=\"balanced\")\r\n",
    "clf.fit(train_vectors, y_train)"
   ]
  },
  {
   "cell_type": "code",
   "execution_count": null,
   "metadata": {
    "id": "4y4ulWlhl7Ga"
   },
   "outputs": [],
   "source": [
    "preds = clf.predict(test_vectors)"
   ]
  },
  {
   "cell_type": "code",
   "execution_count": null,
   "metadata": {
    "id": "LEi9YV8Yl-AY"
   },
   "outputs": [],
   "source": [
    "print(classification_report(y_test, preds))"
   ]
  },
  {
   "cell_type": "code",
   "execution_count": null,
   "metadata": {
    "id": "Qv2waXyPmBcS"
   },
   "outputs": [],
   "source": [
    "conf_matrix_df = pd.DataFrame(data=confusion_matrix(y_test, preds),\r\n",
    "                              index=key_to_label_name, columns=key_to_label_name)\r\n",
    "\r\n",
    "plotConfusionMatrixHeatmap(conf_matrix_df, model_name='Doc2vec', figsize=(12, 10))"
   ]
  },
  {
   "cell_type": "code",
   "execution_count": null,
   "metadata": {
    "id": "2vnwTWbamAzQ"
   },
   "outputs": [],
   "source": [
    "joblib.dump(clf, 'drive/MyDrive/Springboard/data/models/logistic_doc2vec_v3.pkl', compress = 1)"
   ]
  },
  {
   "cell_type": "markdown",
   "metadata": {
    "id": "Q4Syn843hpr3"
   },
   "source": [
    "# Deep Learning"
   ]
  },
  {
   "cell_type": "markdown",
   "metadata": {
    "id": "EsZO2R8FhtYg"
   },
   "source": [
    "# Loan Data Only"
   ]
  },
  {
   "cell_type": "code",
   "execution_count": null,
   "metadata": {
    "id": "JYhO6Zr3hd8Q"
   },
   "outputs": [],
   "source": [
    "Random Forest Classifier"
   ]
  },
  {
   "cell_type": "code",
   "execution_count": null,
   "metadata": {
    "id": "TEFpo1XVhUoo"
   },
   "outputs": [],
   "source": []
  },
  {
   "cell_type": "code",
   "execution_count": null,
   "metadata": {
    "id": "U59VDKO_g8lD"
   },
   "outputs": [],
   "source": []
  }
 ],
 "metadata": {
  "colab": {
   "name": "Untitled2.ipynb",
   "provenance": [],
   "toc_visible": true
  },
  "kernelspec": {
   "display_name": "Python 3",
   "language": "python",
   "name": "python3"
  },
  "language_info": {
   "codemirror_mode": {
    "name": "ipython",
    "version": 3
   },
   "file_extension": ".py",
   "mimetype": "text/x-python",
   "name": "python",
   "nbconvert_exporter": "python",
   "pygments_lexer": "ipython3",
   "version": "3.8.5"
  }
 },
 "nbformat": 4,
 "nbformat_minor": 4
}
