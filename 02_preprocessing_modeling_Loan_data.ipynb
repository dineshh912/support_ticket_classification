{
  "nbformat": 4,
  "nbformat_minor": 0,
  "metadata": {
    "kernelspec": {
      "display_name": "Python 3",
      "language": "python",
      "name": "python3"
    },
    "language_info": {
      "codemirror_mode": {
        "name": "ipython",
        "version": 3
      },
      "file_extension": ".py",
      "mimetype": "text/x-python",
      "name": "python",
      "nbconvert_exporter": "python",
      "pygments_lexer": "ipython3",
      "version": "3.8.5"
    },
    "colab": {
      "name": "02-preprocessing_modeling-Loan_data.ipynb",
      "provenance": [],
      "collapsed_sections": [
        "OsnnV7RwWw8C",
        "2LkrJY4tWw8v",
        "LISiZqB9Ww82",
        "e5wB8V6gWw9C",
        "x1MCILRRDEum",
        "uCQEcBMsw9c-",
        "AwhZHadkwIKe",
        "nd2OJ-SmzV2u"
      ],
      "toc_visible": true
    },
    "accelerator": "GPU"
  },
  "cells": [
    {
      "cell_type": "markdown",
      "metadata": {
        "id": "OsnnV7RwWw8C"
      },
      "source": [
        "# import packages"
      ]
    },
    {
      "cell_type": "code",
      "metadata": {
        "id": "lK_mt58vXDNF",
        "colab": {
          "base_uri": "https://localhost:8080/"
        },
        "outputId": "09aeaa8d-2c1a-4c93-9aa7-4d851de3e791"
      },
      "source": [
        "from google.colab import drive\r\n",
        "drive.mount('/content/drive')"
      ],
      "execution_count": null,
      "outputs": [
        {
          "output_type": "stream",
          "text": [
            "Mounted at /content/drive\n"
          ],
          "name": "stdout"
        }
      ]
    },
    {
      "cell_type": "code",
      "metadata": {
        "id": "E4gnDhybWw8S"
      },
      "source": [
        "import numpy as np\n",
        "import pandas as pd\n",
        "\n",
        "# Visualization\n",
        "import matplotlib.pyplot as plt\n",
        "import seaborn as sns\n",
        "\n",
        "# Preprocessing\n",
        "from sklearn.pipeline import Pipeline\n",
        "from sklearn.model_selection import train_test_split, cross_val_score, GridSearchCV\n",
        "# Text representation\n",
        "from sklearn.feature_extraction.text import CountVectorizer, TfidfVectorizer\n",
        "\n",
        "# ML Algo\n",
        "from sklearn.naive_bayes import MultinomialNB\n",
        "from sklearn.linear_model import LogisticRegression\n",
        "from sklearn.svm import LinearSVC\n",
        "\n",
        "# Evaluvation\n",
        "from sklearn.metrics import accuracy_score, confusion_matrix, roc_auc_score, classification_report\n",
        "\n",
        "from time import time"
      ],
      "execution_count": null,
      "outputs": []
    },
    {
      "cell_type": "code",
      "metadata": {
        "id": "ZIYb2GffWw8V"
      },
      "source": [
        "import string\n",
        "import re\n",
        "from nltk import word_tokenize\n",
        "from nltk.corpus import stopwords\n",
        "from nltk import WordNetLemmatizer"
      ],
      "execution_count": null,
      "outputs": []
    },
    {
      "cell_type": "code",
      "metadata": {
        "id": "yJ4geygFWw8W"
      },
      "source": [
        "def plotConfusionMatrixHeatmap(input_df: pd.core.frame.DataFrame, model_name: str, figsize=(20, 18)):\r\n",
        "    \"\"\"\r\n",
        "    Return the results of a multiclass classification algorithms as a heatmap\r\n",
        "    based on a confusion matrix.        \r\n",
        "    \"\"\"\r\n",
        "    # Heatmap of the results\r\n",
        "    plt.figure(figsize=figsize)\r\n",
        "    sns.heatmap(input_df, annot=True, fmt='d', cmap='Reds')\r\n",
        "    plt.ylabel('True', fontweight='bold')\r\n",
        "    plt.xlabel('Predicted', fontweight='bold')\r\n",
        "    plt.title(f'Confusion Matrix - {model_name}', size=14, fontweight='bold')\r\n",
        "    plt.show()"
      ],
      "execution_count": null,
      "outputs": []
    },
    {
      "cell_type": "code",
      "metadata": {
        "colab": {
          "base_uri": "https://localhost:8080/"
        },
        "id": "Hkxzu3p5bHUP",
        "outputId": "be9ab9e2-c2c9-4400-de39-f9db9bfee62e"
      },
      "source": [
        "import nltk\r\n",
        "nltk.download('stopwords')\r\n",
        "nltk.download('punkt')\r\n",
        "nltk.download('wordnet')"
      ],
      "execution_count": null,
      "outputs": [
        {
          "output_type": "stream",
          "text": [
            "[nltk_data] Downloading package stopwords to /root/nltk_data...\n",
            "[nltk_data]   Unzipping corpora/stopwords.zip.\n",
            "[nltk_data] Downloading package punkt to /root/nltk_data...\n",
            "[nltk_data]   Unzipping tokenizers/punkt.zip.\n",
            "[nltk_data] Downloading package wordnet to /root/nltk_data...\n",
            "[nltk_data]   Unzipping corpora/wordnet.zip.\n"
          ],
          "name": "stdout"
        },
        {
          "output_type": "execute_result",
          "data": {
            "text/plain": [
              "True"
            ]
          },
          "metadata": {
            "tags": []
          },
          "execution_count": 5
        }
      ]
    },
    {
      "cell_type": "markdown",
      "metadata": {
        "id": "dXlzdlK9Ww8X"
      },
      "source": [
        "# Load Trianing file"
      ]
    },
    {
      "cell_type": "code",
      "metadata": {
        "id": "8nC62LxhWw8b"
      },
      "source": [
        "data_path = 'drive/MyDrive/Springboard/data/loan_data_train.csv'"
      ],
      "execution_count": null,
      "outputs": []
    },
    {
      "cell_type": "code",
      "metadata": {
        "id": "y29PRXNvWw8c"
      },
      "source": [
        "df = pd.read_csv(data_path)"
      ],
      "execution_count": null,
      "outputs": []
    },
    {
      "cell_type": "code",
      "metadata": {
        "colab": {
          "base_uri": "https://localhost:8080/"
        },
        "id": "TJqfZghHWw8d",
        "outputId": "770706e6-2f33-4280-f999-60840d0b2e25"
      },
      "source": [
        "df.shape"
      ],
      "execution_count": null,
      "outputs": [
        {
          "output_type": "execute_result",
          "data": {
            "text/plain": [
              "(40715, 4)"
            ]
          },
          "metadata": {
            "tags": []
          },
          "execution_count": 8
        }
      ]
    },
    {
      "cell_type": "code",
      "metadata": {
        "colab": {
          "base_uri": "https://localhost:8080/"
        },
        "id": "IdKzPkR4Ww8g",
        "outputId": "da1ed443-7e9e-47c8-fe93-df2bf3e8c39c"
      },
      "source": [
        "df.columns"
      ],
      "execution_count": null,
      "outputs": [
        {
          "output_type": "execute_result",
          "data": {
            "text/plain": [
              "Index(['Unnamed: 0', 'index', 'full_text', 'label'], dtype='object')"
            ]
          },
          "metadata": {
            "tags": []
          },
          "execution_count": 9
        }
      ]
    },
    {
      "cell_type": "code",
      "metadata": {
        "colab": {
          "base_uri": "https://localhost:8080/",
          "height": 204
        },
        "id": "M3r2cZL-Ww8h",
        "outputId": "9106905e-fd64-4246-c0d4-369f85de214f"
      },
      "source": [
        "df.head()"
      ],
      "execution_count": null,
      "outputs": [
        {
          "output_type": "execute_result",
          "data": {
            "text/html": [
              "<div>\n",
              "<style scoped>\n",
              "    .dataframe tbody tr th:only-of-type {\n",
              "        vertical-align: middle;\n",
              "    }\n",
              "\n",
              "    .dataframe tbody tr th {\n",
              "        vertical-align: top;\n",
              "    }\n",
              "\n",
              "    .dataframe thead th {\n",
              "        text-align: right;\n",
              "    }\n",
              "</style>\n",
              "<table border=\"1\" class=\"dataframe\">\n",
              "  <thead>\n",
              "    <tr style=\"text-align: right;\">\n",
              "      <th></th>\n",
              "      <th>Unnamed: 0</th>\n",
              "      <th>index</th>\n",
              "      <th>full_text</th>\n",
              "      <th>label</th>\n",
              "    </tr>\n",
              "  </thead>\n",
              "  <tbody>\n",
              "    <tr>\n",
              "      <th>0</th>\n",
              "      <td>0</td>\n",
              "      <td>26</td>\n",
              "      <td>Problem with a credit reporting company's inve...</td>\n",
              "      <td>Vehicle loan or lease</td>\n",
              "    </tr>\n",
              "    <tr>\n",
              "      <th>1</th>\n",
              "      <td>1</td>\n",
              "      <td>141</td>\n",
              "      <td>I purchased a vehicle 3 years ago. As of recen...</td>\n",
              "      <td>Vehicle loan or lease</td>\n",
              "    </tr>\n",
              "    <tr>\n",
              "      <th>2</th>\n",
              "      <td>2</td>\n",
              "      <td>179</td>\n",
              "      <td>Great Lakes sent my account to a loan service ...</td>\n",
              "      <td>Student loan</td>\n",
              "    </tr>\n",
              "    <tr>\n",
              "      <th>3</th>\n",
              "      <td>3</td>\n",
              "      <td>185</td>\n",
              "      <td>Problems at the end of the loan or lease-Termi...</td>\n",
              "      <td>Vehicle loan or lease</td>\n",
              "    </tr>\n",
              "    <tr>\n",
              "      <th>4</th>\n",
              "      <td>4</td>\n",
              "      <td>203</td>\n",
              "      <td>Incorrect information on your report-Account s...</td>\n",
              "      <td>Student loan</td>\n",
              "    </tr>\n",
              "  </tbody>\n",
              "</table>\n",
              "</div>"
            ],
            "text/plain": [
              "   Unnamed: 0  ...                  label\n",
              "0           0  ...  Vehicle loan or lease\n",
              "1           1  ...  Vehicle loan or lease\n",
              "2           2  ...           Student loan\n",
              "3           3  ...  Vehicle loan or lease\n",
              "4           4  ...           Student loan\n",
              "\n",
              "[5 rows x 4 columns]"
            ]
          },
          "metadata": {
            "tags": []
          },
          "execution_count": 10
        }
      ]
    },
    {
      "cell_type": "code",
      "metadata": {
        "id": "HRlTvOKuWw8i"
      },
      "source": [
        "df.drop(columns=['Unnamed: 0', 'index'], inplace=True)"
      ],
      "execution_count": null,
      "outputs": []
    },
    {
      "cell_type": "code",
      "metadata": {
        "colab": {
          "base_uri": "https://localhost:8080/"
        },
        "id": "r74-T3vrWw8j",
        "outputId": "635eb0d8-7240-452c-95e2-8f3f40c17449"
      },
      "source": [
        "df.columns"
      ],
      "execution_count": null,
      "outputs": [
        {
          "output_type": "execute_result",
          "data": {
            "text/plain": [
              "Index(['full_text', 'label'], dtype='object')"
            ]
          },
          "metadata": {
            "tags": []
          },
          "execution_count": 12
        }
      ]
    },
    {
      "cell_type": "code",
      "metadata": {
        "colab": {
          "base_uri": "https://localhost:8080/",
          "height": 204
        },
        "id": "5pJaJop1Ww8j",
        "outputId": "cb4cdaf9-4728-40f3-88cb-f03fed28a73d"
      },
      "source": [
        "df.head()"
      ],
      "execution_count": null,
      "outputs": [
        {
          "output_type": "execute_result",
          "data": {
            "text/html": [
              "<div>\n",
              "<style scoped>\n",
              "    .dataframe tbody tr th:only-of-type {\n",
              "        vertical-align: middle;\n",
              "    }\n",
              "\n",
              "    .dataframe tbody tr th {\n",
              "        vertical-align: top;\n",
              "    }\n",
              "\n",
              "    .dataframe thead th {\n",
              "        text-align: right;\n",
              "    }\n",
              "</style>\n",
              "<table border=\"1\" class=\"dataframe\">\n",
              "  <thead>\n",
              "    <tr style=\"text-align: right;\">\n",
              "      <th></th>\n",
              "      <th>full_text</th>\n",
              "      <th>label</th>\n",
              "    </tr>\n",
              "  </thead>\n",
              "  <tbody>\n",
              "    <tr>\n",
              "      <th>0</th>\n",
              "      <td>Problem with a credit reporting company's inve...</td>\n",
              "      <td>Vehicle loan or lease</td>\n",
              "    </tr>\n",
              "    <tr>\n",
              "      <th>1</th>\n",
              "      <td>I purchased a vehicle 3 years ago. As of recen...</td>\n",
              "      <td>Vehicle loan or lease</td>\n",
              "    </tr>\n",
              "    <tr>\n",
              "      <th>2</th>\n",
              "      <td>Great Lakes sent my account to a loan service ...</td>\n",
              "      <td>Student loan</td>\n",
              "    </tr>\n",
              "    <tr>\n",
              "      <th>3</th>\n",
              "      <td>Problems at the end of the loan or lease-Termi...</td>\n",
              "      <td>Vehicle loan or lease</td>\n",
              "    </tr>\n",
              "    <tr>\n",
              "      <th>4</th>\n",
              "      <td>Incorrect information on your report-Account s...</td>\n",
              "      <td>Student loan</td>\n",
              "    </tr>\n",
              "  </tbody>\n",
              "</table>\n",
              "</div>"
            ],
            "text/plain": [
              "                                           full_text                  label\n",
              "0  Problem with a credit reporting company's inve...  Vehicle loan or lease\n",
              "1  I purchased a vehicle 3 years ago. As of recen...  Vehicle loan or lease\n",
              "2  Great Lakes sent my account to a loan service ...           Student loan\n",
              "3  Problems at the end of the loan or lease-Termi...  Vehicle loan or lease\n",
              "4  Incorrect information on your report-Account s...           Student loan"
            ]
          },
          "metadata": {
            "tags": []
          },
          "execution_count": 13
        }
      ]
    },
    {
      "cell_type": "code",
      "metadata": {
        "colab": {
          "base_uri": "https://localhost:8080/"
        },
        "id": "Qb4opJnXWw8k",
        "outputId": "f6b4d9eb-ca4e-49e1-dec7-c685b6b70f46"
      },
      "source": [
        "df['label'].value_counts()"
      ],
      "execution_count": null,
      "outputs": [
        {
          "output_type": "execute_result",
          "data": {
            "text/plain": [
              "Student loan                                 19131\n",
              "Vehicle loan or lease                         7838\n",
              "Consumer Loan                                 6659\n",
              "Payday loan, title loan, or personal loan     5873\n",
              "Payday loan                                   1214\n",
              "Name: label, dtype: int64"
            ]
          },
          "metadata": {
            "tags": []
          },
          "execution_count": 14
        }
      ]
    },
    {
      "cell_type": "code",
      "metadata": {
        "colab": {
          "base_uri": "https://localhost:8080/"
        },
        "id": "3gb5U4JjWw8l",
        "outputId": "1997dd78-b403-4435-d24c-450e21d513fe"
      },
      "source": [
        "# Class distribution\n",
        "df['label'].value_counts()/df.shape[0] * 100"
      ],
      "execution_count": null,
      "outputs": [
        {
          "output_type": "execute_result",
          "data": {
            "text/plain": [
              "Student loan                                 46.987597\n",
              "Vehicle loan or lease                        19.250890\n",
              "Consumer Loan                                16.355152\n",
              "Payday loan, title loan, or personal loan    14.424659\n",
              "Payday loan                                   2.981702\n",
              "Name: label, dtype: float64"
            ]
          },
          "metadata": {
            "tags": []
          },
          "execution_count": 15
        }
      ]
    },
    {
      "cell_type": "markdown",
      "metadata": {
        "id": "E2s4SXydWw8m"
      },
      "source": [
        "# Pre Processing"
      ]
    },
    {
      "cell_type": "code",
      "metadata": {
        "id": "nwVOZZh0Ww8m"
      },
      "source": [
        "def clean_text(doc):\n",
        "    \"\"\"\n",
        "      1. Converting all text into lower case\n",
        "      2. Removing classified words like xxx\n",
        "      3. Remove stop words\n",
        "      4. remove punctuation\n",
        "      5. remove digits\n",
        "      6. Wordnet lemmatizer\n",
        "      7. Custom regex for further cleaning\n",
        "      \"\"\"\n",
        "    # Set stop word as english\n",
        "    stop_word = set(stopwords.words('english'))\n",
        "    \n",
        "    # Tokenize the sentence and make all character lower case\n",
        "    doc = [x.lower() for x in word_tokenize(doc)]\n",
        "    \n",
        "    # Remove classified texts\n",
        "    doc = [x for x in doc if x.lower() != 'xxxx' and x.lower() != 'xx' \n",
        "           and x.lower() != 'xx/xx/xxxx' and x.lower() != 'xxxx/xxxx/xxxx']\n",
        "    \n",
        "    # Remove stop words\n",
        "    doc = [x for x in doc if x not in stop_word]\n",
        "    \n",
        "    # Remove Punctuation\n",
        "    doc = [x for x in doc if x not in string.punctuation]\n",
        "    \n",
        "    # Remove Digits\n",
        "    doc = [x for x in doc if not x.isdigit()]\n",
        "    \n",
        "    # Set NLTK Wordnet lemmatizer and lemmatize the sentence\n",
        "    lemmatizer = WordNetLemmatizer()\n",
        "    doc = \" \".join([lemmatizer.lemmatize(word) for word in doc])\n",
        "\n",
        "    # Regular expression to remove unwanted chars\n",
        "    pattern_1 = re.compile(r\"(\\W)|(\\d)\")\n",
        "    pattern_2 = re.compile(r\"\\s\\s+\")\n",
        "\n",
        "    doc = pattern_1.sub(\" \", doc)\n",
        "    doc = pattern_2.sub(\"\", doc)\n",
        "    \n",
        "    return doc"
      ],
      "execution_count": null,
      "outputs": []
    },
    {
      "cell_type": "code",
      "metadata": {
        "id": "07tRECTCWw8n"
      },
      "source": [
        "df['text_processed'] = df.apply(lambda row : clean_text(row['full_text']), axis = 1)"
      ],
      "execution_count": null,
      "outputs": []
    },
    {
      "cell_type": "code",
      "metadata": {
        "colab": {
          "base_uri": "https://localhost:8080/",
          "height": 204
        },
        "id": "1JsMuuH2Ww8o",
        "outputId": "73429884-3c6b-4f94-98b5-b8af6efbcaa5"
      },
      "source": [
        "df.head()"
      ],
      "execution_count": null,
      "outputs": [
        {
          "output_type": "execute_result",
          "data": {
            "text/html": [
              "<div>\n",
              "<style scoped>\n",
              "    .dataframe tbody tr th:only-of-type {\n",
              "        vertical-align: middle;\n",
              "    }\n",
              "\n",
              "    .dataframe tbody tr th {\n",
              "        vertical-align: top;\n",
              "    }\n",
              "\n",
              "    .dataframe thead th {\n",
              "        text-align: right;\n",
              "    }\n",
              "</style>\n",
              "<table border=\"1\" class=\"dataframe\">\n",
              "  <thead>\n",
              "    <tr style=\"text-align: right;\">\n",
              "      <th></th>\n",
              "      <th>full_text</th>\n",
              "      <th>label</th>\n",
              "      <th>text_processed</th>\n",
              "    </tr>\n",
              "  </thead>\n",
              "  <tbody>\n",
              "    <tr>\n",
              "      <th>0</th>\n",
              "      <td>Problem with a credit reporting company's inve...</td>\n",
              "      <td>Vehicle loan or lease</td>\n",
              "      <td>problem credit reporting companys investigatio...</td>\n",
              "    </tr>\n",
              "    <tr>\n",
              "      <th>1</th>\n",
              "      <td>I purchased a vehicle 3 years ago. As of recen...</td>\n",
              "      <td>Vehicle loan or lease</td>\n",
              "      <td>purchased vehicle year ago recentlyve made eve...</td>\n",
              "    </tr>\n",
              "    <tr>\n",
              "      <th>2</th>\n",
              "      <td>Great Lakes sent my account to a loan service ...</td>\n",
              "      <td>Student loan</td>\n",
              "      <td>great lake sent account loan service group nam...</td>\n",
              "    </tr>\n",
              "    <tr>\n",
              "      <th>3</th>\n",
              "      <td>Problems at the end of the loan or lease-Termi...</td>\n",
              "      <td>Vehicle loan or lease</td>\n",
              "      <td>problem end loan lease termination fee problem...</td>\n",
              "    </tr>\n",
              "    <tr>\n",
              "      <th>4</th>\n",
              "      <td>Incorrect information on your report-Account s...</td>\n",
              "      <td>Student loan</td>\n",
              "      <td>incorrect information report account status in...</td>\n",
              "    </tr>\n",
              "  </tbody>\n",
              "</table>\n",
              "</div>"
            ],
            "text/plain": [
              "                                           full_text  ...                                     text_processed\n",
              "0  Problem with a credit reporting company's inve...  ...  problem credit reporting companys investigatio...\n",
              "1  I purchased a vehicle 3 years ago. As of recen...  ...  purchased vehicle year ago recentlyve made eve...\n",
              "2  Great Lakes sent my account to a loan service ...  ...  great lake sent account loan service group nam...\n",
              "3  Problems at the end of the loan or lease-Termi...  ...  problem end loan lease termination fee problem...\n",
              "4  Incorrect information on your report-Account s...  ...  incorrect information report account status in...\n",
              "\n",
              "[5 rows x 3 columns]"
            ]
          },
          "metadata": {
            "tags": []
          },
          "execution_count": 18
        }
      ]
    },
    {
      "cell_type": "code",
      "metadata": {
        "id": "cR_8w4Ngef52"
      },
      "source": [
        "df.reset_index(inplace=True)"
      ],
      "execution_count": null,
      "outputs": []
    },
    {
      "cell_type": "markdown",
      "metadata": {
        "id": "5dMORe_7Ww8p"
      },
      "source": [
        "# Encoding and Modeling"
      ]
    },
    {
      "cell_type": "code",
      "metadata": {
        "id": "G1zjv7arWw8p"
      },
      "source": [
        "from sklearn.preprocessing import LabelEncoder\n",
        "label_encoder = LabelEncoder()"
      ],
      "execution_count": null,
      "outputs": []
    },
    {
      "cell_type": "code",
      "metadata": {
        "id": "7PoH-2evZNqr"
      },
      "source": [
        "df['label'] = df['label'].replace(['Payday loan'],'Payday loan, title loan, or personal loan')"
      ],
      "execution_count": null,
      "outputs": []
    },
    {
      "cell_type": "code",
      "metadata": {
        "id": "ngx6Z3Y5Ww8q"
      },
      "source": [
        "df['label_id'] = label_encoder.fit_transform(df['label'])"
      ],
      "execution_count": null,
      "outputs": []
    },
    {
      "cell_type": "code",
      "metadata": {
        "colab": {
          "base_uri": "https://localhost:8080/"
        },
        "id": "ET16sKOWWw8q",
        "outputId": "d8fc8a8a-9fb7-4fce-ff50-e859c879316b"
      },
      "source": [
        "# Put the label category into dict for future use\n",
        "label_map = df.set_index('label_id').to_dict()['label']\n",
        "label_map"
      ],
      "execution_count": null,
      "outputs": [
        {
          "output_type": "execute_result",
          "data": {
            "text/plain": [
              "{0: 'Consumer Loan',\n",
              " 1: 'Payday loan, title loan, or personal loan',\n",
              " 2: 'Student loan',\n",
              " 3: 'Vehicle loan or lease'}"
            ]
          },
          "metadata": {
            "tags": []
          },
          "execution_count": 25
        }
      ]
    },
    {
      "cell_type": "code",
      "metadata": {
        "colab": {
          "base_uri": "https://localhost:8080/",
          "height": 204
        },
        "id": "uthf6Q-_Ww8r",
        "outputId": "1c54ea63-32d2-4c38-b72d-70bdf00ba640"
      },
      "source": [
        "df.head()"
      ],
      "execution_count": null,
      "outputs": [
        {
          "output_type": "execute_result",
          "data": {
            "text/html": [
              "<div>\n",
              "<style scoped>\n",
              "    .dataframe tbody tr th:only-of-type {\n",
              "        vertical-align: middle;\n",
              "    }\n",
              "\n",
              "    .dataframe tbody tr th {\n",
              "        vertical-align: top;\n",
              "    }\n",
              "\n",
              "    .dataframe thead th {\n",
              "        text-align: right;\n",
              "    }\n",
              "</style>\n",
              "<table border=\"1\" class=\"dataframe\">\n",
              "  <thead>\n",
              "    <tr style=\"text-align: right;\">\n",
              "      <th></th>\n",
              "      <th>index</th>\n",
              "      <th>full_text</th>\n",
              "      <th>label</th>\n",
              "      <th>text_processed</th>\n",
              "      <th>label_id</th>\n",
              "    </tr>\n",
              "  </thead>\n",
              "  <tbody>\n",
              "    <tr>\n",
              "      <th>0</th>\n",
              "      <td>0</td>\n",
              "      <td>Problem with a credit reporting company's inve...</td>\n",
              "      <td>Vehicle loan or lease</td>\n",
              "      <td>problem credit reporting companys investigatio...</td>\n",
              "      <td>3</td>\n",
              "    </tr>\n",
              "    <tr>\n",
              "      <th>1</th>\n",
              "      <td>1</td>\n",
              "      <td>I purchased a vehicle 3 years ago. As of recen...</td>\n",
              "      <td>Vehicle loan or lease</td>\n",
              "      <td>purchased vehicle year ago recentlyve made eve...</td>\n",
              "      <td>3</td>\n",
              "    </tr>\n",
              "    <tr>\n",
              "      <th>2</th>\n",
              "      <td>2</td>\n",
              "      <td>Great Lakes sent my account to a loan service ...</td>\n",
              "      <td>Student loan</td>\n",
              "      <td>great lake sent account loan service group nam...</td>\n",
              "      <td>2</td>\n",
              "    </tr>\n",
              "    <tr>\n",
              "      <th>3</th>\n",
              "      <td>3</td>\n",
              "      <td>Problems at the end of the loan or lease-Termi...</td>\n",
              "      <td>Vehicle loan or lease</td>\n",
              "      <td>problem end loan lease termination fee problem...</td>\n",
              "      <td>3</td>\n",
              "    </tr>\n",
              "    <tr>\n",
              "      <th>4</th>\n",
              "      <td>4</td>\n",
              "      <td>Incorrect information on your report-Account s...</td>\n",
              "      <td>Student loan</td>\n",
              "      <td>incorrect information report account status in...</td>\n",
              "      <td>2</td>\n",
              "    </tr>\n",
              "  </tbody>\n",
              "</table>\n",
              "</div>"
            ],
            "text/plain": [
              "   index  ... label_id\n",
              "0      0  ...        3\n",
              "1      1  ...        3\n",
              "2      2  ...        2\n",
              "3      3  ...        3\n",
              "4      4  ...        2\n",
              "\n",
              "[5 rows x 5 columns]"
            ]
          },
          "metadata": {
            "tags": []
          },
          "execution_count": 26
        }
      ]
    },
    {
      "cell_type": "code",
      "metadata": {
        "id": "4RKNmtymWw8s"
      },
      "source": [
        "X = df.text_processed\n",
        "y = df.label_id"
      ],
      "execution_count": null,
      "outputs": []
    },
    {
      "cell_type": "code",
      "metadata": {
        "colab": {
          "base_uri": "https://localhost:8080/"
        },
        "id": "mJ8jub0jWw8s",
        "outputId": "188b7969-68a4-4904-f364-6fcee706ee18"
      },
      "source": [
        "print(X.shape, y.shape)"
      ],
      "execution_count": null,
      "outputs": [
        {
          "output_type": "stream",
          "text": [
            "(40715,) (40715,)\n"
          ],
          "name": "stdout"
        }
      ]
    },
    {
      "cell_type": "code",
      "metadata": {
        "id": "3DDUc6lCWw8t"
      },
      "source": [
        "X_train, X_test, y_train, y_test = train_test_split(X, y, random_state=1)"
      ],
      "execution_count": null,
      "outputs": []
    },
    {
      "cell_type": "code",
      "metadata": {
        "colab": {
          "base_uri": "https://localhost:8080/"
        },
        "id": "OnO98oCLWw8u",
        "outputId": "b3493e6f-1d90-4e34-f065-cd6d686e8204"
      },
      "source": [
        "print(X_train.shape, y_train.shape)\n",
        "print(X_test.shape, y_test.shape)"
      ],
      "execution_count": null,
      "outputs": [
        {
          "output_type": "stream",
          "text": [
            "(30536,) (30536,)\n",
            "(10179,) (10179,)\n"
          ],
          "name": "stdout"
        }
      ]
    },
    {
      "cell_type": "markdown",
      "metadata": {
        "id": "2LkrJY4tWw8v"
      },
      "source": [
        "# Multinomial Naive bayes"
      ]
    },
    {
      "cell_type": "code",
      "metadata": {
        "id": "Uc739lWtWw8v"
      },
      "source": [
        "# Parameter values to test\n",
        "param_grid = {\n",
        "    'TfIdf__max_features' : [10000, 20000, 25000, 30000],\n",
        "    'TfIdf__ngram_range' : [(1,1),(1,2),(2,2)],\n",
        "    'TfIdf__use_idf' : [True],\n",
        "    'MultinomialNB__alpha' : [0.01, 0.02, 0.05, 0.10]\n",
        "    }"
      ],
      "execution_count": null,
      "outputs": []
    },
    {
      "cell_type": "code",
      "metadata": {
        "id": "5cgimgvDWw8w"
      },
      "source": [
        "# Creating pipeline for Naive Bayes Model\n",
        "pipeline_mnb = Pipeline(steps = [('TfIdf', TfidfVectorizer()),\n",
        "                              ('MultinomialNB', MultinomialNB())])"
      ],
      "execution_count": null,
      "outputs": []
    },
    {
      "cell_type": "code",
      "metadata": {
        "id": "vTqD9D7lWw8w"
      },
      "source": [
        "grid_search_mnb = GridSearchCV(pipeline_mnb, param_grid, cv=5, verbose=1, n_jobs=10)"
      ],
      "execution_count": null,
      "outputs": []
    },
    {
      "cell_type": "code",
      "metadata": {
        "colab": {
          "base_uri": "https://localhost:8080/"
        },
        "id": "xWcsAn-iWw8x",
        "outputId": "24b294bc-b978-49f7-f397-029974ba3f1e"
      },
      "source": [
        "grid_search_mnb.fit(X_train, y_train)"
      ],
      "execution_count": null,
      "outputs": [
        {
          "output_type": "stream",
          "text": [
            "Fitting 5 folds for each of 48 candidates, totalling 240 fits\n"
          ],
          "name": "stdout"
        },
        {
          "output_type": "stream",
          "text": [
            "[Parallel(n_jobs=10)]: Using backend LokyBackend with 10 concurrent workers.\n",
            "[Parallel(n_jobs=10)]: Done  30 tasks      | elapsed:  2.5min\n",
            "[Parallel(n_jobs=10)]: Done 180 tasks      | elapsed: 13.9min\n",
            "[Parallel(n_jobs=10)]: Done 240 out of 240 | elapsed: 18.5min finished\n"
          ],
          "name": "stderr"
        },
        {
          "output_type": "execute_result",
          "data": {
            "text/plain": [
              "GridSearchCV(cv=5, error_score=nan,\n",
              "             estimator=Pipeline(memory=None,\n",
              "                                steps=[('TfIdf',\n",
              "                                        TfidfVectorizer(analyzer='word',\n",
              "                                                        binary=False,\n",
              "                                                        decode_error='strict',\n",
              "                                                        dtype=<class 'numpy.float64'>,\n",
              "                                                        encoding='utf-8',\n",
              "                                                        input='content',\n",
              "                                                        lowercase=True,\n",
              "                                                        max_df=1.0,\n",
              "                                                        max_features=None,\n",
              "                                                        min_df=1,\n",
              "                                                        ngram_range=(1, 1),\n",
              "                                                        norm='l2',\n",
              "                                                        preprocessor=None,\n",
              "                                                        smooth_idf=True,\n",
              "                                                        stop_words=None,\n",
              "                                                        strip_acc...\n",
              "                                        MultinomialNB(alpha=1.0,\n",
              "                                                      class_prior=None,\n",
              "                                                      fit_prior=True))],\n",
              "                                verbose=False),\n",
              "             iid='deprecated', n_jobs=10,\n",
              "             param_grid={'MultinomialNB__alpha': [0.01, 0.02, 0.05, 0.1],\n",
              "                         'TfIdf__max_features': [10000, 20000, 25000, 30000],\n",
              "                         'TfIdf__ngram_range': [(1, 1), (1, 2), (2, 2)],\n",
              "                         'TfIdf__use_idf': [True]},\n",
              "             pre_dispatch='2*n_jobs', refit=True, return_train_score=False,\n",
              "             scoring=None, verbose=1)"
            ]
          },
          "metadata": {
            "tags": []
          },
          "execution_count": 34
        }
      ]
    },
    {
      "cell_type": "code",
      "metadata": {
        "colab": {
          "base_uri": "https://localhost:8080/"
        },
        "id": "4gKM5G7SWw8y",
        "outputId": "d51a3408-b6ad-4924-85f7-95345aebe77a"
      },
      "source": [
        "print(grid_search_mnb.best_params_)"
      ],
      "execution_count": null,
      "outputs": [
        {
          "output_type": "stream",
          "text": [
            "{'MultinomialNB__alpha': 0.1, 'TfIdf__max_features': 25000, 'TfIdf__ngram_range': (1, 2), 'TfIdf__use_idf': True}\n"
          ],
          "name": "stdout"
        }
      ]
    },
    {
      "cell_type": "code",
      "metadata": {
        "colab": {
          "base_uri": "https://localhost:8080/"
        },
        "id": "Y3WruaS-Ww8y",
        "outputId": "b598deb3-2189-4668-8267-2e72148e5a90"
      },
      "source": [
        "print(grid_search_mnb.best_estimator_)"
      ],
      "execution_count": null,
      "outputs": [
        {
          "output_type": "stream",
          "text": [
            "Pipeline(memory=None,\n",
            "         steps=[('TfIdf',\n",
            "                 TfidfVectorizer(analyzer='word', binary=False,\n",
            "                                 decode_error='strict',\n",
            "                                 dtype=<class 'numpy.float64'>,\n",
            "                                 encoding='utf-8', input='content',\n",
            "                                 lowercase=True, max_df=1.0, max_features=25000,\n",
            "                                 min_df=1, ngram_range=(1, 2), norm='l2',\n",
            "                                 preprocessor=None, smooth_idf=True,\n",
            "                                 stop_words=None, strip_accents=None,\n",
            "                                 sublinear_tf=False,\n",
            "                                 token_pattern='(?u)\\\\b\\\\w\\\\w+\\\\b',\n",
            "                                 tokenizer=None, use_idf=True,\n",
            "                                 vocabulary=None)),\n",
            "                ('MultinomialNB',\n",
            "                 MultinomialNB(alpha=0.1, class_prior=None, fit_prior=True))],\n",
            "         verbose=False)\n"
          ],
          "name": "stdout"
        }
      ]
    },
    {
      "cell_type": "code",
      "metadata": {
        "colab": {
          "base_uri": "https://localhost:8080/"
        },
        "id": "InWE5eN5Ww8y",
        "outputId": "b2c82ebc-165c-4fda-905d-3069e9e759ff"
      },
      "source": [
        "grid_search_mnb.score(X_test, y_test)"
      ],
      "execution_count": null,
      "outputs": [
        {
          "output_type": "execute_result",
          "data": {
            "text/plain": [
              "0.7754199823165341"
            ]
          },
          "metadata": {
            "tags": []
          },
          "execution_count": 37
        }
      ]
    },
    {
      "cell_type": "code",
      "metadata": {
        "id": "bndcyzqUWw8z"
      },
      "source": [
        "y_predicted = grid_search_mnb.predict(X_test)"
      ],
      "execution_count": null,
      "outputs": []
    },
    {
      "cell_type": "code",
      "metadata": {
        "colab": {
          "base_uri": "https://localhost:8080/"
        },
        "id": "DGvwo7mKWw8z",
        "outputId": "60fe0b7f-26a4-4b0b-a991-26e0af859993"
      },
      "source": [
        "classification_report_mnb = classification_report(y_test, y_predicted)\n",
        "print(classification_report_mnb)"
      ],
      "execution_count": null,
      "outputs": [
        {
          "output_type": "stream",
          "text": [
            "              precision    recall  f1-score   support\n",
            "\n",
            "           0       0.54      0.33      0.41      1693\n",
            "           1       0.70      0.72      0.71      1738\n",
            "           2       0.92      0.96      0.94      4813\n",
            "           3       0.63      0.76      0.69      1935\n",
            "\n",
            "    accuracy                           0.78     10179\n",
            "   macro avg       0.70      0.69      0.69     10179\n",
            "weighted avg       0.76      0.78      0.76     10179\n",
            "\n"
          ],
          "name": "stdout"
        }
      ]
    },
    {
      "cell_type": "code",
      "metadata": {
        "id": "UuTW6FfYWw80"
      },
      "source": [
        "key_to_label_name = [x[1] for x in sorted(label_map.items())]"
      ],
      "execution_count": null,
      "outputs": []
    },
    {
      "cell_type": "code",
      "metadata": {
        "colab": {
          "base_uri": "https://localhost:8080/",
          "height": 810
        },
        "id": "QAzf4eo6Ww80",
        "outputId": "0485321d-4780-4d9d-fb0f-1b6bc597946c"
      },
      "source": [
        "conf_matrix_df = pd.DataFrame(data=confusion_matrix(y_test, y_predicted),\n",
        "                              index=key_to_label_name, columns=key_to_label_name)\n",
        "\n",
        "plotConfusionMatrixHeatmap(conf_matrix_df, model_name='Multinomial Naive bayes', figsize=(12, 10))"
      ],
      "execution_count": null,
      "outputs": [
        {
          "output_type": "display_data",
          "data": {
            "image/png": "[encoded data removed]",
            "text/plain": [
              "<Figure size 864x720 with 2 Axes>"
            ]
          },
          "metadata": {
            "tags": [],
            "needs_background": "light"
          }
        }
      ]
    },
    {
      "cell_type": "code",
      "metadata": {
        "id": "xGRzmyxtmnUb"
      },
      "source": [
        "import joblib"
      ],
      "execution_count": null,
      "outputs": []
    },
    {
      "cell_type": "code",
      "metadata": {
        "colab": {
          "base_uri": "https://localhost:8080/"
        },
        "id": "_VdMZ1QWWw81",
        "outputId": "6f077254-7418-4aae-d0bf-7113093c7f18"
      },
      "source": [
        "joblib.dump(grid_search_mnb.best_estimator_, 'drive/MyDrive/Springboard/data/models/Multinomial_naive_bayes_with_loan_data.pkl', compress = 1)"
      ],
      "execution_count": null,
      "outputs": [
        {
          "output_type": "execute_result",
          "data": {
            "text/plain": [
              "['drive/MyDrive/Springboard/data/models/Multinomial_naive_bayes_with_loan_data.pkl']"
            ]
          },
          "metadata": {
            "tags": []
          },
          "execution_count": 43
        }
      ]
    },
    {
      "cell_type": "markdown",
      "metadata": {
        "id": "LISiZqB9Ww82"
      },
      "source": [
        "# Logistic Regression"
      ]
    },
    {
      "cell_type": "code",
      "metadata": {
        "id": "oh8wKqfEWw82"
      },
      "source": [
        "param_grid_lr = {\n",
        "    'TfIdf__max_features' : [10000, 20000, 25000, 30000],\n",
        "    'TfIdf__ngram_range' : [(1,1),(1,2),(2,2)],\n",
        "    'TfIdf__use_idf' : [True]\n",
        "    }"
      ],
      "execution_count": null,
      "outputs": []
    },
    {
      "cell_type": "code",
      "metadata": {
        "id": "yAH57y3VWw82"
      },
      "source": [
        "# Creating pipeline for Logistice Regression model\n",
        "pipeline_lr = Pipeline(steps = [('TfIdf', TfidfVectorizer()),\n",
        "                              ('LogisticRegression', LogisticRegression(class_weight=\"balanced\"))])"
      ],
      "execution_count": null,
      "outputs": []
    },
    {
      "cell_type": "code",
      "metadata": {
        "id": "Jqp_uIFCWw83"
      },
      "source": [
        "grid_search_lr = GridSearchCV(pipeline_lr, param_grid_lr, cv=5, verbose=1, n_jobs=10)"
      ],
      "execution_count": null,
      "outputs": []
    },
    {
      "cell_type": "code",
      "metadata": {
        "colab": {
          "base_uri": "https://localhost:8080/"
        },
        "id": "bFDNtcqyWw84",
        "outputId": "6098293d-da73-4e1f-bc8a-e573de77219b"
      },
      "source": [
        "grid_search_lr.fit(X_train, y_train)"
      ],
      "execution_count": null,
      "outputs": [
        {
          "output_type": "stream",
          "text": [
            "Fitting 5 folds for each of 12 candidates, totalling 60 fits\n"
          ],
          "name": "stdout"
        },
        {
          "output_type": "stream",
          "text": [
            "[Parallel(n_jobs=10)]: Using backend LokyBackend with 10 concurrent workers.\n",
            "[Parallel(n_jobs=10)]: Done  30 tasks      | elapsed:  3.9min\n",
            "[Parallel(n_jobs=10)]: Done  60 out of  60 | elapsed:  8.0min finished\n",
            "/usr/local/lib/python3.6/dist-packages/sklearn/linear_model/_logistic.py:940: ConvergenceWarning: lbfgs failed to converge (status=1):\n",
            "STOP: TOTAL NO. of ITERATIONS REACHED LIMIT.\n",
            "\n",
            "Increase the number of iterations (max_iter) or scale the data as shown in:\n",
            "    https://scikit-learn.org/stable/modules/preprocessing.html\n",
            "Please also refer to the documentation for alternative solver options:\n",
            "    https://scikit-learn.org/stable/modules/linear_model.html#logistic-regression\n",
            "  extra_warning_msg=_LOGISTIC_SOLVER_CONVERGENCE_MSG)\n"
          ],
          "name": "stderr"
        },
        {
          "output_type": "execute_result",
          "data": {
            "text/plain": [
              "GridSearchCV(cv=5, error_score=nan,\n",
              "             estimator=Pipeline(memory=None,\n",
              "                                steps=[('TfIdf',\n",
              "                                        TfidfVectorizer(analyzer='word',\n",
              "                                                        binary=False,\n",
              "                                                        decode_error='strict',\n",
              "                                                        dtype=<class 'numpy.float64'>,\n",
              "                                                        encoding='utf-8',\n",
              "                                                        input='content',\n",
              "                                                        lowercase=True,\n",
              "                                                        max_df=1.0,\n",
              "                                                        max_features=None,\n",
              "                                                        min_df=1,\n",
              "                                                        ngram_range=(1, 1),\n",
              "                                                        norm='l2',\n",
              "                                                        preprocessor=None,\n",
              "                                                        smooth_idf=True,\n",
              "                                                        stop_words=None,\n",
              "                                                        strip_acc...\n",
              "                                                           n_jobs=None,\n",
              "                                                           penalty='l2',\n",
              "                                                           random_state=None,\n",
              "                                                           solver='lbfgs',\n",
              "                                                           tol=0.0001,\n",
              "                                                           verbose=0,\n",
              "                                                           warm_start=False))],\n",
              "                                verbose=False),\n",
              "             iid='deprecated', n_jobs=10,\n",
              "             param_grid={'TfIdf__max_features': [10000, 20000, 25000, 30000],\n",
              "                         'TfIdf__ngram_range': [(1, 1), (1, 2), (2, 2)],\n",
              "                         'TfIdf__use_idf': [True]},\n",
              "             pre_dispatch='2*n_jobs', refit=True, return_train_score=False,\n",
              "             scoring=None, verbose=1)"
            ]
          },
          "metadata": {
            "tags": []
          },
          "execution_count": 47
        }
      ]
    },
    {
      "cell_type": "code",
      "metadata": {
        "colab": {
          "base_uri": "https://localhost:8080/"
        },
        "id": "-4AwuisWWw84",
        "outputId": "ee3f6eb2-b484-4679-89eb-afb38b332d1d"
      },
      "source": [
        "print(grid_search_lr.best_params_)"
      ],
      "execution_count": null,
      "outputs": [
        {
          "output_type": "stream",
          "text": [
            "{'TfIdf__max_features': 30000, 'TfIdf__ngram_range': (1, 2), 'TfIdf__use_idf': True}\n"
          ],
          "name": "stdout"
        }
      ]
    },
    {
      "cell_type": "code",
      "metadata": {
        "colab": {
          "base_uri": "https://localhost:8080/"
        },
        "id": "Oto4xYYrWw84",
        "outputId": "36821401-27f4-4e29-ae5a-086f016bc469"
      },
      "source": [
        "print(grid_search_lr.best_estimator_)"
      ],
      "execution_count": null,
      "outputs": [
        {
          "output_type": "stream",
          "text": [
            "Pipeline(memory=None,\n",
            "         steps=[('TfIdf',\n",
            "                 TfidfVectorizer(analyzer='word', binary=False,\n",
            "                                 decode_error='strict',\n",
            "                                 dtype=<class 'numpy.float64'>,\n",
            "                                 encoding='utf-8', input='content',\n",
            "                                 lowercase=True, max_df=1.0, max_features=30000,\n",
            "                                 min_df=1, ngram_range=(1, 2), norm='l2',\n",
            "                                 preprocessor=None, smooth_idf=True,\n",
            "                                 stop_words=None, strip_accents=None,\n",
            "                                 sublinear_tf=False,\n",
            "                                 token_pattern='(?u)\\\\b\\\\w\\\\w+\\\\b',\n",
            "                                 tokenizer=None, use_idf=True,\n",
            "                                 vocabulary=None)),\n",
            "                ('LogisticRegression',\n",
            "                 LogisticRegression(C=1.0, class_weight='balanced', dual=False,\n",
            "                                    fit_intercept=True, intercept_scaling=1,\n",
            "                                    l1_ratio=None, max_iter=100,\n",
            "                                    multi_class='auto', n_jobs=None,\n",
            "                                    penalty='l2', random_state=None,\n",
            "                                    solver='lbfgs', tol=0.0001, verbose=0,\n",
            "                                    warm_start=False))],\n",
            "         verbose=False)\n"
          ],
          "name": "stdout"
        }
      ]
    },
    {
      "cell_type": "code",
      "metadata": {
        "colab": {
          "base_uri": "https://localhost:8080/"
        },
        "id": "ev4vdC9zWw85",
        "outputId": "360be0c4-0b02-4bc9-936c-f6213cdda7ca"
      },
      "source": [
        "grid_search_lr.score(X_test, y_test)"
      ],
      "execution_count": null,
      "outputs": [
        {
          "output_type": "execute_result",
          "data": {
            "text/plain": [
              "0.7817074368798507"
            ]
          },
          "metadata": {
            "tags": []
          },
          "execution_count": 50
        }
      ]
    },
    {
      "cell_type": "code",
      "metadata": {
        "id": "ltZlDWZxWw85"
      },
      "source": [
        "y_predicted = grid_search_lr.predict(X_test)"
      ],
      "execution_count": null,
      "outputs": []
    },
    {
      "cell_type": "code",
      "metadata": {
        "colab": {
          "base_uri": "https://localhost:8080/"
        },
        "id": "JcMv_HTiWw86",
        "outputId": "c0365562-d8dd-4842-e75f-10ebd9928764"
      },
      "source": [
        "classification_report_lr = classification_report(y_test, y_predicted)\n",
        "print(classification_report_lr)"
      ],
      "execution_count": null,
      "outputs": [
        {
          "output_type": "stream",
          "text": [
            "              precision    recall  f1-score   support\n",
            "\n",
            "           0       0.52      0.47      0.50      1693\n",
            "           1       0.66      0.80      0.72      1738\n",
            "           2       0.98      0.92      0.95      4813\n",
            "           3       0.66      0.69      0.67      1935\n",
            "\n",
            "    accuracy                           0.78     10179\n",
            "   macro avg       0.71      0.72      0.71     10179\n",
            "weighted avg       0.79      0.78      0.78     10179\n",
            "\n"
          ],
          "name": "stdout"
        }
      ]
    },
    {
      "cell_type": "code",
      "metadata": {
        "colab": {
          "base_uri": "https://localhost:8080/",
          "height": 810
        },
        "id": "cELr_3wIWw86",
        "outputId": "12bee0d0-2b7c-40ff-bd0b-0588073feae7"
      },
      "source": [
        "conf_matrix_df = pd.DataFrame(data=confusion_matrix(y_test, y_predicted),\n",
        "                              index=key_to_label_name, columns=key_to_label_name)\n",
        "\n",
        "plotConfusionMatrixHeatmap(conf_matrix_df, model_name='Logistic Regression', figsize=(12, 10))"
      ],
      "execution_count": null,
      "outputs": [
        {
          "output_type": "display_data",
          "data": {
            "image/png": "[encoded data removed]",
            "text/plain": [
              "<Figure size 864x720 with 2 Axes>"
            ]
          },
          "metadata": {
            "tags": [],
            "needs_background": "light"
          }
        }
      ]
    },
    {
      "cell_type": "code",
      "metadata": {
        "colab": {
          "base_uri": "https://localhost:8080/"
        },
        "id": "iDlbx5QCoGZ_",
        "outputId": "1ebbdf52-56a7-4a8d-ede9-a8d1242c92dd"
      },
      "source": [
        "joblib.dump(grid_search_lr.best_estimator_, 'drive/MyDrive/Springboard/data/models/logistic_regression_with_loan_data.pkl', compress = 1)"
      ],
      "execution_count": null,
      "outputs": [
        {
          "output_type": "execute_result",
          "data": {
            "text/plain": [
              "['drive/MyDrive/Springboard/data/models/logistic_regression_with_loan_data.pkl']"
            ]
          },
          "metadata": {
            "tags": []
          },
          "execution_count": 54
        }
      ]
    },
    {
      "cell_type": "markdown",
      "metadata": {
        "id": "L3Cy4BBfWw87"
      },
      "source": [
        "# Random forest clasifier"
      ]
    },
    {
      "cell_type": "code",
      "metadata": {
        "id": "XxuO1HWnWw87"
      },
      "source": [
        "from sklearn.ensemble import RandomForestClassifier\n",
        "from sklearn.feature_extraction.text import CountVectorizer"
      ],
      "execution_count": null,
      "outputs": []
    },
    {
      "cell_type": "code",
      "metadata": {
        "id": "gxYyIALuWw88"
      },
      "source": [
        "vectorizer = TfidfVectorizer(min_df=3, stop_words=\"english\", sublinear_tf=True, norm='l2', ngram_range=(1, 2))"
      ],
      "execution_count": null,
      "outputs": []
    },
    {
      "cell_type": "code",
      "metadata": {
        "id": "ulnzveNIWw89"
      },
      "source": [
        "pipeline_rf = Pipeline(steps = [('countvectorizer', vectorizer),\n",
        "                              ('clf', RandomForestClassifier())])"
      ],
      "execution_count": null,
      "outputs": []
    },
    {
      "cell_type": "code",
      "metadata": {
        "id": "gp96wiVJWw8-"
      },
      "source": [
        "model = pipeline_rf.fit(X_train, y_train)"
      ],
      "execution_count": null,
      "outputs": []
    },
    {
      "cell_type": "code",
      "metadata": {
        "id": "wqbpuNgBWw8-"
      },
      "source": [
        "y_pred = model.predict(X_test)"
      ],
      "execution_count": null,
      "outputs": []
    },
    {
      "cell_type": "code",
      "metadata": {
        "id": "3xbR0XhyWw8_"
      },
      "source": [
        "y_pred_prob = model.predict_proba(X_test)"
      ],
      "execution_count": null,
      "outputs": []
    },
    {
      "cell_type": "code",
      "metadata": {
        "id": "sDe2MMoLWw8_"
      },
      "source": [
        "lr_probs = y_pred_prob[:,1]"
      ],
      "execution_count": null,
      "outputs": []
    },
    {
      "cell_type": "code",
      "metadata": {
        "colab": {
          "base_uri": "https://localhost:8080/"
        },
        "id": "W064S4x5Ww9A",
        "outputId": "b9122ffe-7677-4617-c124-699ec19d1e7c"
      },
      "source": [
        "accuracy_score(y_test, y_pred)"
      ],
      "execution_count": null,
      "outputs": [
        {
          "output_type": "execute_result",
          "data": {
            "text/plain": [
              "0.7487965418999902"
            ]
          },
          "metadata": {
            "tags": []
          },
          "execution_count": 62
        }
      ]
    },
    {
      "cell_type": "code",
      "metadata": {
        "id": "5APUBHsPWw9A"
      },
      "source": [
        "conf_matrix_df = pd.DataFrame(data=confusion_matrix(y_test, y_pred),index=key_to_label_name,\n",
        "                              columns=key_to_label_name)"
      ],
      "execution_count": null,
      "outputs": []
    },
    {
      "cell_type": "code",
      "metadata": {
        "colab": {
          "base_uri": "https://localhost:8080/"
        },
        "id": "_WTsOzvRWw9B",
        "outputId": "838a2b3a-7d96-4beb-be2e-78406205c604"
      },
      "source": [
        "classification_rep = classification_report(y_test, y_pred,target_names=key_to_label_name)\n",
        "print(classification_rep)"
      ],
      "execution_count": null,
      "outputs": [
        {
          "output_type": "stream",
          "text": [
            "                                           precision    recall  f1-score   support\n",
            "\n",
            "                            Consumer Loan       0.55      0.14      0.23      1693\n",
            "Payday loan, title loan, or personal loan       0.69      0.68      0.68      1738\n",
            "                             Student loan       0.86      0.97      0.91      4813\n",
            "                    Vehicle loan or lease       0.59      0.78      0.67      1935\n",
            "\n",
            "                                 accuracy                           0.75     10179\n",
            "                                macro avg       0.67      0.64      0.62     10179\n",
            "                             weighted avg       0.73      0.75      0.71     10179\n",
            "\n"
          ],
          "name": "stdout"
        }
      ]
    },
    {
      "cell_type": "code",
      "metadata": {
        "colab": {
          "base_uri": "https://localhost:8080/",
          "height": 810
        },
        "id": "jVHCd6BVWw9B",
        "outputId": "0305381a-119e-46d9-aa41-c99b2134fd95"
      },
      "source": [
        "plotConfusionMatrixHeatmap(conf_matrix_df, model_name='Random forest', figsize=(12, 10))"
      ],
      "execution_count": null,
      "outputs": [
        {
          "output_type": "display_data",
          "data": {
            "image/png": "[encoded data removed]",
            "text/plain": [
              "<Figure size 864x720 with 2 Axes>"
            ]
          },
          "metadata": {
            "tags": [],
            "needs_background": "light"
          }
        }
      ]
    },
    {
      "cell_type": "code",
      "metadata": {
        "colab": {
          "base_uri": "https://localhost:8080/"
        },
        "id": "UXLGZzg9t4rD",
        "outputId": "c1c3e4cf-180d-41ec-8e6b-8861ceacd5f4"
      },
      "source": [
        "joblib.dump(model, 'drive/MyDrive/Springboard/data/models/random_forest_with_loan_data.pkl', compress = 1)"
      ],
      "execution_count": null,
      "outputs": [
        {
          "output_type": "execute_result",
          "data": {
            "text/plain": [
              "['drive/MyDrive/Springboard/data/models/random_forest_with_loan_data.pkl']"
            ]
          },
          "metadata": {
            "tags": []
          },
          "execution_count": 66
        }
      ]
    },
    {
      "cell_type": "markdown",
      "metadata": {
        "id": "e5wB8V6gWw9C"
      },
      "source": [
        "# Doc 2 Vec with logistic regression"
      ]
    },
    {
      "cell_type": "code",
      "metadata": {
        "id": "eod5B1HLWw9C"
      },
      "source": [
        "from gensim.models.doc2vec import Doc2Vec, TaggedDocument"
      ],
      "execution_count": null,
      "outputs": []
    },
    {
      "cell_type": "code",
      "metadata": {
        "id": "eXnVCJXvWw9D"
      },
      "source": [
        "#prepare training data in doc2vec format:\n",
        "train_doc2vec = [TaggedDocument((d), tags=[str(i)]) for i, d in enumerate(X_train)]"
      ],
      "execution_count": null,
      "outputs": []
    },
    {
      "cell_type": "code",
      "metadata": {
        "id": "tW6TGwkyGop-"
      },
      "source": [
        "train_doc2vec"
      ],
      "execution_count": null,
      "outputs": []
    },
    {
      "cell_type": "code",
      "metadata": {
        "colab": {
          "base_uri": "https://localhost:8080/"
        },
        "id": "TJPRc0TZWw9D",
        "outputId": "2132ff2d-bff5-47f8-dabc-8e197422ef39"
      },
      "source": [
        "#Train a doc2vec model to learn\n",
        "model = Doc2Vec(vector_size=50, alpha=0.025, min_count=5, dm =1, epochs=100)\n",
        "model.build_vocab(train_doc2vec)\n",
        "model.train(train_doc2vec, total_examples=model.corpus_count, epochs=model.epochs)\n",
        "model.save(\"drive/MyDrive/Springboard/data/models/d2v_loan.model\")\n",
        "print(\"Model Saved\")"
      ],
      "execution_count": null,
      "outputs": [
        {
          "output_type": "stream",
          "text": [
            "Model Saved\n"
          ],
          "name": "stdout"
        }
      ]
    },
    {
      "cell_type": "code",
      "metadata": {
        "id": "QDXk-OM9Ww9E"
      },
      "source": [
        "#Infer the feature representation for training and test data using the trained model\n",
        "model= Doc2Vec.load(\"drive/MyDrive/Springboard/data/models/d2v_loan.model\")"
      ],
      "execution_count": null,
      "outputs": []
    },
    {
      "cell_type": "code",
      "metadata": {
        "id": "hA3AXSesWw9E"
      },
      "source": [
        "#infer in multiple steps to get a stable representation. \n",
        "train_vectors =  [model.infer_vector(list_of_tokens, steps=50) for list_of_tokens in X_train]\n",
        "test_vectors = [model.infer_vector(list_of_tokens, steps=50) for list_of_tokens in X_test]"
      ],
      "execution_count": null,
      "outputs": []
    },
    {
      "cell_type": "code",
      "metadata": {
        "colab": {
          "base_uri": "https://localhost:8080/"
        },
        "id": "YvwZBtVbWw9F",
        "outputId": "8ae3095f-2938-4ca2-b202-a1fd97556195"
      },
      "source": [
        "clf = LogisticRegression(class_weight=\"balanced\")\n",
        "clf.fit(train_vectors, y_train)"
      ],
      "execution_count": null,
      "outputs": [
        {
          "output_type": "stream",
          "text": [
            "/usr/local/lib/python3.6/dist-packages/sklearn/linear_model/_logistic.py:940: ConvergenceWarning: lbfgs failed to converge (status=1):\n",
            "STOP: TOTAL NO. of ITERATIONS REACHED LIMIT.\n",
            "\n",
            "Increase the number of iterations (max_iter) or scale the data as shown in:\n",
            "    https://scikit-learn.org/stable/modules/preprocessing.html\n",
            "Please also refer to the documentation for alternative solver options:\n",
            "    https://scikit-learn.org/stable/modules/linear_model.html#logistic-regression\n",
            "  extra_warning_msg=_LOGISTIC_SOLVER_CONVERGENCE_MSG)\n"
          ],
          "name": "stderr"
        },
        {
          "output_type": "execute_result",
          "data": {
            "text/plain": [
              "LogisticRegression(C=1.0, class_weight='balanced', dual=False,\n",
              "                   fit_intercept=True, intercept_scaling=1, l1_ratio=None,\n",
              "                   max_iter=100, multi_class='auto', n_jobs=None, penalty='l2',\n",
              "                   random_state=None, solver='lbfgs', tol=0.0001, verbose=0,\n",
              "                   warm_start=False)"
            ]
          },
          "metadata": {
            "tags": []
          },
          "execution_count": 73
        }
      ]
    },
    {
      "cell_type": "code",
      "metadata": {
        "id": "t4KvBcFOWw9F"
      },
      "source": [
        "preds = clf.predict(test_vectors)"
      ],
      "execution_count": null,
      "outputs": []
    },
    {
      "cell_type": "code",
      "metadata": {
        "colab": {
          "base_uri": "https://localhost:8080/"
        },
        "id": "lHX0RPGAWw9F",
        "outputId": "d4a2f2d6-833f-45c7-e3a0-772b7bee63f1"
      },
      "source": [
        "print(classification_report(y_test, preds))"
      ],
      "execution_count": null,
      "outputs": [
        {
          "output_type": "stream",
          "text": [
            "              precision    recall  f1-score   support\n",
            "\n",
            "           0       0.27      0.25      0.26      1693\n",
            "           1       0.30      0.41      0.34      1738\n",
            "           2       0.71      0.60      0.65      4813\n",
            "           3       0.36      0.39      0.37      1935\n",
            "\n",
            "    accuracy                           0.47     10179\n",
            "   macro avg       0.41      0.41      0.41     10179\n",
            "weighted avg       0.50      0.47      0.48     10179\n",
            "\n"
          ],
          "name": "stdout"
        }
      ]
    },
    {
      "cell_type": "code",
      "metadata": {
        "colab": {
          "base_uri": "https://localhost:8080/",
          "height": 810
        },
        "id": "f9MO-1Q9AzrV",
        "outputId": "c78a3b55-3f50-49ad-d6a8-f54fccca7454"
      },
      "source": [
        "conf_matrix_df = pd.DataFrame(data=confusion_matrix(y_test, preds),\r\n",
        "                              index=key_to_label_name, columns=key_to_label_name)\r\n",
        "\r\n",
        "plotConfusionMatrixHeatmap(conf_matrix_df, model_name='Doc2vec', figsize=(12, 10))"
      ],
      "execution_count": null,
      "outputs": [
        {
          "output_type": "display_data",
          "data": {
            "image/png": "[encoded data removed]",
            "text/plain": [
              "<Figure size 864x720 with 2 Axes>"
            ]
          },
          "metadata": {
            "tags": [],
            "needs_background": "light"
          }
        }
      ]
    },
    {
      "cell_type": "code",
      "metadata": {
        "colab": {
          "base_uri": "https://localhost:8080/"
        },
        "id": "zTbAUjtaUTED",
        "outputId": "92b33fa5-fcf5-40d3-f873-35d72a25a170"
      },
      "source": [
        "joblib.dump(clf, 'drive/MyDrive/Springboard/data/models/logistic_doc2vec_with_loan_data.pkl', compress = 1)"
      ],
      "execution_count": null,
      "outputs": [
        {
          "output_type": "execute_result",
          "data": {
            "text/plain": [
              "['drive/MyDrive/Springboard/data/models/logistic_doc2vec_with_loan_data.pkl']"
            ]
          },
          "metadata": {
            "tags": []
          },
          "execution_count": 77
        }
      ]
    },
    {
      "cell_type": "markdown",
      "metadata": {
        "id": "x1MCILRRDEum"
      },
      "source": [
        "# Deep Learning"
      ]
    },
    {
      "cell_type": "code",
      "metadata": {
        "id": "2Kn_QzHoDHwL"
      },
      "source": [
        "# Necessary Imports\r\n",
        "import os\r\n",
        "import sys\r\n",
        "import numpy as np\r\n",
        "from keras.preprocessing.text import Tokenizer\r\n",
        "from keras.preprocessing.sequence import pad_sequences\r\n",
        "from keras.utils import to_categorical\r\n",
        "from keras.layers import Dense, Input, GlobalMaxPooling1D\r\n",
        "from keras.layers import Conv1D, MaxPooling1D, Embedding, LSTM\r\n",
        "from keras.models import Model, Sequential\r\n",
        "from keras.initializers import Constant"
      ],
      "execution_count": null,
      "outputs": []
    },
    {
      "cell_type": "code",
      "metadata": {
        "id": "nakk1nesDLpW",
        "colab": {
          "base_uri": "https://localhost:8080/"
        },
        "outputId": "cf41efa9-679f-4921-fc5b-5be314f4cd95"
      },
      "source": [
        "# Download GloVe word embedding\r\n",
        "!wget http://nlp.stanford.edu/data/glove.6B.zip"
      ],
      "execution_count": null,
      "outputs": [
        {
          "output_type": "stream",
          "text": [
            "--2021-01-22 10:46:42--  http://nlp.stanford.edu/data/glove.6B.zip\n",
            "Resolving nlp.stanford.edu (nlp.stanford.edu)... 171.64.67.140\n",
            "Connecting to nlp.stanford.edu (nlp.stanford.edu)|171.64.67.140|:80... connected.\n",
            "HTTP request sent, awaiting response... 302 Found\n",
            "Location: https://nlp.stanford.edu/data/glove.6B.zip [following]\n",
            "--2021-01-22 10:46:42--  https://nlp.stanford.edu/data/glove.6B.zip\n",
            "Connecting to nlp.stanford.edu (nlp.stanford.edu)|171.64.67.140|:443... connected.\n",
            "HTTP request sent, awaiting response... 301 Moved Permanently\n",
            "Location: http://downloads.cs.stanford.edu/nlp/data/glove.6B.zip [following]\n",
            "--2021-01-22 10:46:42--  http://downloads.cs.stanford.edu/nlp/data/glove.6B.zip\n",
            "Resolving downloads.cs.stanford.edu (downloads.cs.stanford.edu)... 171.64.64.22\n",
            "Connecting to downloads.cs.stanford.edu (downloads.cs.stanford.edu)|171.64.64.22|:80... connected.\n",
            "HTTP request sent, awaiting response... 200 OK\n",
            "Length: 862182613 (822M) [application/zip]\n",
            "Saving to: ‘glove.6B.zip’\n",
            "\n",
            "glove.6B.zip        100%[===================>] 822.24M  2.04MB/s    in 6m 27s  \n",
            "\n",
            "2021-01-22 10:53:09 (2.13 MB/s) - ‘glove.6B.zip’ saved [862182613/862182613]\n",
            "\n"
          ],
          "name": "stdout"
        }
      ]
    },
    {
      "cell_type": "code",
      "metadata": {
        "id": "bhfWBFvkDLmn",
        "colab": {
          "base_uri": "https://localhost:8080/"
        },
        "outputId": "e6f69b0a-57bf-403a-fa09-0151d7af81c7"
      },
      "source": [
        "# Unzip it\r\n",
        "!unzip glove*.zip"
      ],
      "execution_count": null,
      "outputs": [
        {
          "output_type": "stream",
          "text": [
            "Archive:  glove.6B.zip\n",
            "  inflating: glove.6B.50d.txt        \n",
            "  inflating: glove.6B.100d.txt       \n",
            "  inflating: glove.6B.200d.txt       \n",
            "  inflating: glove.6B.300d.txt       \n"
          ],
          "name": "stdout"
        }
      ]
    },
    {
      "cell_type": "code",
      "metadata": {
        "id": "lZFYkAIpDLju",
        "colab": {
          "base_uri": "https://localhost:8080/"
        },
        "outputId": "1bdb6414-4913-423a-fb4c-c28fd8dc8a85"
      },
      "source": [
        "!pwd"
      ],
      "execution_count": null,
      "outputs": [
        {
          "output_type": "stream",
          "text": [
            "/content\n"
          ],
          "name": "stdout"
        }
      ]
    },
    {
      "cell_type": "code",
      "metadata": {
        "id": "nCpx5akTDQSI"
      },
      "source": [
        "glove_dir = 'glove'"
      ],
      "execution_count": null,
      "outputs": []
    },
    {
      "cell_type": "code",
      "metadata": {
        "id": "li9spVfHDQPH"
      },
      "source": [
        "max_sequence_length = 1000\r\n",
        "max_num_words = 20000\r\n",
        "embedding_dim = 200\r\n",
        "validation_split = 0.2"
      ],
      "execution_count": null,
      "outputs": []
    },
    {
      "cell_type": "code",
      "metadata": {
        "id": "_5p3TjmPEiu9"
      },
      "source": [
        "train_texts = df['text_processed']"
      ],
      "execution_count": null,
      "outputs": []
    },
    {
      "cell_type": "code",
      "metadata": {
        "id": "GU3p5nc8vMiq"
      },
      "source": [
        "train_texts = train_texts.to_list()"
      ],
      "execution_count": null,
      "outputs": []
    },
    {
      "cell_type": "code",
      "metadata": {
        "id": "WDfe_zJSvXXW"
      },
      "source": [
        "train_labels = df['label_id']"
      ],
      "execution_count": null,
      "outputs": []
    },
    {
      "cell_type": "code",
      "metadata": {
        "id": "-s_CnD2qvein"
      },
      "source": [
        "train_labels = train_labels.to_list()"
      ],
      "execution_count": null,
      "outputs": []
    },
    {
      "cell_type": "code",
      "metadata": {
        "colab": {
          "base_uri": "https://localhost:8080/"
        },
        "id": "UpU4wr3YupBb",
        "outputId": "d507643c-4433-4e9c-a9f3-1ad312bb7dcb"
      },
      "source": [
        "type(train_texts)"
      ],
      "execution_count": null,
      "outputs": [
        {
          "output_type": "execute_result",
          "data": {
            "text/plain": [
              "list"
            ]
          },
          "metadata": {
            "tags": []
          },
          "execution_count": 88
        }
      ]
    },
    {
      "cell_type": "code",
      "metadata": {
        "colab": {
          "base_uri": "https://localhost:8080/"
        },
        "id": "osojsCkrvheN",
        "outputId": "6b88e0a4-0208-4db9-f52c-6a2b1b4ffe72"
      },
      "source": [
        "type(train_labels)"
      ],
      "execution_count": null,
      "outputs": [
        {
          "output_type": "execute_result",
          "data": {
            "text/plain": [
              "list"
            ]
          },
          "metadata": {
            "tags": []
          },
          "execution_count": 92
        }
      ]
    },
    {
      "cell_type": "code",
      "metadata": {
        "colab": {
          "base_uri": "https://localhost:8080/",
          "height": 35
        },
        "id": "QKCVFhTgvUCv",
        "outputId": "23ec2a28-3b49-4cb0-b042-1795d5670d1d"
      },
      "source": [
        "train_texts[0]"
      ],
      "execution_count": null,
      "outputs": [
        {
          "output_type": "execute_result",
          "data": {
            "application/vnd.google.colaboratory.intrinsic+json": {
              "type": "string"
            },
            "text/plain": [
              "'problem credit reporting companys investigation existing problem their investigation fix error report'"
            ]
          },
          "metadata": {
            "tags": []
          },
          "execution_count": 89
        }
      ]
    },
    {
      "cell_type": "code",
      "metadata": {
        "colab": {
          "base_uri": "https://localhost:8080/"
        },
        "id": "x_upWm2cvlSB",
        "outputId": "bd3ab602-a2b3-4f44-fbd3-00ac86053ee3"
      },
      "source": [
        "train_labels[0]"
      ],
      "execution_count": null,
      "outputs": [
        {
          "output_type": "execute_result",
          "data": {
            "text/plain": [
              "3"
            ]
          },
          "metadata": {
            "tags": []
          },
          "execution_count": 93
        }
      ]
    },
    {
      "cell_type": "code",
      "metadata": {
        "id": "6SbJUauODQHl"
      },
      "source": [
        "# Vectorize the text sample into 2D integer tensor using keras Tokenizer\r\n",
        "# Tokenizer will fir only on training data and transform both train and test data\r\n",
        "\r\n",
        "tokenizer = Tokenizer(num_words=max_num_words)\r\n",
        "\r\n",
        "tokenizer.fit_on_texts(train_texts)\r\n",
        "\r\n",
        "train_sequences = tokenizer.texts_to_sequences(train_texts)\r\n",
        "word_index = tokenizer.word_index\r\n"
      ],
      "execution_count": null,
      "outputs": []
    },
    {
      "cell_type": "code",
      "metadata": {
        "id": "viyZ6VLUDdV_",
        "colab": {
          "base_uri": "https://localhost:8080/"
        },
        "outputId": "e2990106-8214-4c69-af60-1354a633a0c7"
      },
      "source": [
        "print(len(train_sequences[0]))"
      ],
      "execution_count": null,
      "outputs": [
        {
          "output_type": "stream",
          "text": [
            "12\n"
          ],
          "name": "stdout"
        }
      ]
    },
    {
      "cell_type": "code",
      "metadata": {
        "id": "mqdArsFPDdM8",
        "colab": {
          "base_uri": "https://localhost:8080/"
        },
        "outputId": "5773de10-7602-4eaf-87b4-1159e7babd0a"
      },
      "source": [
        "print(len(train_sequences[24999]))"
      ],
      "execution_count": null,
      "outputs": [
        {
          "output_type": "stream",
          "text": [
            "152\n"
          ],
          "name": "stdout"
        }
      ]
    },
    {
      "cell_type": "code",
      "metadata": {
        "id": "_Hou8xFjDdIl",
        "colab": {
          "base_uri": "https://localhost:8080/"
        },
        "outputId": "78743398-607b-494b-e5b0-e2e952b28d66"
      },
      "source": [
        "word_index[\"after\"]"
      ],
      "execution_count": null,
      "outputs": [
        {
          "output_type": "execute_result",
          "data": {
            "text/plain": [
              "4720"
            ]
          },
          "metadata": {
            "tags": []
          },
          "execution_count": 97
        }
      ]
    },
    {
      "cell_type": "code",
      "metadata": {
        "id": "3wefrOmjDi5z"
      },
      "source": [
        "# Converting this to sequences to be fed into neural network. Max seq. len is 1000 as set earlier\r\n",
        "# initial padding of 0s, until vector is of size MAX_SEQUENCE_LENGTH\r\n",
        "\r\n",
        "# Pad_squences is ot make all the samples in same length.\r\n",
        "# Sequences that are shorter than num_timesteps are padded with value until they are num_timesteps long. \r\n",
        "# Sequences longer than num_timesteps are truncated so that they fit the desired length.\r\n",
        "\r\n",
        "train_valid_data = pad_sequences(train_sequences, maxlen=max_sequence_length)\r\n",
        "train_valid_labels = to_categorical(np.asarray(train_labels))\r\n"
      ],
      "execution_count": null,
      "outputs": []
    },
    {
      "cell_type": "code",
      "metadata": {
        "id": "GDqGOjldDi23",
        "colab": {
          "base_uri": "https://localhost:8080/"
        },
        "outputId": "fdfcc5a3-5aac-409f-d439-6fd0d09ae0dd"
      },
      "source": [
        "print(train_valid_data.shape)"
      ],
      "execution_count": null,
      "outputs": [
        {
          "output_type": "stream",
          "text": [
            "(40715, 1000)\n"
          ],
          "name": "stdout"
        }
      ]
    },
    {
      "cell_type": "code",
      "metadata": {
        "id": "f7upZcfpDiyP"
      },
      "source": [
        "# spliting trainig set and validation set\r\n",
        "indices = np.arange(train_valid_data.shape[0]) # Return evenly spaced values within a given interval.\r\n",
        "np.random.shuffle(indices) # Modify a sequence in-place by shuffling its contents.\r\n",
        "\r\n",
        "train_valid_data = train_valid_data[indices]\r\n",
        "train_valid_labels = train_valid_labels[indices]"
      ],
      "execution_count": null,
      "outputs": []
    },
    {
      "cell_type": "code",
      "metadata": {
        "id": "ks-fbqe1DnRi",
        "colab": {
          "base_uri": "https://localhost:8080/"
        },
        "outputId": "29e5d3e3-5094-488c-c654-d96b82a310a3"
      },
      "source": [
        "num_validation_samples = int(validation_split * train_valid_data.shape[0])\r\n",
        "\r\n",
        "print(num_validation_samples)"
      ],
      "execution_count": null,
      "outputs": [
        {
          "output_type": "stream",
          "text": [
            "8143\n"
          ],
          "name": "stdout"
        }
      ]
    },
    {
      "cell_type": "code",
      "metadata": {
        "id": "_TNWo2HoDnOV"
      },
      "source": [
        "X_train = train_valid_data[:-num_validation_samples]\r\n",
        "y_train = train_valid_labels[:-num_validation_samples]\r\n",
        "X_val = train_valid_data[-num_validation_samples:]\r\n",
        "y_val = train_valid_labels[-num_validation_samples:]"
      ],
      "execution_count": null,
      "outputs": []
    },
    {
      "cell_type": "code",
      "metadata": {
        "id": "xegkeH3iDnL-",
        "colab": {
          "base_uri": "https://localhost:8080/"
        },
        "outputId": "32d525d4-76e5-4a05-88ae-ec402091400b"
      },
      "source": [
        "print(X_train.shape, y_train.shape)"
      ],
      "execution_count": null,
      "outputs": [
        {
          "output_type": "stream",
          "text": [
            "(32572, 1000) (32572, 4)\n"
          ],
          "name": "stdout"
        }
      ]
    },
    {
      "cell_type": "code",
      "metadata": {
        "id": "STJV9OQbDnJO",
        "colab": {
          "base_uri": "https://localhost:8080/"
        },
        "outputId": "bcb12abe-baef-4654-9ae6-a3720148fd91"
      },
      "source": [
        "# build index mapping words in the embeddings set to their embedding vector\r\n",
        "embeddings_index = {}\r\n",
        "\r\n",
        "with open('glove.6B.200d.txt') as f:\r\n",
        "  for line in f:\r\n",
        "    values = line.split()\r\n",
        "    word = values[0]\r\n",
        "    coefs = np.asarray(values[1:], dtype='float32')\r\n",
        "    embeddings_index[word] = coefs\r\n",
        "\r\n",
        "\r\n",
        "print('Found %s word vectors in Glove embeddings.' % len(embeddings_index))"
      ],
      "execution_count": null,
      "outputs": [
        {
          "output_type": "stream",
          "text": [
            "Found 400000 word vectors in Glove embeddings.\n"
          ],
          "name": "stdout"
        }
      ]
    },
    {
      "cell_type": "code",
      "metadata": {
        "id": "lp0VWe4aDsO8",
        "colab": {
          "base_uri": "https://localhost:8080/"
        },
        "outputId": "7291bb7e-c758-413f-8382-5eb2c3ef947c"
      },
      "source": [
        "print(embeddings_index[\"cube\"])"
      ],
      "execution_count": null,
      "outputs": [
        {
          "output_type": "stream",
          "text": [
            "[ 0.095789  -0.46755   -0.4109     0.23223    0.52719    0.2036\n",
            "  0.17575   -0.16305   -0.59678   -0.57058   -0.40217    0.2804\n",
            "  0.40405    0.2731    -0.36563    0.071209  -0.37869   -0.116\n",
            "  0.17491    0.27384   -0.74331    0.22654    0.10123   -0.61351\n",
            "  0.041468   0.29191    0.43205   -0.8113    -0.5454     0.38612\n",
            " -0.091256  -0.13519   -0.34071   -0.13824   -0.15446    0.12083\n",
            " -0.33084   -1.0632     0.062599   0.11213   -0.53525    0.099355\n",
            "  0.71156    0.45348   -0.11641    0.68769   -0.45519   -0.25393\n",
            "  0.0074914  0.28983   -0.009376   0.42163   -0.63396   -0.035484\n",
            "  0.60248    0.26093   -0.092479   0.15043    0.072953  -0.48143\n",
            " -0.57987    0.24628   -0.9747    -0.1702     0.34789   -0.22117\n",
            " -0.51841    0.23377    0.51891    0.42052    0.23693    0.26471\n",
            "  0.18427    0.03566   -0.17597    0.19796    0.69339   -0.37217\n",
            " -0.531      0.024534  -0.096397  -0.4331    -0.30723   -1.0936\n",
            "  0.47536   -0.32422    0.31672    0.70839    0.1111    -0.76518\n",
            "  0.04056    0.23401   -0.0061566  0.23706   -0.1391    -0.5257\n",
            "  0.056353  -0.75752   -0.21083   -0.32035   -0.40907    0.17086\n",
            " -0.34117    0.1997    -0.2434     0.045116   0.12173   -0.29524\n",
            " -0.82014    0.48243   -0.29433   -0.59999    0.080734  -0.37044\n",
            " -0.41208   -0.20666    0.58587    0.23055   -0.37566    0.95809\n",
            "  0.10273    0.59566   -0.74814    0.10855   -0.56266   -0.77462\n",
            "  0.44196    0.34853   -0.18778   -0.0020694 -0.11277   -0.36021\n",
            " -0.30012    0.23833   -0.82789   -0.099239   0.16304   -0.082802\n",
            "  0.12264   -0.1073     0.10858    0.42665    1.0428     0.25411\n",
            " -0.18803    0.11203    0.020056   0.19455    0.0035849 -0.13097\n",
            " -0.43369    0.50751   -0.22693    0.33277   -0.016347   0.11535\n",
            " -1.0596    -0.44657   -0.13969   -0.078491  -0.0065741  0.20377\n",
            "  0.19087   -0.33172   -0.22603   -0.0818    -0.18952    0.63846\n",
            " -1.0077    -0.21302   -0.15517   -0.35372    0.94636   -0.40949\n",
            " -0.18681    0.26465   -0.058645   0.0050466 -0.2235     0.96159\n",
            "  0.52383   -0.44262    0.36506   -0.41644    0.33987   -1.3354\n",
            " -0.63492   -0.044156   0.087174  -0.14542   -0.23651   -0.16055\n",
            "  0.12121    0.16317   -0.13413   -0.11056   -0.72226    0.3816\n",
            "  0.29239   -0.59913  ]\n"
          ],
          "name": "stdout"
        }
      ]
    },
    {
      "cell_type": "code",
      "metadata": {
        "id": "PGEP5u5ZDsMe"
      },
      "source": [
        "# prepare embedding matrix - rows are the words from word_index, columns are the embeddings of that word from glove.\r\n",
        "\r\n",
        "num_words = min(max_num_words, len(word_index)) + 1\r\n",
        "\r\n",
        "embedding_matrix = np.zeros((num_words, embedding_dim)) # Return a new array of given shape and type, filled with zeros.\r\n",
        "\r\n",
        "for word, i in word_index.items():\r\n",
        "  if i > max_num_words:\r\n",
        "    continue\r\n",
        "  embedding_vector = embeddings_index.get(word)\r\n",
        "  if embedding_vector is not None:\r\n",
        "    # words not found in embedding index will be all zeros\r\n",
        "    embedding_matrix[i] = embedding_vector"
      ],
      "execution_count": null,
      "outputs": []
    },
    {
      "cell_type": "code",
      "metadata": {
        "id": "gul-gFh6DsJ-"
      },
      "source": [
        "# Loading pre-trained word embedding into an embedding layer\r\n",
        "\r\n",
        "embedding_layer = Embedding(num_words, embedding_dim,\r\n",
        "                            embeddings_initializer=Constant(embedding_matrix),\r\n",
        "                            input_length=max_sequence_length,\r\n",
        "                            trainable=False)"
      ],
      "execution_count": null,
      "outputs": []
    },
    {
      "cell_type": "code",
      "metadata": {
        "id": "z3Y-7YtKwpxZ"
      },
      "source": [
        "label_index = {'Consumer Loan': 0,'Payday loan, title loan, or personal loan' : 1,'Student loan': 2,'Vehicle loan or lease': 3}"
      ],
      "execution_count": null,
      "outputs": []
    },
    {
      "cell_type": "markdown",
      "metadata": {
        "id": "uCQEcBMsw9c-"
      },
      "source": [
        "# Test file load"
      ]
    },
    {
      "cell_type": "code",
      "metadata": {
        "id": "SIfSBX5Fw9EO"
      },
      "source": [
        "test_data_path = 'drive/MyDrive/Springboard/data/loan_data_test.csv'"
      ],
      "execution_count": null,
      "outputs": []
    },
    {
      "cell_type": "code",
      "metadata": {
        "id": "clQcMdiZxI3g"
      },
      "source": [
        "test_data = pd.read_csv(test_data_path)"
      ],
      "execution_count": null,
      "outputs": []
    },
    {
      "cell_type": "code",
      "metadata": {
        "id": "LUcn2SnvxuOX"
      },
      "source": [
        "test_data.drop(columns=['Unnamed: 0', 'index'], inplace=True)"
      ],
      "execution_count": null,
      "outputs": []
    },
    {
      "cell_type": "code",
      "metadata": {
        "colab": {
          "base_uri": "https://localhost:8080/",
          "height": 204
        },
        "id": "nzLkGnkNxj4D",
        "outputId": "01bb3277-00ab-48e2-8809-3683b78c90ea"
      },
      "source": [
        "test_data.head()"
      ],
      "execution_count": null,
      "outputs": [
        {
          "output_type": "execute_result",
          "data": {
            "text/html": [
              "<div>\n",
              "<style scoped>\n",
              "    .dataframe tbody tr th:only-of-type {\n",
              "        vertical-align: middle;\n",
              "    }\n",
              "\n",
              "    .dataframe tbody tr th {\n",
              "        vertical-align: top;\n",
              "    }\n",
              "\n",
              "    .dataframe thead th {\n",
              "        text-align: right;\n",
              "    }\n",
              "</style>\n",
              "<table border=\"1\" class=\"dataframe\">\n",
              "  <thead>\n",
              "    <tr style=\"text-align: right;\">\n",
              "      <th></th>\n",
              "      <th>full_text</th>\n",
              "      <th>label</th>\n",
              "    </tr>\n",
              "  </thead>\n",
              "  <tbody>\n",
              "    <tr>\n",
              "      <th>0</th>\n",
              "      <td>Hi my names is XXXX XXXX and I 'm very upset w...</td>\n",
              "      <td>Consumer Loan</td>\n",
              "    </tr>\n",
              "    <tr>\n",
              "      <th>1</th>\n",
              "      <td>Company attorney claims they have tried to con...</td>\n",
              "      <td>Payday loan, title loan, or personal loan</td>\n",
              "    </tr>\n",
              "    <tr>\n",
              "      <th>2</th>\n",
              "      <td>Purchased my car from CARVANA XX/XX/XXXX. \\nTe...</td>\n",
              "      <td>Vehicle loan or lease</td>\n",
              "    </tr>\n",
              "    <tr>\n",
              "      <th>3</th>\n",
              "      <td>I have XXXX loans ( we 'll call them the \" XXX...</td>\n",
              "      <td>Student loan</td>\n",
              "    </tr>\n",
              "    <tr>\n",
              "      <th>4</th>\n",
              "      <td>XX/XX/XXXX : Paid my lease as agreed. \\nXX/XX/...</td>\n",
              "      <td>Consumer Loan</td>\n",
              "    </tr>\n",
              "  </tbody>\n",
              "</table>\n",
              "</div>"
            ],
            "text/plain": [
              "                                           full_text                                      label\n",
              "0  Hi my names is XXXX XXXX and I 'm very upset w...                              Consumer Loan\n",
              "1  Company attorney claims they have tried to con...  Payday loan, title loan, or personal loan\n",
              "2  Purchased my car from CARVANA XX/XX/XXXX. \\nTe...                      Vehicle loan or lease\n",
              "3  I have XXXX loans ( we 'll call them the \" XXX...                               Student loan\n",
              "4  XX/XX/XXXX : Paid my lease as agreed. \\nXX/XX/...                              Consumer Loan"
            ]
          },
          "metadata": {
            "tags": []
          },
          "execution_count": 118
        }
      ]
    },
    {
      "cell_type": "code",
      "metadata": {
        "id": "nqKUVAqxxxuH"
      },
      "source": [
        "test_data['text_processed'] = test_data.apply(lambda row : clean_text(row['full_text']), axis = 1)"
      ],
      "execution_count": null,
      "outputs": []
    },
    {
      "cell_type": "code",
      "metadata": {
        "id": "pjTdbpvPxxnl"
      },
      "source": [
        "test_data['label'] = test_data['label'].replace(['Payday loan'],'Payday loan, title loan, or personal loan')"
      ],
      "execution_count": null,
      "outputs": []
    },
    {
      "cell_type": "code",
      "metadata": {
        "id": "8bB154F_yEG3"
      },
      "source": [
        "test_data['label_id'] = label_encoder.fit_transform(test_data['label'])"
      ],
      "execution_count": null,
      "outputs": []
    },
    {
      "cell_type": "code",
      "metadata": {
        "colab": {
          "base_uri": "https://localhost:8080/",
          "height": 255
        },
        "id": "_8gOTSaUyLPi",
        "outputId": "53b26702-2981-4181-ea33-d173fb156cb8"
      },
      "source": [
        "test_data.head()"
      ],
      "execution_count": null,
      "outputs": [
        {
          "output_type": "execute_result",
          "data": {
            "text/html": [
              "<div>\n",
              "<style scoped>\n",
              "    .dataframe tbody tr th:only-of-type {\n",
              "        vertical-align: middle;\n",
              "    }\n",
              "\n",
              "    .dataframe tbody tr th {\n",
              "        vertical-align: top;\n",
              "    }\n",
              "\n",
              "    .dataframe thead th {\n",
              "        text-align: right;\n",
              "    }\n",
              "</style>\n",
              "<table border=\"1\" class=\"dataframe\">\n",
              "  <thead>\n",
              "    <tr style=\"text-align: right;\">\n",
              "      <th></th>\n",
              "      <th>full_text</th>\n",
              "      <th>label</th>\n",
              "      <th>text_processed</th>\n",
              "      <th>label_id</th>\n",
              "    </tr>\n",
              "  </thead>\n",
              "  <tbody>\n",
              "    <tr>\n",
              "      <th>0</th>\n",
              "      <td>Hi my names is XXXX XXXX and I 'm very upset w...</td>\n",
              "      <td>Consumer Loan</td>\n",
              "      <td>hi namem upset regional acceptance corporation...</td>\n",
              "      <td>0</td>\n",
              "    </tr>\n",
              "    <tr>\n",
              "      <th>1</th>\n",
              "      <td>Company attorney claims they have tried to con...</td>\n",
              "      <td>Payday loan, title loan, or personal loan</td>\n",
              "      <td>company attorney claim tried contact never rec...</td>\n",
              "      <td>1</td>\n",
              "    </tr>\n",
              "    <tr>\n",
              "      <th>2</th>\n",
              "      <td>Purchased my car from CARVANA XX/XX/XXXX. \\nTe...</td>\n",
              "      <td>Vehicle loan or lease</td>\n",
              "      <td>purchased car carvana temp tag expired im driv...</td>\n",
              "      <td>3</td>\n",
              "    </tr>\n",
              "    <tr>\n",
              "      <th>3</th>\n",
              "      <td>I have XXXX loans ( we 'll call them the \" XXX...</td>\n",
              "      <td>Student loan</td>\n",
              "      <td>loanll callloan sallie mae currentlyre account...</td>\n",
              "      <td>2</td>\n",
              "    </tr>\n",
              "    <tr>\n",
              "      <th>4</th>\n",
              "      <td>XX/XX/XXXX : Paid my lease as agreed. \\nXX/XX/...</td>\n",
              "      <td>Consumer Loan</td>\n",
              "      <td>paid lease agreed acquired new car dealership ...</td>\n",
              "      <td>0</td>\n",
              "    </tr>\n",
              "  </tbody>\n",
              "</table>\n",
              "</div>"
            ],
            "text/plain": [
              "                                           full_text  ... label_id\n",
              "0  Hi my names is XXXX XXXX and I 'm very upset w...  ...        0\n",
              "1  Company attorney claims they have tried to con...  ...        1\n",
              "2  Purchased my car from CARVANA XX/XX/XXXX. \\nTe...  ...        3\n",
              "3  I have XXXX loans ( we 'll call them the \" XXX...  ...        2\n",
              "4  XX/XX/XXXX : Paid my lease as agreed. \\nXX/XX/...  ...        0\n",
              "\n",
              "[5 rows x 4 columns]"
            ]
          },
          "metadata": {
            "tags": []
          },
          "execution_count": 122
        }
      ]
    },
    {
      "cell_type": "code",
      "metadata": {
        "id": "w4moCvUNxal2"
      },
      "source": [
        "test_texts = test_data['text_processed']"
      ],
      "execution_count": null,
      "outputs": []
    },
    {
      "cell_type": "code",
      "metadata": {
        "id": "3sp491s4yZCN"
      },
      "source": [
        "test_texts = test_texts.to_list()"
      ],
      "execution_count": null,
      "outputs": []
    },
    {
      "cell_type": "code",
      "metadata": {
        "id": "6K1ielXoyQwi"
      },
      "source": [
        "test_labels = test_data['label_id']"
      ],
      "execution_count": null,
      "outputs": []
    },
    {
      "cell_type": "code",
      "metadata": {
        "id": "pK3xMk3nydyN"
      },
      "source": [
        "test_labels = test_labels.to_list()"
      ],
      "execution_count": null,
      "outputs": []
    },
    {
      "cell_type": "code",
      "metadata": {
        "colab": {
          "base_uri": "https://localhost:8080/",
          "height": 69
        },
        "id": "5blt7W-fyjnQ",
        "outputId": "26ee1f8e-9c1d-4dfd-b973-de0c897c2e21"
      },
      "source": [
        "test_texts[0]"
      ],
      "execution_count": null,
      "outputs": [
        {
          "output_type": "execute_result",
          "data": {
            "application/vnd.google.colaboratory.intrinsic+json": {
              "type": "string"
            },
            "text/plain": [
              "'hi namem upset regional acceptance corporation charged beginning n t fixed problem payment told payment would n t close car warranty charged another warranty n t need among thing promised would get spear tire still n t one need cause attend college never know happen want payment reasonable like told purchased car also applied gap insurance car knowledge'"
            ]
          },
          "metadata": {
            "tags": []
          },
          "execution_count": 128
        }
      ]
    },
    {
      "cell_type": "code",
      "metadata": {
        "id": "VlQ61D3hxZSJ"
      },
      "source": [
        "test_sequences = tokenizer.texts_to_sequences(test_texts)"
      ],
      "execution_count": null,
      "outputs": []
    },
    {
      "cell_type": "code",
      "metadata": {
        "id": "MwQDe8XpxNEv"
      },
      "source": [
        "test_data = pad_sequences(test_sequences, maxlen=max_sequence_length)\r\n",
        "test_labels = to_categorical(np.asarray(test_labels))"
      ],
      "execution_count": null,
      "outputs": []
    },
    {
      "cell_type": "markdown",
      "metadata": {
        "id": "AwhZHadkwIKe"
      },
      "source": [
        "# 1D CNN Model with pre-trained embedding"
      ]
    },
    {
      "cell_type": "code",
      "metadata": {
        "id": "YcygDEAcDsHl"
      },
      "source": [
        "cnn = Sequential()\r\n",
        "cnn.add(embedding_layer)\r\n",
        "cnn.add(Conv1D(128, 5, activation='relu'))\r\n",
        "cnn.add(MaxPooling1D(5))\r\n",
        "cnn.add(Conv1D(128, 5, activation='relu'))\r\n",
        "cnn.add(MaxPooling1D(5))\r\n",
        "cnn.add(Conv1D(128, 5, activation='relu'))\r\n",
        "cnn.add(GlobalMaxPooling1D())\r\n",
        "cnn.add(Dense(128, activation='relu'))\r\n",
        "cnn.add(Dense(len(label_index), activation='softmax'))\r\n",
        "\r\n",
        "cnn.compile(loss='categorical_crossentropy', optimizer='rmsprop', metrics=['acc'])"
      ],
      "execution_count": null,
      "outputs": []
    },
    {
      "cell_type": "code",
      "metadata": {
        "colab": {
          "base_uri": "https://localhost:8080/"
        },
        "id": "AUzu1FxPwM91",
        "outputId": "672a374b-22ad-4b40-b3e7-d434667acfef"
      },
      "source": [
        "cnn.summary()"
      ],
      "execution_count": null,
      "outputs": [
        {
          "output_type": "stream",
          "text": [
            "Model: \"sequential_2\"\n",
            "_________________________________________________________________\n",
            "Layer (type)                 Output Shape              Param #   \n",
            "=================================================================\n",
            "embedding (Embedding)        (None, 1000, 200)         4000200   \n",
            "_________________________________________________________________\n",
            "conv1d_6 (Conv1D)            (None, 996, 128)          128128    \n",
            "_________________________________________________________________\n",
            "max_pooling1d_4 (MaxPooling1 (None, 199, 128)          0         \n",
            "_________________________________________________________________\n",
            "conv1d_7 (Conv1D)            (None, 195, 128)          82048     \n",
            "_________________________________________________________________\n",
            "max_pooling1d_5 (MaxPooling1 (None, 39, 128)           0         \n",
            "_________________________________________________________________\n",
            "conv1d_8 (Conv1D)            (None, 35, 128)           82048     \n",
            "_________________________________________________________________\n",
            "global_max_pooling1d_2 (Glob (None, 128)               0         \n",
            "_________________________________________________________________\n",
            "dense_3 (Dense)              (None, 128)               16512     \n",
            "_________________________________________________________________\n",
            "dense_4 (Dense)              (None, 4)                 516       \n",
            "=================================================================\n",
            "Total params: 4,309,452\n",
            "Trainable params: 309,252\n",
            "Non-trainable params: 4,000,200\n",
            "_________________________________________________________________\n"
          ],
          "name": "stdout"
        }
      ]
    },
    {
      "cell_type": "code",
      "metadata": {
        "colab": {
          "base_uri": "https://localhost:8080/"
        },
        "id": "IC8zttTuwOUM",
        "outputId": "c1e00f19-a740-4a01-9166-65596e324894"
      },
      "source": [
        "#Train the model. Tune to validation set. \r\n",
        "cnn.fit(X_train, y_train, batch_size=128, epochs=5, validation_data=(X_val, y_val))"
      ],
      "execution_count": null,
      "outputs": [
        {
          "output_type": "stream",
          "text": [
            "Epoch 1/5\n",
            "255/255 [==============================] - 24s 63ms/step - loss: 0.9474 - acc: 0.5920 - val_loss: 0.6656 - val_acc: 0.6991\n",
            "Epoch 2/5\n",
            "255/255 [==============================] - 16s 62ms/step - loss: 0.5757 - acc: 0.7400 - val_loss: 0.5700 - val_acc: 0.7440\n",
            "Epoch 3/5\n",
            "255/255 [==============================] - 16s 61ms/step - loss: 0.5025 - acc: 0.7792 - val_loss: 0.5986 - val_acc: 0.7428\n",
            "Epoch 4/5\n",
            "255/255 [==============================] - 15s 61ms/step - loss: 0.4204 - acc: 0.8200 - val_loss: 0.6933 - val_acc: 0.7031\n",
            "Epoch 5/5\n",
            "255/255 [==============================] - 15s 61ms/step - loss: 0.3682 - acc: 0.8415 - val_loss: 0.6367 - val_acc: 0.7462\n"
          ],
          "name": "stdout"
        },
        {
          "output_type": "execute_result",
          "data": {
            "text/plain": [
              "<tensorflow.python.keras.callbacks.History at 0x7fdedb9713c8>"
            ]
          },
          "metadata": {
            "tags": []
          },
          "execution_count": 133
        }
      ]
    },
    {
      "cell_type": "code",
      "metadata": {
        "colab": {
          "base_uri": "https://localhost:8080/"
        },
        "id": "9QrEynrywOOV",
        "outputId": "2100b4d8-35d2-434e-92e8-8f055b4fb003"
      },
      "source": [
        "#Evaluate on test set:\r\n",
        "score, acc = cnn.evaluate(test_data, test_labels)\r\n",
        "print('Test accuracy with CNN:', acc)"
      ],
      "execution_count": null,
      "outputs": [
        {
          "output_type": "stream",
          "text": [
            "546/546 [==============================] - 6s 11ms/step - loss: 0.6044 - acc: 0.7567\n",
            "Test accuracy with CNN: 0.7566622495651245\n"
          ],
          "name": "stdout"
        }
      ]
    },
    {
      "cell_type": "code",
      "metadata": {
        "id": "yMBOQnfCzALH"
      },
      "source": [
        "cnn.save(\"drive/MyDrive/Springboard/data/models/1D_CNN_model_with_pre_trained_embedding.h5\")"
      ],
      "execution_count": null,
      "outputs": []
    },
    {
      "cell_type": "markdown",
      "metadata": {
        "id": "nd2OJ-SmzV2u"
      },
      "source": [
        "# 1D CNN model with training own embedding"
      ]
    },
    {
      "cell_type": "code",
      "metadata": {
        "colab": {
          "base_uri": "https://localhost:8080/"
        },
        "id": "qXAmE6v_zSXu",
        "outputId": "7181c15e-4282-45e3-8b32-e3520092a4df"
      },
      "source": [
        "print(\"Defining and training a CNN model, training embedding layer on the fly instead of using pre-trained embeddings\")\r\n",
        "cnnmodel = Sequential()\r\n",
        "cnnmodel.add(Embedding(max_num_words, 128))\r\n",
        "cnnmodel.add(Conv1D(128, 5, activation='relu'))\r\n",
        "cnnmodel.add(MaxPooling1D(5))\r\n",
        "cnnmodel.add(Conv1D(128, 5, activation='relu'))\r\n",
        "cnnmodel.add(MaxPooling1D(5))\r\n",
        "cnnmodel.add(Conv1D(128, 5, activation='relu'))\r\n",
        "cnnmodel.add(GlobalMaxPooling1D())\r\n",
        "cnnmodel.add(Dense(128, activation='relu'))\r\n",
        "cnnmodel.add(Dense(len(label_index), activation='softmax'))\r\n",
        "\r\n",
        "cnnmodel.compile(loss='categorical_crossentropy',\r\n",
        "              optimizer='rmsprop',\r\n",
        "              metrics=['acc'])"
      ],
      "execution_count": null,
      "outputs": [
        {
          "output_type": "stream",
          "text": [
            "Defining and training a CNN model, training embedding layer on the fly instead of using pre-trained embeddings\n"
          ],
          "name": "stdout"
        }
      ]
    },
    {
      "cell_type": "code",
      "metadata": {
        "colab": {
          "base_uri": "https://localhost:8080/"
        },
        "id": "BTONsuG-zab6",
        "outputId": "4c1ffd69-1795-4149-c449-8c41141fd975"
      },
      "source": [
        "cnnmodel.summary()"
      ],
      "execution_count": null,
      "outputs": [
        {
          "output_type": "stream",
          "text": [
            "Model: \"sequential_4\"\n",
            "_________________________________________________________________\n",
            "Layer (type)                 Output Shape              Param #   \n",
            "=================================================================\n",
            "embedding_2 (Embedding)      (None, None, 128)         2560000   \n",
            "_________________________________________________________________\n",
            "conv1d_12 (Conv1D)           (None, None, 128)         82048     \n",
            "_________________________________________________________________\n",
            "max_pooling1d_8 (MaxPooling1 (None, None, 128)         0         \n",
            "_________________________________________________________________\n",
            "conv1d_13 (Conv1D)           (None, None, 128)         82048     \n",
            "_________________________________________________________________\n",
            "max_pooling1d_9 (MaxPooling1 (None, None, 128)         0         \n",
            "_________________________________________________________________\n",
            "conv1d_14 (Conv1D)           (None, None, 128)         82048     \n",
            "_________________________________________________________________\n",
            "global_max_pooling1d_4 (Glob (None, 128)               0         \n",
            "_________________________________________________________________\n",
            "dense_6 (Dense)              (None, 128)               16512     \n",
            "_________________________________________________________________\n",
            "dense_7 (Dense)              (None, 4)                 516       \n",
            "=================================================================\n",
            "Total params: 2,823,172\n",
            "Trainable params: 2,823,172\n",
            "Non-trainable params: 0\n",
            "_________________________________________________________________\n"
          ],
          "name": "stdout"
        }
      ]
    },
    {
      "cell_type": "code",
      "metadata": {
        "colab": {
          "base_uri": "https://localhost:8080/"
        },
        "id": "l9whwgNgza0C",
        "outputId": "fb25f848-ff11-4285-af5f-23df54e8870b"
      },
      "source": [
        "#Train the model. Tune to validation set. \r\n",
        "cnnmodel.fit(X_train, y_train,\r\n",
        "          batch_size=128,\r\n",
        "          epochs=5, validation_data=(X_val, y_val))"
      ],
      "execution_count": null,
      "outputs": [
        {
          "output_type": "stream",
          "text": [
            "Epoch 1/5\n",
            "255/255 [==============================] - 20s 76ms/step - loss: 0.8373 - acc: 0.6220 - val_loss: 0.5698 - val_acc: 0.7492\n",
            "Epoch 2/5\n",
            "255/255 [==============================] - 19s 74ms/step - loss: 0.4982 - acc: 0.7730 - val_loss: 0.5017 - val_acc: 0.7732\n",
            "Epoch 3/5\n",
            "255/255 [==============================] - 19s 74ms/step - loss: 0.4317 - acc: 0.8021 - val_loss: 0.5148 - val_acc: 0.7647\n",
            "Epoch 4/5\n",
            "255/255 [==============================] - 19s 74ms/step - loss: 0.3801 - acc: 0.8260 - val_loss: 0.6457 - val_acc: 0.7511\n",
            "Epoch 5/5\n",
            "255/255 [==============================] - 19s 74ms/step - loss: 0.2946 - acc: 0.8763 - val_loss: 0.6608 - val_acc: 0.7228\n"
          ],
          "name": "stdout"
        },
        {
          "output_type": "execute_result",
          "data": {
            "text/plain": [
              "<tensorflow.python.keras.callbacks.History at 0x7fdee46deeb8>"
            ]
          },
          "metadata": {
            "tags": []
          },
          "execution_count": 139
        }
      ]
    },
    {
      "cell_type": "code",
      "metadata": {
        "colab": {
          "base_uri": "https://localhost:8080/"
        },
        "id": "6DnycgKJzbIH",
        "outputId": "6fbe3699-c524-4b5e-f5d5-2dc930671ad3"
      },
      "source": [
        "#Evaluate on test set:\r\n",
        "score, acc = cnnmodel.evaluate(test_data, test_labels)\r\n",
        "print('Test accuracy with CNN:', acc)"
      ],
      "execution_count": null,
      "outputs": [
        {
          "output_type": "stream",
          "text": [
            "546/546 [==============================] - 4s 8ms/step - loss: 0.6688 - acc: 0.7220\n",
            "Test accuracy with CNN: 0.7219898104667664\n"
          ],
          "name": "stdout"
        }
      ]
    },
    {
      "cell_type": "code",
      "metadata": {
        "id": "MjeAtf6ozdjd"
      },
      "source": [
        "cnnmodel.save(\"drive/MyDrive/Springboard/data/models/1D_CNN_model_with_training_own_embedding.h5\")"
      ],
      "execution_count": null,
      "outputs": []
    }
  ]
}